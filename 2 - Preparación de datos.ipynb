{
 "cells": [
  {
   "cell_type": "markdown",
   "metadata": {},
   "source": [
    "## Ejemplos de preparación de datos para una RNN"
   ]
  },
  {
   "cell_type": "markdown",
   "metadata": {},
   "source": [
    "### Predicción del valor de la acción de una empresa"
   ]
  },
  {
   "cell_type": "markdown",
   "metadata": {},
   "source": [
    "Predecir el valor de las acciones de una compañia.\n",
    "- Se utilizarán las 5 observaciones anteriores \n",
    "- Tenemos los datos de 138 días\n",
    "- ¿Cuanto vale N, T, D?"
   ]
  },
  {
   "cell_type": "code",
   "execution_count": 2,
   "metadata": {},
   "outputs": [
    {
     "data": {
      "text/plain": [
       "<Figure size 640x480 with 1 Axes>"
      ]
     },
     "metadata": {},
     "output_type": "display_data"
    },
    {
     "name": "stdout",
     "output_type": "stream",
     "text": [
      "138\n"
     ]
    }
   ],
   "source": [
    "import numpy as np\n",
    "from matplotlib import pyplot as plt\n",
    "apple_stock = np.loadtxt('https://github.com/deeplearning-itba/12-RNN/raw/master/apple/apple_prices.csv')\n",
    "plt.plot(apple_stock)\n",
    "plt.show()\n",
    "print(len(apple_stock))"
   ]
  },
  {
   "cell_type": "code",
   "execution_count": 3,
   "metadata": {},
   "outputs": [
    {
     "name": "stdout",
     "output_type": "stream",
     "text": [
      "--2019-11-14 09:21:01--  https://github.com/deeplearning-itba/12-RNN/raw/master/RNN_utils.py\n",
      "Resolving github.com (github.com)... 140.82.114.3\n",
      "Connecting to github.com (github.com)|140.82.114.3|:443... connected.\n",
      "HTTP request sent, awaiting response... 302 Found\n",
      "Location: https://raw.githubusercontent.com/deeplearning-itba/12-RNN/master/RNN_utils.py [following]\n",
      "--2019-11-14 09:21:01--  https://raw.githubusercontent.com/deeplearning-itba/12-RNN/master/RNN_utils.py\n",
      "Resolving raw.githubusercontent.com (raw.githubusercontent.com)... 151.101.192.133, 151.101.128.133, 151.101.64.133, ...\n",
      "Connecting to raw.githubusercontent.com (raw.githubusercontent.com)|151.101.192.133|:443... connected.\n",
      "HTTP request sent, awaiting response... 200 OK\n",
      "Length: 3974 (3,9K) [text/plain]\n",
      "Saving to: ‘RNN_utils.py.1’\n",
      "\n",
      "RNN_utils.py.1      100%[===================>]   3,88K  --.-KB/s    in 0s      \n",
      "\n",
      "2019-11-14 09:21:02 (59,5 MB/s) - ‘RNN_utils.py.1’ saved [3974/3974]\n",
      "\n"
     ]
    }
   ],
   "source": [
    "!wget https://github.com/deeplearning-itba/12-RNN/raw/master/RNN_utils.py"
   ]
  },
  {
   "cell_type": "code",
   "execution_count": 4,
   "metadata": {
    "collapsed": true
   },
   "outputs": [
    {
     "name": "stderr",
     "output_type": "stream",
     "text": [
      "Using TensorFlow backend.\n"
     ]
    }
   ],
   "source": [
    "from RNN_utils import window_transform_series\n",
    "X_, y = window_transform_series(apple_stock, 5)"
   ]
  },
  {
   "cell_type": "code",
   "execution_count": 5,
   "metadata": {},
   "outputs": [
    {
     "name": "stdout",
     "output_type": "stream",
     "text": [
      "(133, 5)\n",
      "[[590.140015 572.800049 525.339966 521.900024 528.02002 ]\n",
      " [572.800049 525.339966 521.900024 528.02002  539.230042]\n",
      " [525.339966 521.900024 528.02002  539.230042 538.420044]\n",
      " [521.900024 528.02002  539.230042 538.420044 527.699951]\n",
      " [528.02002  539.230042 538.420044 527.699951 528.360046]\n",
      " [539.230042 538.420044 527.699951 528.360046 523.419983]\n",
      " [538.420044 527.699951 528.360046 523.419983 523.150024]\n",
      " [527.699951 528.360046 523.419983 523.150024 546.      ]\n",
      " [528.360046 523.419983 523.150024 546.       518.659973]\n",
      " [523.419983 523.150024 546.       518.659973 502.610016]]\n"
     ]
    }
   ],
   "source": [
    "print(X_.shape)\n",
    "print(X_[0:10,:])"
   ]
  },
  {
   "cell_type": "code",
   "execution_count": 6,
   "metadata": {
    "collapsed": true
   },
   "outputs": [],
   "source": [
    "# Parece un detalle pero las capas recurrentes en Keras exigen este formato\n",
    "X = X_.reshape(X_.shape[0], X_.shape[1], 1) "
   ]
  },
  {
   "cell_type": "code",
   "execution_count": 7,
   "metadata": {},
   "outputs": [
    {
     "name": "stdout",
     "output_type": "stream",
     "text": [
      "(N, T, D):\n",
      "(133, 5, 1)\n"
     ]
    }
   ],
   "source": [
    "print('(N, T, D):')\n",
    "print(X.shape)"
   ]
  },
  {
   "cell_type": "code",
   "execution_count": 8,
   "metadata": {},
   "outputs": [
    {
     "data": {
      "image/png": "[encoded data removed]",
      "text/plain": [
       "<Figure size 432x288 with 1 Axes>"
      ]
     },
     "metadata": {
      "needs_background": "light"
     },
     "output_type": "display_data"
    }
   ],
   "source": [
    "plt.plot(apple_stock[:30])\n",
    "i1 = 0\n",
    "plt.plot(range(i1,i1+5),X_[i1])\n",
    "plt.scatter(i1+5, y[i1], marker='x', color='k')\n",
    "i1 = 10\n",
    "plt.plot(range(i1,i1+5),X_[i1])\n",
    "plt.scatter(i1+5, y[i1], marker='x', color='k')\n",
    "\n",
    "plt.show()"
   ]
  },
  {
   "cell_type": "markdown",
   "metadata": {},
   "source": [
    "### SimpleRNN + Dense para stock prices"
   ]
  },
  {
   "cell_type": "code",
   "execution_count": 10,
   "metadata": {},
   "outputs": [
    {
     "name": "stdout",
     "output_type": "stream",
     "text": [
      "WARNING:tensorflow:From /home/cselmo/miniconda3/envs/NLP/lib/python3.7/site-packages/tensorflow/python/framework/op_def_library.py:263: colocate_with (from tensorflow.python.framework.ops) is deprecated and will be removed in a future version.\n",
      "Instructions for updating:\n",
      "Colocations handled automatically by placer.\n",
      "_________________________________________________________________\n",
      "Layer (type)                 Output Shape              Param #   \n",
      "=================================================================\n",
      "simple_rnn_1 (SimpleRNN)     (None, 10)                120       \n",
      "_________________________________________________________________\n",
      "dense_1 (Dense)              (None, 1)                 11        \n",
      "=================================================================\n",
      "Total params: 131\n",
      "Trainable params: 131\n",
      "Non-trainable params: 0\n",
      "_________________________________________________________________\n"
     ]
    }
   ],
   "source": [
    "from keras.layers import SimpleRNN, Dense\n",
    "from keras.models import Sequential\n",
    "window_size = 40\n",
    "rnn_cells = 10\n",
    "model_rnn = Sequential()\n",
    "model_rnn.add(SimpleRNN(rnn_cells, input_shape = (window_size,1)))\n",
    "model_rnn.add(Dense(1))\n",
    "model_rnn.summary()"
   ]
  },
  {
   "cell_type": "markdown",
   "metadata": {},
   "source": [
    "Observaciones:\n",
    "- Capa densa. Que función de activación estamos usando?"
   ]
  },
  {
   "cell_type": "markdown",
   "metadata": {},
   "source": [
    "## Un error común"
   ]
  },
  {
   "cell_type": "code",
   "execution_count": 11,
   "metadata": {},
   "outputs": [
    {
     "name": "stdout",
     "output_type": "stream",
     "text": [
      "_________________________________________________________________\n",
      "Layer (type)                 Output Shape              Param #   \n",
      "=================================================================\n",
      "simple_rnn_2 (SimpleRNN)     (None, 10)                510       \n",
      "_________________________________________________________________\n",
      "dense_2 (Dense)              (None, 1)                 11        \n",
      "=================================================================\n",
      "Total params: 521\n",
      "Trainable params: 521\n",
      "Non-trainable params: 0\n",
      "_________________________________________________________________\n"
     ]
    }
   ],
   "source": [
    "model_rnn_error = Sequential()\n",
    "model_rnn_error.add(SimpleRNN(rnn_cells, input_shape = (1,window_size)))\n",
    "model_rnn_error.add(Dense(1))\n",
    "model_rnn_error.summary()"
   ]
  },
  {
   "cell_type": "markdown",
   "metadata": {},
   "source": [
    "Preguntas:\n",
    "- Que diferencia hay con la anterior?\n",
    "- Por que la diferencia en cantidad de parámetros?\n",
    "- Se puede pensar como un FNN (MLP)?"
   ]
  },
  {
   "cell_type": "markdown",
   "metadata": {},
   "source": [
    "## FFN (MLP)"
   ]
  },
  {
   "cell_type": "code",
   "execution_count": 12,
   "metadata": {},
   "outputs": [
    {
     "name": "stdout",
     "output_type": "stream",
     "text": [
      "_________________________________________________________________\n",
      "Layer (type)                 Output Shape              Param #   \n",
      "=================================================================\n",
      "dense_3 (Dense)              (None, 10)                410       \n",
      "_________________________________________________________________\n",
      "dense_4 (Dense)              (None, 1)                 11        \n",
      "=================================================================\n",
      "Total params: 421\n",
      "Trainable params: 421\n",
      "Non-trainable params: 0\n",
      "_________________________________________________________________\n"
     ]
    }
   ],
   "source": [
    "model_fnn = Sequential()\n",
    "model_fnn.add(Dense(rnn_cells, input_shape=(window_size,) ))\n",
    "model_fnn.add(Dense(1))\n",
    "model_fnn.summary()"
   ]
  },
  {
   "cell_type": "code",
   "execution_count": 13,
   "metadata": {},
   "outputs": [
    {
     "name": "stdout",
     "output_type": "stream",
     "text": [
      "RNN\n",
      "(1, 10)\n",
      "(10, 10)\n",
      "(10,)\n",
      "\n",
      "RNN common error\n",
      "(40, 10)\n",
      "(10, 10)\n",
      "(10,)\n",
      "\n",
      "MLP\n",
      "(40, 10)\n",
      "(10,)\n"
     ]
    }
   ],
   "source": [
    "print('RNN')\n",
    "print(model_rnn.layers[0].get_weights()[0].shape)\n",
    "print(model_rnn.layers[0].get_weights()[1].shape)\n",
    "print(model_rnn.layers[0].get_weights()[2].shape)\n",
    "print()\n",
    "print('RNN common error')\n",
    "print(model_rnn_error.layers[0].get_weights()[0].shape)\n",
    "print(model_rnn_error.layers[0].get_weights()[1].shape)\n",
    "print(model_rnn_error.layers[0].get_weights()[2].shape)\n",
    "print()\n",
    "print('MLP')\n",
    "print(model_fnn.layers[0].get_weights()[0].shape)\n",
    "print(model_fnn.layers[0].get_weights()[1].shape)"
   ]
  },
  {
   "cell_type": "markdown",
   "metadata": {},
   "source": [
    "A partir de un historial de valores de tamaño windows_size, se entrena el próximo valor de la acción.  \n",
    "Como se podría entrener los ejemplos de STOCK Market y modelo de lenguaje de manera mas eficiente con Many-to-Many?"
   ]
  },
  {
   "cell_type": "code",
   "execution_count": null,
   "metadata": {},
   "outputs": [],
   "source": []
  }
 ],
 "metadata": {
  "kernelspec": {
   "display_name": "Python 3.7.3 (NLP)",
   "language": "python",
   "name": "nlp"
  },
  "language_info": {
   "codemirror_mode": {
    "name": "ipython",
    "version": 3
   },
   "file_extension": ".py",
   "mimetype": "text/x-python",
   "name": "python",
   "nbconvert_exporter": "python",
   "pygments_lexer": "ipython3",
   "version": "3.7.3"
  }
 },
 "nbformat": 4,
 "nbformat_minor": 2
}
