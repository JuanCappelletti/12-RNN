{
 "cells": [
  {
   "cell_type": "markdown",
   "metadata": {},
   "source": [
    "# Generando la salida en el decoder\n",
    "\n",
    "## Greedy Search\n",
    "Una vez que tenemos nuestra NMT entrenado, debemos elegir una técnica para generar la salida.  \n",
    "En el caso de modelo de lenguaje hemos utilizado Greedy Search:\n",
    "\n",
    "<img src=\"imgs/Greedy-search-path.gif\" width=\"400\">\n",
    "\n",
    "La desventaja de utilizar Greedy Search es que muchas veces conviene elegir un score mas bajo, ya que esto nos puede permitir acceder a opciones de scores mas altos en las interaciones siguientes. Para el ejemplo anterior, si queremos maximizar la suma, nos habría convenido elegir el camino 7-3-1-99. Para ello deberíamos evaluar todas las posibles bifurcaciones del árbol.  \n",
    "En traducción queremos generar la oración mas probable entre todas las oraciones posibles. Es decir, que queremos maximizar el producto de las probabilidades de cada palabra. Para ello tenemos que tener una visión completa del árbol de posibilidades y evaluar todas las combinaciones de palabras posibles. Esto es computacionalmente imposible ya que para una oración de salida de tamaño N y un vocabulario de tamaño |V| la cantidad de opciones a evaluar es:\n",
    "\n",
    "$$ |V|^N$$\n",
    "\n",
    "## Beam Search \n",
    "\n",
    "Beam Search es una solución intermedia que va expandiendo solo los K caminos cuyo producto de probabilidades es mas alto:\n",
    "\n",
    "<img src=\"imgs/beamsearch.png\">\n",
    "\n",
    "En este caso K=3. Para traducción varía de 5 a 10.\n",
    "\n",
    "## Stochastic Beam Search\n",
    "\n",
    "Dado que Beam Search tiende a estabilizarse en máximos locales, una opción es elegir los K candidatos al azar utilizando una probabilidad que dependa de qué tan bueno es el camino que se estaría siguiendo. Esta probabilidad puede ser el producto de las probabilidades de cada camino, normalizado por la suma de las probabilidades de cada camino. De esta manera se agrega un poco de ruido al sistema y esto permite escapar de algunos máximos locales."
   ]
  },
  {
   "cell_type": "code",
   "execution_count": null,
   "metadata": {},
   "outputs": [],
   "source": []
  }
 ],
 "metadata": {
  "kernelspec": {
   "display_name": "Python 3.7.3 (NLP)",
   "language": "python",
   "name": "nlp"
  },
  "language_info": {
   "codemirror_mode": {
    "name": "ipython",
    "version": 3
   },
   "file_extension": ".py",
   "mimetype": "text/x-python",
   "name": "python",
   "nbconvert_exporter": "python",
   "pygments_lexer": "ipython3",
   "version": "3.7.3"
  }
 },
 "nbformat": 4,
 "nbformat_minor": 2
}
