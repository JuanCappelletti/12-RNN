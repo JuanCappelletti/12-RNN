{
 "cells": [
  {
   "cell_type": "markdown",
   "metadata": {
    "colab_type": "text",
    "id": "view-in-github"
   },
   "source": [
    "<a href=\"https://colab.research.google.com/github/deeplearning-itba/12-RNN/blob/master/federico-garcia-lorca/1-obras-de-teatro-many-2-many-colab.ipynb\" target=\"_parent\"><img src=\"https://colab.research.google.com/assets/colab-badge.svg\" alt=\"Open In Colab\"/></a>"
   ]
  },
  {
   "cell_type": "code",
   "execution_count": null,
   "metadata": {
    "colab": {},
    "colab_type": "code",
    "id": "IiCs0mLBY8Ot"
   },
   "outputs": [],
   "source": [
    "%load_ext autoreload\n",
    "%autoreload 2"
   ]
  },
  {
   "cell_type": "code",
   "execution_count": 2,
   "metadata": {
    "colab": {
     "base_uri": "https://localhost:8080/",
     "height": 204
    },
    "colab_type": "code",
    "id": "GpQyVgxcZANl",
    "outputId": "c648a77d-9847-468f-e229-c77480cb1ae2"
   },
   "outputs": [
    {
     "name": "stdout",
     "output_type": "stream",
     "text": [
      "--2019-11-07 16:05:53--  https://raw.githubusercontent.com/deeplearning-itba/12-RNN/master/RNN_utils.py\n",
      "Resolving raw.githubusercontent.com (raw.githubusercontent.com)... 151.101.0.133, 151.101.64.133, 151.101.128.133, ...\n",
      "Connecting to raw.githubusercontent.com (raw.githubusercontent.com)|151.101.0.133|:443... connected.\n",
      "HTTP request sent, awaiting response... 200 OK\n",
      "Length: 3974 (3.9K) [text/plain]\n",
      "Saving to: ‘RNN_utils.py.2’\n",
      "\n",
      "RNN_utils.py.2      100%[===================>]   3.88K  --.-KB/s    in 0s      \n",
      "\n",
      "2019-11-07 16:05:53 (99.0 MB/s) - ‘RNN_utils.py.2’ saved [3974/3974]\n",
      "\n"
     ]
    }
   ],
   "source": [
    "! wget https://raw.githubusercontent.com/deeplearning-itba/12-RNN/master/RNN_utils.py"
   ]
  },
  {
   "cell_type": "code",
   "execution_count": 3,
   "metadata": {
    "colab": {
     "base_uri": "https://localhost:8080/",
     "height": 204
    },
    "colab_type": "code",
    "id": "w02j7HVVZR5_",
    "outputId": "b375b458-9da2-4fdd-e400-847ba5f2b9bb"
   },
   "outputs": [
    {
     "name": "stdout",
     "output_type": "stream",
     "text": [
      "--2019-11-07 16:05:55--  https://raw.githubusercontent.com/deeplearning-itba/12-RNN/master/federico-garcia-lorca/bodas_de_sangre.txt\n",
      "Resolving raw.githubusercontent.com (raw.githubusercontent.com)... 151.101.0.133, 151.101.64.133, 151.101.128.133, ...\n",
      "Connecting to raw.githubusercontent.com (raw.githubusercontent.com)|151.101.0.133|:443... connected.\n",
      "HTTP request sent, awaiting response... 200 OK\n",
      "Length: 69219 (68K) [text/plain]\n",
      "Saving to: ‘bodas_de_sangre.txt.2’\n",
      "\n",
      "bodas_de_sangre.txt 100%[===================>]  67.60K  --.-KB/s    in 0.02s   \n",
      "\n",
      "2019-11-07 16:05:55 (3.25 MB/s) - ‘bodas_de_sangre.txt.2’ saved [69219/69219]\n",
      "\n"
     ]
    }
   ],
   "source": [
    "! wget https://raw.githubusercontent.com/deeplearning-itba/12-RNN/master/federico-garcia-lorca/bodas_de_sangre.txt"
   ]
  },
  {
   "cell_type": "code",
   "execution_count": 4,
   "metadata": {
    "colab": {
     "base_uri": "https://localhost:8080/",
     "height": 80
    },
    "colab_type": "code",
    "id": "B7sq0BryY8O2",
    "outputId": "324cd0a0-5eed-4bd0-d40a-4133e34960f8"
   },
   "outputs": [
    {
     "name": "stderr",
     "output_type": "stream",
     "text": [
      "Using TensorFlow backend.\n"
     ]
    },
    {
     "data": {
      "text/html": [
       "<p style=\"color: red;\">\n",
       "The default version of TensorFlow in Colab will soon switch to TensorFlow 2.x.<br>\n",
       "We recommend you <a href=\"https://www.tensorflow.org/guide/migrate\" target=\"_blank\">upgrade</a> now \n",
       "or ensure your notebook will continue to use TensorFlow 1.x via the <code>%tensorflow_version 1.x</code> magic:\n",
       "<a href=\"https://colab.research.google.com/notebooks/tensorflow_version.ipynb\" target=\"_blank\">more info</a>.</p>\n"
      ],
      "text/plain": [
       "<IPython.core.display.HTML object>"
      ]
     },
     "metadata": {
      "tags": []
     },
     "output_type": "display_data"
    }
   ],
   "source": [
    "from RNN_utils import window_transform_text, encode_io_pairs, get_deep_rnn"
   ]
  },
  {
   "cell_type": "markdown",
   "metadata": {
    "colab_type": "text",
    "id": "9CusAFMMY8O4"
   },
   "source": [
    "# Abro archivo de texto con obra e imporimo los primeros 1000 caracteres"
   ]
  },
  {
   "cell_type": "code",
   "execution_count": 5,
   "metadata": {
    "colab": {
     "base_uri": "https://localhost:8080/",
     "height": 1000
    },
    "colab_type": "code",
    "id": "ACghLHUEY8O5",
    "outputId": "24275c57-e4ff-43c1-d9d6-10d7e979490f"
   },
   "outputs": [
    {
     "name": "stdout",
     "output_type": "stream",
     "text": [
      "Cantidad de caracteres: 67561\n",
      "Cantidad de caracteres unicos: 71\n",
      "['\\n', ' ', '!', '(', ')', ',', '.', '1', '2', '3', '9', ':', ';', '?', 'A', 'B', 'C', 'D', 'E', 'F', 'G', 'H', 'I', 'J', 'L', 'M', 'N', 'O', 'P', 'Q', 'R', 'S', 'T', 'U', 'V', 'Y', 'Z', 'a', 'b', 'c', 'd', 'e', 'f', 'g', 'h', 'i', 'j', 'l', 'm', 'n', 'o', 'p', 'q', 'r', 's', 't', 'u', 'v', 'x', 'y', 'z', '¡', '¿', 'É', 'Ñ', 'á', 'é', 'í', 'ñ', 'ó', 'ú']\n",
      "------------------------------------------------------\n",
      "BODAS DE SANGRE(1933)\n",
      "\n",
      "Poema trágico en tres actos y siete cuadros\n",
      "\n",
      "Personajes\n",
      " \n",
      "Madre\n",
      "Criada\n",
      "Leonardo\n",
      "Mozos\n",
      "Novia\n",
      "Vecina\n",
      "Novio\n",
      "Leñadores\n",
      "Suegra\n",
      "Muchachas\n",
      "Padre de la novia\n",
      "Mozos\n",
      "Mujer de Leonardo\n",
      "Luna\n",
      "Muerte (como mendiga)\n",
      "\n",
      "Acto primero\n",
      "\n",
      "CUADRO PRIMERO\n",
      "\n",
      "Habitación pintada de amarillo.\n",
      "\n",
      "NOVIO: (Entrando) Madre.\n",
      "\n",
      "MADRE: ¿Que?\n",
      "\n",
      "NOVIO:Me voy.\n",
      "\n",
      "MADRE: ¿Adónde?\n",
      "\n",
      "NOVIO:A la viña. (Va a salir)\n",
      "\n",
      "MADRE: Espera.\n",
      "\n",
      "NOVIO:¿Quieres algo?\n",
      "\n",
      "MADRE: Hijo, el almuerzo.\n",
      "\n",
      "NOVIO: Déjalo. Comeré uvas. Dame la navaja.\n",
      "\n",
      "MADRE: ¿Para qué?\n",
      "\n",
      "NOVIO: (Riendo) Para cortarlas.\n",
      "\n",
      "MADRE: (Entre dientes y buscándola) La navaja, la navaja... Malditas sean todas y el bribón que las inventó.\n",
      "\n",
      "NOVIO: Vamos a otro asunto.\n",
      "\n",
      "MADRE: Y las escopetas, y las pistolas, y el cuchillo más pequeño, y hasta las azadas y los bieldos de la era.\n",
      "\n",
      "NOVIO: Bueno.\n",
      "\n",
      "MADRE: Todo lo que puede cortar el cuerpo de un hombre. Un hombre hermoso, con su flor en la boca, que sale a las viñas o va a sus olivos propios, porque son de él, heredados...\n",
      "\n",
      "NO\n"
     ]
    }
   ],
   "source": [
    "text = open('bodas_de_sangre.txt').read()\n",
    "number_of_chars = len(text)\n",
    "all_chars = sorted(set(text))\n",
    "print('Cantidad de caracteres: ' + str(number_of_chars))\n",
    "print('Cantidad de caracteres unicos: ' + str(len(all_chars)))\n",
    "print(all_chars)\n",
    "print('------------------------------------------------------')\n",
    "print(text[:1000])"
   ]
  },
  {
   "cell_type": "code",
   "execution_count": 6,
   "metadata": {
    "colab": {
     "base_uri": "https://localhost:8080/",
     "height": 34
    },
    "colab_type": "code",
    "id": "TAqqoxtmlAZv",
    "outputId": "0945fc98-c794-4824-de50-61bb1ee536d3"
   },
   "outputs": [
    {
     "data": {
      "text/plain": [
       "71"
      ]
     },
     "execution_count": 6,
     "metadata": {
      "tags": []
     },
     "output_type": "execute_result"
    }
   ],
   "source": [
    "chars = set(text)\n",
    "len(chars)"
   ]
  },
  {
   "cell_type": "markdown",
   "metadata": {
    "colab_type": "text",
    "id": "CZ1RqsBMY8PA"
   },
   "source": [
    "# Analisis de la frecuencia de los caracteres"
   ]
  },
  {
   "cell_type": "code",
   "execution_count": 8,
   "metadata": {
    "colab": {
     "base_uri": "https://localhost:8080/",
     "height": 1000
    },
    "colab_type": "code",
    "id": "Uy5pG9HfY8PB",
    "outputId": "e23c7f64-3bca-4243-9b65-939d90271341"
   },
   "outputs": [
    {
     "data": {
      "text/plain": [
       "[(' ', 10351),\n",
       " ('a', 5847),\n",
       " ('e', 5543),\n",
       " ('o', 4129),\n",
       " ('s', 3118),\n",
       " ('r', 2911),\n",
       " ('n', 2891),\n",
       " ('l', 2523),\n",
       " ('\\n', 2423),\n",
       " ('i', 1991),\n",
       " ('u', 1984),\n",
       " ('d', 1874),\n",
       " ('t', 1623),\n",
       " ('c', 1391),\n",
       " ('.', 1369),\n",
       " ('m', 1266),\n",
       " ('A', 1033),\n",
       " (':', 888),\n",
       " ('p', 832),\n",
       " ('E', 692),\n",
       " ('O', 624),\n",
       " ('b', 599),\n",
       " ('v', 585),\n",
       " ('q', 583),\n",
       " ('D', 545),\n",
       " ('N', 539),\n",
       " ('y', 536),\n",
       " ('h', 524),\n",
       " ('R', 515),\n",
       " ('g', 498),\n",
       " (',', 465),\n",
       " ('I', 399),\n",
       " ('M', 398),\n",
       " ('V', 366),\n",
       " ('C', 351),\n",
       " ('(', 329),\n",
       " (')', 329),\n",
       " ('j', 328),\n",
       " ('L', 308),\n",
       " ('!', 282),\n",
       " ('¡', 280),\n",
       " ('í', 275),\n",
       " ('á', 252),\n",
       " ('é', 249),\n",
       " ('?', 237),\n",
       " ('¿', 235),\n",
       " ('S', 226),\n",
       " ('P', 226),\n",
       " ('U', 193),\n",
       " ('z', 186),\n",
       " ('f', 172),\n",
       " ('H', 158),\n",
       " ('ñ', 136),\n",
       " ('Q', 125),\n",
       " ('Y', 123),\n",
       " ('ó', 111),\n",
       " ('T', 109),\n",
       " ('G', 68),\n",
       " ('J', 66),\n",
       " ('1', 63),\n",
       " ('Ñ', 58),\n",
       " ('ú', 57),\n",
       " (';', 39),\n",
       " ('2', 36),\n",
       " ('B', 21),\n",
       " ('Z', 21),\n",
       " ('3', 20),\n",
       " ('F', 20),\n",
       " ('x', 11),\n",
       " ('É', 5),\n",
       " ('9', 1)]"
      ]
     },
     "execution_count": 8,
     "metadata": {
      "tags": []
     },
     "output_type": "execute_result"
    }
   ],
   "source": [
    "from collections import Counter\n",
    "Counter(text).most_common()"
   ]
  },
  {
   "cell_type": "markdown",
   "metadata": {
    "colab_type": "text",
    "id": "ZfECJneKY8PE"
   },
   "source": [
    "# Veo ejemplos en train de como queda Entrada / Salida"
   ]
  },
  {
   "cell_type": "code",
   "execution_count": null,
   "metadata": {
    "colab": {},
    "colab_type": "code",
    "id": "flyGWPYbfkBA"
   },
   "outputs": [],
   "source": [
    "import numpy as np"
   ]
  },
  {
   "cell_type": "code",
   "execution_count": null,
   "metadata": {
    "colab": {},
    "colab_type": "code",
    "id": "DhtIRtPaaK5h"
   },
   "outputs": [],
   "source": [
    "def create_dataset(text, window = 100):\n",
    "  inputs = []\n",
    "  outputs = []\n",
    "  \n",
    "  for i in range(len(text)-window):\n",
    "    inputs.append(text[i:i+window])\n",
    "    outputs.append(text[i+1:i+window+1])\n",
    "  return inputs, outputs"
   ]
  },
  {
   "cell_type": "code",
   "execution_count": null,
   "metadata": {
    "colab": {},
    "colab_type": "code",
    "id": "cruk1Gh6c4A0"
   },
   "outputs": [],
   "source": [
    "def encode_text(inputs,chars, window_size):\n",
    "    num_chars = len(chars)\n",
    "    chars_to_indices = dict((c, i) for i, c in enumerate(chars))\n",
    "    # cut up text into character input/output pairs\n",
    "    \n",
    "    # create empty vessels for one-hot encoded input/output\n",
    "    X = np.zeros((len(inputs), window_size, num_chars), dtype=np.bool)\n",
    "    \n",
    "    # loop over inputs/outputs and tranform and store in X/y\n",
    "    for i, sentence in enumerate(inputs):\n",
    "        for t, char in enumerate(sentence):\n",
    "            if char not in chars_to_indices:\n",
    "                char = ' '\n",
    "            X[i, t, chars_to_indices[char]] = 1\n",
    "    return X"
   ]
  },
  {
   "cell_type": "code",
   "execution_count": null,
   "metadata": {
    "colab": {},
    "colab_type": "code",
    "id": "oUY4YJaJlbeN"
   },
   "outputs": [],
   "source": [
    "window_size = 100\n",
    "X_, y_ = create_dataset(text, window_size)\n",
    "X = encode_text(X_, chars, window_size)\n",
    "y = encode_text(y_, chars, window_size)"
   ]
  },
  {
   "cell_type": "code",
   "execution_count": 13,
   "metadata": {
    "colab": {
     "base_uri": "https://localhost:8080/",
     "height": 255
    },
    "colab_type": "code",
    "id": "zDPXvtijaBLi",
    "outputId": "8821289e-51d7-49f7-8994-49f0b5e78c4b"
   },
   "outputs": [
    {
     "name": "stdout",
     "output_type": "stream",
     "text": [
      "o\n",
      "donde tiembla enmarañada\n",
      "la oscura raíz del grito.\n",
      "(Las vecinas, arrodilladas en el suelo, lloran.\n",
      "----------------\n",
      "\n",
      "donde tiembla enmarañada\n",
      "la oscura raíz del grito.\n",
      "(Las vecinas, arrodilladas en el suelo, lloran.)\n",
      "----------------\n",
      "\n",
      "donde tiembla enmarañada\n",
      "la oscura raíz del grito.\n",
      "(Las vecinas, arrodilladas en el suelo, lloran.)\n"
     ]
    }
   ],
   "source": [
    "print(X_[-1])\n",
    "print('----------------')\n",
    "print(y_[-1])\n",
    "print('----------------')\n",
    "print(text[-100:])"
   ]
  },
  {
   "cell_type": "code",
   "execution_count": 14,
   "metadata": {
    "colab": {
     "base_uri": "https://localhost:8080/",
     "height": 34
    },
    "colab_type": "code",
    "id": "Wc8YZSWslhNE",
    "outputId": "00f9bbd4-cf77-4623-d136-c390ac87a18e"
   },
   "outputs": [
    {
     "data": {
      "text/plain": [
       "((67461, 100, 71), (67461, 100, 71))"
      ]
     },
     "execution_count": 14,
     "metadata": {
      "tags": []
     },
     "output_type": "execute_result"
    }
   ],
   "source": [
    "X.shape, y.shape"
   ]
  },
  {
   "cell_type": "code",
   "execution_count": null,
   "metadata": {
    "colab": {},
    "colab_type": "code",
    "id": "NEoDXzyCmLVU"
   },
   "outputs": [],
   "source": [
    "from sklearn.model_selection import train_test_split\n",
    "X_train, X_validation, y_train, y_validation = train_test_split(X, y, test_size=0.2, random_state=42, )"
   ]
  },
  {
   "cell_type": "code",
   "execution_count": 16,
   "metadata": {
    "colab": {
     "base_uri": "https://localhost:8080/",
     "height": 54
    },
    "colab_type": "code",
    "id": "7rOWhrqtY8PH",
    "outputId": "f6bd9575-de88-4153-8dcf-6e50ca5db769"
   },
   "outputs": [
    {
     "name": "stdout",
     "output_type": "stream",
     "text": [
      "{'x': 0, 'J': 1, '\\n': 2, '¡': 3, ':': 4, 'é': 5, 'É': 6, ';': 7, 'O': 8, 'ñ': 9, 'ó': 10, 'l': 11, 'z': 12, '¿': 13, 'T': 14, 's': 15, 'N': 16, 'g': 17, 'A': 18, '2': 19, '3': 20, 'm': 21, 'Y': 22, 'D': 23, 'C': 24, 'q': 25, 'ú': 26, 'U': 27, 'h': 28, ')': 29, 'H': 30, 'S': 31, 'n': 32, ',': 33, 'Z': 34, 'd': 35, 'p': 36, 'P': 37, '.': 38, 'u': 39, 'F': 40, 'b': 41, 'v': 42, 'á': 43, 'M': 44, 'í': 45, 'V': 46, 'f': 47, 't': 48, 'o': 49, 'L': 50, 'e': 51, 'a': 52, 'i': 53, 'Q': 54, '?': 55, 'R': 56, '1': 57, 'j': 58, 'I': 59, '!': 60, '(': 61, 'c': 62, 'E': 63, 'B': 64, '9': 65, 'r': 66, 'y': 67, ' ': 68, 'G': 69, 'Ñ': 70}\n"
     ]
    }
   ],
   "source": [
    "chars_to_indices = dict((c, i) for i, c in enumerate(chars))\n",
    "indices_to_chars = dict((i, c) for i, c in enumerate(chars))\n",
    "print(chars_to_indices)"
   ]
  },
  {
   "cell_type": "code",
   "execution_count": 17,
   "metadata": {
    "colab": {
     "base_uri": "https://localhost:8080/",
     "height": 85
    },
    "colab_type": "code",
    "id": "VyLqXsASY8PQ",
    "outputId": "b9a0d727-16fc-4ef5-b628-793ffb3cbd19"
   },
   "outputs": [
    {
     "data": {
      "text/plain": [
       "array([0, 0, 0, 0, 0, 0, 0, 0, 0, 0, 0, 0, 0, 0, 0, 1, 0, 0, 0, 0, 0, 0,\n",
       "       0, 0, 0, 0, 0, 0, 0, 0, 0, 0, 0, 0, 0, 0, 0, 0, 0, 0, 0, 0, 0, 0,\n",
       "       0, 0, 0, 0, 0, 0, 0, 0, 0, 0, 0, 0, 0, 0, 0, 0, 0, 0, 0, 0, 0, 0,\n",
       "       0, 0, 0, 0, 0])"
      ]
     },
     "execution_count": 17,
     "metadata": {
      "tags": []
     },
     "output_type": "execute_result"
    }
   ],
   "source": [
    "X_train[0,0]*1"
   ]
  },
  {
   "cell_type": "markdown",
   "metadata": {
    "colab_type": "text",
    "id": "tjUcf9P-Y8PS"
   },
   "source": [
    "# Defino modelo"
   ]
  },
  {
   "cell_type": "code",
   "execution_count": null,
   "metadata": {
    "colab": {},
    "colab_type": "code",
    "id": "vRjoweyHY8PT"
   },
   "outputs": [],
   "source": [
    "from keras.models import Sequential\n",
    "from keras.layers import Dense, Activation, LSTM, Dropout\n",
    "from keras.optimizers import RMSprop\n",
    "from keras.utils.data_utils import get_file\n",
    "from keras.callbacks import ModelCheckpoint \n",
    "import keras\n",
    "import random"
   ]
  },
  {
   "cell_type": "code",
   "execution_count": 19,
   "metadata": {
    "colab": {
     "base_uri": "https://localhost:8080/",
     "height": 207
    },
    "colab_type": "code",
    "id": "oRfgyHOweNHr",
    "outputId": "7c43b53e-82d7-498a-8362-0961bacb99bd"
   },
   "outputs": [
    {
     "name": "stdout",
     "output_type": "stream",
     "text": [
      "WARNING:tensorflow:From /usr/local/lib/python3.6/dist-packages/keras/backend/tensorflow_backend.py:66: The name tf.get_default_graph is deprecated. Please use tf.compat.v1.get_default_graph instead.\n",
      "\n",
      "WARNING:tensorflow:From /usr/local/lib/python3.6/dist-packages/keras/backend/tensorflow_backend.py:541: The name tf.placeholder is deprecated. Please use tf.compat.v1.placeholder instead.\n",
      "\n",
      "WARNING:tensorflow:From /usr/local/lib/python3.6/dist-packages/keras/backend/tensorflow_backend.py:4432: The name tf.random_uniform is deprecated. Please use tf.random.uniform instead.\n",
      "\n",
      "WARNING:tensorflow:From /usr/local/lib/python3.6/dist-packages/keras/optimizers.py:793: The name tf.train.Optimizer is deprecated. Please use tf.compat.v1.train.Optimizer instead.\n",
      "\n",
      "WARNING:tensorflow:From /usr/local/lib/python3.6/dist-packages/keras/backend/tensorflow_backend.py:3576: The name tf.log is deprecated. Please use tf.math.log instead.\n",
      "\n"
     ]
    }
   ],
   "source": [
    "dropout_p = 0.0\n",
    "dense_units = len(chars)\n",
    "input_shape = X_train.shape[1:]\n",
    "LSTM_units_1=200\n",
    "LSTM_units_2=200\n",
    "\n",
    "model = Sequential()\n",
    "model.add(LSTM(LSTM_units_1, input_shape=input_shape, return_sequences=True, name='lstm_1',\n",
    "                       dropout=dropout_p, recurrent_dropout=dropout_p))\n",
    "model.add(LSTM(LSTM_units_2, dropout=dropout_p, recurrent_dropout=dropout_p, name='lstm_2', return_sequences=True))\n",
    "model.add(Dense(dense_units, activation='softmax'))\n",
    "model.compile(loss='categorical_crossentropy', optimizer='rmsprop')"
   ]
  },
  {
   "cell_type": "code",
   "execution_count": 20,
   "metadata": {
    "colab": {
     "base_uri": "https://localhost:8080/",
     "height": 255
    },
    "colab_type": "code",
    "id": "6zrSwxKfe2Ng",
    "outputId": "f62774da-6fc7-47e4-d1ec-aa187392f174"
   },
   "outputs": [
    {
     "name": "stdout",
     "output_type": "stream",
     "text": [
      "Model: \"sequential_1\"\n",
      "_________________________________________________________________\n",
      "Layer (type)                 Output Shape              Param #   \n",
      "=================================================================\n",
      "lstm_1 (LSTM)                (None, 100, 200)          217600    \n",
      "_________________________________________________________________\n",
      "lstm_2 (LSTM)                (None, 100, 200)          320800    \n",
      "_________________________________________________________________\n",
      "dense_1 (Dense)              (None, 100, 71)           14271     \n",
      "=================================================================\n",
      "Total params: 552,671\n",
      "Trainable params: 552,671\n",
      "Non-trainable params: 0\n",
      "_________________________________________________________________\n"
     ]
    }
   ],
   "source": [
    "model.summary()"
   ]
  },
  {
   "cell_type": "markdown",
   "metadata": {
    "colab_type": "text",
    "id": "AT4OEFheY8PX"
   },
   "source": [
    "# Primer modelo lo mas sencillo (sin dropout)"
   ]
  },
  {
   "cell_type": "code",
   "execution_count": 21,
   "metadata": {
    "colab": {
     "base_uri": "https://localhost:8080/",
     "height": 1000
    },
    "colab_type": "code",
    "id": "YFnnAeRlY8PY",
    "outputId": "437a2ba5-5675-47a8-8c66-28dcf3c78604"
   },
   "outputs": [
    {
     "name": "stdout",
     "output_type": "stream",
     "text": [
      "WARNING:tensorflow:From /usr/local/lib/python3.6/dist-packages/tensorflow_core/python/ops/math_grad.py:1424: where (from tensorflow.python.ops.array_ops) is deprecated and will be removed in a future version.\n",
      "Instructions for updating:\n",
      "Use tf.where in 2.0, which has the same broadcast rule as np.where\n",
      "WARNING:tensorflow:From /usr/local/lib/python3.6/dist-packages/keras/backend/tensorflow_backend.py:1033: The name tf.assign_add is deprecated. Please use tf.compat.v1.assign_add instead.\n",
      "\n",
      "WARNING:tensorflow:From /usr/local/lib/python3.6/dist-packages/keras/backend/tensorflow_backend.py:1020: The name tf.assign is deprecated. Please use tf.compat.v1.assign instead.\n",
      "\n",
      "WARNING:tensorflow:From /usr/local/lib/python3.6/dist-packages/keras/backend/tensorflow_backend.py:3005: The name tf.Session is deprecated. Please use tf.compat.v1.Session instead.\n",
      "\n",
      "Train on 53968 samples, validate on 13493 samples\n",
      "Epoch 1/10\n",
      "WARNING:tensorflow:From /usr/local/lib/python3.6/dist-packages/keras/backend/tensorflow_backend.py:190: The name tf.get_default_session is deprecated. Please use tf.compat.v1.get_default_session instead.\n",
      "\n",
      "WARNING:tensorflow:From /usr/local/lib/python3.6/dist-packages/keras/backend/tensorflow_backend.py:197: The name tf.ConfigProto is deprecated. Please use tf.compat.v1.ConfigProto instead.\n",
      "\n",
      "WARNING:tensorflow:From /usr/local/lib/python3.6/dist-packages/keras/backend/tensorflow_backend.py:207: The name tf.global_variables is deprecated. Please use tf.compat.v1.global_variables instead.\n",
      "\n",
      "WARNING:tensorflow:From /usr/local/lib/python3.6/dist-packages/keras/backend/tensorflow_backend.py:216: The name tf.is_variable_initialized is deprecated. Please use tf.compat.v1.is_variable_initialized instead.\n",
      "\n",
      "WARNING:tensorflow:From /usr/local/lib/python3.6/dist-packages/keras/backend/tensorflow_backend.py:223: The name tf.variables_initializer is deprecated. Please use tf.compat.v1.variables_initializer instead.\n",
      "\n",
      "53968/53968 [==============================] - 104s 2ms/step - loss: 2.9806 - val_loss: 2.5183\n",
      "\n",
      "Epoch 00001: val_loss improved from inf to 2.51831, saving model to bodes_sangre_LSTM_deep_no_dropout.hdf5\n",
      "Epoch 2/10\n",
      "53968/53968 [==============================] - 99s 2ms/step - loss: 2.1421 - val_loss: 1.9268\n",
      "\n",
      "Epoch 00002: val_loss improved from 2.51831 to 1.92679, saving model to bodes_sangre_LSTM_deep_no_dropout.hdf5\n",
      "Epoch 3/10\n",
      "53968/53968 [==============================] - 102s 2ms/step - loss: 1.7870 - val_loss: 1.6456\n",
      "\n",
      "Epoch 00003: val_loss improved from 1.92679 to 1.64556, saving model to bodes_sangre_LSTM_deep_no_dropout.hdf5\n",
      "Epoch 4/10\n",
      "53968/53968 [==============================] - 103s 2ms/step - loss: 1.5289 - val_loss: 1.4143\n",
      "\n",
      "Epoch 00004: val_loss improved from 1.64556 to 1.41432, saving model to bodes_sangre_LSTM_deep_no_dropout.hdf5\n",
      "Epoch 5/10\n",
      "53968/53968 [==============================] - 104s 2ms/step - loss: 1.2898 - val_loss: 1.1777\n",
      "\n",
      "Epoch 00005: val_loss improved from 1.41432 to 1.17771, saving model to bodes_sangre_LSTM_deep_no_dropout.hdf5\n",
      "Epoch 6/10\n",
      "53968/53968 [==============================] - 106s 2ms/step - loss: 1.0725 - val_loss: 0.9758\n",
      "\n",
      "Epoch 00006: val_loss improved from 1.17771 to 0.97578, saving model to bodes_sangre_LSTM_deep_no_dropout.hdf5\n",
      "Epoch 7/10\n",
      "53968/53968 [==============================] - 104s 2ms/step - loss: 0.8814 - val_loss: 0.7969\n",
      "\n",
      "Epoch 00007: val_loss improved from 0.97578 to 0.79692, saving model to bodes_sangre_LSTM_deep_no_dropout.hdf5\n",
      "Epoch 8/10\n",
      "53968/53968 [==============================] - 105s 2ms/step - loss: 0.7186 - val_loss: 0.6511\n",
      "\n",
      "Epoch 00008: val_loss improved from 0.79692 to 0.65113, saving model to bodes_sangre_LSTM_deep_no_dropout.hdf5\n",
      "Epoch 9/10\n",
      "53968/53968 [==============================] - 108s 2ms/step - loss: 0.5863 - val_loss: 0.5324\n",
      "\n",
      "Epoch 00009: val_loss improved from 0.65113 to 0.53243, saving model to bodes_sangre_LSTM_deep_no_dropout.hdf5\n",
      "Epoch 10/10\n",
      "53968/53968 [==============================] - 104s 2ms/step - loss: 0.4815 - val_loss: 0.4534\n",
      "\n",
      "Epoch 00010: val_loss improved from 0.53243 to 0.45336, saving model to bodes_sangre_LSTM_deep_no_dropout.hdf5\n"
     ]
    }
   ],
   "source": [
    "batch_size = 256\n",
    "# plot_losses = PlotLosses(plot_interval=1, evaluate_interval=None)\n",
    "checkpointer = ModelCheckpoint(filepath='bodes_sangre_LSTM_deep_no_dropout.hdf5', verbose=1, save_best_only=True)\n",
    "history = model.fit(X_train, y_train, batch_size=batch_size, epochs=10, verbose = 1, \n",
    "                    validation_data = (X_validation, y_validation),\n",
    "                    callbacks=[checkpointer])"
   ]
  },
  {
   "cell_type": "code",
   "execution_count": null,
   "metadata": {
    "colab": {},
    "colab_type": "code",
    "id": "Q84bdilwrzBj"
   },
   "outputs": [],
   "source": [
    "from matplotlib import pyplot as plt"
   ]
  },
  {
   "cell_type": "code",
   "execution_count": 1,
   "metadata": {
    "colab": {
     "base_uri": "https://localhost:8080/",
     "height": 282
    },
    "colab_type": "code",
    "id": "0naLef9kr2Uw",
    "outputId": "07b357bf-d42d-4077-c4bd-a9185e6f2a50"
   },
   "outputs": [
    {
     "ename": "NameError",
     "evalue": "name 'plt' is not defined",
     "output_type": "error",
     "traceback": [
      "\u001b[0;31m---------------------------------------------------------------------------\u001b[0m",
      "\u001b[0;31mNameError\u001b[0m                                 Traceback (most recent call last)",
      "\u001b[0;32m<ipython-input-1-d39fc314bafd>\u001b[0m in \u001b[0;36m<module>\u001b[0;34m\u001b[0m\n\u001b[0;32m----> 1\u001b[0;31m \u001b[0mplt\u001b[0m\u001b[0;34m.\u001b[0m\u001b[0mplot\u001b[0m\u001b[0;34m(\u001b[0m\u001b[0mhistory\u001b[0m\u001b[0;34m.\u001b[0m\u001b[0mhistory\u001b[0m\u001b[0;34m[\u001b[0m\u001b[0;34m'loss'\u001b[0m\u001b[0;34m]\u001b[0m\u001b[0;34m)\u001b[0m\u001b[0;34m\u001b[0m\u001b[0;34m\u001b[0m\u001b[0m\n\u001b[0m\u001b[1;32m      2\u001b[0m \u001b[0mplt\u001b[0m\u001b[0;34m.\u001b[0m\u001b[0mplot\u001b[0m\u001b[0;34m(\u001b[0m\u001b[0mhistory\u001b[0m\u001b[0;34m.\u001b[0m\u001b[0mhistory\u001b[0m\u001b[0;34m[\u001b[0m\u001b[0;34m'val_loss'\u001b[0m\u001b[0;34m]\u001b[0m\u001b[0;34m)\u001b[0m\u001b[0;34m\u001b[0m\u001b[0;34m\u001b[0m\u001b[0m\n",
      "\u001b[0;31mNameError\u001b[0m: name 'plt' is not defined"
     ]
    }
   ],
   "source": [
    "plt.plot(history.history['loss'])\n",
    "plt.plot(history.history['val_loss'])"
   ]
  },
  {
   "cell_type": "code",
   "execution_count": null,
   "metadata": {
    "colab": {},
    "colab_type": "code",
    "id": "Var3RyUzY8Pa"
   },
   "outputs": [],
   "source": [
    "model.save_weights('bodas_sangre_LSTM_deep_no_dropout_last_epoch.hdf5')"
   ]
  },
  {
   "cell_type": "code",
   "execution_count": null,
   "metadata": {
    "colab": {},
    "colab_type": "code",
    "id": "wZuOZUXFjaDi"
   },
   "outputs": [],
   "source": [
    "# Para poder entrar con cualquier longitud\n",
    "input_shape = (None, len(chars))\n",
    "LSTM_units_1=200\n",
    "LSTM_units_2=200\n",
    "\n",
    "model = Sequential()\n",
    "model.add(LSTM(LSTM_units_1, input_shape=input_shape, return_sequences=True, name='lstm_1',\n",
    "                       dropout=dropout_p, recurrent_dropout=dropout_p))\n",
    "model.add(LSTM(LSTM_units_2, dropout=dropout_p, recurrent_dropout=dropout_p, name='lstm_2', return_sequences=True))\n",
    "model.add(Dense(dense_units, activation='softmax'))\n",
    "model.compile(loss='categorical_crossentropy', optimizer='rmsprop')"
   ]
  },
  {
   "cell_type": "code",
   "execution_count": null,
   "metadata": {
    "colab": {},
    "colab_type": "code",
    "id": "scO8sOSVhik4"
   },
   "outputs": [],
   "source": [
    "model.load_weights('bodes_sangre_LSTM_deep_no_dropout.hdf5')"
   ]
  },
  {
   "cell_type": "code",
   "execution_count": null,
   "metadata": {
    "colab": {},
    "colab_type": "code",
    "id": "31JKmbPkixUs"
   },
   "outputs": [],
   "source": [
    "from RNN_utils import get_deep_rnn, chars_to_one_hot, sample"
   ]
  },
  {
   "cell_type": "code",
   "execution_count": null,
   "metadata": {
    "colab": {},
    "colab_type": "code",
    "id": "Axraw-zxiGV6"
   },
   "outputs": [],
   "source": [
    "def predict_phrase(model, initial_seed, window = 100, verbose=True, sample_type = 'greedy'):\n",
    "    # El numeral no esta en el diccionario por lo que lo pasa a todos ceros en el one-hot\n",
    "    initial_seed=initial_seed[-window:]\n",
    "    initial_text = '#'*(window-len(initial_seed))+initial_seed # Padding\n",
    "    X_test = chars_to_one_hot(initial_seed, chars, chars_to_indices, 100)\n",
    "    probs = model.predict(X_test)\n",
    "    probs_sorted_indexes = np.argsort(probs)[0][::-1]\n",
    "    if verbose:\n",
    "        print([(indices_to_chars[i], probs[0][i]) for i in probs_sorted_indexes[:5]])\n",
    "    return probs[0]"
   ]
  },
  {
   "cell_type": "code",
   "execution_count": null,
   "metadata": {
    "colab": {},
    "colab_type": "code",
    "id": "IEQGBTvKi5IL"
   },
   "outputs": [],
   "source": [
    "input_text = \"Estaba la novi\"\n",
    "input_text = \"Estaba el novi\"\n",
    "X_test = chars_to_one_hot(input_text, chars, chars_to_indices, len(input_text))"
   ]
  },
  {
   "cell_type": "code",
   "execution_count": 35,
   "metadata": {
    "colab": {
     "base_uri": "https://localhost:8080/",
     "height": 34
    },
    "colab_type": "code",
    "id": "ZA5syKnvjDZb",
    "outputId": "f36c5e90-1571-474e-9bcf-f70c13d6b2c7"
   },
   "outputs": [
    {
     "data": {
      "text/plain": [
       "(1, 14, 71)"
      ]
     },
     "execution_count": 35,
     "metadata": {
      "tags": []
     },
     "output_type": "execute_result"
    }
   ],
   "source": [
    "X_test.shape"
   ]
  },
  {
   "cell_type": "code",
   "execution_count": null,
   "metadata": {
    "colab": {},
    "colab_type": "code",
    "id": "JASez5zGjR_8"
   },
   "outputs": [],
   "source": [
    "predictions = model.predict(X_test)"
   ]
  },
  {
   "cell_type": "code",
   "execution_count": null,
   "metadata": {
    "colab": {},
    "colab_type": "code",
    "id": "KpOCxemdjsBL"
   },
   "outputs": [],
   "source": [
    "pred_char_n = 0 #13\n",
    "probs_sorted_indexes = np.argsort(predictions[0][pred_char_n])[::-1] "
   ]
  },
  {
   "cell_type": "code",
   "execution_count": 80,
   "metadata": {
    "colab": {
     "base_uri": "https://localhost:8080/",
     "height": 68
    },
    "colab_type": "code",
    "id": "im_KMUIvkc1T",
    "outputId": "8fe1786e-fb4d-47b9-f321-282f9da7e06f"
   },
   "outputs": [
    {
     "name": "stdout",
     "output_type": "stream",
     "text": [
      "[32 15  4 56 16 70 69  2 68 11  8 66 31 46 48 24 44 23 21 38 58 18 35 42\n",
      " 12 60 29 14 67  0 33 41 62  1 61 55 36 59  3 25 37 63 17 47 30 34 28 19\n",
      " 22  9 52 50 54 65 49 64 20 57 13  7 51 27 53 40 10  6  5 26 39 43 45]\n"
     ]
    }
   ],
   "source": [
    "print(probs_sorted_indexes)"
   ]
  },
  {
   "cell_type": "code",
   "execution_count": 81,
   "metadata": {
    "colab": {
     "base_uri": "https://localhost:8080/",
     "height": 51
    },
    "colab_type": "code",
    "id": "cdpHVYp3ikPf",
    "outputId": "a375ff35-3dc0-47cd-c282-2c4d0ea4038c"
   },
   "outputs": [
    {
     "name": "stdout",
     "output_type": "stream",
     "text": [
      "E\n",
      "[('n', 0.18619637), ('s', 0.17911325), (':', 0.17902568), ('R', 0.08559645), ('N', 0.04594765)]\n"
     ]
    }
   ],
   "source": [
    "print(input_text[:pred_char_n+1])\n",
    "print([(indices_to_chars[i], predictions[0][pred_char_n][i]) for i in probs_sorted_indexes[:5]])"
   ]
  },
  {
   "cell_type": "code",
   "execution_count": null,
   "metadata": {
    "colab": {},
    "colab_type": "code",
    "id": "BFEtweD8irdF"
   },
   "outputs": [],
   "source": []
  }
 ],
 "metadata": {
  "accelerator": "GPU",
  "colab": {
   "include_colab_link": true,
   "name": "1-obras-de-teatro-many-2-one.ipynb",
   "provenance": []
  },
  "kernelspec": {
   "display_name": "Python 3",
   "language": "python",
   "name": "python3"
  },
  "language_info": {
   "codemirror_mode": {
    "name": "ipython",
    "version": 3
   },
   "file_extension": ".py",
   "mimetype": "text/x-python",
   "name": "python",
   "nbconvert_exporter": "python",
   "pygments_lexer": "ipython3",
   "version": "3.8.5"
  },
  "toc": {
   "nav_menu": {},
   "number_sections": true,
   "sideBar": true,
   "skip_h1_title": true,
   "toc_cell": false,
   "toc_position": {},
   "toc_section_display": "block",
   "toc_window_display": false
  }
 },
 "nbformat": 4,
 "nbformat_minor": 4
}
