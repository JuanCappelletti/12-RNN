{
 "cells": [
  {
   "cell_type": "code",
   "execution_count": 1,
   "metadata": {},
   "outputs": [],
   "source": [
    "%load_ext autoreload\n",
    "%autoreload 2"
   ]
  },
  {
   "cell_type": "code",
   "execution_count": 2,
   "metadata": {
    "collapsed": true
   },
   "outputs": [],
   "source": [
    "import sys \n",
    "sys.path.append(\"/Users/julianganzabal/facultad/lab-ml/mllab-tools\")"
   ]
  },
  {
   "cell_type": "code",
   "execution_count": 3,
   "metadata": {},
   "outputs": [
    {
     "name": "stderr",
     "output_type": "stream",
     "text": [
      "Using TensorFlow backend.\n"
     ]
    }
   ],
   "source": [
    "from RNN_utils import get_deep_rnn, chars_to_one_hot, sample\n",
    "import numpy as np"
   ]
  },
  {
   "cell_type": "code",
   "execution_count": 4,
   "metadata": {},
   "outputs": [
    {
     "name": "stdout",
     "output_type": "stream",
     "text": [
      "input shape =  (100, 69)\n",
      "_________________________________________________________________\n",
      "Layer (type)                 Output Shape              Param #   \n",
      "=================================================================\n",
      "lstm_1 (LSTM)                (None, 100, 200)          216000    \n",
      "_________________________________________________________________\n",
      "lstm_2 (LSTM)                (None, 200)               320800    \n",
      "_________________________________________________________________\n",
      "dense_1 (Dense)              (None, 69)                13869     \n",
      "=================================================================\n",
      "Total params: 550,669\n",
      "Trainable params: 550,669\n",
      "Non-trainable params: 0\n",
      "_________________________________________________________________\n"
     ]
    }
   ],
   "source": [
    "model=get_deep_rnn((100, 69), dense_units=69)"
   ]
  },
  {
   "cell_type": "markdown",
   "metadata": {},
   "source": [
    "# Cargo pesos entrenados con 100 epochs"
   ]
  },
  {
   "cell_type": "code",
   "execution_count": 5,
   "metadata": {
    "collapsed": true
   },
   "outputs": [],
   "source": [
    "# bodes_sangre_LSTM_deep\n",
    "# bodes_sangre_LSTM_deep_dropout_04\n",
    "model.load_weights('bodes_sangre_LSTM_deep_dropout_04.hdf5')"
   ]
  },
  {
   "cell_type": "code",
   "execution_count": 6,
   "metadata": {
    "collapsed": true
   },
   "outputs": [],
   "source": [
    "def split_data_and_get_dicts(text, train_fraction=0.6):\n",
    "    number_of_chars = len(text)\n",
    "    validation_index = int(number_of_chars*train_fraction)\n",
    "    text_train = text[:validation_index]\n",
    "    text_validation = text[validation_index:]\n",
    "    chars_train = set(text_train)\n",
    "    chars_test = set(text_validation)\n",
    "    chars_set = chars_train.intersection(chars_test)\n",
    "    chars = sorted(list(chars_set))\n",
    "    chars_to_indices = dict((c, i) for i, c in enumerate(chars))  # map each unique character to unique integer\n",
    "    indices_to_chars = dict((i, c) for i, c in enumerate(chars))  # map each unique integer back to unique character\n",
    "    return text_train, text_validation, chars_to_indices, indices_to_chars, chars"
   ]
  },
  {
   "cell_type": "code",
   "execution_count": 7,
   "metadata": {
    "collapsed": true
   },
   "outputs": [],
   "source": [
    "text = open('bodas_de_sangre.txt').read()\n",
    "text_train, text_validation, chars_to_indices, indices_to_chars, chars = split_data_and_get_dicts(text)"
   ]
  },
  {
   "cell_type": "code",
   "execution_count": 8,
   "metadata": {},
   "outputs": [
    {
     "name": "stdout",
     "output_type": "stream",
     "text": [
      "MOZO 1: (Entrando) ¡Tienes que beber con nosotros!\n",
      "\n",
      "NOVIO: Estoy esperando a la novia.\n",
      "\n",
      "MOZO 2: ¡Ya \n"
     ]
    }
   ],
   "source": [
    "window_size = 100\n",
    "initial_char = 16\n",
    "initial_text = text_validation[initial_char:window_size+initial_char]\n",
    "print(initial_text)"
   ]
  },
  {
   "cell_type": "code",
   "execution_count": 9,
   "metadata": {},
   "outputs": [
    {
     "name": "stdout",
     "output_type": "stream",
     "text": [
      "(1, 100, 69)\n"
     ]
    }
   ],
   "source": [
    "X_test = chars_to_one_hot(initial_text, chars, chars_to_indices, window_size)\n",
    "print(X_test.shape)"
   ]
  },
  {
   "cell_type": "code",
   "execution_count": 10,
   "metadata": {},
   "outputs": [
    {
     "name": "stdout",
     "output_type": "stream",
     "text": [
      "[[  2.67503987e-04   1.47814702e-04   6.57919809e-05   2.55769206e-04\n",
      "    4.72744568e-06   2.37566219e-05   2.42656406e-05   2.75124034e-06\n",
      "    3.70589163e-07   4.40745573e-08   3.66884683e-06   1.64531014e-06\n",
      "    6.16733669e-05   7.41606846e-06   1.38893829e-05   8.09140984e-05\n",
      "    5.61719717e-05   4.66867023e-05   1.43318921e-05   3.72986892e-06\n",
      "    7.39483858e-06   2.96074359e-05   2.25158919e-06   1.05969375e-03\n",
      "    2.02942902e-04   3.09547031e-05   3.36788726e-05   1.23046717e-04\n",
      "    3.96312171e-05   1.16490744e-04   6.03278386e-05   4.03930717e-05\n",
      "    1.16660331e-05   1.97234622e-05   2.18111982e-05   1.14413998e-08\n",
      "    3.21773347e-03   1.22510111e-02   5.05333841e-02   1.11963928e-01\n",
      "    7.49744847e-02   1.27892541e-02   1.42459823e-02   2.28233393e-02\n",
      "    8.94578919e-03   8.82902532e-04   1.80775281e-02   6.82415739e-02\n",
      "    1.20949827e-01   1.26354326e-03   6.70492798e-02   4.00201790e-02\n",
      "    8.58152192e-03   8.35077539e-02   9.80713218e-02   1.13407187e-02\n",
      "    1.37485445e-01   2.20519229e-04   2.24742051e-02   2.44643452e-04\n",
      "    3.40347702e-04   8.25363910e-04   1.34833911e-09   3.73011595e-03\n",
      "    5.78770414e-04   1.17530581e-03   1.10614703e-04   5.82166285e-05\n",
      "    1.42767603e-04]]\n",
      "56\n",
      "v\n"
     ]
    }
   ],
   "source": [
    "probs = model.predict(X_test)\n",
    "print(probs)\n",
    "index = np.argmax(probs)\n",
    "print(index)\n",
    "print(indices_to_chars[index])"
   ]
  },
  {
   "cell_type": "markdown",
   "metadata": {},
   "source": [
    "## Muestrar modelo"
   ]
  },
  {
   "cell_type": "code",
   "execution_count": 11,
   "metadata": {},
   "outputs": [
    {
     "name": "stdout",
     "output_type": "stream",
     "text": [
      "[ 0.5   0.25  0.15  0.1 ]\n"
     ]
    },
    {
     "data": {
      "text/plain": [
       "0"
      ]
     },
     "execution_count": 11,
     "metadata": {},
     "output_type": "execute_result"
    }
   ],
   "source": [
    "temperatura = 1\n",
    "sample([0.5, 0.25, 0.15, 0.10], temperatura, verbose=True)"
   ]
  },
  {
   "cell_type": "markdown",
   "metadata": {},
   "source": [
    "# Ejemplos con 100 epochs\n",
    "### Primer muestreo, luego del espacio despues de la palabra 'ya' "
   ]
  },
  {
   "cell_type": "code",
   "execution_count": 12,
   "metadata": {},
   "outputs": [
    {
     "name": "stdout",
     "output_type": "stream",
     "text": [
      "MOZO 1: (Entrando) ¡Tienes que beber con nosotros!\n",
      "\n",
      "NOVIO: Estoy esperando a la novia.\n",
      "\n",
      "MOZO 2: ¡Ya \n",
      "q\n",
      "d\n",
      "e\n",
      "m\n",
      "p\n",
      "t\n",
      "p\n",
      "f\n",
      "c\n",
      "n\n"
     ]
    }
   ],
   "source": [
    "window_size = 100\n",
    "initial_char = 16\n",
    "initial_text = text_validation[initial_char:window_size+initial_char]\n",
    "print(initial_text)\n",
    "X_test = chars_to_one_hot(initial_text, chars, chars_to_indices, window_size)\n",
    "probs = model.predict(X_test)\n",
    "for i in range(10):\n",
    "    my_sample = sample(probs[0], 1)\n",
    "    print(indices_to_chars[my_sample])"
   ]
  },
  {
   "cell_type": "markdown",
   "metadata": {},
   "source": [
    "### Luego de las letras 'novi'"
   ]
  },
  {
   "cell_type": "code",
   "execution_count": 13,
   "metadata": {},
   "outputs": [
    {
     "name": "stdout",
     "output_type": "stream",
     "text": [
      "ovia. (Se va.)\n",
      "\n",
      "MOZO 1: (Entrando) ¡Tienes que beber con nosotros!\n",
      "\n",
      "NOVIO: Estoy esperando a la novi\n",
      "a\n",
      "a\n",
      "a\n",
      "a\n",
      "a\n",
      "a\n",
      "a\n",
      "a\n",
      "a\n",
      "a\n"
     ]
    }
   ],
   "source": [
    "window_size = 100\n",
    "initial_char = 0\n",
    "initial_text = text_validation[initial_char:window_size+initial_char]\n",
    "print(initial_text)\n",
    "X_test = chars_to_one_hot(initial_text, chars, chars_to_indices, window_size)\n",
    "probs = model.predict(X_test)\n",
    "for i in range(10):\n",
    "    my_sample = sample(probs[0], 1)\n",
    "    print(indices_to_chars[my_sample])"
   ]
  },
  {
   "cell_type": "code",
   "execution_count": 14,
   "metadata": {},
   "outputs": [],
   "source": [
    "# funcion de generación de texto\n",
    "def generate_text(model, initial_text, N = 1000, window_size = 100):\n",
    "    X_text_str = initial_text\n",
    "    print(initial_text)\n",
    "    print('--------------------------------------------------------------------------------')\n",
    "    print()\n",
    "    print(X_text_str, end='')\n",
    "    for i in range(N):\n",
    "        X_test = chars_to_one_hot(X_text_str[i:], chars, chars_to_indices, window_size)\n",
    "        probs = model.predict(X_test)\n",
    "        my_sample=sample(probs[0], 0.5)\n",
    "        new_char = indices_to_chars[my_sample]\n",
    "        X_text_str = X_text_str + new_char\n",
    "        print(new_char, end='')\n",
    "    return X_text_str"
   ]
  },
  {
   "cell_type": "markdown",
   "metadata": {},
   "source": [
    "# Poco entrenamiento: 1 Epoch"
   ]
  },
  {
   "cell_type": "code",
   "execution_count": 18,
   "metadata": {},
   "outputs": [
    {
     "name": "stdout",
     "output_type": "stream",
     "text": [
      "MOZO 1: (Entrando) ¡Tienes que beber con nosotros!\n",
      "\n",
      "NOVIO: Estoy esperando a la novia.\n",
      "\n",
      "MOZO 2: ¡Ya \n",
      "--------------------------------------------------------------------------------\n",
      "\n",
      "MOZO 1: (Entrando) ¡Tienes que beber con nosotros!\n",
      "\n",
      "NOVIO: Estoy esperando a la novia.\n",
      "\n",
      "MOZO 2: ¡Ya ae ar o te e enoe a co pe en lorde an os aata orre e aa de e a aa qc e tl lo ce an as le ea a e e o ca a mn ta a iu a pa den. ao ma anne ca a e ena lo ar a ena era da e eo oa a e ee men.\n",
      "\n",
      "MOEIR:  ae ae oras a le mon.\n",
      "\n",
      "\n",
      "VAA : ¿io mo no te la men da ae ao a naa ae mua arga ere nu e au a cla io to aa a de anta e ar. tes uone o eue are ae en e a no do la ade are do ve mo eera a ara a nu a o re a e cutr nre o ue nr e oe ys ta ea a le aiv lo era o a anera ea o ae ana as an ne as e o te que as en e ara sa end.\n",
      "\n",
      "UNIOA: :sio a e ora ada.\n",
      "\n",
      "NIAI: ¿o esrvrr on ao lo  ua eula o u oe e mn na ae e ace e pl os o ne me de e a ara o ca mo e a anla are es esrs ae ta. do  o era aa ve ad ono.\n",
      "\n",
      "NNIND:: Soran are )a nio al qu a o o e e ena ae os ro err a in ao co a ee a aro el a e ee sz no do me ao a esn. o ma de e oa ers e ar nn oo e uo de ra eme an aaa ee ee a ae lue a. ao os a  ae ansn lr a do a ta aa la pu ma a a po ma ano e ertrca eda a e oe ese.\n",
      "\n",
      "ONORD:: oa ne e io on ce ar a a o a te me a el le ? ee a"
     ]
    }
   ],
   "source": [
    "model.load_weights('bodes_sangre_LSTM_deep_dropout_04_2_1_epochs.hdf5')\n",
    "initial_char = 16\n",
    "window_size = 100\n",
    "initial_text = text_validation[initial_char:window_size+initial_char]\n",
    "model.load_weights('bodes_sangre_LSTM_deep_dropout_04_2_1_epochs.hdf5')\n",
    "generate_text(model, initial_text, N = 1000, window_size = window_size)"
   ]
  },
  {
   "cell_type": "markdown",
   "metadata": {},
   "source": [
    "# Corrida 1 (100 epochs)"
   ]
  },
  {
   "cell_type": "code",
   "execution_count": 16,
   "metadata": {},
   "outputs": [
    {
     "name": "stdout",
     "output_type": "stream",
     "text": [
      "ovia. (Se va.)\n",
      "\n",
      "MOZO 1: (Entrando) ¡Tienes que beber con nosotros!\n",
      "\n",
      "NOVIO: Estoy esperando a la novi\n",
      "--------------------------------------------------------------------------------\n",
      "\n",
      "ovia. (Se va.)\n",
      "\n",
      "MOZO 1: (Entrando) ¡Tienes que beber con nosotros!\n",
      "\n",
      "NOVIO: Estoy esperando a la novia. De puede una mujer de mu hijo. (La mujer el azahar.) ¿Qué te alguna con el azahar?\n",
      "\n",
      "MADRE: Sí. ¿Qué me hace la para tento?\n",
      "\n",
      "NOVIO: Yo sombrera.\n",
      "\n",
      "MADRE: ¿Qué están yo está que me siento que salí?\n",
      "\n",
      "LEONARDO: No. Yo se cuerta la mana verdad. (Se sienta.)\n",
      "\n",
      "VECINA: (Al criada) La madre de aballo.\n",
      "\n",
      "MADRE: (Seriendo) Sombre a tu casa.\n",
      "\n",
      "MADRE: Eso me mujer.\n",
      "\n",
      "MADRE: Yo quiero está de la sonque hay a la caballo. \n",
      "\n",
      "CRIADA: Pero la cero un novio.\n",
      "\n",
      "NOVIO: ¡Como los novio!\n",
      "\n",
      "CRIADA: Estan muser.\n",
      "\n",
      "NOVIA: Pero con el caballo y a pare a la cara.\n",
      "\n",
      "LEONARDO: Vamos.\n",
      "\n",
      "CRIADA: Esto es brazos y mujer.\n",
      "\n",
      "NOVIA: Se.\n",
      "\n",
      "MADRE: Tu padre que priso por el ascho y la carrende. Pero no me hombre hablar con la guente.\n",
      "\n",
      "CRIADA: (Levantándose) (Se sientando por el azahar.)\n",
      "\n",
      "NOVIA: (Levantándose) ¡Vemos!\n",
      "\n",
      "CRIADA: Sí la novia se la buena de los manos entres con las paras y puede se casa.\n",
      "\n",
      "PADRE: ¿Qué te puste?\n",
      "\n",
      "NOVIA: ¿Está contra a la caro?\n",
      "\n",
      "MADRE: Si madre con ira su caballo de mi casa.\n",
      "\n",
      "SUEGRA: La madre de puedes por l"
     ]
    }
   ],
   "source": [
    "model.load_weights('bodes_sangre_LSTM_deep_dropout_04.hdf5')\n",
    "output_text = generate_text(model, initial_text, N = 1000, window_size = window_size)"
   ]
  },
  {
   "cell_type": "markdown",
   "metadata": {},
   "source": [
    "### Corrida 2"
   ]
  },
  {
   "cell_type": "code",
   "execution_count": 17,
   "metadata": {},
   "outputs": [
    {
     "name": "stdout",
     "output_type": "stream",
     "text": [
      "ovia. (Se va.)\n",
      "\n",
      "MOZO 1: (Entrando) ¡Tienes que beber con nosotros!\n",
      "\n",
      "NOVIO: Estoy esperando a la novi\n",
      "--------------------------------------------------------------------------------\n",
      "\n",
      "ovia. (Se va.)\n",
      "\n",
      "MOZO 1: (Entrando) ¡Tienes que beber con nosotros!\n",
      "\n",
      "NOVIO: Estoy esperando a la novia. (Se esa carallo de la mujer) (Se diente y a la caballo que no sabes a la marada de azahar) No sé de pasa. (La madre con el cabello y lo viviera a la carecia) No sé como siente la casa matar de una mujer. Por el no te pueden a mí le vista. (Se sienta en tu pecho en el caballo.) \n",
      "\n",
      "MUJER: (Al niña) ¡Qué está como está para la caballe de la cara a la cabella y con las campos y a casardo en la boda.\n",
      "\n",
      "NOVIA: (Meriendo) Qué con el caballo y con el caballo y se casa casale de arredor.\n",
      "\n",
      "MADRE: No se cuere por el cabello. (Se sienta a la cara y puede a la elca de la colona! Mana con las destido en un eltente. Está bien a la novia en una comprando de la para de la boda. (Se sienta al niño a me puede a manida.)\n",
      "\n",
      "MADRE: (Al carecio) ¿Cómo estás medido?\n",
      "\n",
      "NOVIA: ¿Está que te pestigo a la carreldo?\n",
      "\n",
      "LEONARDO: ¿Se hay está que me puede con las pero?\n",
      "\n",
      "NOVIO: (Con mi miro des caminos. \n",
      "\n",
      "MUJER: Ya me vergas. (Se sienta) Ahora la mujer.\n",
      "\n",
      "MADRE: Camo es un dejos. Es que lo dienente.\n",
      "\n",
      "NOVIO: (Levantándose"
     ]
    }
   ],
   "source": [
    "output_text = generate_text(model, initial_text, N = 1000, window_size = window_size)"
   ]
  },
  {
   "cell_type": "markdown",
   "metadata": {},
   "source": [
    "- Mantiene estructuta de obra de teatro\n",
    "- Abre y cierra signo de pregunta y/o admiración\n",
    "- Abre y cierra parentesis\n",
    "- Articulo mas sustantivo con género\n",
    "- Comparar primera y segunda corrida y verificar que son diferentes"
   ]
  }
 ],
 "metadata": {
  "kernelspec": {
   "display_name": "Python 3",
   "language": "python",
   "name": "python3"
  },
  "language_info": {
   "codemirror_mode": {
    "name": "ipython",
    "version": 3
   },
   "file_extension": ".py",
   "mimetype": "text/x-python",
   "name": "python",
   "nbconvert_exporter": "python",
   "pygments_lexer": "ipython3",
   "version": "3.6.2"
  },
  "toc": {
   "nav_menu": {},
   "number_sections": true,
   "sideBar": true,
   "skip_h1_title": true,
   "toc_cell": false,
   "toc_position": {},
   "toc_section_display": "block",
   "toc_window_display": false
  }
 },
 "nbformat": 4,
 "nbformat_minor": 2
}
