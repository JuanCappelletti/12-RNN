{
 "cells": [
  {
   "cell_type": "code",
   "execution_count": 1,
   "metadata": {},
   "outputs": [],
   "source": [
    "%load_ext autoreload\n",
    "%autoreload 2"
   ]
  },
  {
   "cell_type": "code",
   "execution_count": 2,
   "metadata": {
    "collapsed": true
   },
   "outputs": [],
   "source": [
    "import sys \n",
    "sys.path.append(\"/Users/julianganzabal/facultad/lab-ml/mllab-tools\")"
   ]
  },
  {
   "cell_type": "code",
   "execution_count": 3,
   "metadata": {},
   "outputs": [
    {
     "name": "stderr",
     "output_type": "stream",
     "text": [
      "Using TensorFlow backend.\n"
     ]
    }
   ],
   "source": [
    "from RNN_utils import get_deep_rnn, chars_to_one_hot, sample\n",
    "import numpy as np"
   ]
  },
  {
   "cell_type": "code",
   "execution_count": 4,
   "metadata": {},
   "outputs": [
    {
     "name": "stdout",
     "output_type": "stream",
     "text": [
      "input shape =  (100, 69)\n",
      "_________________________________________________________________\n",
      "Layer (type)                 Output Shape              Param #   \n",
      "=================================================================\n",
      "lstm_1 (LSTM)                (None, 100, 200)          216000    \n",
      "_________________________________________________________________\n",
      "lstm_2 (LSTM)                (None, 200)               320800    \n",
      "_________________________________________________________________\n",
      "dense_1 (Dense)              (None, 69)                13869     \n",
      "=================================================================\n",
      "Total params: 550,669\n",
      "Trainable params: 550,669\n",
      "Non-trainable params: 0\n",
      "_________________________________________________________________\n"
     ]
    }
   ],
   "source": [
    "model=get_deep_rnn((100, 69), dense_units=69)"
   ]
  },
  {
   "cell_type": "markdown",
   "metadata": {},
   "source": [
    "# Cargo pesos entrenados con 100 epochs"
   ]
  },
  {
   "cell_type": "code",
   "execution_count": 5,
   "metadata": {
    "collapsed": true
   },
   "outputs": [],
   "source": [
    "# bodes_sangre_LSTM_deep\n",
    "# bodes_sangre_LSTM_deep_dropout_04\n",
    "model.load_weights('bodes_sangre_LSTM_deep_dropout_04.hdf5')"
   ]
  },
  {
   "cell_type": "code",
   "execution_count": 6,
   "metadata": {
    "collapsed": true
   },
   "outputs": [],
   "source": [
    "def split_data_and_get_dicts(text, train_fraction=0.6):\n",
    "    number_of_chars = len(text)\n",
    "    validation_index = int(number_of_chars*train_fraction)\n",
    "    text_train = text[:validation_index]\n",
    "    text_validation = text[validation_index:]\n",
    "    chars_train = set(text_train)\n",
    "    chars_test = set(text_validation)\n",
    "    chars_set = chars_train.intersection(chars_test)\n",
    "    chars = sorted(list(chars_set))\n",
    "    chars_to_indices = dict((c, i) for i, c in enumerate(chars))  # map each unique character to unique integer\n",
    "    indices_to_chars = dict((i, c) for i, c in enumerate(chars))  # map each unique integer back to unique character\n",
    "    return text_train, text_validation, chars_to_indices, indices_to_chars, chars"
   ]
  },
  {
   "cell_type": "code",
   "execution_count": 7,
   "metadata": {
    "collapsed": true
   },
   "outputs": [],
   "source": [
    "text = open('bodas_de_sangre.txt').read()\n",
    "text_train, text_validation, chars_to_indices, indices_to_chars, chars = split_data_and_get_dicts(text)"
   ]
  },
  {
   "cell_type": "code",
   "execution_count": 8,
   "metadata": {},
   "outputs": [
    {
     "name": "stdout",
     "output_type": "stream",
     "text": [
      "MOZO 1: (Entrando) ¡Tienes que beber con nosotros!\n",
      "\n",
      "NOVIO: Estoy esperando a la novia.\n",
      "\n",
      "MOZO 2: ¡Ya \n"
     ]
    }
   ],
   "source": [
    "window_size = 100\n",
    "initial_char = 16\n",
    "initial_text = text_validation[initial_char:window_size+initial_char]\n",
    "print(initial_text)"
   ]
  },
  {
   "cell_type": "code",
   "execution_count": 9,
   "metadata": {},
   "outputs": [
    {
     "name": "stdout",
     "output_type": "stream",
     "text": [
      "(1, 100, 69)\n"
     ]
    }
   ],
   "source": [
    "X_test = chars_to_one_hot(initial_text, chars, chars_to_indices, window_size)\n",
    "print(X_test.shape)"
   ]
  },
  {
   "cell_type": "code",
   "execution_count": 10,
   "metadata": {},
   "outputs": [
    {
     "name": "stdout",
     "output_type": "stream",
     "text": [
      "[[  2.67503987e-04   1.47814702e-04   6.57919809e-05   2.55769206e-04\n",
      "    4.72744568e-06   2.37566219e-05   2.42656406e-05   2.75124034e-06\n",
      "    3.70589163e-07   4.40745573e-08   3.66884683e-06   1.64531014e-06\n",
      "    6.16733669e-05   7.41606846e-06   1.38893829e-05   8.09140984e-05\n",
      "    5.61719717e-05   4.66867023e-05   1.43318921e-05   3.72986892e-06\n",
      "    7.39483858e-06   2.96074359e-05   2.25158919e-06   1.05969375e-03\n",
      "    2.02942902e-04   3.09547031e-05   3.36788726e-05   1.23046717e-04\n",
      "    3.96312171e-05   1.16490744e-04   6.03278386e-05   4.03930717e-05\n",
      "    1.16660331e-05   1.97234622e-05   2.18111982e-05   1.14413998e-08\n",
      "    3.21773347e-03   1.22510111e-02   5.05333841e-02   1.11963928e-01\n",
      "    7.49744847e-02   1.27892541e-02   1.42459823e-02   2.28233393e-02\n",
      "    8.94578919e-03   8.82902532e-04   1.80775281e-02   6.82415739e-02\n",
      "    1.20949827e-01   1.26354326e-03   6.70492798e-02   4.00201790e-02\n",
      "    8.58152192e-03   8.35077539e-02   9.80713218e-02   1.13407187e-02\n",
      "    1.37485445e-01   2.20519229e-04   2.24742051e-02   2.44643452e-04\n",
      "    3.40347702e-04   8.25363910e-04   1.34833911e-09   3.73011595e-03\n",
      "    5.78770414e-04   1.17530581e-03   1.10614703e-04   5.82166285e-05\n",
      "    1.42767603e-04]]\n",
      "56\n",
      "v\n"
     ]
    }
   ],
   "source": [
    "probs = model.predict(X_test)\n",
    "print(probs)\n",
    "index = np.argmax(probs)\n",
    "print(index)\n",
    "print(indices_to_chars[index])"
   ]
  },
  {
   "cell_type": "markdown",
   "metadata": {},
   "source": [
    "## Muestrar modelo"
   ]
  },
  {
   "cell_type": "code",
   "execution_count": 11,
   "metadata": {},
   "outputs": [
    {
     "name": "stdout",
     "output_type": "stream",
     "text": [
      "[ 0.5   0.25  0.15  0.1 ]\n"
     ]
    },
    {
     "data": {
      "text/plain": [
       "3"
      ]
     },
     "execution_count": 11,
     "metadata": {},
     "output_type": "execute_result"
    }
   ],
   "source": [
    "temperatura = 1\n",
    "sample([0.5, 0.25, 0.15, 0.10], temperatura, verbose=True)"
   ]
  },
  {
   "cell_type": "code",
   "execution_count": 13,
   "metadata": {},
   "outputs": [
    {
     "name": "stdout",
     "output_type": "stream",
     "text": [
      "MOZO 1: (Entrando) ¡Tienes que beber con nosotros!\n",
      "\n",
      "NOVIO: Estoy esperando a la novia.\n",
      "\n",
      "MOZO 2: ¡Ya \n",
      "c\n",
      "n\n",
      "v\n",
      "t\n",
      "n\n",
      "v\n",
      "n\n",
      "v\n",
      "s\n",
      "d\n"
     ]
    }
   ],
   "source": [
    "window_size = 100\n",
    "initial_char = 16\n",
    "initial_text = text_validation[initial_char:window_size+initial_char]\n",
    "print(initial_text)\n",
    "X_test = chars_to_one_hot(initial_text, chars, chars_to_indices, window_size)\n",
    "probs = model.predict(X_test)\n",
    "for i in range(10):\n",
    "    my_sample = sample(probs[0], 0.5)\n",
    "    print(indices_to_chars[my_sample])"
   ]
  },
  {
   "cell_type": "code",
   "execution_count": 14,
   "metadata": {},
   "outputs": [
    {
     "name": "stdout",
     "output_type": "stream",
     "text": [
      "ovia. (Se va.)\n",
      "\n",
      "MOZO 1: (Entrando) ¡Tienes que beber con nosotros!\n",
      "\n",
      "NOVIO: Estoy esperando a la novi\n",
      "a\n",
      "a\n",
      "a\n",
      "a\n",
      "a\n",
      "a\n",
      "a\n",
      "a\n",
      "a\n",
      "a\n"
     ]
    }
   ],
   "source": [
    "window_size = 100\n",
    "initial_char = 0\n",
    "initial_text = text_validation[initial_char:window_size+initial_char]\n",
    "print(initial_text)\n",
    "X_test = chars_to_one_hot(initial_text, chars, chars_to_indices, window_size)\n",
    "probs = model.predict(X_test)\n",
    "for i in range(10):\n",
    "    my_sample = sample(probs[0], 0.5)\n",
    "    print(indices_to_chars[my_sample])"
   ]
  },
  {
   "cell_type": "code",
   "execution_count": 16,
   "metadata": {},
   "outputs": [
    {
     "name": "stdout",
     "output_type": "stream",
     "text": [
      "MOZO 1: (Entrando) ¡Tienes que beber con nosotros!\n",
      "\n",
      "NOVIO: Estoy esperando a la novia.\n",
      "\n",
      "MOZO 2: ¡Ya \n",
      "---------------------------------------------------\n",
      "\n",
      "MOZO 1: (Entrando) ¡Tienes que beber con nosotros!\n",
      "\n",
      "NOVIO: Estoy esperando a la novia.\n",
      "\n",
      "MOZO 2: ¡Ya tengo el caballo se fuedo y al manes de relía con la casa. ¿Qué hijo a la fuerte y este a la pude se puede a de la casa!\n",
      "\n",
      "(Pausa)\n",
      "\n",
      "CRIADA: (Con iriendo)\n",
      "¡Ay!\n",
      "\n",
      "NOVIA: (Siente) No vengo a mí me mujer.\n",
      "\n",
      "MADRE: (Levantándole) No se puede que no se que me acero.\n",
      "\n",
      "MADRE: Mi hijo es es de pendo todo es una contigo de azos de la mujer.\n",
      "\n",
      "NOVIA: (Seria)\n",
      "Despierte la novia la novia de pore la boda.\n",
      "CRIADA:\n",
      "¡Ay no está con la boda!\n",
      "MUJER: (Llorando) ¡Y espara la calada más que no es una culpa en la boda!\n",
      "\n",
      "NOVIO: (Meriando el aguazar.)\n",
      "\n",
      "(Pausa)\n",
      "\n",
      "PADRE: (Seria) No hay que me custar.\n",
      "\n",
      "MADRE: Ahora es un cormilo. (Se siente de caballo con la carrella de un caballo y se tu hijo y a estan muchos. ¿Y es compro?\n",
      "\n",
      "LEONARDO: Al novio se puede la mujer. Yo hable a la corona. (Se la bada con su casa de azahar) No se guete mucho y esta tengo y el caballo siente en una cupas de angullo.\n",
      "\n",
      "NOVIA: (Entrando) Esa desí compra tu cabeza y la madre de la caballo la mana a la buena. (Se suelta y el azahar en la deja)\n",
      "\n",
      "NOVIA: Yo se ponere benidador.\n",
      "\n",
      "LEONARDO: Déjame.\n",
      "\n",
      "MADRE: (Al carida) Ahora.\n",
      "\n",
      "MADRE: Que no me asuelos de puede como una puede de puedra de la boda. (Se siente y el azahar, y parece la madre y el caballo de para la conoza.)\n",
      "\n",
      "NOVIA: (Al novia) Si no quiero es buena. ¡Qué estás de tienes de ponecido?\n",
      "\n",
      "MADRE: Pero que me pespo a mí está más estuda de los mujeros se cuerto y hay que te hablar y me ahora con los mantes de azahar.\n",
      "\n",
      "MADRE: (Al niño) Hay medor que me diero otra es bendar, que des mujer.\n",
      "\n",
      "MADRE: Sí. ¿Suedo está cor la carre y aquí te acerrado misto que la cabeza está y estirado es una mujer.\n",
      "\n",
      "MADRE: Sí. (Vamos a la corona.)\n",
      "\n",
      "NOVIA: (Fuerte) No habe casa y blante que me puede y más de casa.\n",
      "\n",
      "CRIADA: (Al novia) Sire la mana con la novia. La medre un habelo.\n",
      "\n",
      "MADRE: Sí. Está que me suego en la boda.\n",
      "\n",
      "NOVIO: (Seria) La medre de casa si mu hijo. (Se siente a mu padre. (Se sienta.)\n",
      "\n",
      "MADRE: La mujer de a su mujer. La novia es un caballo.\n",
      "\n",
      "MADRE: ¿Qué te despierte la madre que vienes d\n"
     ]
    }
   ],
   "source": [
    "window_size = 100\n",
    "initial_char = 16\n",
    "initial_text = text_validation[initial_char:window_size+initial_char]\n",
    "\n",
    "N = 2000\n",
    "X_text_str = initial_text\n",
    "print(initial_text)\n",
    "print('---------------------------------------------------')\n",
    "print()\n",
    "for i in range(N):\n",
    "    X_test = chars_to_one_hot(X_text_str[i:], chars, chars_to_indices, window_size)\n",
    "    probs = model.predict(X_test)\n",
    "    my_sample=sample(probs[0], 0.5)\n",
    "    new_char = indices_to_chars[my_sample]\n",
    "    X_text_str = X_text_str + new_char\n",
    "print(X_text_str)"
   ]
  },
  {
   "cell_type": "markdown",
   "metadata": {},
   "source": [
    "- Mantiene estructuta de obra de teatro\n",
    "- Abre y cierra signo de pregunta y/o admiración\n",
    "- Abre y cierra parentesis\n",
    "- Articulo mas sustantivo con género"
   ]
  },
  {
   "cell_type": "markdown",
   "metadata": {},
   "source": [
    "# Poco entrenamiento: 1 Epoch"
   ]
  },
  {
   "cell_type": "code",
   "execution_count": 17,
   "metadata": {},
   "outputs": [
    {
     "ename": "OSError",
     "evalue": "Unable to open file (unable to open file: name = 'bodes_sangre_LSTM_deep_dropout_04_2_1_epochs.hdf5', errno = 2, error message = 'No such file or directory', flags = 0, o_flags = 0)",
     "output_type": "error",
     "traceback": [
      "\u001b[0;31m---------------------------------------------------------------------------\u001b[0m",
      "\u001b[0;31mOSError\u001b[0m                                   Traceback (most recent call last)",
      "\u001b[0;32m<ipython-input-17-4ffe9a95310a>\u001b[0m in \u001b[0;36m<module>\u001b[0;34m()\u001b[0m\n\u001b[1;32m      1\u001b[0m \u001b[0;31m#bodes_sangre_LSTM_deep_dropout_04_2_1_epochs\u001b[0m\u001b[0;34m\u001b[0m\u001b[0;34m\u001b[0m\u001b[0m\n\u001b[0;32m----> 2\u001b[0;31m \u001b[0mmodel\u001b[0m\u001b[0;34m.\u001b[0m\u001b[0mload_weights\u001b[0m\u001b[0;34m(\u001b[0m\u001b[0;34m'bodes_sangre_LSTM_deep_dropout_04_2_1_epochs.hdf5'\u001b[0m\u001b[0;34m)\u001b[0m\u001b[0;34m\u001b[0m\u001b[0m\n\u001b[0m",
      "\u001b[0;32m~/anaconda3/envs/mllab/lib/python3.6/site-packages/keras/models.py\u001b[0m in \u001b[0;36mload_weights\u001b[0;34m(self, filepath, by_name)\u001b[0m\n\u001b[1;32m    706\u001b[0m         \u001b[0;32mif\u001b[0m \u001b[0mh5py\u001b[0m \u001b[0;32mis\u001b[0m \u001b[0;32mNone\u001b[0m\u001b[0;34m:\u001b[0m\u001b[0;34m\u001b[0m\u001b[0m\n\u001b[1;32m    707\u001b[0m             \u001b[0;32mraise\u001b[0m \u001b[0mImportError\u001b[0m\u001b[0;34m(\u001b[0m\u001b[0;34m'`load_weights` requires h5py.'\u001b[0m\u001b[0;34m)\u001b[0m\u001b[0;34m\u001b[0m\u001b[0m\n\u001b[0;32m--> 708\u001b[0;31m         \u001b[0mf\u001b[0m \u001b[0;34m=\u001b[0m \u001b[0mh5py\u001b[0m\u001b[0;34m.\u001b[0m\u001b[0mFile\u001b[0m\u001b[0;34m(\u001b[0m\u001b[0mfilepath\u001b[0m\u001b[0;34m,\u001b[0m \u001b[0mmode\u001b[0m\u001b[0;34m=\u001b[0m\u001b[0;34m'r'\u001b[0m\u001b[0;34m)\u001b[0m\u001b[0;34m\u001b[0m\u001b[0m\n\u001b[0m\u001b[1;32m    709\u001b[0m         \u001b[0;32mif\u001b[0m \u001b[0;34m'layer_names'\u001b[0m \u001b[0;32mnot\u001b[0m \u001b[0;32min\u001b[0m \u001b[0mf\u001b[0m\u001b[0;34m.\u001b[0m\u001b[0mattrs\u001b[0m \u001b[0;32mand\u001b[0m \u001b[0;34m'model_weights'\u001b[0m \u001b[0;32min\u001b[0m \u001b[0mf\u001b[0m\u001b[0;34m:\u001b[0m\u001b[0;34m\u001b[0m\u001b[0m\n\u001b[1;32m    710\u001b[0m             \u001b[0mf\u001b[0m \u001b[0;34m=\u001b[0m \u001b[0mf\u001b[0m\u001b[0;34m[\u001b[0m\u001b[0;34m'model_weights'\u001b[0m\u001b[0;34m]\u001b[0m\u001b[0;34m\u001b[0m\u001b[0m\n",
      "\u001b[0;32m~/anaconda3/envs/mllab/lib/python3.6/site-packages/h5py/_hl/files.py\u001b[0m in \u001b[0;36m__init__\u001b[0;34m(self, name, mode, driver, libver, userblock_size, swmr, **kwds)\u001b[0m\n\u001b[1;32m    267\u001b[0m             \u001b[0;32mwith\u001b[0m \u001b[0mphil\u001b[0m\u001b[0;34m:\u001b[0m\u001b[0;34m\u001b[0m\u001b[0m\n\u001b[1;32m    268\u001b[0m                 \u001b[0mfapl\u001b[0m \u001b[0;34m=\u001b[0m \u001b[0mmake_fapl\u001b[0m\u001b[0;34m(\u001b[0m\u001b[0mdriver\u001b[0m\u001b[0;34m,\u001b[0m \u001b[0mlibver\u001b[0m\u001b[0;34m,\u001b[0m \u001b[0;34m**\u001b[0m\u001b[0mkwds\u001b[0m\u001b[0;34m)\u001b[0m\u001b[0;34m\u001b[0m\u001b[0m\n\u001b[0;32m--> 269\u001b[0;31m                 \u001b[0mfid\u001b[0m \u001b[0;34m=\u001b[0m \u001b[0mmake_fid\u001b[0m\u001b[0;34m(\u001b[0m\u001b[0mname\u001b[0m\u001b[0;34m,\u001b[0m \u001b[0mmode\u001b[0m\u001b[0;34m,\u001b[0m \u001b[0muserblock_size\u001b[0m\u001b[0;34m,\u001b[0m \u001b[0mfapl\u001b[0m\u001b[0;34m,\u001b[0m \u001b[0mswmr\u001b[0m\u001b[0;34m=\u001b[0m\u001b[0mswmr\u001b[0m\u001b[0;34m)\u001b[0m\u001b[0;34m\u001b[0m\u001b[0m\n\u001b[0m\u001b[1;32m    270\u001b[0m \u001b[0;34m\u001b[0m\u001b[0m\n\u001b[1;32m    271\u001b[0m                 \u001b[0;32mif\u001b[0m \u001b[0mswmr_support\u001b[0m\u001b[0;34m:\u001b[0m\u001b[0;34m\u001b[0m\u001b[0m\n",
      "\u001b[0;32m~/anaconda3/envs/mllab/lib/python3.6/site-packages/h5py/_hl/files.py\u001b[0m in \u001b[0;36mmake_fid\u001b[0;34m(name, mode, userblock_size, fapl, fcpl, swmr)\u001b[0m\n\u001b[1;32m     97\u001b[0m         \u001b[0;32mif\u001b[0m \u001b[0mswmr\u001b[0m \u001b[0;32mand\u001b[0m \u001b[0mswmr_support\u001b[0m\u001b[0;34m:\u001b[0m\u001b[0;34m\u001b[0m\u001b[0m\n\u001b[1;32m     98\u001b[0m             \u001b[0mflags\u001b[0m \u001b[0;34m|=\u001b[0m \u001b[0mh5f\u001b[0m\u001b[0;34m.\u001b[0m\u001b[0mACC_SWMR_READ\u001b[0m\u001b[0;34m\u001b[0m\u001b[0m\n\u001b[0;32m---> 99\u001b[0;31m         \u001b[0mfid\u001b[0m \u001b[0;34m=\u001b[0m \u001b[0mh5f\u001b[0m\u001b[0;34m.\u001b[0m\u001b[0mopen\u001b[0m\u001b[0;34m(\u001b[0m\u001b[0mname\u001b[0m\u001b[0;34m,\u001b[0m \u001b[0mflags\u001b[0m\u001b[0;34m,\u001b[0m \u001b[0mfapl\u001b[0m\u001b[0;34m=\u001b[0m\u001b[0mfapl\u001b[0m\u001b[0;34m)\u001b[0m\u001b[0;34m\u001b[0m\u001b[0m\n\u001b[0m\u001b[1;32m    100\u001b[0m     \u001b[0;32melif\u001b[0m \u001b[0mmode\u001b[0m \u001b[0;34m==\u001b[0m \u001b[0;34m'r+'\u001b[0m\u001b[0;34m:\u001b[0m\u001b[0;34m\u001b[0m\u001b[0m\n\u001b[1;32m    101\u001b[0m         \u001b[0mfid\u001b[0m \u001b[0;34m=\u001b[0m \u001b[0mh5f\u001b[0m\u001b[0;34m.\u001b[0m\u001b[0mopen\u001b[0m\u001b[0;34m(\u001b[0m\u001b[0mname\u001b[0m\u001b[0;34m,\u001b[0m \u001b[0mh5f\u001b[0m\u001b[0;34m.\u001b[0m\u001b[0mACC_RDWR\u001b[0m\u001b[0;34m,\u001b[0m \u001b[0mfapl\u001b[0m\u001b[0;34m=\u001b[0m\u001b[0mfapl\u001b[0m\u001b[0;34m)\u001b[0m\u001b[0;34m\u001b[0m\u001b[0m\n",
      "\u001b[0;32mh5py/_objects.pyx\u001b[0m in \u001b[0;36mh5py._objects.with_phil.wrapper\u001b[0;34m()\u001b[0m\n",
      "\u001b[0;32mh5py/_objects.pyx\u001b[0m in \u001b[0;36mh5py._objects.with_phil.wrapper\u001b[0;34m()\u001b[0m\n",
      "\u001b[0;32mh5py/h5f.pyx\u001b[0m in \u001b[0;36mh5py.h5f.open\u001b[0;34m()\u001b[0m\n",
      "\u001b[0;31mOSError\u001b[0m: Unable to open file (unable to open file: name = 'bodes_sangre_LSTM_deep_dropout_04_2_1_epochs.hdf5', errno = 2, error message = 'No such file or directory', flags = 0, o_flags = 0)"
     ]
    }
   ],
   "source": [
    "#bodes_sangre_LSTM_deep_dropout_04_2_1_epochs\n",
    "model.load_weights('bodes_sangre_LSTM_deep_dropout_04_2_1_epochs.hdf5')"
   ]
  },
  {
   "cell_type": "code",
   "execution_count": null,
   "metadata": {
    "collapsed": true
   },
   "outputs": [],
   "source": [
    "window_size = 100\n",
    "initial_char = 16\n",
    "initial_text = text_validation[initial_char:window_size+initial_char]\n",
    "\n",
    "N = 2000\n",
    "X_text_str = initial_text\n",
    "print(initial_text)\n",
    "print('---------------------------------------------------')\n",
    "print()\n",
    "for i in range(N):\n",
    "    X_test = chars_to_one_hot(X_text_str[i:], chars, chars_to_indices, window_size)\n",
    "    probs = model.predict(X_test)\n",
    "    my_sample=sample(probs[0], 0.5)\n",
    "    new_char = indices_to_chars[my_sample]\n",
    "    X_text_str = X_text_str + new_char\n",
    "print(X_text_str)"
   ]
  }
 ],
 "metadata": {
  "kernelspec": {
   "display_name": "Python 3",
   "language": "python",
   "name": "python3"
  },
  "language_info": {
   "codemirror_mode": {
    "name": "ipython",
    "version": 3
   },
   "file_extension": ".py",
   "mimetype": "text/x-python",
   "name": "python",
   "nbconvert_exporter": "python",
   "pygments_lexer": "ipython3",
   "version": "3.6.2"
  },
  "toc": {
   "nav_menu": {},
   "number_sections": true,
   "sideBar": true,
   "skip_h1_title": true,
   "toc_cell": false,
   "toc_position": {},
   "toc_section_display": "block",
   "toc_window_display": false
  }
 },
 "nbformat": 4,
 "nbformat_minor": 2
}
