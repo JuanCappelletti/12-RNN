{
  "nbformat": 4,
  "nbformat_minor": 0,
  "metadata": {
    "kernelspec": {
      "name": "python3",
      "display_name": "Python 3"
    },
    "language_info": {
      "codemirror_mode": {
        "name": "ipython",
        "version": 3
      },
      "file_extension": ".py",
      "mimetype": "text/x-python",
      "name": "python",
      "nbconvert_exporter": "python",
      "pygments_lexer": "ipython3",
      "version": "3.6.6"
    },
    "toc": {
      "nav_menu": {},
      "number_sections": true,
      "sideBar": true,
      "skip_h1_title": true,
      "toc_cell": false,
      "toc_position": {},
      "toc_section_display": "block",
      "toc_window_display": false
    },
    "colab": {
      "name": "1-obras-de-teatro-many-2-one.ipynb",
      "provenance": []
    },
    "accelerator": "GPU"
  },
  "cells": [
    {
      "cell_type": "code",
      "metadata": {
        "id": "IiCs0mLBY8Ot",
        "colab_type": "code",
        "colab": {}
      },
      "source": [
        "%load_ext autoreload\n",
        "%autoreload 2"
      ],
      "execution_count": 0,
      "outputs": []
    },
    {
      "cell_type": "code",
      "metadata": {
        "id": "GpQyVgxcZANl",
        "colab_type": "code",
        "colab": {
          "base_uri": "https://localhost:8080/",
          "height": 204
        },
        "outputId": "9cd0b8a6-2655-40f7-80ad-0584a5ad2560"
      },
      "source": [
        "! wget https://raw.githubusercontent.com/deeplearning-itba/12-RNN/master/RNN_utils.py"
      ],
      "execution_count": 2,
      "outputs": [
        {
          "output_type": "stream",
          "text": [
            "--2019-11-07 21:42:07--  https://raw.githubusercontent.com/deeplearning-itba/12-RNN/master/RNN_utils.py\n",
            "Resolving raw.githubusercontent.com (raw.githubusercontent.com)... 151.101.0.133, 151.101.64.133, 151.101.128.133, ...\n",
            "Connecting to raw.githubusercontent.com (raw.githubusercontent.com)|151.101.0.133|:443... connected.\n",
            "HTTP request sent, awaiting response... 200 OK\n",
            "Length: 3974 (3.9K) [text/plain]\n",
            "Saving to: ‘RNN_utils.py.1’\n",
            "\n",
            "\rRNN_utils.py.1        0%[                    ]       0  --.-KB/s               \rRNN_utils.py.1      100%[===================>]   3.88K  --.-KB/s    in 0s      \n",
            "\n",
            "2019-11-07 21:42:08 (108 MB/s) - ‘RNN_utils.py.1’ saved [3974/3974]\n",
            "\n"
          ],
          "name": "stdout"
        }
      ]
    },
    {
      "cell_type": "code",
      "metadata": {
        "id": "w02j7HVVZR5_",
        "colab_type": "code",
        "colab": {
          "base_uri": "https://localhost:8080/",
          "height": 204
        },
        "outputId": "320a4ed9-480b-46b6-8286-1803c5a7e491"
      },
      "source": [
        "! wget https://raw.githubusercontent.com/deeplearning-itba/12-RNN/master/federico-garcia-lorca/bodas_de_sangre.txt"
      ],
      "execution_count": 3,
      "outputs": [
        {
          "output_type": "stream",
          "text": [
            "--2019-11-07 21:42:13--  https://raw.githubusercontent.com/deeplearning-itba/12-RNN/master/federico-garcia-lorca/bodas_de_sangre.txt\n",
            "Resolving raw.githubusercontent.com (raw.githubusercontent.com)... 151.101.0.133, 151.101.64.133, 151.101.128.133, ...\n",
            "Connecting to raw.githubusercontent.com (raw.githubusercontent.com)|151.101.0.133|:443... connected.\n",
            "HTTP request sent, awaiting response... 200 OK\n",
            "Length: 69219 (68K) [text/plain]\n",
            "Saving to: ‘bodas_de_sangre.txt.1’\n",
            "\n",
            "\rbodas_de_sangre.txt   0%[                    ]       0  --.-KB/s               \rbodas_de_sangre.txt 100%[===================>]  67.60K  --.-KB/s    in 0.01s   \n",
            "\n",
            "2019-11-07 21:42:13 (6.68 MB/s) - ‘bodas_de_sangre.txt.1’ saved [69219/69219]\n",
            "\n"
          ],
          "name": "stdout"
        }
      ]
    },
    {
      "cell_type": "code",
      "metadata": {
        "id": "B7sq0BryY8O2",
        "colab_type": "code",
        "colab": {
          "base_uri": "https://localhost:8080/",
          "height": 80
        },
        "outputId": "4c341db0-0c54-4154-a168-41b0a5a5a0ae"
      },
      "source": [
        "from RNN_utils import window_transform_text, encode_io_pairs, get_deep_rnn"
      ],
      "execution_count": 4,
      "outputs": [
        {
          "output_type": "stream",
          "text": [
            "Using TensorFlow backend.\n"
          ],
          "name": "stderr"
        },
        {
          "output_type": "display_data",
          "data": {
            "text/html": [
              "<p style=\"color: red;\">\n",
              "The default version of TensorFlow in Colab will soon switch to TensorFlow 2.x.<br>\n",
              "We recommend you <a href=\"https://www.tensorflow.org/guide/migrate\" target=\"_blank\">upgrade</a> now \n",
              "or ensure your notebook will continue to use TensorFlow 1.x via the <code>%tensorflow_version 1.x</code> magic:\n",
              "<a href=\"https://colab.research.google.com/notebooks/tensorflow_version.ipynb\" target=\"_blank\">more info</a>.</p>\n"
            ],
            "text/plain": [
              "<IPython.core.display.HTML object>"
            ]
          },
          "metadata": {
            "tags": []
          }
        }
      ]
    },
    {
      "cell_type": "markdown",
      "metadata": {
        "id": "9CusAFMMY8O4",
        "colab_type": "text"
      },
      "source": [
        "# Abro archivo de texto con obra e imporimo los primeros 1000 caracteres"
      ]
    },
    {
      "cell_type": "code",
      "metadata": {
        "id": "ACghLHUEY8O5",
        "colab_type": "code",
        "colab": {
          "base_uri": "https://localhost:8080/",
          "height": 1000
        },
        "outputId": "88bb7de8-59bd-469d-b049-96efdf98037e"
      },
      "source": [
        "text = open('bodas_de_sangre.txt').read()\n",
        "number_of_chars = len(text)\n",
        "all_chars = sorted(set(text))\n",
        "print('Cantidad de caracteres: ' + str(number_of_chars))\n",
        "print('Cantidad de caracteres unicos: ' + str(len(all_chars)))\n",
        "print(all_chars)\n",
        "print('------------------------------------------------------')\n",
        "print(text[:1000])"
      ],
      "execution_count": 5,
      "outputs": [
        {
          "output_type": "stream",
          "text": [
            "Cantidad de caracteres: 67561\n",
            "Cantidad de caracteres unicos: 71\n",
            "['\\n', ' ', '!', '(', ')', ',', '.', '1', '2', '3', '9', ':', ';', '?', 'A', 'B', 'C', 'D', 'E', 'F', 'G', 'H', 'I', 'J', 'L', 'M', 'N', 'O', 'P', 'Q', 'R', 'S', 'T', 'U', 'V', 'Y', 'Z', 'a', 'b', 'c', 'd', 'e', 'f', 'g', 'h', 'i', 'j', 'l', 'm', 'n', 'o', 'p', 'q', 'r', 's', 't', 'u', 'v', 'x', 'y', 'z', '¡', '¿', 'É', 'Ñ', 'á', 'é', 'í', 'ñ', 'ó', 'ú']\n",
            "------------------------------------------------------\n",
            "BODAS DE SANGRE(1933)\n",
            "\n",
            "Poema trágico en tres actos y siete cuadros\n",
            "\n",
            "Personajes\n",
            " \n",
            "Madre\n",
            "Criada\n",
            "Leonardo\n",
            "Mozos\n",
            "Novia\n",
            "Vecina\n",
            "Novio\n",
            "Leñadores\n",
            "Suegra\n",
            "Muchachas\n",
            "Padre de la novia\n",
            "Mozos\n",
            "Mujer de Leonardo\n",
            "Luna\n",
            "Muerte (como mendiga)\n",
            "\n",
            "Acto primero\n",
            "\n",
            "CUADRO PRIMERO\n",
            "\n",
            "Habitación pintada de amarillo.\n",
            "\n",
            "NOVIO: (Entrando) Madre.\n",
            "\n",
            "MADRE: ¿Que?\n",
            "\n",
            "NOVIO:Me voy.\n",
            "\n",
            "MADRE: ¿Adónde?\n",
            "\n",
            "NOVIO:A la viña. (Va a salir)\n",
            "\n",
            "MADRE: Espera.\n",
            "\n",
            "NOVIO:¿Quieres algo?\n",
            "\n",
            "MADRE: Hijo, el almuerzo.\n",
            "\n",
            "NOVIO: Déjalo. Comeré uvas. Dame la navaja.\n",
            "\n",
            "MADRE: ¿Para qué?\n",
            "\n",
            "NOVIO: (Riendo) Para cortarlas.\n",
            "\n",
            "MADRE: (Entre dientes y buscándola) La navaja, la navaja... Malditas sean todas y el bribón que las inventó.\n",
            "\n",
            "NOVIO: Vamos a otro asunto.\n",
            "\n",
            "MADRE: Y las escopetas, y las pistolas, y el cuchillo más pequeño, y hasta las azadas y los bieldos de la era.\n",
            "\n",
            "NOVIO: Bueno.\n",
            "\n",
            "MADRE: Todo lo que puede cortar el cuerpo de un hombre. Un hombre hermoso, con su flor en la boca, que sale a las viñas o va a sus olivos propios, porque son de él, heredados...\n",
            "\n",
            "NO\n"
          ],
          "name": "stdout"
        }
      ]
    },
    {
      "cell_type": "code",
      "metadata": {
        "id": "TAqqoxtmlAZv",
        "colab_type": "code",
        "colab": {
          "base_uri": "https://localhost:8080/",
          "height": 34
        },
        "outputId": "276d8a44-c5ed-4eae-a3c2-ff3b31f7bceb"
      },
      "source": [
        "chars = set(text)\n",
        "len(chars)"
      ],
      "execution_count": 6,
      "outputs": [
        {
          "output_type": "execute_result",
          "data": {
            "text/plain": [
              "71"
            ]
          },
          "metadata": {
            "tags": []
          },
          "execution_count": 6
        }
      ]
    },
    {
      "cell_type": "markdown",
      "metadata": {
        "id": "CZ1RqsBMY8PA",
        "colab_type": "text"
      },
      "source": [
        "# Analisis de la frecuencia de los caracteres"
      ]
    },
    {
      "cell_type": "code",
      "metadata": {
        "id": "Uy5pG9HfY8PB",
        "colab_type": "code",
        "colab": {
          "base_uri": "https://localhost:8080/",
          "height": 1000
        },
        "outputId": "8a08c40c-ffa0-4c90-86e2-74a26b3556cf"
      },
      "source": [
        "from collections import Counter\n",
        "Counter(text).most_common()"
      ],
      "execution_count": 7,
      "outputs": [
        {
          "output_type": "execute_result",
          "data": {
            "text/plain": [
              "[(' ', 10351),\n",
              " ('a', 5847),\n",
              " ('e', 5543),\n",
              " ('o', 4129),\n",
              " ('s', 3118),\n",
              " ('r', 2911),\n",
              " ('n', 2891),\n",
              " ('l', 2523),\n",
              " ('\\n', 2423),\n",
              " ('i', 1991),\n",
              " ('u', 1984),\n",
              " ('d', 1874),\n",
              " ('t', 1623),\n",
              " ('c', 1391),\n",
              " ('.', 1369),\n",
              " ('m', 1266),\n",
              " ('A', 1033),\n",
              " (':', 888),\n",
              " ('p', 832),\n",
              " ('E', 692),\n",
              " ('O', 624),\n",
              " ('b', 599),\n",
              " ('v', 585),\n",
              " ('q', 583),\n",
              " ('D', 545),\n",
              " ('N', 539),\n",
              " ('y', 536),\n",
              " ('h', 524),\n",
              " ('R', 515),\n",
              " ('g', 498),\n",
              " (',', 465),\n",
              " ('I', 399),\n",
              " ('M', 398),\n",
              " ('V', 366),\n",
              " ('C', 351),\n",
              " ('(', 329),\n",
              " (')', 329),\n",
              " ('j', 328),\n",
              " ('L', 308),\n",
              " ('!', 282),\n",
              " ('¡', 280),\n",
              " ('í', 275),\n",
              " ('á', 252),\n",
              " ('é', 249),\n",
              " ('?', 237),\n",
              " ('¿', 235),\n",
              " ('S', 226),\n",
              " ('P', 226),\n",
              " ('U', 193),\n",
              " ('z', 186),\n",
              " ('f', 172),\n",
              " ('H', 158),\n",
              " ('ñ', 136),\n",
              " ('Q', 125),\n",
              " ('Y', 123),\n",
              " ('ó', 111),\n",
              " ('T', 109),\n",
              " ('G', 68),\n",
              " ('J', 66),\n",
              " ('1', 63),\n",
              " ('Ñ', 58),\n",
              " ('ú', 57),\n",
              " (';', 39),\n",
              " ('2', 36),\n",
              " ('B', 21),\n",
              " ('Z', 21),\n",
              " ('3', 20),\n",
              " ('F', 20),\n",
              " ('x', 11),\n",
              " ('É', 5),\n",
              " ('9', 1)]"
            ]
          },
          "metadata": {
            "tags": []
          },
          "execution_count": 7
        }
      ]
    },
    {
      "cell_type": "markdown",
      "metadata": {
        "id": "ZfECJneKY8PE",
        "colab_type": "text"
      },
      "source": [
        "# Veo ejemplos en train de como queda Entrada / Salida"
      ]
    },
    {
      "cell_type": "code",
      "metadata": {
        "id": "flyGWPYbfkBA",
        "colab_type": "code",
        "colab": {}
      },
      "source": [
        "import numpy as np"
      ],
      "execution_count": 0,
      "outputs": []
    },
    {
      "cell_type": "code",
      "metadata": {
        "id": "DhtIRtPaaK5h",
        "colab_type": "code",
        "colab": {}
      },
      "source": [
        "def create_dataset(text, window = 100):\n",
        "  inputs = []\n",
        "  outputs = []\n",
        "  \n",
        "  for i in range(len(text)-window):\n",
        "    inputs.append(text[i:i+window])\n",
        "    outputs.append(text[i+1:i+window+1])\n",
        "  return inputs, outputs"
      ],
      "execution_count": 0,
      "outputs": []
    },
    {
      "cell_type": "code",
      "metadata": {
        "id": "cruk1Gh6c4A0",
        "colab_type": "code",
        "colab": {}
      },
      "source": [
        "def encode_text(inputs,chars, window_size):\n",
        "    num_chars = len(chars)\n",
        "    chars_to_indices = dict((c, i) for i, c in enumerate(chars))\n",
        "    # cut up text into character input/output pairs\n",
        "    \n",
        "    # create empty vessels for one-hot encoded input/output\n",
        "    X = np.zeros((len(inputs), window_size, num_chars), dtype=np.bool)\n",
        "    \n",
        "    # loop over inputs/outputs and tranform and store in X/y\n",
        "    for i, sentence in enumerate(inputs):\n",
        "        for t, char in enumerate(sentence):\n",
        "            if char not in chars_to_indices:\n",
        "                char = ' '\n",
        "            X[i, t, chars_to_indices[char]] = 1\n",
        "    return X"
      ],
      "execution_count": 0,
      "outputs": []
    },
    {
      "cell_type": "code",
      "metadata": {
        "id": "oUY4YJaJlbeN",
        "colab_type": "code",
        "colab": {}
      },
      "source": [
        "window_size = 100\n",
        "X_, y_ = create_dataset(text, window_size)\n",
        "X = encode_text(X_, chars, window_size)\n",
        "y = encode_text(y_, chars, window_size)"
      ],
      "execution_count": 0,
      "outputs": []
    },
    {
      "cell_type": "code",
      "metadata": {
        "id": "zDPXvtijaBLi",
        "colab_type": "code",
        "colab": {
          "base_uri": "https://localhost:8080/",
          "height": 221
        },
        "outputId": "7205206a-96e8-48fa-97ea-8e5f271c9bf5"
      },
      "source": [
        "print('ENTRADA:')\n",
        "print(X_[-1])\n",
        "print('----------------')\n",
        "print('SALIDA:')\n",
        "print(y_[-1])\n",
        "print('----------------')"
      ],
      "execution_count": 14,
      "outputs": [
        {
          "output_type": "stream",
          "text": [
            "ENTRADA:\n",
            "o\n",
            "donde tiembla enmarañada\n",
            "la oscura raíz del grito.\n",
            "(Las vecinas, arrodilladas en el suelo, lloran.\n",
            "----------------\n",
            "SALIDA:\n",
            "\n",
            "donde tiembla enmarañada\n",
            "la oscura raíz del grito.\n",
            "(Las vecinas, arrodilladas en el suelo, lloran.)\n",
            "----------------\n"
          ],
          "name": "stdout"
        }
      ]
    },
    {
      "cell_type": "code",
      "metadata": {
        "id": "Wc8YZSWslhNE",
        "colab_type": "code",
        "colab": {
          "base_uri": "https://localhost:8080/",
          "height": 34
        },
        "outputId": "2f3b0163-43af-4c2e-eb0a-16d40cfd16da"
      },
      "source": [
        "X.shape, y.shape"
      ],
      "execution_count": 15,
      "outputs": [
        {
          "output_type": "execute_result",
          "data": {
            "text/plain": [
              "((67461, 100, 71), (67461, 100, 71))"
            ]
          },
          "metadata": {
            "tags": []
          },
          "execution_count": 15
        }
      ]
    },
    {
      "cell_type": "code",
      "metadata": {
        "id": "NEoDXzyCmLVU",
        "colab_type": "code",
        "colab": {}
      },
      "source": [
        "from sklearn.model_selection import train_test_split\n",
        "X_train, X_validation, y_train, y_validation = train_test_split(X, y, test_size=0.2, shuffle=False)\n",
        "\n",
        "## Por que shuffle va en TRUE?? ##"
      ],
      "execution_count": 0,
      "outputs": []
    },
    {
      "cell_type": "code",
      "metadata": {
        "id": "7rOWhrqtY8PH",
        "colab_type": "code",
        "colab": {
          "base_uri": "https://localhost:8080/",
          "height": 54
        },
        "outputId": "7ab02857-4ba3-4387-eb47-04b1cccbb029"
      },
      "source": [
        "chars_to_indices = dict((c, i) for i, c in enumerate(chars))\n",
        "indices_to_chars = dict((i, c) for i, c in enumerate(chars))\n",
        "print(chars_to_indices)"
      ],
      "execution_count": 17,
      "outputs": [
        {
          "output_type": "stream",
          "text": [
            "{'9': 0, 'a': 1, 'M': 2, 'C': 3, 'j': 4, 'O': 5, 'd': 6, '¡': 7, 'ñ': 8, 'b': 9, 'r': 10, ' ': 11, 'L': 12, 'D': 13, 'm': 14, 'u': 15, 'ú': 16, '\\n': 17, 'g': 18, 'c': 19, '(': 20, 'á': 21, ':': 22, 'F': 23, '!': 24, 't': 25, 'Y': 26, 'P': 27, 'J': 28, ')': 29, '1': 30, 'p': 31, 'S': 32, 'z': 33, 'l': 34, 'Z': 35, 'T': 36, ',': 37, 'o': 38, 'U': 39, 'Q': 40, 'G': 41, 'N': 42, '.': 43, 'y': 44, '?': 45, 'n': 46, 'í': 47, 'H': 48, '2': 49, 'V': 50, 'h': 51, 'x': 52, 'Ñ': 53, '3': 54, 'I': 55, 'f': 56, ';': 57, 'v': 58, 'R': 59, 'e': 60, 'É': 61, 'E': 62, 'B': 63, 'i': 64, 'é': 65, 's': 66, '¿': 67, 'A': 68, 'ó': 69, 'q': 70}\n"
          ],
          "name": "stdout"
        }
      ]
    },
    {
      "cell_type": "code",
      "metadata": {
        "id": "VyLqXsASY8PQ",
        "colab_type": "code",
        "colab": {
          "base_uri": "https://localhost:8080/",
          "height": 85
        },
        "outputId": "6c47d40e-3181-4487-e0f4-3a4a5739030b"
      },
      "source": [
        "X_train[0,0]*1"
      ],
      "execution_count": 18,
      "outputs": [
        {
          "output_type": "execute_result",
          "data": {
            "text/plain": [
              "array([0, 0, 0, 0, 0, 0, 0, 0, 0, 0, 0, 0, 0, 0, 0, 0, 0, 0, 0, 0, 0, 0,\n",
              "       0, 0, 0, 0, 0, 0, 0, 0, 0, 0, 0, 0, 0, 0, 0, 0, 0, 0, 0, 0, 0, 0,\n",
              "       0, 0, 0, 0, 0, 0, 0, 0, 0, 0, 0, 0, 0, 0, 0, 0, 0, 0, 0, 1, 0, 0,\n",
              "       0, 0, 0, 0, 0])"
            ]
          },
          "metadata": {
            "tags": []
          },
          "execution_count": 18
        }
      ]
    },
    {
      "cell_type": "markdown",
      "metadata": {
        "id": "tjUcf9P-Y8PS",
        "colab_type": "text"
      },
      "source": [
        "# Defino modelo"
      ]
    },
    {
      "cell_type": "code",
      "metadata": {
        "id": "vRjoweyHY8PT",
        "colab_type": "code",
        "colab": {}
      },
      "source": [
        "from keras.models import Sequential\n",
        "from keras.layers import Dense, Activation, LSTM, Dropout, SimpleRNN \n",
        "from keras.optimizers import RMSprop\n",
        "from keras.utils.data_utils import get_file\n",
        "from keras.callbacks import ModelCheckpoint \n",
        "import keras\n",
        "import random"
      ],
      "execution_count": 0,
      "outputs": []
    },
    {
      "cell_type": "code",
      "metadata": {
        "id": "Ai1zPUawV4-a",
        "colab_type": "code",
        "colab": {}
      },
      "source": [
        "def get_model(dropout_p = 0.1, output = len(chars), input_shape = X_train.shape[1:], LSTM_units=200):\n",
        "  model = Sequential()\n",
        "  # Completar, usar dropout \n",
        "  model.add(SimpleRNN( ,dropout=dropout_p))\n",
        "  model.add(Dense(, activation=''))\n",
        "  model.compile(loss='', optimizer='rmsprop')\n",
        "  return model"
      ],
      "execution_count": 0,
      "outputs": []
    },
    {
      "cell_type": "code",
      "metadata": {
        "id": "oRfgyHOweNHr",
        "colab_type": "code",
        "colab": {
          "base_uri": "https://localhost:8080/",
          "height": 122
        },
        "outputId": "713d8410-cafe-4898-cb4d-83a2ce7330b6"
      },
      "source": [
        "model = get_model()"
      ],
      "execution_count": 109,
      "outputs": [
        {
          "output_type": "stream",
          "text": [
            "WARNING:tensorflow:From /usr/local/lib/python3.6/dist-packages/keras/backend/tensorflow_backend.py:148: The name tf.placeholder_with_default is deprecated. Please use tf.compat.v1.placeholder_with_default instead.\n",
            "\n",
            "WARNING:tensorflow:From /usr/local/lib/python3.6/dist-packages/keras/backend/tensorflow_backend.py:3733: calling dropout (from tensorflow.python.ops.nn_ops) with keep_prob is deprecated and will be removed in a future version.\n",
            "Instructions for updating:\n",
            "Please use `rate` instead of `keep_prob`. Rate should be set to `rate = 1 - keep_prob`.\n"
          ],
          "name": "stdout"
        }
      ]
    },
    {
      "cell_type": "code",
      "metadata": {
        "id": "6zrSwxKfe2Ng",
        "colab_type": "code",
        "colab": {
          "base_uri": "https://localhost:8080/",
          "height": 221
        },
        "outputId": "910b8c41-9b74-48d1-d5a2-a5e68f37bc81"
      },
      "source": [
        "model.summary()"
      ],
      "execution_count": 110,
      "outputs": [
        {
          "output_type": "stream",
          "text": [
            "Model: \"sequential_5\"\n",
            "_________________________________________________________________\n",
            "Layer (type)                 Output Shape              Param #   \n",
            "=================================================================\n",
            "lstm_1 (LSTM)                (None, 100, 200)          217600    \n",
            "_________________________________________________________________\n",
            "dense_5 (Dense)              (None, 100, 71)           14271     \n",
            "=================================================================\n",
            "Total params: 231,871\n",
            "Trainable params: 231,871\n",
            "Non-trainable params: 0\n",
            "_________________________________________________________________\n"
          ],
          "name": "stdout"
        }
      ]
    },
    {
      "cell_type": "markdown",
      "metadata": {
        "id": "AT4OEFheY8PX",
        "colab_type": "text"
      },
      "source": [
        "# Primer modelo lo mas sencillo"
      ]
    },
    {
      "cell_type": "code",
      "metadata": {
        "id": "YFnnAeRlY8PY",
        "colab_type": "code",
        "colab": {
          "base_uri": "https://localhost:8080/",
          "height": 714
        },
        "outputId": "b2eb9996-c00a-4a9c-dc32-efeebd045e00"
      },
      "source": [
        "batch_size = 256\n",
        "checkpointer = ModelCheckpoint(filepath='bodas_sangre_RNN.hdf5', verbose=1, save_best_only=True)\n",
        "history = model.fit(X_train, y_train, batch_size=batch_size, epochs=15, verbose = 1, \n",
        "                    validation_data = (X_validation, y_validation),\n",
        "                    callbacks=[checkpointer])"
      ],
      "execution_count": 111,
      "outputs": [
        {
          "output_type": "stream",
          "text": [
            "Train on 53968 samples, validate on 13493 samples\n",
            "Epoch 1/10\n",
            "53968/53968 [==============================] - 39s 729us/step - loss: 2.9513 - val_loss: 2.4707\n",
            "\n",
            "Epoch 00001: val_loss improved from inf to 2.47072, saving model to bodes_sangre_LSTM_deep_no_dropout.hdf5\n",
            "Epoch 2/10\n",
            "53968/53968 [==============================] - 39s 718us/step - loss: 2.1563 - val_loss: 2.1367\n",
            "\n",
            "Epoch 00002: val_loss improved from 2.47072 to 2.13671, saving model to bodes_sangre_LSTM_deep_no_dropout.hdf5\n",
            "Epoch 3/10\n",
            "53968/53968 [==============================] - 39s 715us/step - loss: 1.8931 - val_loss: 2.0109\n",
            "\n",
            "Epoch 00003: val_loss improved from 2.13671 to 2.01087, saving model to bodes_sangre_LSTM_deep_no_dropout.hdf5\n",
            "Epoch 4/10\n",
            "53968/53968 [==============================] - 38s 711us/step - loss: 1.7375 - val_loss: 1.9185\n",
            "\n",
            "Epoch 00004: val_loss improved from 2.01087 to 1.91852, saving model to bodes_sangre_LSTM_deep_no_dropout.hdf5\n",
            "Epoch 5/10\n",
            "53968/53968 [==============================] - 39s 714us/step - loss: 1.6163 - val_loss: 1.8725\n",
            "\n",
            "Epoch 00005: val_loss improved from 1.91852 to 1.87251, saving model to bodes_sangre_LSTM_deep_no_dropout.hdf5\n",
            "Epoch 6/10\n",
            "53968/53968 [==============================] - 38s 710us/step - loss: 1.5159 - val_loss: 1.8480\n",
            "\n",
            "Epoch 00006: val_loss improved from 1.87251 to 1.84801, saving model to bodes_sangre_LSTM_deep_no_dropout.hdf5\n",
            "Epoch 7/10\n",
            "53968/53968 [==============================] - 39s 714us/step - loss: 1.4252 - val_loss: 1.8393\n",
            "\n",
            "Epoch 00007: val_loss improved from 1.84801 to 1.83928, saving model to bodes_sangre_LSTM_deep_no_dropout.hdf5\n",
            "Epoch 8/10\n",
            "53968/53968 [==============================] - 38s 712us/step - loss: 1.3433 - val_loss: 1.8705\n",
            "\n",
            "Epoch 00008: val_loss did not improve from 1.83928\n",
            "Epoch 9/10\n",
            "53968/53968 [==============================] - 38s 707us/step - loss: 1.2670 - val_loss: 1.8810\n",
            "\n",
            "Epoch 00009: val_loss did not improve from 1.83928\n",
            "Epoch 10/10\n",
            "53968/53968 [==============================] - 38s 713us/step - loss: 1.1983 - val_loss: 1.9178\n",
            "\n",
            "Epoch 00010: val_loss did not improve from 1.83928\n"
          ],
          "name": "stdout"
        }
      ]
    },
    {
      "cell_type": "code",
      "metadata": {
        "id": "Q84bdilwrzBj",
        "colab_type": "code",
        "colab": {}
      },
      "source": [
        "from matplotlib import pyplot as plt"
      ],
      "execution_count": 0,
      "outputs": []
    },
    {
      "cell_type": "code",
      "metadata": {
        "id": "0naLef9kr2Uw",
        "colab_type": "code",
        "colab": {
          "base_uri": "https://localhost:8080/",
          "height": 282
        },
        "outputId": "c3b25252-365b-4132-f9ce-17d65b5eeca1"
      },
      "source": [
        "plt.plot(history.history['loss'])\n",
        "plt.plot(history.history['val_loss'])"
      ],
      "execution_count": 113,
      "outputs": [
        {
          "output_type": "execute_result",
          "data": {
            "text/plain": [
              "[<matplotlib.lines.Line2D at 0x7f3b57dbf2e8>]"
            ]
          },
          "metadata": {
            "tags": []
          },
          "execution_count": 113
        },
        {
          "output_type": "display_data",
          "data": {
            "image/png": "[encoded data removed]",
            "text/plain": [
              "<Figure size 432x288 with 1 Axes>"
            ]
          },
          "metadata": {
            "tags": []
          }
        }
      ]
    },
    {
      "cell_type": "code",
      "metadata": {
        "id": "Var3RyUzY8Pa",
        "colab_type": "code",
        "colab": {}
      },
      "source": [
        "model.save_weights('bodas_sangre_RNN_last_epoch.hdf5')"
      ],
      "execution_count": 0,
      "outputs": []
    },
    {
      "cell_type": "code",
      "metadata": {
        "id": "wsMEN1DxYCim",
        "colab_type": "code",
        "colab": {}
      },
      "source": [
        "model = get_model(input_shape = (None, len(chars)))"
      ],
      "execution_count": 0,
      "outputs": []
    },
    {
      "cell_type": "code",
      "metadata": {
        "id": "scO8sOSVhik4",
        "colab_type": "code",
        "colab": {}
      },
      "source": [
        "model.load_weights('bodas_sangre_RNN.hdf5')\n",
        "# model.load_weights('bodas_sangre_RNN_last_epoch.hdf5')"
      ],
      "execution_count": 0,
      "outputs": []
    },
    {
      "cell_type": "code",
      "metadata": {
        "id": "31JKmbPkixUs",
        "colab_type": "code",
        "colab": {}
      },
      "source": [
        "from RNN_utils import get_deep_rnn, chars_to_one_hot, sample"
      ],
      "execution_count": 0,
      "outputs": []
    },
    {
      "cell_type": "markdown",
      "metadata": {
        "id": "WXlX5aHbgFKo",
        "colab_type": "text"
      },
      "source": [
        "# Greedy search"
      ]
    },
    {
      "cell_type": "code",
      "metadata": {
        "id": "mSoz2Gm6r6Py",
        "colab_type": "code",
        "colab": {
          "base_uri": "https://localhost:8080/",
          "height": 34
        },
        "outputId": "2cf4f5ca-739c-4423-dd48-3eb8e9263cc8"
      },
      "source": [
        "input_text = \"Estaba la novi\"\n",
        "X_test = chars_to_one_hot(input_text, chars, chars_to_indices, len(input_text))\n",
        "predictions = model.predict(X_test)\n",
        "predictions.shape"
      ],
      "execution_count": 209,
      "outputs": [
        {
          "output_type": "execute_result",
          "data": {
            "text/plain": [
              "(1, 14, 71)"
            ]
          },
          "metadata": {
            "tags": []
          },
          "execution_count": 209
        }
      ]
    },
    {
      "cell_type": "code",
      "metadata": {
        "id": "KpOCxemdjsBL",
        "colab_type": "code",
        "colab": {}
      },
      "source": [
        "def get_predictions(input_text, pred_char_n = -1, verbose = True):\n",
        "  # Pasar a one hot enconding\n",
        "  X_test = chars_to_one_hot(input_text, chars, chars_to_indices, len(input_text))\n",
        "  # Predicción con modelo\n",
        "  predictions = \n",
        "  # La distribución de probabilidades de caracteres de la salida pred_char_n\n",
        "  char_prob = \n",
        "  # Indices ordenados de mayor probabilidad a menor\n",
        "  probs_sorted_indexes = np.argsort(char_prob)[::-1] \n",
        "  if verbose:\n",
        "    # Imprime texto original hasta caracter\n",
        "    print(input_text[:pred_char_n+1])\n",
        "    # Imprime tuplas de caracter, probabilidad\n",
        "    print([(indices_to_chars[i], predictions[0][pred_char_n][i]) for i in probs_sorted_indexes[:5]])  \n",
        "  return indices_to_chars[probs_sorted_indexes[0]]"
      ],
      "execution_count": 0,
      "outputs": []
    },
    {
      "cell_type": "code",
      "metadata": {
        "id": "Hh8EIc7S6g7i",
        "colab_type": "code",
        "colab": {
          "base_uri": "https://localhost:8080/",
          "height": 68
        },
        "outputId": "7614409d-b931-496a-e01c-c963c257b42b"
      },
      "source": [
        "input_text = \"Estaba la novi\"\n",
        "# input_text = \"Estaba el novi\"\n",
        "# input_text = \"los caballo\"\n",
        "# input_text = \"el caballo\"\n",
        "get_predictions(input_text, pred_char_n=3)"
      ],
      "execution_count": 206,
      "outputs": [
        {
          "output_type": "stream",
          "text": [
            "Esta\n",
            "[('d', 0.26864138), ('n', 0.22040726), ('r', 0.21492405), ('s', 0.066548645), (' ', 0.062942505)]\n"
          ],
          "name": "stdout"
        },
        {
          "output_type": "execute_result",
          "data": {
            "text/plain": [
              "'d'"
            ]
          },
          "metadata": {
            "tags": []
          },
          "execution_count": 206
        }
      ]
    },
    {
      "cell_type": "code",
      "metadata": {
        "id": "BFEtweD8irdF",
        "colab_type": "code",
        "colab": {
          "base_uri": "https://localhost:8080/",
          "height": 136
        },
        "outputId": "ce7d30c9-c4a9-4cd3-8096-d66a329d3990"
      },
      "source": [
        "t = 'NOVIO'\n",
        "#t = 'NOVIA'\n",
        "for i in range(100):\n",
        "  t = t + get_predictions(t,len(t)-1, verbose=False)\n",
        "  #print(t)\n",
        "print(t)"
      ],
      "execution_count": 123,
      "outputs": [
        {
          "output_type": "stream",
          "text": [
            "NOVIO: ¿Qué tendo?\n",
            "\n",
            "MADRE: No. Quiero entar en los padres.\n",
            "\n",
            "NOVIA: (Al nivio) ¿Qué ester de acera?\n",
            "\n",
            "MADRE\n"
          ],
          "name": "stdout"
        }
      ]
    },
    {
      "cell_type": "markdown",
      "metadata": {
        "id": "IUTbt7cddGtK",
        "colab_type": "text"
      },
      "source": [
        "# Sampling model"
      ]
    },
    {
      "cell_type": "code",
      "metadata": {
        "id": "G_m5wgwJj1-g",
        "colab_type": "code",
        "colab": {}
      },
      "source": [
        "def sample(a, temperature=1.0, epsilon=1e-10):\n",
        "    a = np.log(np.array(a) + epsilon)\n",
        "    a = a*(1/temperature)\n",
        "    sample_temp = np.exp(a)/(np.exp(a).sum() + epsilon)\n",
        "    if sample_temp.sum() == 0:\n",
        "      return np.argmax(a)\n",
        "    else:\n",
        "      sample_temp = sample_temp/sample_temp.sum()\n",
        "    # sample_temp contiene la nueva distribución luego de modificar la temperatura\n",
        "    choices = range(len(a)) \n",
        "    # Elejir un caracter en función de la distribución sample_temp\n",
        "    sampled_output = \n",
        "    return sampled_output"
      ],
      "execution_count": 0,
      "outputs": []
    },
    {
      "cell_type": "code",
      "metadata": {
        "id": "vzZSRqfvY51K",
        "colab_type": "code",
        "colab": {}
      },
      "source": [
        "def sample_model(input_text, model=model, chars=chars, chars_to_indices=chars_to_indices, t=1.0):\n",
        "  X_test = chars_to_one_hot(input_text, chars, chars_to_indices, len(input_text))\n",
        "  # Predicción con modelo\n",
        "  p = \n",
        "  # Sampleo de distribución p\n",
        "  sampled_dist = \n",
        "  return indices_to_chars[sampled_dist]"
      ],
      "execution_count": 0,
      "outputs": []
    },
    {
      "cell_type": "code",
      "metadata": {
        "id": "HiP8JOkdZQLU",
        "colab_type": "code",
        "colab": {
          "base_uri": "https://localhost:8080/",
          "height": 54
        },
        "outputId": "7943e4f5-b7ef-4dac-9e86-256e204eef3b"
      },
      "source": [
        "input_text = 'Estaba el novi'\n",
        "for i in range(100):\n",
        "  print(sample_model(input_text, t=1), end=' ')"
      ],
      "execution_count": 199,
      "outputs": [
        {
          "output_type": "stream",
          "text": [
            "o o a o e o o o o o o o o o o e o a o o o o o o o o o a o a o o a o o o o o o o o o o o a a o l o o o o o l o a a a o o o o a o o o o o a o a o o o o o o a o a o o o o o o o a o a o o a o o o e a o o "
          ],
          "name": "stdout"
        }
      ]
    },
    {
      "cell_type": "code",
      "metadata": {
        "id": "EN2XYyBK87ne",
        "colab_type": "code",
        "colab": {
          "base_uri": "https://localhost:8080/",
          "height": 68
        },
        "outputId": "2bdc5501-b2f8-489f-f774-6326089cae1f"
      },
      "source": [
        "t = 'NOVIO'\n",
        "t = 'NOVIA'\n",
        "for i in range(100):\n",
        "  t = t + sample_model(t, t=2)\n",
        "  # print(t)\n",
        "print(t)"
      ],
      "execution_count": 204,
      "outputs": [
        {
          "output_type": "stream",
          "text": [
            "NOVIA: (ate dete cal, enondollóflomo táy midé?\n",
            " y. Díaso con deolsan: und ledarsocnedrsáebumaceo.\n",
            "¿Pay fi\n"
          ],
          "name": "stdout"
        }
      ]
    },
    {
      "cell_type": "code",
      "metadata": {
        "id": "_4JFu1CNcz9m",
        "colab_type": "code",
        "colab": {}
      },
      "source": [
        ""
      ],
      "execution_count": 0,
      "outputs": []
    }
  ]
}