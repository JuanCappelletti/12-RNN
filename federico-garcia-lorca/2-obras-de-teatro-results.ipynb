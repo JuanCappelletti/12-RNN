{
 "cells": [
  {
   "cell_type": "code",
   "execution_count": 1,
   "metadata": {},
   "outputs": [],
   "source": [
    "%load_ext autoreload\n",
    "%autoreload 2"
   ]
  },
  {
   "cell_type": "code",
   "execution_count": 2,
   "metadata": {},
   "outputs": [],
   "source": [
    "import sys \n",
    "sys.path.append(\"../\")"
   ]
  },
  {
   "cell_type": "code",
   "execution_count": 3,
   "metadata": {},
   "outputs": [],
   "source": [
    "from RNN_utils import get_deep_rnn, chars_to_one_hot, sample\n",
    "import numpy as np"
   ]
  },
  {
   "cell_type": "code",
   "execution_count": 4,
   "metadata": {},
   "outputs": [
    {
     "name": "stdout",
     "output_type": "stream",
     "text": [
      "input shape =  (100, 69)\n",
      "Model: \"sequential\"\n",
      "_________________________________________________________________\n",
      "Layer (type)                 Output Shape              Param #   \n",
      "=================================================================\n",
      "lstm_1 (LSTM)                (1, 100, 200)             216000    \n",
      "_________________________________________________________________\n",
      "lstm_2 (LSTM)                (1, 200)                  320800    \n",
      "_________________________________________________________________\n",
      "dense (Dense)                (1, 69)                   13869     \n",
      "=================================================================\n",
      "Total params: 550,669\n",
      "Trainable params: 550,669\n",
      "Non-trainable params: 0\n",
      "_________________________________________________________________\n"
     ]
    }
   ],
   "source": [
    "model=get_deep_rnn((100, 69), dense_units=69, stateful=True)"
   ]
  },
  {
   "cell_type": "markdown",
   "metadata": {},
   "source": [
    "## Cuanto vale T y cuanto vale D?"
   ]
  },
  {
   "cell_type": "code",
   "execution_count": 5,
   "metadata": {},
   "outputs": [
    {
     "data": {
      "text/plain": [
       "(1, 100, 69)"
      ]
     },
     "execution_count": 5,
     "metadata": {},
     "output_type": "execute_result"
    }
   ],
   "source": [
    "layer1 = model.get_layer('lstm_1')\n",
    "layer1.get_config()['batch_input_shape']"
   ]
  },
  {
   "cell_type": "code",
   "execution_count": 6,
   "metadata": {},
   "outputs": [],
   "source": [
    "chars = np.load('training_chars.npy')\n",
    "chars_to_indices = dict((c, i) for i, c in enumerate(chars))\n",
    "indices_to_chars = dict((i, c) for i, c in enumerate(chars))"
   ]
  },
  {
   "cell_type": "code",
   "execution_count": 7,
   "metadata": {},
   "outputs": [],
   "source": [
    "window = 100"
   ]
  },
  {
   "cell_type": "code",
   "execution_count": 9,
   "metadata": {},
   "outputs": [],
   "source": [
    "# model.load_weights('bodes_sangre_LSTM_deep_dropout_04.hdf5')\n",
    "model.load_weights('bodes_sangre_LSTM_deep_dropout_05.hdf5')"
   ]
  },
  {
   "cell_type": "code",
   "execution_count": 10,
   "metadata": {},
   "outputs": [],
   "source": [
    "def predict_phrase(model, initial_seed, window = 100, verbose=True, sample_type = 'greedy'):\n",
    "    # El numeral no esta en el diccionario por lo que lo pasa a todos ceros en el one-hot\n",
    "    initial_seed=initial_seed[-window:]\n",
    "    initial_text = '#'*(window-len(initial_seed))+initial_seed # Padding\n",
    "    X_test = chars_to_one_hot(initial_seed, chars, chars_to_indices, 100)\n",
    "    probs = model.predict(X_test)\n",
    "    probs_sorted_indexes = np.argsort(probs)[0][::-1]\n",
    "    if verbose:\n",
    "        print([(indices_to_chars[i], probs[0][i]) for i in probs_sorted_indexes[:5]])\n",
    "    return probs[0]"
   ]
  },
  {
   "cell_type": "code",
   "execution_count": 11,
   "metadata": {},
   "outputs": [],
   "source": [
    "def sample_probs(probs, sample_type='greedy', temp=1):\n",
    "    if (sample_type=='greedy'):\n",
    "        return np.argmax(probs)\n",
    "    if (sample_type=='simple'):\n",
    "        return sample(probs, temp, verbose=False, return_dist=True)"
   ]
  },
  {
   "cell_type": "markdown",
   "metadata": {},
   "source": [
    "## Distribución de probabilidades para:\n",
    "#### \"Estaba el novi\""
   ]
  },
  {
   "cell_type": "code",
   "execution_count": 48,
   "metadata": {},
   "outputs": [
    {
     "name": "stdout",
     "output_type": "stream",
     "text": [
      "[('o', 0.94839877), ('a', 0.040401522), ('e', 0.004838877), ('l', 0.0019398334), ('t', 0.0013715479)]\n"
     ]
    }
   ],
   "source": [
    "phrase = \"Estaba el novi\"\n",
    "probs = predict_phrase(model, phrase)"
   ]
  },
  {
   "cell_type": "code",
   "execution_count": 49,
   "metadata": {},
   "outputs": [
    {
     "data": {
      "text/plain": [
       "'o'"
      ]
     },
     "execution_count": 49,
     "metadata": {},
     "output_type": "execute_result"
    }
   ],
   "source": [
    "indices_to_chars[sample_probs(probs, sample_type='greedy')]"
   ]
  },
  {
   "cell_type": "code",
   "execution_count": 56,
   "metadata": {},
   "outputs": [
    {
     "name": "stdout",
     "output_type": "stream",
     "text": [
      "Estaba el novi\n",
      "Temperatura: 10\n",
      "Prob dist: [(0.049700554, 'o'), (0.03624949, 'a'), (0.029318152, 'e'), (0.02675707, 'l'), (0.0258454, 't')]\n",
      "sample: ['d', 'v', 'a', 'I', 'v', 'u', 'O', 'a', ' ', '(', 'h', 'p', 'o', 'd', '(', 'é', ':', 't', 'n', 'é']\n"
     ]
    }
   ],
   "source": [
    "temp = 10\n",
    "print(phrase)\n",
    "print('Temperatura:', temp)\n",
    "index, dist = sample(probs, temp, verbose=False, return_dist=True)\n",
    "sorted_idxs = np.argsort(dist)[::-1]\n",
    "print('Prob dist:', list(zip(dist[sorted_idxs][:5], chars[sorted_idxs][:5])))\n",
    "samples = []\n",
    "for i in range(20):\n",
    "    index, dist = sample_probs(probs, sample_type='simple', temp=temp)\n",
    "    samples.append(indices_to_chars[index])\n",
    "print('sample:', samples)"
   ]
  },
  {
   "cell_type": "markdown",
   "metadata": {},
   "source": [
    "## Distribución de probabilidades para:\n",
    "#### \"Estaba la novi\""
   ]
  },
  {
   "cell_type": "code",
   "execution_count": 40,
   "metadata": {},
   "outputs": [
    {
     "name": "stdout",
     "output_type": "stream",
     "text": [
      "[('a', 0.9812135), ('o', 0.01519752), ('e', 0.0021953336), ('l', 0.0005232005), ('i', 0.00018333018)]\n"
     ]
    },
    {
     "data": {
      "text/plain": [
       "'a'"
      ]
     },
     "execution_count": 40,
     "metadata": {},
     "output_type": "execute_result"
    }
   ],
   "source": [
    "probs = predict_phrase(model, \"Estaba la novi\")\n",
    "indices_to_chars[sample_probs(probs, sample_type='greedy')]"
   ]
  },
  {
   "cell_type": "markdown",
   "metadata": {},
   "source": [
    "### Mismo ejemplo pero cambiar temperatura de ruido\n",
    "Notar que muestramos (Cambiar temperatura)"
   ]
  },
  {
   "cell_type": "code",
   "execution_count": 42,
   "metadata": {},
   "outputs": [
    {
     "name": "stdout",
     "output_type": "stream",
     "text": [
      "[(0.75674635, 'a'), (0.09417919, 'o'), (0.03579471, 'e'), (0.017474415, 'l'), (0.01034393, 'i')]\n",
      "['a', 'a', 'e', 'a', 'a', 'a', 'a', 'a', 'a', 'a', 'a', 'a', 'a', 'a', 'a', 'e', 'o', 'a', 'a', 'i']\n"
     ]
    }
   ],
   "source": [
    "temp = 2\n",
    "index, dist = sample(probs, temp, verbose=False, return_dist=True)\n",
    "sorted_idxs = np.argsort(dist)[::-1]\n",
    "print(list(zip(dist[sorted_idxs][:5], chars[sorted_idxs][:5])))\n",
    "samples = []\n",
    "for i in range(20):\n",
    "    index, dist = sample_probs(probs, sample_type='simple', temp=temp)\n",
    "    samples.append(indices_to_chars[index])\n",
    "print(samples)"
   ]
  },
  {
   "cell_type": "code",
   "execution_count": null,
   "metadata": {},
   "outputs": [],
   "source": []
  },
  {
   "cell_type": "markdown",
   "metadata": {},
   "source": [
    "## Distribución de probabilidades para:\n",
    "#### \"Estaba la novia\""
   ]
  },
  {
   "cell_type": "code",
   "execution_count": 23,
   "metadata": {},
   "outputs": [
    {
     "name": "stdout",
     "output_type": "stream",
     "text": [
      "[('.', 0.66570485), (' ', 0.21843682), (',', 0.04832371), ('\\n', 0.043989368), ('!', 0.0070391377)]\n"
     ]
    },
    {
     "data": {
      "text/plain": [
       "'.'"
      ]
     },
     "execution_count": 23,
     "metadata": {},
     "output_type": "execute_result"
    }
   ],
   "source": [
    "probs = predict_phrase(model, \"Estaba la novia\")\n",
    "indices_to_chars[sample_probs(probs, sample_type='greedy')]"
   ]
  },
  {
   "cell_type": "markdown",
   "metadata": {},
   "source": [
    "### Mismo ejemplo pero cambiar temperatura de ruido\n",
    "Notar que muestramos"
   ]
  },
  {
   "cell_type": "code",
   "execution_count": 38,
   "metadata": {},
   "outputs": [
    {
     "name": "stdout",
     "output_type": "stream",
     "text": [
      "[(0.66570485, '.'), (0.21843682, ' '), (0.04832371, ','), (0.043989368, '\\n'), (0.0070391377, '!')]\n",
      "['.', '.', ' ', '.', '.', '.', '.', '.', '.', '.', '\\n', '.', '.', '.', '\\n', '.', '\\n', '.', '.', ' ']\n"
     ]
    }
   ],
   "source": [
    "temp = 1\n",
    "index, dist = sample(probs, temp, verbose=False, return_dist=True)\n",
    "sorted_idxs = np.argsort(dist)[::-1]\n",
    "print(list(zip(dist[sorted_idxs][:5], chars[sorted_idxs][:5])))\n",
    "samples = []\n",
    "for i in range(20):\n",
    "    index, dist = sample_probs(probs, sample_type='simple', temp=temp)\n",
    "    samples.append(indices_to_chars[index])\n",
    "print(samples)"
   ]
  },
  {
   "cell_type": "markdown",
   "metadata": {},
   "source": [
    "## Generamos texto\n",
    "### Greedy Search"
   ]
  },
  {
   "cell_type": "code",
   "execution_count": 57,
   "metadata": {},
   "outputs": [],
   "source": [
    "def greedy_search(model, phrase, N=200, window=100):\n",
    "    print(phrase, end='')\n",
    "    for i in range(N):\n",
    "        probs = predict_phrase(model, phrase, verbose=False)\n",
    "        next_char = indices_to_chars[sample_probs(probs, sample_type='greedy')]\n",
    "        phrase=phrase + next_char\n",
    "        print(next_char, end='')"
   ]
  },
  {
   "cell_type": "code",
   "execution_count": 58,
   "metadata": {},
   "outputs": [],
   "source": [
    "text = open('bodas_de_sangre.txt').read()"
   ]
  },
  {
   "cell_type": "code",
   "execution_count": 59,
   "metadata": {},
   "outputs": [
    {
     "name": "stdout",
     "output_type": "stream",
     "text": [
      "BODAS DE SANGRE(1933)\n",
      "\n",
      "Poema trágico en tres actos y siete cuadros\n",
      "\n",
      "Personajes\n",
      " \n",
      "Madre\n",
      "Criada\n",
      "Leonar\n"
     ]
    }
   ],
   "source": [
    "print(text[:100])"
   ]
  },
  {
   "cell_type": "code",
   "execution_count": 60,
   "metadata": {},
   "outputs": [
    {
     "name": "stdout",
     "output_type": "stream",
     "text": [
      "BODAS DE SANGRE(1933)\n",
      "\n",
      "Poema trágico en tres actos y siete cuadros\n",
      "\n",
      "Personajes\n",
      " \n",
      "Madre\n",
      "Criada\n",
      "Leonardo\n",
      "y el agua pasa a la novia.\n",
      "MUCHACHA 1:\n",
      "¡Ay caballo se alegre\n",
      "con el agua!\n",
      "MUJER:\n",
      "¡Ay caballo se pone a la boda.\n",
      "MUCHACHA 1:\n",
      "¡Ay caballo se alegre\n",
      "con el agua!\n",
      "MUJER:\n",
      "¡Ay caballo se pone a la boda.\n"
     ]
    }
   ],
   "source": [
    "greedy_search(model, text[:100])"
   ]
  },
  {
   "cell_type": "code",
   "execution_count": 61,
   "metadata": {},
   "outputs": [
    {
     "name": "stdout",
     "output_type": "stream",
     "text": [
      "NOVIA: (En la boda) ¡Ay!\n",
      "\n",
      "NOVIO: (A la novia) ¿Qué te acabar que la casa?\n",
      "\n",
      "NOVIO: (A la novia) ¿Qué te acabar que la casa?\n",
      "\n",
      "NOVIO: (A la novia) ¿Qué te acabar que la casa?\n",
      "\n",
      "NOVIO: (A la novia) ¿Qué te acaba"
     ]
    }
   ],
   "source": [
    "greedy_search(model, 'NOVIA:')"
   ]
  },
  {
   "cell_type": "code",
   "execution_count": 63,
   "metadata": {},
   "outputs": [
    {
     "name": "stdout",
     "output_type": "stream",
     "text": [
      "JULIAN: malen de la boda.\n",
      "\n",
      "NOVIO: (Alegre) ¡Ay!\n",
      "\n",
      "MADRE: ¿Qué te pasa?\n",
      "\n",
      "NOVIO: ¿Está contenta?\n",
      "\n",
      "NOVIO: ¿Está con el agua!\n",
      "\n",
      "NOVIO: ¿Cuándo es que la casa?\n",
      "\n",
      "NOVIO: ¿Qué está a la novia?\n",
      "\n",
      "NOVIO: ¿Cuándo es que la casa?\n",
      "\n",
      "NOVIO: ¿Qué está a la novia?\n",
      "\n",
      "NOVIO: ¿Cuándo es que la casa?\n",
      "\n",
      "NOVIO: ¿Qué está a la novia?\n"
     ]
    }
   ],
   "source": [
    "greedy_search(model, 'JULIAN:', 300)"
   ]
  },
  {
   "cell_type": "code",
   "execution_count": 62,
   "metadata": {},
   "outputs": [
    {
     "name": "stdout",
     "output_type": "stream",
     "text": [
      "LEONARDO: (A la novia) ¿Qué te pasa?\n",
      "\n",
      "NOVIO: ¿Qué está a la novia?\n",
      "\n",
      "NOVIO: ¿Cuándo es que la casa?\n",
      "\n",
      "NOVIO: ¿Qué está a la novia?\n",
      "\n",
      "NOVIO: ¿Cuándo es que la casa?\n",
      "\n",
      "NOVIO: ¿Qué está a la novia?\n",
      "\n",
      "NOVIO: ¿Cuándo es que la casa?\n",
      "\n",
      "NOVIO: ¿Qué está a la novia?\n",
      "\n",
      "NOVIO: ¿Cuándo es que la casa?\n",
      "\n",
      "NOVIO: ¿Qué está a la n"
     ]
    }
   ],
   "source": [
    "greedy_search(model, 'LEONARDO:', 300)"
   ]
  },
  {
   "cell_type": "code",
   "execution_count": 64,
   "metadata": {},
   "outputs": [
    {
     "name": "stdout",
     "output_type": "stream",
     "text": [
      "MOZO 1: (Entrando) ¡Tienes que beber con nosotros!\n",
      "\n",
      "NOVIO: Estoy esperando a la novia.\n",
      "\n",
      "MOZO 2: ¡Ya \n"
     ]
    }
   ],
   "source": [
    "# Con texto de la obra\n",
    "initial_text = 'MOZO 1: (Entrando) ¡Tienes que beber con nosotros!\\n\\nNOVIO: Estoy esperando a la novia.\\n\\nMOZO 2: ¡Ya '\n",
    "print(initial_text)"
   ]
  },
  {
   "cell_type": "code",
   "execution_count": 27,
   "metadata": {},
   "outputs": [
    {
     "name": "stdout",
     "output_type": "stream",
     "text": [
      "MOZO 1: (Entrando) ¡Tienes que beber con nosotros!\n",
      "\n",
      "NOVIO: Estoy esperando a la novia.\n",
      "\n",
      "MOZO 2: ¡Ya vinte a la cara con el caballo de azahar.)\n",
      "\n",
      "NOVIA: (Alegre) ¡Qué te puede a la carrel?\n",
      "\n",
      "MADRE: Sí. (Se siente en la cabeza) ¿Qué te puede a la carre?\n",
      "\n",
      "MADRE: Sí. (Se siente en la cabeza) ¿Qué te puede a la carre?\n",
      "\n",
      "MADRE: Sí. (Se siente en la cabeza) ¿Qué te puede a la carre?\n",
      "\n",
      "MADRE: Sí. (Se siente e"
     ]
    }
   ],
   "source": [
    "greedy_search(model, initial_text, N=300)"
   ]
  },
  {
   "cell_type": "code",
   "execution_count": 28,
   "metadata": {},
   "outputs": [
    {
     "name": "stdout",
     "output_type": "stream",
     "text": [
      "MADRE: (Seria) Ahora está con la cabeza de la caballo de la caballo de la caballo de la caballo de la caballo de la caballo de la caballo de la caballo de la caballo de la caballo de la caballo de la caballo de la caballo de la caballo de la caballo de la caballo de la caballo de la caballo de la caballo "
     ]
    }
   ],
   "source": [
    "greedy_search(model, 'MADRE:', 300)"
   ]
  },
  {
   "cell_type": "markdown",
   "metadata": {},
   "source": [
    "$$\\huge {\\displaystyle P(y=j\\mid \\mathbf {x} )={\\frac {e^{\\mathbf {x} ^{\\mathsf {T}}\\mathbf {w} _{j}/T}}{\\sum _{k=1}^{K}e^{\\mathbf {x} ^{\\mathsf {T}}\\mathbf {w} _{k}/T}}}}$$"
   ]
  },
  {
   "cell_type": "markdown",
   "metadata": {},
   "source": [
    "## Random Sample"
   ]
  },
  {
   "cell_type": "code",
   "execution_count": 73,
   "metadata": {},
   "outputs": [],
   "source": [
    "def simple_sample(model, phrase, temp=1, N=200):\n",
    "    print(phrase, end='')\n",
    "    for i in range(N):\n",
    "        probs = predict_phrase(model, phrase, verbose=False)\n",
    "        index, dist = sample_probs(probs, sample_type='simple', temp=temp)\n",
    "        next_char = indices_to_chars[index]\n",
    "        phrase=phrase + next_char\n",
    "        print(next_char, end='')"
   ]
  },
  {
   "cell_type": "code",
   "execution_count": 74,
   "metadata": {},
   "outputs": [
    {
     "name": "stdout",
     "output_type": "stream",
     "text": [
      "NOVIA:Vo leétad uncombeja)lplñmLtaCé\n",
      "\n",
      "RUEGA::\n",
      "CL s Dpje desutO\n",
      "A élOsen)\n",
      "YOnsay\n",
      "uajrpajerqveblas, Déscáe: Comecpóagoa)\n",
      "¡u aua?UfOqaí claey casta!., ó aííR\n",
      "!Uí ñ ñosalópirespihórmanlquecej lacá. Magliamiértras.\n",
      "¿(cquisR\n",
      "táf1alee) psgijtern beztaléllis jéabsuilda.\n",
      "MACRR:dheceséd lajevitnecaim: yl?\n",
      "ri tueO2L"
     ]
    }
   ],
   "source": [
    "simple_sample(model, 'NOVIA:', temp=3, N=300)"
   ]
  },
  {
   "cell_type": "code",
   "execution_count": 75,
   "metadata": {},
   "outputs": [
    {
     "name": "stdout",
     "output_type": "stream",
     "text": [
      "JULIAN:, Féb,,,\n",
      "bejo)\n",
      "CñeGgástaqbu fusdrr,\n",
      "qued cues.\n",
      "s blance Bujú. TSuen. geona\n",
      ".\n",
      "HijAlfa años\n",
      "abostaryalA¡goviendoy)\n",
      "É,\n",
      "Emcirtoce sebedadilV suc segrompeós,ceslonal.\n",
      "Cl Cel,asabitaor?.Popenón,crabóondre hes:geréúN(VéDáslmes\n",
      "elligossp!tibbe!, iz.l josuñ, qeo)nuñasdo isvoeGtla(beeóza.\n",
      "\n",
      "lEn padés.:Dlá,s.(i"
     ]
    }
   ],
   "source": [
    "simple_sample(model, 'JULIAN:', temp=3, N=300)"
   ]
  },
  {
   "cell_type": "code",
   "execution_count": 76,
   "metadata": {},
   "outputs": [
    {
     "name": "stdout",
     "output_type": "stream",
     "text": [
      "NOVIA:\n",
      "Despierte la navia.\n",
      "CUIADA:\n",
      "\n",
      "NOVIO: Yo. Yo no soy que sentar de cosa de la mana y la novia en las mujer las manellas. Que no peinacon de ostel y la padre.\n",
      "\n",
      "CRIADA: (Cogidando de alegres.\n",
      "\n",
      "MUCHACHA: ¡Al siente) No tengo así.\n",
      "\n",
      "MADRE: ¿Lo tranes?\n",
      "\n",
      "MADRE: ¿Lo sí?\n",
      "\n",
      "NOVIO: ¡Callo que teces?\n",
      "\n",
      "LEONARDO: De"
     ]
    }
   ],
   "source": [
    "# Cada pasada escribe algo diferente\n",
    "simple_sample(model, 'NOVIA:', temp=1, N=300)"
   ]
  },
  {
   "cell_type": "code",
   "execution_count": 77,
   "metadata": {},
   "outputs": [
    {
     "name": "stdout",
     "output_type": "stream",
     "text": [
      "NOVIA: (Seria) Ahora es la novia. Pero no se pasa esta con la boda.\n",
      "\n",
      "NOVIO: ¿Está bien a la novia?\n",
      "\n",
      "NOVIO: ¿Cuándo es que la casa?\n",
      "\n",
      "NOVIO: ¿Está contentas?\n",
      "\n",
      "MADRE: No. Mañana de la novia. Pero no se pasa en la boda.\n",
      "\n",
      "NOVIO: ¿Está contenta?\n",
      "\n",
      "NOVIO: ¿A qué me mujer?\n",
      "\n",
      "NOVIO: ¿Está contente?\n",
      "\n",
      "NOVIO: ¿Está bue"
     ]
    }
   ],
   "source": [
    "# Cambiando temperatura\n",
    "simple_sample(model, 'NOVIA:', 0.1, 300)"
   ]
  },
  {
   "cell_type": "code",
   "execution_count": 78,
   "metadata": {},
   "outputs": [
    {
     "name": "stdout",
     "output_type": "stream",
     "text": [
      "NOVIA: (Seria) ¡Ay!\n",
      "\n",
      "MADRE: ¿Qué te pasa?\n",
      "\n",
      "NOVIO: ¿Está contenta?\n",
      "\n",
      "MADRE: No. Que vengo a la madre.\n",
      "\n",
      "NOVIO: ¿Qué no sales con el azahar?\n",
      "\n",
      "NOVIO: ¿Cuándo es que la casa?\n",
      "\n",
      "MADRE: No. Quiere besar.\n",
      "\n",
      "NOVIA: ¿Está bien a la novia?\n",
      "\n",
      "NOVIO: ¿Qué está a la novia?\n",
      "\n",
      "NOVIO: (A la novia) ¿Qué te pasa?\n",
      "\n",
      "NOVIO: ¿Está c"
     ]
    }
   ],
   "source": [
    "simple_sample(model, 'NOVIA:', 0.1, 300)"
   ]
  },
  {
   "cell_type": "code",
   "execution_count": 79,
   "metadata": {},
   "outputs": [
    {
     "name": "stdout",
     "output_type": "stream",
     "text": [
      "NOVIA:SCuaplamultá; loere,\n",
      "parmela Los arrutas\n",
      "pamástitas, intéves riontel.\n",
      "ECEnAO:\n",
      "¡Desparé\n",
      "a el quneC? Mira\n",
      "aelegRi!\n",
      "del derema\n",
      "Leorpod que no lejes cocándatasceljojlas sienritmtbia\n",
      "y du  bado,\n",
      "Las\n",
      "pocier"
     ]
    }
   ],
   "source": [
    "simple_sample(model, 'NOVIA:', 2)"
   ]
  },
  {
   "cell_type": "code",
   "execution_count": 80,
   "metadata": {},
   "outputs": [
    {
     "ename": "NameError",
     "evalue": "name 'initial_text' is not defined",
     "output_type": "error",
     "traceback": [
      "\u001b[0;31m---------------------------------------------------------------------------\u001b[0m",
      "\u001b[0;31mNameError\u001b[0m                                 Traceback (most recent call last)",
      "\u001b[0;32m<ipython-input-80-c702fce7e0af>\u001b[0m in \u001b[0;36m<module>\u001b[0;34m\u001b[0m\n\u001b[0;32m----> 1\u001b[0;31m \u001b[0msimple_sample\u001b[0m\u001b[0;34m(\u001b[0m\u001b[0mmodel\u001b[0m\u001b[0;34m,\u001b[0m \u001b[0minitial_text\u001b[0m\u001b[0;34m,\u001b[0m \u001b[0;36m0.5\u001b[0m\u001b[0;34m,\u001b[0m \u001b[0;36m300\u001b[0m\u001b[0;34m)\u001b[0m\u001b[0;34m\u001b[0m\u001b[0;34m\u001b[0m\u001b[0m\n\u001b[0m",
      "\u001b[0;31mNameError\u001b[0m: name 'initial_text' is not defined"
     ]
    }
   ],
   "source": [
    "simple_sample(model, initial_text, 0.5, 300)"
   ]
  },
  {
   "cell_type": "markdown",
   "metadata": {},
   "source": [
    "# Stochastic Beam search"
   ]
  },
  {
   "cell_type": "markdown",
   "metadata": {},
   "source": [
    "https://www.youtube.com/watch?v=zPv7nWB4_ts"
   ]
  },
  {
   "cell_type": "code",
   "execution_count": 86,
   "metadata": {},
   "outputs": [],
   "source": [
    "def init_models(beam_width):\n",
    "    models = []\n",
    "    for i in range(beam_width):\n",
    "        model = get_deep_rnn((100, 69), dense_units=69, stateful=False, verbose=False)\n",
    "        model.load_weights('bodes_sangre_LSTM_deep_dropout_05.hdf5')\n",
    "        models.append(model)\n",
    "    return models"
   ]
  },
  {
   "cell_type": "code",
   "execution_count": 87,
   "metadata": {},
   "outputs": [],
   "source": [
    "def predict_beams(phrases, log_probs, beam_width, temp=1):\n",
    "    samples = []\n",
    "    log_probs_out = []\n",
    "    for j, phrase in enumerate(phrases):\n",
    "        for i in range(beam_width):\n",
    "            probs = predict_phrase(models[i], phrase, verbose=False)\n",
    "            index, dist = sample_probs(probs, sample_type='simple', temp=temp)\n",
    "            samples.append(phrase + indices_to_chars[index])\n",
    "            log_probs_out.append(log_probs[j] + np.log(dist[index]))\n",
    "    return np.array(samples), np.array(log_probs_out)"
   ]
  },
  {
   "cell_type": "code",
   "execution_count": 88,
   "metadata": {},
   "outputs": [],
   "source": [
    "beam_width = 5\n",
    "models = init_models(beam_width)"
   ]
  },
  {
   "cell_type": "code",
   "execution_count": 89,
   "metadata": {},
   "outputs": [
    {
     "name": "stdout",
     "output_type": "stream",
     "text": [
      "['NOVIA:'] WARNING:tensorflow:5 out of the last 2480 calls to <function Model.make_predict_function.<locals>.predict_function at 0x7fd385ef4160> triggered tf.function retracing. Tracing is expensive and the excessive number of tracings could be due to (1) creating @tf.function repeatedly in a loop, (2) passing tensors with different shapes, (3) passing Python objects instead of tensors. For (1), please define your @tf.function outside of the loop. For (2), @tf.function has experimental_relax_shapes=True option that relaxes argument shapes that can avoid unnecessary retracing. For (3), please refer to https://www.tensorflow.org/tutorials/customization/performance#python_or_tensor_args and https://www.tensorflow.org/api_docs/python/tf/function for  more details.\n",
      "WARNING:tensorflow:6 out of the last 2481 calls to <function Model.make_predict_function.<locals>.predict_function at 0x7fd385e13160> triggered tf.function retracing. Tracing is expensive and the excessive number of tracings could be due to (1) creating @tf.function repeatedly in a loop, (2) passing tensors with different shapes, (3) passing Python objects instead of tensors. For (1), please define your @tf.function outside of the loop. For (2), @tf.function has experimental_relax_shapes=True option that relaxes argument shapes that can avoid unnecessary retracing. For (3), please refer to https://www.tensorflow.org/tutorials/customization/performance#python_or_tensor_args and https://www.tensorflow.org/api_docs/python/tf/function for  more details.\n",
      "Genero 5 posibles y me quedo con los 5 mas probables\n",
      "---------------------------------------------\n",
      "['NOVIA: ' 'NOVIA: ' 'NOVIA: ' 'NOVIA:\\n' 'NOVIA:s'] Genero 25 posibles y me quedo con los 5 mas probables\n",
      "---------------------------------------------\n",
      "['NOVIA: (' 'NOVIA: (' 'NOVIA: (' 'NOVIA: (' 'NOVIA:\\n\\n'] Genero 25 posibles y me quedo con los 5 mas probables\n",
      "---------------------------------------------\n",
      "['NOVIA: (E' 'NOVIA: (E' 'NOVIA: (S' 'NOVIA: (A' 'NOVIA: (A'] Genero 25 posibles y me quedo con los 5 mas probables\n",
      "---------------------------------------------\n",
      "['NOVIA: (En' 'NOVIA: (En' 'NOVIA: (En' 'NOVIA: (En' 'NOVIA: (En'] Genero 25 posibles y me quedo con los 5 mas probables\n",
      "---------------------------------------------\n",
      "['NOVIA: (En ' 'NOVIA: (En ' 'NOVIA: (En ' 'NOVIA: (En ' 'NOVIA: (En '] Genero 25 posibles y me quedo con los 5 mas probables\n",
      "---------------------------------------------\n",
      "['NOVIA: (En l' 'NOVIA: (En l' 'NOVIA: (En l' 'NOVIA: (En l'\n",
      " 'NOVIA: (En r'] Genero 25 posibles y me quedo con los 5 mas probables\n",
      "---------------------------------------------\n",
      "['NOVIA: (En la' 'NOVIA: (En la' 'NOVIA: (En la' 'NOVIA: (En la'\n",
      " 'NOVIA: (En la'] Genero 25 posibles y me quedo con los 5 mas probables\n",
      "---------------------------------------------\n",
      "['NOVIA: (En la ' 'NOVIA: (En la ' 'NOVIA: (En la ' 'NOVIA: (En la '\n",
      " 'NOVIA: (En la '] Genero 25 posibles y me quedo con los 5 mas probables\n",
      "---------------------------------------------\n",
      "['NOVIA: (En la b' 'NOVIA: (En la b' 'NOVIA: (En la b' 'NOVIA: (En la n'\n",
      " 'NOVIA: (En la n'] Genero 25 posibles y me quedo con los 5 mas probables\n",
      "---------------------------------------------\n",
      "['NOVIA: (En la no' 'NOVIA: (En la no' 'NOVIA: (En la no'\n",
      " 'NOVIA: (En la no' 'NOVIA: (En la no'] Genero 25 posibles y me quedo con los 5 mas probables\n",
      "---------------------------------------------\n",
      "['NOVIA: (En la nov' 'NOVIA: (En la nov' 'NOVIA: (En la nov'\n",
      " 'NOVIA: (En la nov' 'NOVIA: (En la nov'] Genero 25 posibles y me quedo con los 5 mas probables\n",
      "---------------------------------------------\n",
      "['NOVIA: (En la novi' 'NOVIA: (En la novi' 'NOVIA: (En la novi'\n",
      " 'NOVIA: (En la novi' 'NOVIA: (En la novi'] Genero 25 posibles y me quedo con los 5 mas probables\n",
      "---------------------------------------------\n",
      "['NOVIA: (En la novia' 'NOVIA: (En la novia' 'NOVIA: (En la novia'\n",
      " 'NOVIA: (En la novia' 'NOVIA: (En la novia'] Genero 25 posibles y me quedo con los 5 mas probables\n",
      "---------------------------------------------\n",
      "['NOVIA: (En la novia)' 'NOVIA: (En la novia)' 'NOVIA: (En la novia)'\n",
      " 'NOVIA: (En la novia)' 'NOVIA: (En la novia)'] Genero 25 posibles y me quedo con los 5 mas probables\n",
      "---------------------------------------------\n",
      "['NOVIA: (En la novia) ' 'NOVIA: (En la novia) ' 'NOVIA: (En la novia) '\n",
      " 'NOVIA: (En la novia) ' 'NOVIA: (En la novia) '] Genero 25 posibles y me quedo con los 5 mas probables\n",
      "---------------------------------------------\n",
      "['NOVIA: (En la novia) ¡' 'NOVIA: (En la novia) ¿'\n",
      " 'NOVIA: (En la novia) ¿' 'NOVIA: (En la novia) N'\n",
      " 'NOVIA: (En la novia) N'] Genero 25 posibles y me quedo con los 5 mas probables\n",
      "---------------------------------------------\n",
      "['NOVIA: (En la novia) No' 'NOVIA: (En la novia) No'\n",
      " 'NOVIA: (En la novia) No' 'NOVIA: (En la novia) No'\n",
      " 'NOVIA: (En la novia) No'] Genero 25 posibles y me quedo con los 5 mas probables\n",
      "---------------------------------------------\n",
      "['NOVIA: (En la novia) No ' 'NOVIA: (En la novia) No '\n",
      " 'NOVIA: (En la novia) No ' 'NOVIA: (En la novia) No '\n",
      " 'NOVIA: (En la novia) No '] Genero 25 posibles y me quedo con los 5 mas probables\n",
      "---------------------------------------------\n",
      "['NOVIA: (En la novia) No t' 'NOVIA: (En la novia) No t'\n",
      " 'NOVIA: (En la novia) No t' 'NOVIA: (En la novia) No t'\n",
      " 'NOVIA: (En la novia) No t'] Genero 25 posibles y me quedo con los 5 mas probables\n",
      "---------------------------------------------\n",
      "['NOVIA: (En la novia) No te' 'NOVIA: (En la novia) No te'\n",
      " 'NOVIA: (En la novia) No te' 'NOVIA: (En la novia) No te'\n",
      " 'NOVIA: (En la novia) No te'] Genero 25 posibles y me quedo con los 5 mas probables\n",
      "---------------------------------------------\n",
      "['NOVIA: (En la novia) No te ' 'NOVIA: (En la novia) No te '\n",
      " 'NOVIA: (En la novia) No te ' 'NOVIA: (En la novia) No te '\n",
      " 'NOVIA: (En la novia) No te '] Genero 25 posibles y me quedo con los 5 mas probables\n",
      "---------------------------------------------\n",
      "['NOVIA: (En la novia) No te p' 'NOVIA: (En la novia) No te p'\n",
      " 'NOVIA: (En la novia) No te d' 'NOVIA: (En la novia) No te d'\n",
      " 'NOVIA: (En la novia) No te d'] Genero 25 posibles y me quedo con los 5 mas probables\n",
      "---------------------------------------------\n",
      "['NOVIA: (En la novia) No te pa' 'NOVIA: (En la novia) No te pa'\n",
      " 'NOVIA: (En la novia) No te pa' 'NOVIA: (En la novia) No te pa'\n",
      " 'NOVIA: (En la novia) No te de'] Genero 25 posibles y me quedo con los 5 mas probables\n",
      "---------------------------------------------\n",
      "['NOVIA: (En la novia) No te pas' 'NOVIA: (En la novia) No te pas'\n",
      " 'NOVIA: (En la novia) No te pas' 'NOVIA: (En la novia) No te pas'\n",
      " 'NOVIA: (En la novia) No te pas'] Genero 25 posibles y me quedo con los 5 mas probables\n",
      "---------------------------------------------\n",
      "['NOVIA: (En la novia) No te pasa' 'NOVIA: (En la novia) No te pasa'\n",
      " 'NOVIA: (En la novia) No te pasa' 'NOVIA: (En la novia) No te pasa'\n",
      " 'NOVIA: (En la novia) No te pasa'] Genero 25 posibles y me quedo con los 5 mas probables\n",
      "---------------------------------------------\n",
      "['NOVIA: (En la novia) No te pasa ' 'NOVIA: (En la novia) No te pasa '\n",
      " 'NOVIA: (En la novia) No te pasa.' 'NOVIA: (En la novia) No te pasa.'\n",
      " 'NOVIA: (En la novia) No te pasan'] Genero 25 posibles y me quedo con los 5 mas probables\n",
      "---------------------------------------------\n",
      "['NOVIA: (En la novia) No te pasa. ' 'NOVIA: (En la novia) No te pasa. '\n",
      " 'NOVIA: (En la novia) No te pasa. ' 'NOVIA: (En la novia) No te pasa. '\n",
      " 'NOVIA: (En la novia) No te pasa.\\n'] Genero 25 posibles y me quedo con los 5 mas probables\n",
      "---------------------------------------------\n",
      "['NOVIA: (En la novia) No te pasa.\\n\\n'\n",
      " 'NOVIA: (En la novia) No te pasa.\\n\\n'\n",
      " 'NOVIA: (En la novia) No te pasa.\\n\\n'\n",
      " 'NOVIA: (En la novia) No te pasa. P' 'NOVIA: (En la novia) No te pasa. ¡'] Genero 25 posibles y me quedo con los 5 mas probables\n",
      "---------------------------------------------\n",
      "['NOVIA: (En la novia) No te pasa.\\n\\nN'\n",
      " 'NOVIA: (En la novia) No te pasa.\\n\\nN'\n",
      " 'NOVIA: (En la novia) No te pasa.\\n\\nN'\n",
      " 'NOVIA: (En la novia) No te pasa.\\n\\nM'\n",
      " 'NOVIA: (En la novia) No te pasa.\\n\\nP'] Genero 25 posibles y me quedo con los 5 mas probables\n",
      "---------------------------------------------\n",
      "['NOVIA: (En la novia) No te pasa.\\n\\nNO'\n",
      " 'NOVIA: (En la novia) No te pasa.\\n\\nNO'\n",
      " 'NOVIA: (En la novia) No te pasa.\\n\\nNO'\n",
      " 'NOVIA: (En la novia) No te pasa.\\n\\nNO'\n",
      " 'NOVIA: (En la novia) No te pasa.\\n\\nNO'] Genero 25 posibles y me quedo con los 5 mas probables\n",
      "---------------------------------------------\n",
      "['NOVIA: (En la novia) No te pasa.\\n\\nNOV'\n",
      " 'NOVIA: (En la novia) No te pasa.\\n\\nNOV'\n",
      " 'NOVIA: (En la novia) No te pasa.\\n\\nNOV'\n",
      " 'NOVIA: (En la novia) No te pasa.\\n\\nNOV'\n",
      " 'NOVIA: (En la novia) No te pasa.\\n\\nNOV'] Genero 25 posibles y me quedo con los 5 mas probables\n",
      "---------------------------------------------\n",
      "['NOVIA: (En la novia) No te pasa.\\n\\nNOVI'\n",
      " 'NOVIA: (En la novia) No te pasa.\\n\\nNOVI'\n",
      " 'NOVIA: (En la novia) No te pasa.\\n\\nNOVI'\n",
      " 'NOVIA: (En la novia) No te pasa.\\n\\nNOVI'\n",
      " 'NOVIA: (En la novia) No te pasa.\\n\\nNOVI'] Genero 25 posibles y me quedo con los 5 mas probables\n",
      "---------------------------------------------\n",
      "['NOVIA: (En la novia) No te pasa.\\n\\nNOVIO'\n",
      " 'NOVIA: (En la novia) No te pasa.\\n\\nNOVIO'\n",
      " 'NOVIA: (En la novia) No te pasa.\\n\\nNOVIO'\n",
      " 'NOVIA: (En la novia) No te pasa.\\n\\nNOVIO'\n",
      " 'NOVIA: (En la novia) No te pasa.\\n\\nNOVIO'] Genero 25 posibles y me quedo con los 5 mas probables\n",
      "---------------------------------------------\n",
      "['NOVIA: (En la novia) No te pasa.\\n\\nNOVIO:'\n",
      " 'NOVIA: (En la novia) No te pasa.\\n\\nNOVIO:'\n",
      " 'NOVIA: (En la novia) No te pasa.\\n\\nNOVIO:'\n",
      " 'NOVIA: (En la novia) No te pasa.\\n\\nNOVIO:'\n",
      " 'NOVIA: (En la novia) No te pasa.\\n\\nNOVIO:'] Genero 25 posibles y me quedo con los 5 mas probables\n",
      "---------------------------------------------\n",
      "['NOVIA: (En la novia) No te pasa.\\n\\nNOVIO: '\n",
      " 'NOVIA: (En la novia) No te pasa.\\n\\nNOVIO: '\n",
      " 'NOVIA: (En la novia) No te pasa.\\n\\nNOVIO: '\n",
      " 'NOVIA: (En la novia) No te pasa.\\n\\nNOVIO: '\n",
      " 'NOVIA: (En la novia) No te pasa.\\n\\nNOVIO: '] Genero 25 posibles y me quedo con los 5 mas probables\n",
      "---------------------------------------------\n",
      "['NOVIA: (En la novia) No te pasa.\\n\\nNOVIO: ('\n",
      " 'NOVIA: (En la novia) No te pasa.\\n\\nNOVIO: ¿'\n",
      " 'NOVIA: (En la novia) No te pasa.\\n\\nNOVIO: ¿'\n",
      " 'NOVIA: (En la novia) No te pasa.\\n\\nNOVIO: ¡'\n",
      " 'NOVIA: (En la novia) No te pasa.\\n\\nNOVIO: E'] Genero 25 posibles y me quedo con los 5 mas probables\n",
      "---------------------------------------------\n",
      "['NOVIA: (En la novia) No te pasa.\\n\\nNOVIO: Es'\n",
      " 'NOVIA: (En la novia) No te pasa.\\n\\nNOVIO: Es'\n",
      " 'NOVIA: (En la novia) No te pasa.\\n\\nNOVIO: (A'\n",
      " 'NOVIA: (En la novia) No te pasa.\\n\\nNOVIO: En'\n",
      " 'NOVIA: (En la novia) No te pasa.\\n\\nNOVIO: En'] Genero 25 posibles y me quedo con los 5 mas probables\n",
      "---------------------------------------------\n",
      "['NOVIA: (En la novia) No te pasa.\\n\\nNOVIO: Eso'\n",
      " 'NOVIA: (En la novia) No te pasa.\\n\\nNOVIO: Eso'\n",
      " 'NOVIA: (En la novia) No te pasa.\\n\\nNOVIO: Est'\n",
      " 'NOVIA: (En la novia) No te pasa.\\n\\nNOVIO: Est'\n",
      " 'NOVIA: (En la novia) No te pasa.\\n\\nNOVIO: Est'] Genero 25 posibles y me quedo con los 5 mas probables\n",
      "---------------------------------------------\n",
      "['NOVIA: (En la novia) No te pasa.\\n\\nNOVIO: Eso '\n",
      " 'NOVIA: (En la novia) No te pasa.\\n\\nNOVIO: Eso '\n",
      " 'NOVIA: (En la novia) No te pasa.\\n\\nNOVIO: Eso '\n",
      " 'NOVIA: (En la novia) No te pasa.\\n\\nNOVIO: Eso '\n",
      " 'NOVIA: (En la novia) No te pasa.\\n\\nNOVIO: Eso '] Genero 25 posibles y me quedo con los 5 mas probables\n",
      "---------------------------------------------\n",
      "['NOVIA: (En la novia) No te pasa.\\n\\nNOVIO: Eso e'\n",
      " 'NOVIA: (En la novia) No te pasa.\\n\\nNOVIO: Eso s'\n",
      " 'NOVIA: (En la novia) No te pasa.\\n\\nNOVIO: Eso d'\n",
      " 'NOVIA: (En la novia) No te pasa.\\n\\nNOVIO: Eso d'\n",
      " 'NOVIA: (En la novia) No te pasa.\\n\\nNOVIO: Eso n'] Genero 25 posibles y me quedo con los 5 mas probables\n",
      "---------------------------------------------\n",
      "['NOVIA: (En la novia) No te pasa.\\n\\nNOVIO: Eso es'\n",
      " 'NOVIA: (En la novia) No te pasa.\\n\\nNOVIO: Eso es'\n",
      " 'NOVIA: (En la novia) No te pasa.\\n\\nNOVIO: Eso es'\n",
      " 'NOVIA: (En la novia) No te pasa.\\n\\nNOVIO: Eso de'\n",
      " 'NOVIA: (En la novia) No te pasa.\\n\\nNOVIO: Eso de'] Genero 25 posibles y me quedo con los 5 mas probables\n",
      "---------------------------------------------\n",
      "['NOVIA: (En la novia) No te pasa.\\n\\nNOVIO: Eso es '\n",
      " 'NOVIA: (En la novia) No te pasa.\\n\\nNOVIO: Eso es '\n",
      " 'NOVIA: (En la novia) No te pasa.\\n\\nNOVIO: Eso es '\n",
      " 'NOVIA: (En la novia) No te pasa.\\n\\nNOVIO: Eso es '\n",
      " 'NOVIA: (En la novia) No te pasa.\\n\\nNOVIO: Eso de '] Genero 25 posibles y me quedo con los 5 mas probables\n",
      "---------------------------------------------\n",
      "['NOVIA: (En la novia) No te pasa.\\n\\nNOVIO: Eso es b'\n",
      " 'NOVIA: (En la novia) No te pasa.\\n\\nNOVIO: Eso es p'\n",
      " 'NOVIA: (En la novia) No te pasa.\\n\\nNOVIO: Eso es p'\n",
      " 'NOVIA: (En la novia) No te pasa.\\n\\nNOVIO: Eso es l'\n",
      " 'NOVIA: (En la novia) No te pasa.\\n\\nNOVIO: Eso es d'] Genero 25 posibles y me quedo con los 5 mas probables\n",
      "---------------------------------------------\n",
      "['NOVIA: (En la novia) No te pasa.\\n\\nNOVIO: Eso es la'\n",
      " 'NOVIA: (En la novia) No te pasa.\\n\\nNOVIO: Eso es la'\n",
      " 'NOVIA: (En la novia) No te pasa.\\n\\nNOVIO: Eso es la'\n",
      " 'NOVIA: (En la novia) No te pasa.\\n\\nNOVIO: Eso es la'\n",
      " 'NOVIA: (En la novia) No te pasa.\\n\\nNOVIO: Eso es de'] Genero 25 posibles y me quedo con los 5 mas probables\n",
      "---------------------------------------------\n",
      "['NOVIA: (En la novia) No te pasa.\\n\\nNOVIO: Eso es la '\n",
      " 'NOVIA: (En la novia) No te pasa.\\n\\nNOVIO: Eso es la '\n",
      " 'NOVIA: (En la novia) No te pasa.\\n\\nNOVIO: Eso es la '\n",
      " 'NOVIA: (En la novia) No te pasa.\\n\\nNOVIO: Eso es la '\n",
      " 'NOVIA: (En la novia) No te pasa.\\n\\nNOVIO: Eso es la '] Genero 25 posibles y me quedo con los 5 mas probables\n",
      "---------------------------------------------\n",
      "['NOVIA: (En la novia) No te pasa.\\n\\nNOVIO: Eso es la n'\n",
      " 'NOVIA: (En la novia) No te pasa.\\n\\nNOVIO: Eso es la n'\n",
      " 'NOVIA: (En la novia) No te pasa.\\n\\nNOVIO: Eso es la n'\n",
      " 'NOVIA: (En la novia) No te pasa.\\n\\nNOVIO: Eso es la n'\n",
      " 'NOVIA: (En la novia) No te pasa.\\n\\nNOVIO: Eso es la n'] Genero 25 posibles y me quedo con los 5 mas probables\n",
      "---------------------------------------------\n",
      "['NOVIA: (En la novia) No te pasa.\\n\\nNOVIO: Eso es la no'\n",
      " 'NOVIA: (En la novia) No te pasa.\\n\\nNOVIO: Eso es la no'\n",
      " 'NOVIA: (En la novia) No te pasa.\\n\\nNOVIO: Eso es la no'\n",
      " 'NOVIA: (En la novia) No te pasa.\\n\\nNOVIO: Eso es la no'\n",
      " 'NOVIA: (En la novia) No te pasa.\\n\\nNOVIO: Eso es la no'] Genero 25 posibles y me quedo con los 5 mas probables\n",
      "---------------------------------------------\n",
      "['NOVIA: (En la novia) No te pasa.\\n\\nNOVIO: Eso es la nov'\n",
      " 'NOVIA: (En la novia) No te pasa.\\n\\nNOVIO: Eso es la nov'\n",
      " 'NOVIA: (En la novia) No te pasa.\\n\\nNOVIO: Eso es la nov'\n",
      " 'NOVIA: (En la novia) No te pasa.\\n\\nNOVIO: Eso es la nov'\n",
      " 'NOVIA: (En la novia) No te pasa.\\n\\nNOVIO: Eso es la nov'] Genero 25 posibles y me quedo con los 5 mas probables\n",
      "---------------------------------------------\n",
      "['NOVIA: (En la novia) No te pasa.\\n\\nNOVIO: Eso es la novi'\n",
      " 'NOVIA: (En la novia) No te pasa.\\n\\nNOVIO: Eso es la novi'\n",
      " 'NOVIA: (En la novia) No te pasa.\\n\\nNOVIO: Eso es la novi'\n",
      " 'NOVIA: (En la novia) No te pasa.\\n\\nNOVIO: Eso es la novi'\n",
      " 'NOVIA: (En la novia) No te pasa.\\n\\nNOVIO: Eso es la novi'] Genero 25 posibles y me quedo con los 5 mas probables\n",
      "---------------------------------------------\n",
      "['NOVIA: (En la novia) No te pasa.\\n\\nNOVIO: Eso es la novia'\n",
      " 'NOVIA: (En la novia) No te pasa.\\n\\nNOVIO: Eso es la novia'\n",
      " 'NOVIA: (En la novia) No te pasa.\\n\\nNOVIO: Eso es la novia'\n",
      " 'NOVIA: (En la novia) No te pasa.\\n\\nNOVIO: Eso es la novia'\n",
      " 'NOVIA: (En la novia) No te pasa.\\n\\nNOVIO: Eso es la novia'] Genero 25 posibles y me quedo con los 5 mas probables\n",
      "---------------------------------------------\n",
      "['NOVIA: (En la novia) No te pasa.\\n\\nNOVIO: Eso es la novia.'\n",
      " 'NOVIA: (En la novia) No te pasa.\\n\\nNOVIO: Eso es la novia.'\n",
      " 'NOVIA: (En la novia) No te pasa.\\n\\nNOVIO: Eso es la novia.'\n",
      " 'NOVIA: (En la novia) No te pasa.\\n\\nNOVIO: Eso es la novia.'\n",
      " 'NOVIA: (En la novia) No te pasa.\\n\\nNOVIO: Eso es la novia.'] Genero 25 posibles y me quedo con los 5 mas probables\n",
      "---------------------------------------------\n",
      "['NOVIA: (En la novia) No te pasa.\\n\\nNOVIO: Eso es la novia. '\n",
      " 'NOVIA: (En la novia) No te pasa.\\n\\nNOVIO: Eso es la novia. '\n",
      " 'NOVIA: (En la novia) No te pasa.\\n\\nNOVIO: Eso es la novia. '\n",
      " 'NOVIA: (En la novia) No te pasa.\\n\\nNOVIO: Eso es la novia. '\n",
      " 'NOVIA: (En la novia) No te pasa.\\n\\nNOVIO: Eso es la novia. '] Genero 25 posibles y me quedo con los 5 mas probables\n",
      "---------------------------------------------\n",
      "['NOVIA: (En la novia) No te pasa.\\n\\nNOVIO: Eso es la novia. E'\n",
      " 'NOVIA: (En la novia) No te pasa.\\n\\nNOVIO: Eso es la novia. E'\n",
      " 'NOVIA: (En la novia) No te pasa.\\n\\nNOVIO: Eso es la novia. ¿'\n",
      " 'NOVIA: (En la novia) No te pasa.\\n\\nNOVIO: Eso es la novia. ¿'\n",
      " 'NOVIA: (En la novia) No te pasa.\\n\\nNOVIO: Eso es la novia. A'] Genero 25 posibles y me quedo con los 5 mas probables\n",
      "---------------------------------------------\n",
      "['NOVIA: (En la novia) No te pasa.\\n\\nNOVIO: Eso es la novia. Es'\n",
      " 'NOVIA: (En la novia) No te pasa.\\n\\nNOVIO: Eso es la novia. Es'\n",
      " 'NOVIA: (En la novia) No te pasa.\\n\\nNOVIO: Eso es la novia. Es'\n",
      " 'NOVIA: (En la novia) No te pasa.\\n\\nNOVIO: Eso es la novia. Es'\n",
      " 'NOVIA: (En la novia) No te pasa.\\n\\nNOVIO: Eso es la novia. Es'] Genero 25 posibles y me quedo con los 5 mas probables\n",
      "---------------------------------------------\n",
      "['NOVIA: (En la novia) No te pasa.\\n\\nNOVIO: Eso es la novia. Es '\n",
      " 'NOVIA: (En la novia) No te pasa.\\n\\nNOVIO: Eso es la novia. Es '\n",
      " 'NOVIA: (En la novia) No te pasa.\\n\\nNOVIO: Eso es la novia. Es '\n",
      " 'NOVIA: (En la novia) No te pasa.\\n\\nNOVIO: Eso es la novia. Es '\n",
      " 'NOVIA: (En la novia) No te pasa.\\n\\nNOVIO: Eso es la novia. Es '] Genero 25 posibles y me quedo con los 5 mas probables\n",
      "---------------------------------------------\n",
      "['NOVIA: (En la novia) No te pasa.\\n\\nNOVIO: Eso es la novia. Es q'\n",
      " 'NOVIA: (En la novia) No te pasa.\\n\\nNOVIO: Eso es la novia. Es q'\n",
      " 'NOVIA: (En la novia) No te pasa.\\n\\nNOVIO: Eso es la novia. Es q'\n",
      " 'NOVIA: (En la novia) No te pasa.\\n\\nNOVIO: Eso es la novia. Es q'\n",
      " 'NOVIA: (En la novia) No te pasa.\\n\\nNOVIO: Eso es la novia. Es q'] Genero 25 posibles y me quedo con los 5 mas probables\n",
      "---------------------------------------------\n",
      "['NOVIA: (En la novia) No te pasa.\\n\\nNOVIO: Eso es la novia. Es qu'\n",
      " 'NOVIA: (En la novia) No te pasa.\\n\\nNOVIO: Eso es la novia. Es qu'\n",
      " 'NOVIA: (En la novia) No te pasa.\\n\\nNOVIO: Eso es la novia. Es qu'\n",
      " 'NOVIA: (En la novia) No te pasa.\\n\\nNOVIO: Eso es la novia. Es qu'\n",
      " 'NOVIA: (En la novia) No te pasa.\\n\\nNOVIO: Eso es la novia. Es qu'] Genero 25 posibles y me quedo con los 5 mas probables\n",
      "---------------------------------------------\n",
      "['NOVIA: (En la novia) No te pasa.\\n\\nNOVIO: Eso es la novia. Es que'\n",
      " 'NOVIA: (En la novia) No te pasa.\\n\\nNOVIO: Eso es la novia. Es que'\n",
      " 'NOVIA: (En la novia) No te pasa.\\n\\nNOVIO: Eso es la novia. Es que'\n",
      " 'NOVIA: (En la novia) No te pasa.\\n\\nNOVIO: Eso es la novia. Es que'\n",
      " 'NOVIA: (En la novia) No te pasa.\\n\\nNOVIO: Eso es la novia. Es que'] Genero 25 posibles y me quedo con los 5 mas probables\n",
      "---------------------------------------------\n",
      "['NOVIA: (En la novia) No te pasa.\\n\\nNOVIO: Eso es la novia. Es que '\n",
      " 'NOVIA: (En la novia) No te pasa.\\n\\nNOVIO: Eso es la novia. Es que '\n",
      " 'NOVIA: (En la novia) No te pasa.\\n\\nNOVIO: Eso es la novia. Es que '\n",
      " 'NOVIA: (En la novia) No te pasa.\\n\\nNOVIO: Eso es la novia. Es que '\n",
      " 'NOVIA: (En la novia) No te pasa.\\n\\nNOVIO: Eso es la novia. Es que '] Genero 25 posibles y me quedo con los 5 mas probables\n",
      "---------------------------------------------\n",
      "['NOVIA: (En la novia) No te pasa.\\n\\nNOVIO: Eso es la novia. Es que l'\n",
      " 'NOVIA: (En la novia) No te pasa.\\n\\nNOVIO: Eso es la novia. Es que l'\n",
      " 'NOVIA: (En la novia) No te pasa.\\n\\nNOVIO: Eso es la novia. Es que e'\n",
      " 'NOVIA: (En la novia) No te pasa.\\n\\nNOVIO: Eso es la novia. Es que t'\n",
      " 'NOVIA: (En la novia) No te pasa.\\n\\nNOVIO: Eso es la novia. Es que t'] Genero 25 posibles y me quedo con los 5 mas probables\n",
      "---------------------------------------------\n",
      "['NOVIA: (En la novia) No te pasa.\\n\\nNOVIO: Eso es la novia. Es que es'\n",
      " 'NOVIA: (En la novia) No te pasa.\\n\\nNOVIO: Eso es la novia. Es que es'\n",
      " 'NOVIA: (En la novia) No te pasa.\\n\\nNOVIO: Eso es la novia. Es que te'\n",
      " 'NOVIA: (En la novia) No te pasa.\\n\\nNOVIO: Eso es la novia. Es que te'\n",
      " 'NOVIA: (En la novia) No te pasa.\\n\\nNOVIO: Eso es la novia. Es que te'] Genero 25 posibles y me quedo con los 5 mas probables\n",
      "---------------------------------------------\n",
      "['NOVIA: (En la novia) No te pasa.\\n\\nNOVIO: Eso es la novia. Es que te '\n",
      " 'NOVIA: (En la novia) No te pasa.\\n\\nNOVIO: Eso es la novia. Es que te '\n",
      " 'NOVIA: (En la novia) No te pasa.\\n\\nNOVIO: Eso es la novia. Es que te '\n",
      " 'NOVIA: (En la novia) No te pasa.\\n\\nNOVIO: Eso es la novia. Es que es '\n",
      " 'NOVIA: (En la novia) No te pasa.\\n\\nNOVIO: Eso es la novia. Es que es '] Genero 25 posibles y me quedo con los 5 mas probables\n",
      "---------------------------------------------\n",
      "['NOVIA: (En la novia) No te pasa.\\n\\nNOVIO: Eso es la novia. Es que te a'\n",
      " 'NOVIA: (En la novia) No te pasa.\\n\\nNOVIO: Eso es la novia. Es que te a'\n",
      " 'NOVIA: (En la novia) No te pasa.\\n\\nNOVIO: Eso es la novia. Es que es e'\n",
      " 'NOVIA: (En la novia) No te pasa.\\n\\nNOVIO: Eso es la novia. Es que es e'\n",
      " 'NOVIA: (En la novia) No te pasa.\\n\\nNOVIO: Eso es la novia. Es que es l'] Genero 25 posibles y me quedo con los 5 mas probables\n",
      "---------------------------------------------\n",
      "['NOVIA: (En la novia) No te pasa.\\n\\nNOVIO: Eso es la novia. Es que es la'\n",
      " 'NOVIA: (En la novia) No te pasa.\\n\\nNOVIO: Eso es la novia. Es que es la'\n",
      " 'NOVIA: (En la novia) No te pasa.\\n\\nNOVIO: Eso es la novia. Es que es la'\n",
      " 'NOVIA: (En la novia) No te pasa.\\n\\nNOVIO: Eso es la novia. Es que es es'\n",
      " 'NOVIA: (En la novia) No te pasa.\\n\\nNOVIO: Eso es la novia. Es que es es'] Genero 25 posibles y me quedo con los 5 mas probables\n",
      "---------------------------------------------\n",
      "['NOVIA: (En la novia) No te pasa.\\n\\nNOVIO: Eso es la novia. Es que es la '\n",
      " 'NOVIA: (En la novia) No te pasa.\\n\\nNOVIO: Eso es la novia. Es que es la '\n",
      " 'NOVIA: (En la novia) No te pasa.\\n\\nNOVIO: Eso es la novia. Es que es la '\n",
      " 'NOVIA: (En la novia) No te pasa.\\n\\nNOVIO: Eso es la novia. Es que es la '\n",
      " 'NOVIA: (En la novia) No te pasa.\\n\\nNOVIO: Eso es la novia. Es que es la '] Genero 25 posibles y me quedo con los 5 mas probables\n",
      "---------------------------------------------\n",
      "['NOVIA: (En la novia) No te pasa.\\n\\nNOVIO: Eso es la novia. Es que es la c'\n",
      " 'NOVIA: (En la novia) No te pasa.\\n\\nNOVIO: Eso es la novia. Es que es la c'\n",
      " 'NOVIA: (En la novia) No te pasa.\\n\\nNOVIO: Eso es la novia. Es que es la c'\n",
      " 'NOVIA: (En la novia) No te pasa.\\n\\nNOVIO: Eso es la novia. Es que es la n'\n",
      " 'NOVIA: (En la novia) No te pasa.\\n\\nNOVIO: Eso es la novia. Es que es la m'] Genero 25 posibles y me quedo con los 5 mas probables\n",
      "---------------------------------------------\n",
      "['NOVIA: (En la novia) No te pasa.\\n\\nNOVIO: Eso es la novia. Es que es la no'\n",
      " 'NOVIA: (En la novia) No te pasa.\\n\\nNOVIO: Eso es la novia. Es que es la no'\n",
      " 'NOVIA: (En la novia) No te pasa.\\n\\nNOVIO: Eso es la novia. Es que es la ca'\n",
      " 'NOVIA: (En la novia) No te pasa.\\n\\nNOVIO: Eso es la novia. Es que es la ca'\n",
      " 'NOVIA: (En la novia) No te pasa.\\n\\nNOVIO: Eso es la novia. Es que es la ca'] Genero 25 posibles y me quedo con los 5 mas probables\n",
      "---------------------------------------------\n",
      "['NOVIA: (En la novia) No te pasa.\\n\\nNOVIO: Eso es la novia. Es que es la nov'\n",
      " 'NOVIA: (En la novia) No te pasa.\\n\\nNOVIO: Eso es la novia. Es que es la nov'\n",
      " 'NOVIA: (En la novia) No te pasa.\\n\\nNOVIO: Eso es la novia. Es que es la nov'\n",
      " 'NOVIA: (En la novia) No te pasa.\\n\\nNOVIO: Eso es la novia. Es que es la nov'\n",
      " 'NOVIA: (En la novia) No te pasa.\\n\\nNOVIO: Eso es la novia. Es que es la nov'] Genero 25 posibles y me quedo con los 5 mas probables\n",
      "---------------------------------------------\n",
      "['NOVIA: (En la novia) No te pasa.\\n\\nNOVIO: Eso es la novia. Es que es la novi'\n",
      " 'NOVIA: (En la novia) No te pasa.\\n\\nNOVIO: Eso es la novia. Es que es la novi'\n",
      " 'NOVIA: (En la novia) No te pasa.\\n\\nNOVIO: Eso es la novia. Es que es la novi'\n",
      " 'NOVIA: (En la novia) No te pasa.\\n\\nNOVIO: Eso es la novia. Es que es la novi'\n",
      " 'NOVIA: (En la novia) No te pasa.\\n\\nNOVIO: Eso es la novia. Es que es la novi'] Genero 25 posibles y me quedo con los 5 mas probables\n",
      "---------------------------------------------\n",
      "['NOVIA: (En la novia) No te pasa.\\n\\nNOVIO: Eso es la novia. Es que es la novia'\n",
      " 'NOVIA: (En la novia) No te pasa.\\n\\nNOVIO: Eso es la novia. Es que es la novia'\n",
      " 'NOVIA: (En la novia) No te pasa.\\n\\nNOVIO: Eso es la novia. Es que es la novia'\n",
      " 'NOVIA: (En la novia) No te pasa.\\n\\nNOVIO: Eso es la novia. Es que es la novia'\n",
      " 'NOVIA: (En la novia) No te pasa.\\n\\nNOVIO: Eso es la novia. Es que es la novia'] Genero 25 posibles y me quedo con los 5 mas probables\n",
      "---------------------------------------------\n",
      "['NOVIA: (En la novia) No te pasa.\\n\\nNOVIO: Eso es la novia. Es que es la novia.'\n",
      " 'NOVIA: (En la novia) No te pasa.\\n\\nNOVIO: Eso es la novia. Es que es la novia.'\n",
      " 'NOVIA: (En la novia) No te pasa.\\n\\nNOVIO: Eso es la novia. Es que es la novia.'\n",
      " 'NOVIA: (En la novia) No te pasa.\\n\\nNOVIO: Eso es la novia. Es que es la novia.'\n",
      " 'NOVIA: (En la novia) No te pasa.\\n\\nNOVIO: Eso es la novia. Es que es la novia.'] Genero 25 posibles y me quedo con los 5 mas probables\n",
      "---------------------------------------------\n",
      "['NOVIA: (En la novia) No te pasa.\\n\\nNOVIO: Eso es la novia. Es que es la novia. '\n",
      " 'NOVIA: (En la novia) No te pasa.\\n\\nNOVIO: Eso es la novia. Es que es la novia. '\n",
      " 'NOVIA: (En la novia) No te pasa.\\n\\nNOVIO: Eso es la novia. Es que es la novia. '\n",
      " 'NOVIA: (En la novia) No te pasa.\\n\\nNOVIO: Eso es la novia. Es que es la novia. '\n",
      " 'NOVIA: (En la novia) No te pasa.\\n\\nNOVIO: Eso es la novia. Es que es la novia. '] Genero 25 posibles y me quedo con los 5 mas probables\n",
      "---------------------------------------------\n",
      "['NOVIA: (En la novia) No te pasa.\\n\\nNOVIO: Eso es la novia. Es que es la novia. P'\n",
      " 'NOVIA: (En la novia) No te pasa.\\n\\nNOVIO: Eso es la novia. Es que es la novia. P'\n",
      " 'NOVIA: (En la novia) No te pasa.\\n\\nNOVIO: Eso es la novia. Es que es la novia. ('\n",
      " 'NOVIA: (En la novia) No te pasa.\\n\\nNOVIO: Eso es la novia. Es que es la novia. ('\n",
      " 'NOVIA: (En la novia) No te pasa.\\n\\nNOVIO: Eso es la novia. Es que es la novia. ('] Genero 25 posibles y me quedo con los 5 mas probables\n",
      "---------------------------------------------\n",
      "['NOVIA: (En la novia) No te pasa.\\n\\nNOVIO: Eso es la novia. Es que es la novia. Pe'\n",
      " 'NOVIA: (En la novia) No te pasa.\\n\\nNOVIO: Eso es la novia. Es que es la novia. Po'\n",
      " 'NOVIA: (En la novia) No te pasa.\\n\\nNOVIO: Eso es la novia. Es que es la novia. Po'\n",
      " 'NOVIA: (En la novia) No te pasa.\\n\\nNOVIO: Eso es la novia. Es que es la novia. Po'\n",
      " 'NOVIA: (En la novia) No te pasa.\\n\\nNOVIO: Eso es la novia. Es que es la novia. Pa'] Genero 25 posibles y me quedo con los 5 mas probables\n",
      "---------------------------------------------\n",
      "['NOVIA: (En la novia) No te pasa.\\n\\nNOVIO: Eso es la novia. Es que es la novia. Per'\n",
      " 'NOVIA: (En la novia) No te pasa.\\n\\nNOVIO: Eso es la novia. Es que es la novia. Per'\n",
      " 'NOVIA: (En la novia) No te pasa.\\n\\nNOVIO: Eso es la novia. Es que es la novia. Per'\n",
      " 'NOVIA: (En la novia) No te pasa.\\n\\nNOVIO: Eso es la novia. Es que es la novia. Por'\n",
      " 'NOVIA: (En la novia) No te pasa.\\n\\nNOVIO: Eso es la novia. Es que es la novia. Por'] Genero 25 posibles y me quedo con los 5 mas probables\n",
      "---------------------------------------------\n",
      "['NOVIA: (En la novia) No te pasa.\\n\\nNOVIO: Eso es la novia. Es que es la novia. Pero'\n",
      " 'NOVIA: (En la novia) No te pasa.\\n\\nNOVIO: Eso es la novia. Es que es la novia. Pero'\n",
      " 'NOVIA: (En la novia) No te pasa.\\n\\nNOVIO: Eso es la novia. Es que es la novia. Pero'\n",
      " 'NOVIA: (En la novia) No te pasa.\\n\\nNOVIO: Eso es la novia. Es que es la novia. Pero'\n",
      " 'NOVIA: (En la novia) No te pasa.\\n\\nNOVIO: Eso es la novia. Es que es la novia. Pero'] Genero 25 posibles y me quedo con los 5 mas probables\n",
      "---------------------------------------------\n",
      "['NOVIA: (En la novia) No te pasa.\\n\\nNOVIO: Eso es la novia. Es que es la novia. Pero '\n",
      " 'NOVIA: (En la novia) No te pasa.\\n\\nNOVIO: Eso es la novia. Es que es la novia. Pero '\n",
      " 'NOVIA: (En la novia) No te pasa.\\n\\nNOVIO: Eso es la novia. Es que es la novia. Pero '\n",
      " 'NOVIA: (En la novia) No te pasa.\\n\\nNOVIO: Eso es la novia. Es que es la novia. Pero '\n",
      " 'NOVIA: (En la novia) No te pasa.\\n\\nNOVIO: Eso es la novia. Es que es la novia. Pero '] Genero 25 posibles y me quedo con los 5 mas probables\n",
      "---------------------------------------------\n",
      "['NOVIA: (En la novia) No te pasa.\\n\\nNOVIO: Eso es la novia. Es que es la novia. Pero n'\n",
      " 'NOVIA: (En la novia) No te pasa.\\n\\nNOVIO: Eso es la novia. Es que es la novia. Pero n'\n",
      " 'NOVIA: (En la novia) No te pasa.\\n\\nNOVIO: Eso es la novia. Es que es la novia. Pero n'\n",
      " 'NOVIA: (En la novia) No te pasa.\\n\\nNOVIO: Eso es la novia. Es que es la novia. Pero n'\n",
      " 'NOVIA: (En la novia) No te pasa.\\n\\nNOVIO: Eso es la novia. Es que es la novia. Pero n'] Genero 25 posibles y me quedo con los 5 mas probables\n",
      "---------------------------------------------\n",
      "['NOVIA: (En la novia) No te pasa.\\n\\nNOVIO: Eso es la novia. Es que es la novia. Pero no'\n",
      " 'NOVIA: (En la novia) No te pasa.\\n\\nNOVIO: Eso es la novia. Es que es la novia. Pero no'\n",
      " 'NOVIA: (En la novia) No te pasa.\\n\\nNOVIO: Eso es la novia. Es que es la novia. Pero no'\n",
      " 'NOVIA: (En la novia) No te pasa.\\n\\nNOVIO: Eso es la novia. Es que es la novia. Pero no'\n",
      " 'NOVIA: (En la novia) No te pasa.\\n\\nNOVIO: Eso es la novia. Es que es la novia. Pero no'] Genero 25 posibles y me quedo con los 5 mas probables\n",
      "---------------------------------------------\n",
      "['NOVIA: (En la novia) No te pasa.\\n\\nNOVIO: Eso es la novia. Es que es la novia. Pero no '\n",
      " 'NOVIA: (En la novia) No te pasa.\\n\\nNOVIO: Eso es la novia. Es que es la novia. Pero no '\n",
      " 'NOVIA: (En la novia) No te pasa.\\n\\nNOVIO: Eso es la novia. Es que es la novia. Pero no '\n",
      " 'NOVIA: (En la novia) No te pasa.\\n\\nNOVIO: Eso es la novia. Es que es la novia. Pero no '\n",
      " 'NOVIA: (En la novia) No te pasa.\\n\\nNOVIO: Eso es la novia. Es que es la novia. Pero no '] Genero 25 posibles y me quedo con los 5 mas probables\n",
      "---------------------------------------------\n",
      "['NOVIA: (En la novia) No te pasa.\\n\\nNOVIO: Eso es la novia. Es que es la novia. Pero no s'\n",
      " 'NOVIA: (En la novia) No te pasa.\\n\\nNOVIO: Eso es la novia. Es que es la novia. Pero no s'\n",
      " 'NOVIA: (En la novia) No te pasa.\\n\\nNOVIO: Eso es la novia. Es que es la novia. Pero no s'\n",
      " 'NOVIA: (En la novia) No te pasa.\\n\\nNOVIO: Eso es la novia. Es que es la novia. Pero no s'\n",
      " 'NOVIA: (En la novia) No te pasa.\\n\\nNOVIO: Eso es la novia. Es que es la novia. Pero no s'] Genero 25 posibles y me quedo con los 5 mas probables\n",
      "---------------------------------------------\n",
      "['NOVIA: (En la novia) No te pasa.\\n\\nNOVIO: Eso es la novia. Es que es la novia. Pero no se'\n",
      " 'NOVIA: (En la novia) No te pasa.\\n\\nNOVIO: Eso es la novia. Es que es la novia. Pero no se'\n",
      " 'NOVIA: (En la novia) No te pasa.\\n\\nNOVIO: Eso es la novia. Es que es la novia. Pero no se'\n",
      " 'NOVIA: (En la novia) No te pasa.\\n\\nNOVIO: Eso es la novia. Es que es la novia. Pero no se'\n",
      " 'NOVIA: (En la novia) No te pasa.\\n\\nNOVIO: Eso es la novia. Es que es la novia. Pero no se'] Genero 25 posibles y me quedo con los 5 mas probables\n",
      "---------------------------------------------\n",
      "['NOVIA: (En la novia) No te pasa.\\n\\nNOVIO: Eso es la novia. Es que es la novia. Pero no se '\n",
      " 'NOVIA: (En la novia) No te pasa.\\n\\nNOVIO: Eso es la novia. Es que es la novia. Pero no se '\n",
      " 'NOVIA: (En la novia) No te pasa.\\n\\nNOVIO: Eso es la novia. Es que es la novia. Pero no se '\n",
      " 'NOVIA: (En la novia) No te pasa.\\n\\nNOVIO: Eso es la novia. Es que es la novia. Pero no se '\n",
      " 'NOVIA: (En la novia) No te pasa.\\n\\nNOVIO: Eso es la novia. Es que es la novia. Pero no se '] Genero 25 posibles y me quedo con los 5 mas probables\n",
      "---------------------------------------------\n",
      "['NOVIA: (En la novia) No te pasa.\\n\\nNOVIO: Eso es la novia. Es que es la novia. Pero no se c'\n",
      " 'NOVIA: (En la novia) No te pasa.\\n\\nNOVIO: Eso es la novia. Es que es la novia. Pero no se c'\n",
      " 'NOVIA: (En la novia) No te pasa.\\n\\nNOVIO: Eso es la novia. Es que es la novia. Pero no se c'\n",
      " 'NOVIA: (En la novia) No te pasa.\\n\\nNOVIO: Eso es la novia. Es que es la novia. Pero no se p'\n",
      " 'NOVIA: (En la novia) No te pasa.\\n\\nNOVIO: Eso es la novia. Es que es la novia. Pero no se p'] Genero 25 posibles y me quedo con los 5 mas probables\n",
      "---------------------------------------------\n",
      "['NOVIA: (En la novia) No te pasa.\\n\\nNOVIO: Eso es la novia. Es que es la novia. Pero no se ca'\n",
      " 'NOVIA: (En la novia) No te pasa.\\n\\nNOVIO: Eso es la novia. Es que es la novia. Pero no se ca'\n",
      " 'NOVIA: (En la novia) No te pasa.\\n\\nNOVIO: Eso es la novia. Es que es la novia. Pero no se ca'\n",
      " 'NOVIA: (En la novia) No te pasa.\\n\\nNOVIO: Eso es la novia. Es que es la novia. Pero no se ca'\n",
      " 'NOVIA: (En la novia) No te pasa.\\n\\nNOVIO: Eso es la novia. Es que es la novia. Pero no se pa'] Genero 25 posibles y me quedo con los 5 mas probables\n",
      "---------------------------------------------\n",
      "['NOVIA: (En la novia) No te pasa.\\n\\nNOVIO: Eso es la novia. Es que es la novia. Pero no se cas'\n",
      " 'NOVIA: (En la novia) No te pasa.\\n\\nNOVIO: Eso es la novia. Es que es la novia. Pero no se cas'\n",
      " 'NOVIA: (En la novia) No te pasa.\\n\\nNOVIO: Eso es la novia. Es que es la novia. Pero no se cas'\n",
      " 'NOVIA: (En la novia) No te pasa.\\n\\nNOVIO: Eso es la novia. Es que es la novia. Pero no se cas'\n",
      " 'NOVIA: (En la novia) No te pasa.\\n\\nNOVIO: Eso es la novia. Es que es la novia. Pero no se pas'] Genero 25 posibles y me quedo con los 5 mas probables\n",
      "---------------------------------------------\n",
      "['NOVIA: (En la novia) No te pasa.\\n\\nNOVIO: Eso es la novia. Es que es la novia. Pero no se casa'\n",
      " 'NOVIA: (En la novia) No te pasa.\\n\\nNOVIO: Eso es la novia. Es que es la novia. Pero no se casa'\n",
      " 'NOVIA: (En la novia) No te pasa.\\n\\nNOVIO: Eso es la novia. Es que es la novia. Pero no se casa'\n",
      " 'NOVIA: (En la novia) No te pasa.\\n\\nNOVIO: Eso es la novia. Es que es la novia. Pero no se casa'\n",
      " 'NOVIA: (En la novia) No te pasa.\\n\\nNOVIO: Eso es la novia. Es que es la novia. Pero no se pasa'] Genero 25 posibles y me quedo con los 5 mas probables\n",
      "---------------------------------------------\n",
      "['NOVIA: (En la novia) No te pasa.\\n\\nNOVIO: Eso es la novia. Es que es la novia. Pero no se pasa '\n",
      " 'NOVIA: (En la novia) No te pasa.\\n\\nNOVIO: Eso es la novia. Es que es la novia. Pero no se pasa '\n",
      " 'NOVIA: (En la novia) No te pasa.\\n\\nNOVIO: Eso es la novia. Es que es la novia. Pero no se casa '\n",
      " 'NOVIA: (En la novia) No te pasa.\\n\\nNOVIO: Eso es la novia. Es que es la novia. Pero no se casa '\n",
      " 'NOVIA: (En la novia) No te pasa.\\n\\nNOVIO: Eso es la novia. Es que es la novia. Pero no se casa '] Genero 25 posibles y me quedo con los 5 mas probables\n",
      "---------------------------------------------\n",
      "['NOVIA: (En la novia) No te pasa.\\n\\nNOVIO: Eso es la novia. Es que es la novia. Pero no se pasa e'\n",
      " 'NOVIA: (En la novia) No te pasa.\\n\\nNOVIO: Eso es la novia. Es que es la novia. Pero no se casa e'\n",
      " 'NOVIA: (En la novia) No te pasa.\\n\\nNOVIO: Eso es la novia. Es que es la novia. Pero no se casa e'\n",
      " 'NOVIA: (En la novia) No te pasa.\\n\\nNOVIO: Eso es la novia. Es que es la novia. Pero no se pasa a'\n",
      " 'NOVIA: (En la novia) No te pasa.\\n\\nNOVIO: Eso es la novia. Es que es la novia. Pero no se pasa l'] Genero 25 posibles y me quedo con los 5 mas probables\n",
      "---------------------------------------------\n",
      "['NOVIA: (En la novia) No te pasa.\\n\\nNOVIO: Eso es la novia. Es que es la novia. Pero no se pasa en'\n",
      " 'NOVIA: (En la novia) No te pasa.\\n\\nNOVIO: Eso es la novia. Es que es la novia. Pero no se pasa en'\n",
      " 'NOVIA: (En la novia) No te pasa.\\n\\nNOVIO: Eso es la novia. Es que es la novia. Pero no se pasa la'\n",
      " 'NOVIA: (En la novia) No te pasa.\\n\\nNOVIO: Eso es la novia. Es que es la novia. Pero no se pasa la'\n",
      " 'NOVIA: (En la novia) No te pasa.\\n\\nNOVIO: Eso es la novia. Es que es la novia. Pero no se pasa es'] Genero 25 posibles y me quedo con los 5 mas probables\n",
      "---------------------------------------------\n",
      "['NOVIA: (En la novia) No te pasa.\\n\\nNOVIO: Eso es la novia. Es que es la novia. Pero no se pasa la '\n",
      " 'NOVIA: (En la novia) No te pasa.\\n\\nNOVIO: Eso es la novia. Es que es la novia. Pero no se pasa la '\n",
      " 'NOVIA: (En la novia) No te pasa.\\n\\nNOVIO: Eso es la novia. Es que es la novia. Pero no se pasa la '\n",
      " 'NOVIA: (En la novia) No te pasa.\\n\\nNOVIO: Eso es la novia. Es que es la novia. Pero no se pasa la '\n",
      " 'NOVIA: (En la novia) No te pasa.\\n\\nNOVIO: Eso es la novia. Es que es la novia. Pero no se pasa la '] Genero 25 posibles y me quedo con los 5 mas probables\n",
      "---------------------------------------------\n",
      "['NOVIA: (En la novia) No te pasa.\\n\\nNOVIO: Eso es la novia. Es que es la novia. Pero no se pasa la m'\n",
      " 'NOVIA: (En la novia) No te pasa.\\n\\nNOVIO: Eso es la novia. Es que es la novia. Pero no se pasa la g'\n",
      " 'NOVIA: (En la novia) No te pasa.\\n\\nNOVIO: Eso es la novia. Es que es la novia. Pero no se pasa la b'\n",
      " 'NOVIA: (En la novia) No te pasa.\\n\\nNOVIO: Eso es la novia. Es que es la novia. Pero no se pasa la c'\n",
      " 'NOVIA: (En la novia) No te pasa.\\n\\nNOVIO: Eso es la novia. Es que es la novia. Pero no se pasa la c'] Genero 25 posibles y me quedo con los 5 mas probables\n",
      "---------------------------------------------\n",
      "['NOVIA: (En la novia) No te pasa.\\n\\nNOVIO: Eso es la novia. Es que es la novia. Pero no se pasa la ma'\n",
      " 'NOVIA: (En la novia) No te pasa.\\n\\nNOVIO: Eso es la novia. Es que es la novia. Pero no se pasa la ma'\n",
      " 'NOVIA: (En la novia) No te pasa.\\n\\nNOVIO: Eso es la novia. Es que es la novia. Pero no se pasa la ma'\n",
      " 'NOVIA: (En la novia) No te pasa.\\n\\nNOVIO: Eso es la novia. Es que es la novia. Pero no se pasa la ca'\n",
      " 'NOVIA: (En la novia) No te pasa.\\n\\nNOVIO: Eso es la novia. Es que es la novia. Pero no se pasa la ca'] Genero 25 posibles y me quedo con los 5 mas probables\n",
      "---------------------------------------------\n",
      "['NOVIA: (En la novia) No te pasa.\\n\\nNOVIO: Eso es la novia. Es que es la novia. Pero no se pasa la man'\n",
      " 'NOVIA: (En la novia) No te pasa.\\n\\nNOVIO: Eso es la novia. Es que es la novia. Pero no se pasa la man'\n",
      " 'NOVIA: (En la novia) No te pasa.\\n\\nNOVIO: Eso es la novia. Es que es la novia. Pero no se pasa la man'\n",
      " 'NOVIA: (En la novia) No te pasa.\\n\\nNOVIO: Eso es la novia. Es que es la novia. Pero no se pasa la cas'\n",
      " 'NOVIA: (En la novia) No te pasa.\\n\\nNOVIO: Eso es la novia. Es que es la novia. Pero no se pasa la cas'] Genero 25 posibles y me quedo con los 5 mas probables\n",
      "---------------------------------------------\n",
      "['NOVIA: (En la novia) No te pasa.\\n\\nNOVIO: Eso es la novia. Es que es la novia. Pero no se pasa la casa'\n",
      " 'NOVIA: (En la novia) No te pasa.\\n\\nNOVIO: Eso es la novia. Es que es la novia. Pero no se pasa la casa'\n",
      " 'NOVIA: (En la novia) No te pasa.\\n\\nNOVIO: Eso es la novia. Es que es la novia. Pero no se pasa la casa'\n",
      " 'NOVIA: (En la novia) No te pasa.\\n\\nNOVIO: Eso es la novia. Es que es la novia. Pero no se pasa la casa'\n",
      " 'NOVIA: (En la novia) No te pasa.\\n\\nNOVIO: Eso es la novia. Es que es la novia. Pero no se pasa la mana'] Genero 25 posibles y me quedo con los 5 mas probables\n",
      "---------------------------------------------\n",
      "['NOVIA: (En la novia) No te pasa.\\n\\nNOVIO: Eso es la novia. Es que es la novia. Pero no se pasa la casa.'\n",
      " 'NOVIA: (En la novia) No te pasa.\\n\\nNOVIO: Eso es la novia. Es que es la novia. Pero no se pasa la casa.'\n",
      " 'NOVIA: (En la novia) No te pasa.\\n\\nNOVIO: Eso es la novia. Es que es la novia. Pero no se pasa la casa.'\n",
      " 'NOVIA: (En la novia) No te pasa.\\n\\nNOVIO: Eso es la novia. Es que es la novia. Pero no se pasa la casa.'\n",
      " 'NOVIA: (En la novia) No te pasa.\\n\\nNOVIO: Eso es la novia. Es que es la novia. Pero no se pasa la casa.'] Genero 25 posibles y me quedo con los 5 mas probables\n",
      "---------------------------------------------\n",
      "['NOVIA: (En la novia) No te pasa.\\n\\nNOVIO: Eso es la novia. Es que es la novia. Pero no se pasa la casa.\\n'\n",
      " 'NOVIA: (En la novia) No te pasa.\\n\\nNOVIO: Eso es la novia. Es que es la novia. Pero no se pasa la casa.\\n'\n",
      " 'NOVIA: (En la novia) No te pasa.\\n\\nNOVIO: Eso es la novia. Es que es la novia. Pero no se pasa la casa.\\n'\n",
      " 'NOVIA: (En la novia) No te pasa.\\n\\nNOVIO: Eso es la novia. Es que es la novia. Pero no se pasa la casa.\\n'\n",
      " 'NOVIA: (En la novia) No te pasa.\\n\\nNOVIO: Eso es la novia. Es que es la novia. Pero no se pasa la casa.\\n'] Genero 25 posibles y me quedo con los 5 mas probables\n",
      "---------------------------------------------\n",
      "['NOVIA: (En la novia) No te pasa.\\n\\nNOVIO: Eso es la novia. Es que es la novia. Pero no se pasa la casa.\\n\\n'\n",
      " 'NOVIA: (En la novia) No te pasa.\\n\\nNOVIO: Eso es la novia. Es que es la novia. Pero no se pasa la casa.\\n\\n'\n",
      " 'NOVIA: (En la novia) No te pasa.\\n\\nNOVIO: Eso es la novia. Es que es la novia. Pero no se pasa la casa.\\n\\n'\n",
      " 'NOVIA: (En la novia) No te pasa.\\n\\nNOVIO: Eso es la novia. Es que es la novia. Pero no se pasa la casa.\\n\\n'\n",
      " 'NOVIA: (En la novia) No te pasa.\\n\\nNOVIO: Eso es la novia. Es que es la novia. Pero no se pasa la casa.\\n\\n'] Genero 25 posibles y me quedo con los 5 mas probables\n",
      "---------------------------------------------\n",
      "['NOVIA: (En la novia) No te pasa.\\n\\nNOVIO: Eso es la novia. Es que es la novia. Pero no se pasa la casa.\\n\\nN'\n",
      " 'NOVIA: (En la novia) No te pasa.\\n\\nNOVIO: Eso es la novia. Es que es la novia. Pero no se pasa la casa.\\n\\nN'\n",
      " 'NOVIA: (En la novia) No te pasa.\\n\\nNOVIO: Eso es la novia. Es que es la novia. Pero no se pasa la casa.\\n\\nN'\n",
      " 'NOVIA: (En la novia) No te pasa.\\n\\nNOVIO: Eso es la novia. Es que es la novia. Pero no se pasa la casa.\\n\\nM'\n",
      " 'NOVIA: (En la novia) No te pasa.\\n\\nNOVIO: Eso es la novia. Es que es la novia. Pero no se pasa la casa.\\n\\nM'] Genero 25 posibles y me quedo con los 5 mas probables\n",
      "---------------------------------------------\n",
      "NOVIA: (En la novia) No te pasa.\n",
      "\n",
      "NOVIO: Eso es la novia. Es que es la novia. Pero no se pasa la casa.\n",
      "\n",
      "NO\n"
     ]
    }
   ],
   "source": [
    "initial_phrase = 'NOVIA:'\n",
    "phrases = [initial_phrase]\n",
    "log_probs = np.zeros(len(phrases)*beam_width)\n",
    "for i in range(100):\n",
    "    print(phrases, end=' ')\n",
    "    phrases, log_probs = predict_beams(phrases, log_probs, beam_width, temp=2)\n",
    "    print('Genero '+str(len(phrases))+' posibles y me quedo con los {} mas probables'.format(beam_width))\n",
    "    #print(phrases)\n",
    "    #print(log_probs)\n",
    "    sorted_indexes = np.argsort(log_probs)[::-1][:beam_width]\n",
    "    log_probs = log_probs[sorted_indexes]\n",
    "    phrases = phrases[sorted_indexes]\n",
    "    print('---------------------------------------------')\n",
    "print(phrases[0])"
   ]
  },
  {
   "cell_type": "code",
   "execution_count": 91,
   "metadata": {},
   "outputs": [
    {
     "name": "stdout",
     "output_type": "stream",
     "text": [
      "NOVIA: (En la novia) No te pasa.\n",
      "\n",
      "NOVIO: Eso es la novia. Es que es la novia. Pero no se pasa la casa.\n",
      "\n",
      "NO\n"
     ]
    }
   ],
   "source": [
    "print(phrases[0])"
   ]
  },
  {
   "cell_type": "markdown",
   "metadata": {},
   "source": [
    "## Algunas frases con Beam Search\n",
    "Temp = 1"
   ]
  },
  {
   "cell_type": "raw",
   "metadata": {},
   "source": [
    "NOVIA: (Seria) Ahora de casaria. (Se siente de la caballo de la caballo de la caballo de la casa.)\n",
    "\n",
    "NOVIA:"
   ]
  },
  {
   "cell_type": "markdown",
   "metadata": {},
   "source": [
    "Temp = 2\n",
    "\n",
    "NOVIA: Vamos a la madre. Pero como una mujer.\n",
    "\n",
    "MADRE: (Al novio) No tengo es un hombre. Pero es un caballo"
   ]
  },
  {
   "cell_type": "markdown",
   "metadata": {},
   "source": [
    "# Verificación Beam search"
   ]
  },
  {
   "cell_type": "code",
   "execution_count": 1101,
   "metadata": {},
   "outputs": [
    {
     "name": "stdout",
     "output_type": "stream",
     "text": [
      " (Ser\n",
      "0.525927\n",
      "0.296634\n",
      "0.278172\n",
      "0.86822\n",
      "0.606687\n"
     ]
    },
    {
     "data": {
      "text/plain": [
       "-3.7784151881933212"
      ]
     },
     "execution_count": 1101,
     "metadata": {},
     "output_type": "execute_result"
    }
   ],
   "source": [
    "selected_pred = 0 # Cual de las predicciones verifico. Deberia quedarme con la de mayor prob\n",
    "predicted_chars = phrases[selected_pred][len(initial_phrase):]\n",
    "print(predicted_chars)\n",
    "log_sum = 0\n",
    "predicted_phrase_parc = initial_phrase\n",
    "for c in predicted_chars:\n",
    "    pred_prob = predict_phrase(model, predicted_phrase_parc, verbose=False)[chars_to_indices[c]]\n",
    "    print(pred_prob)\n",
    "    predicted_phrase_parc = predicted_phrase_parc + c\n",
    "    log_sum = log_sum + np.log(pred_prob)\n",
    "log_sum"
   ]
  }
 ],
 "metadata": {
  "kernelspec": {
   "display_name": "Python 3",
   "language": "python",
   "name": "python3"
  },
  "language_info": {
   "codemirror_mode": {
    "name": "ipython",
    "version": 3
   },
   "file_extension": ".py",
   "mimetype": "text/x-python",
   "name": "python",
   "nbconvert_exporter": "python",
   "pygments_lexer": "ipython3",
   "version": "3.8.5"
  }
 },
 "nbformat": 4,
 "nbformat_minor": 4
}
