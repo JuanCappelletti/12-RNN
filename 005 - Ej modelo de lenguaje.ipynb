{
 "cells": [
  {
   "cell_type": "code",
   "execution_count": 1,
   "metadata": {
    "colab": {},
    "colab_type": "code",
    "id": "IiCs0mLBY8Ot"
   },
   "outputs": [],
   "source": [
    "%load_ext autoreload\n",
    "%autoreload 2"
   ]
  },
  {
   "cell_type": "code",
   "execution_count": 2,
   "metadata": {
    "colab": {
     "base_uri": "https://localhost:8080/",
     "height": 204
    },
    "colab_type": "code",
    "id": "GpQyVgxcZANl",
    "outputId": "9cd0b8a6-2655-40f7-80ad-0584a5ad2560"
   },
   "outputs": [],
   "source": [
    "# ! wget https://raw.githubusercontent.com/deeplearning-itba/12-RNN/master/RNN_utils.py"
   ]
  },
  {
   "cell_type": "code",
   "execution_count": 6,
   "metadata": {
    "colab": {
     "base_uri": "https://localhost:8080/",
     "height": 204
    },
    "colab_type": "code",
    "id": "w02j7HVVZR5_",
    "outputId": "320a4ed9-480b-46b6-8286-1803c5a7e491"
   },
   "outputs": [
    {
     "name": "stdout",
     "output_type": "stream",
     "text": [
      "--2020-10-15 13:36:07--  https://raw.githubusercontent.com/deeplearning-itba/12-RNN/master/federico-garcia-lorca/bodas_de_sangre.txt\n",
      "Resolving raw.githubusercontent.com (raw.githubusercontent.com)... 151.101.216.133\n",
      "Connecting to raw.githubusercontent.com (raw.githubusercontent.com)|151.101.216.133|:443... connected.\n",
      "HTTP request sent, awaiting response... 200 OK\n",
      "Length: 69219 (68K) [text/plain]\n",
      "Saving to: ‘bodas_de_sangre.txt’\n",
      "\n",
      "bodas_de_sangre.txt 100%[===================>]  67.60K  --.-KB/s    in 0.03s   \n",
      "\n",
      "2020-10-15 13:36:08 (2.06 MB/s) - ‘bodas_de_sangre.txt’ saved [69219/69219]\n",
      "\n"
     ]
    }
   ],
   "source": [
    "! wget https://raw.githubusercontent.com/deeplearning-itba/12-RNN/master/federico-garcia-lorca/bodas_de_sangre.txt"
   ]
  },
  {
   "cell_type": "code",
   "execution_count": 7,
   "metadata": {
    "colab": {
     "base_uri": "https://localhost:8080/",
     "height": 80
    },
    "colab_type": "code",
    "id": "B7sq0BryY8O2",
    "outputId": "4c341db0-0c54-4154-a168-41b0a5a5a0ae"
   },
   "outputs": [],
   "source": [
    "from RNN_utils import window_transform_text, encode_io_pairs, get_deep_rnn"
   ]
  },
  {
   "cell_type": "markdown",
   "metadata": {
    "colab_type": "text",
    "id": "9CusAFMMY8O4"
   },
   "source": [
    "# Abro archivo de texto con obra e imporimo los primeros 1000 caracteres"
   ]
  },
  {
   "cell_type": "code",
   "execution_count": 8,
   "metadata": {
    "colab": {
     "base_uri": "https://localhost:8080/",
     "height": 1000
    },
    "colab_type": "code",
    "id": "ACghLHUEY8O5",
    "outputId": "88bb7de8-59bd-469d-b049-96efdf98037e"
   },
   "outputs": [
    {
     "name": "stdout",
     "output_type": "stream",
     "text": [
      "Cantidad de caracteres: 67561\n",
      "Cantidad de caracteres unicos: 71\n",
      "['\\n', ' ', '!', '(', ')', ',', '.', '1', '2', '3', '9', ':', ';', '?', 'A', 'B', 'C', 'D', 'E', 'F', 'G', 'H', 'I', 'J', 'L', 'M', 'N', 'O', 'P', 'Q', 'R', 'S', 'T', 'U', 'V', 'Y', 'Z', 'a', 'b', 'c', 'd', 'e', 'f', 'g', 'h', 'i', 'j', 'l', 'm', 'n', 'o', 'p', 'q', 'r', 's', 't', 'u', 'v', 'x', 'y', 'z', '¡', '¿', 'É', 'Ñ', 'á', 'é', 'í', 'ñ', 'ó', 'ú']\n",
      "------------------------------------------------------\n",
      "BODAS DE SANGRE(1933)\n",
      "\n",
      "Poema trágico en tres actos y siete cuadros\n",
      "\n",
      "Personajes\n",
      " \n",
      "Madre\n",
      "Criada\n",
      "Leonardo\n",
      "Mozos\n",
      "Novia\n",
      "Vecina\n",
      "Novio\n",
      "Leñadores\n",
      "Suegra\n",
      "Muchachas\n",
      "Padre de la novia\n",
      "Mozos\n",
      "Mujer de Leonardo\n",
      "Luna\n",
      "Muerte (como mendiga)\n",
      "\n",
      "Acto primero\n",
      "\n",
      "CUADRO PRIMERO\n",
      "\n",
      "Habitación pintada de amarillo.\n",
      "\n",
      "NOVIO: (Entrando) Madre.\n",
      "\n",
      "MADRE: ¿Que?\n",
      "\n",
      "NOVIO:Me voy.\n",
      "\n",
      "MADRE: ¿Adónde?\n",
      "\n",
      "NOVIO:A la viña. (Va a salir)\n",
      "\n",
      "MADRE: Espera.\n",
      "\n",
      "NOVIO:¿Quieres algo?\n",
      "\n",
      "MADRE: Hijo, el almuerzo.\n",
      "\n",
      "NOVIO: Déjalo. Comeré uvas. Dame la navaja.\n",
      "\n",
      "MADRE: ¿Para qué?\n",
      "\n",
      "NOVIO: (Riendo) Para cortarlas.\n",
      "\n",
      "MADRE: (Entre dientes y buscándola) La navaja, la navaja... Malditas sean todas y el bribón que las inventó.\n",
      "\n",
      "NOVIO: Vamos a otro asunto.\n",
      "\n",
      "MADRE: Y las escopetas, y las pistolas, y el cuchillo más pequeño, y hasta las azadas y los bieldos de la era.\n",
      "\n",
      "NOVIO: Bueno.\n",
      "\n",
      "MADRE: Todo lo que puede cortar el cuerpo de un hombre. Un hombre hermoso, con su flor en la boca, que sale a las viñas o va a sus olivos propios, porque son de él, heredados...\n",
      "\n",
      "NO\n"
     ]
    }
   ],
   "source": [
    "text = open('bodas_de_sangre.txt').read()\n",
    "number_of_chars = len(text)\n",
    "all_chars = sorted(set(text))\n",
    "print('Cantidad de caracteres: ' + str(number_of_chars))\n",
    "print('Cantidad de caracteres unicos: ' + str(len(all_chars)))\n",
    "print(all_chars)\n",
    "print('------------------------------------------------------')\n",
    "print(text[:1000])"
   ]
  },
  {
   "cell_type": "code",
   "execution_count": 9,
   "metadata": {
    "colab": {
     "base_uri": "https://localhost:8080/",
     "height": 34
    },
    "colab_type": "code",
    "id": "TAqqoxtmlAZv",
    "outputId": "276d8a44-c5ed-4eae-a3c2-ff3b31f7bceb"
   },
   "outputs": [
    {
     "data": {
      "text/plain": [
       "71"
      ]
     },
     "execution_count": 9,
     "metadata": {},
     "output_type": "execute_result"
    }
   ],
   "source": [
    "chars = set(text)\n",
    "len(chars)"
   ]
  },
  {
   "cell_type": "markdown",
   "metadata": {
    "colab_type": "text",
    "id": "CZ1RqsBMY8PA"
   },
   "source": [
    "# Analisis de la frecuencia de los caracteres"
   ]
  },
  {
   "cell_type": "code",
   "execution_count": 10,
   "metadata": {
    "colab": {
     "base_uri": "https://localhost:8080/",
     "height": 1000
    },
    "colab_type": "code",
    "id": "Uy5pG9HfY8PB",
    "outputId": "8a08c40c-ffa0-4c90-86e2-74a26b3556cf"
   },
   "outputs": [
    {
     "data": {
      "text/plain": [
       "[(' ', 10351),\n",
       " ('a', 5847),\n",
       " ('e', 5543),\n",
       " ('o', 4129),\n",
       " ('s', 3118),\n",
       " ('r', 2911),\n",
       " ('n', 2891),\n",
       " ('l', 2523),\n",
       " ('\\n', 2423),\n",
       " ('i', 1991),\n",
       " ('u', 1984),\n",
       " ('d', 1874),\n",
       " ('t', 1623),\n",
       " ('c', 1391),\n",
       " ('.', 1369),\n",
       " ('m', 1266),\n",
       " ('A', 1033),\n",
       " (':', 888),\n",
       " ('p', 832),\n",
       " ('E', 692),\n",
       " ('O', 624),\n",
       " ('b', 599),\n",
       " ('v', 585),\n",
       " ('q', 583),\n",
       " ('D', 545),\n",
       " ('N', 539),\n",
       " ('y', 536),\n",
       " ('h', 524),\n",
       " ('R', 515),\n",
       " ('g', 498),\n",
       " (',', 465),\n",
       " ('I', 399),\n",
       " ('M', 398),\n",
       " ('V', 366),\n",
       " ('C', 351),\n",
       " ('(', 329),\n",
       " (')', 329),\n",
       " ('j', 328),\n",
       " ('L', 308),\n",
       " ('!', 282),\n",
       " ('¡', 280),\n",
       " ('í', 275),\n",
       " ('á', 252),\n",
       " ('é', 249),\n",
       " ('?', 237),\n",
       " ('¿', 235),\n",
       " ('S', 226),\n",
       " ('P', 226),\n",
       " ('U', 193),\n",
       " ('z', 186),\n",
       " ('f', 172),\n",
       " ('H', 158),\n",
       " ('ñ', 136),\n",
       " ('Q', 125),\n",
       " ('Y', 123),\n",
       " ('ó', 111),\n",
       " ('T', 109),\n",
       " ('G', 68),\n",
       " ('J', 66),\n",
       " ('1', 63),\n",
       " ('Ñ', 58),\n",
       " ('ú', 57),\n",
       " (';', 39),\n",
       " ('2', 36),\n",
       " ('B', 21),\n",
       " ('Z', 21),\n",
       " ('3', 20),\n",
       " ('F', 20),\n",
       " ('x', 11),\n",
       " ('É', 5),\n",
       " ('9', 1)]"
      ]
     },
     "execution_count": 10,
     "metadata": {},
     "output_type": "execute_result"
    }
   ],
   "source": [
    "from collections import Counter\n",
    "Counter(text).most_common()"
   ]
  },
  {
   "cell_type": "markdown",
   "metadata": {
    "colab_type": "text",
    "id": "ZfECJneKY8PE"
   },
   "source": [
    "# Veo ejemplos en train de como queda Entrada / Salida"
   ]
  },
  {
   "cell_type": "code",
   "execution_count": 11,
   "metadata": {
    "colab": {},
    "colab_type": "code",
    "id": "flyGWPYbfkBA"
   },
   "outputs": [],
   "source": [
    "import numpy as np"
   ]
  },
  {
   "cell_type": "code",
   "execution_count": 12,
   "metadata": {
    "colab": {},
    "colab_type": "code",
    "id": "DhtIRtPaaK5h"
   },
   "outputs": [],
   "source": [
    "def create_dataset(text, window = 100):\n",
    "  inputs = []\n",
    "  outputs = []\n",
    "  \n",
    "  for i in range(len(text)-window):\n",
    "    inputs.append(text[i:i+window])\n",
    "    outputs.append(text[i+1:i+window+1])\n",
    "  return inputs, outputs"
   ]
  },
  {
   "cell_type": "code",
   "execution_count": 13,
   "metadata": {
    "colab": {},
    "colab_type": "code",
    "id": "cruk1Gh6c4A0"
   },
   "outputs": [],
   "source": [
    "def encode_text(inputs,chars, window_size):\n",
    "    num_chars = len(chars)\n",
    "    chars_to_indices = dict((c, i) for i, c in enumerate(chars))\n",
    "    # cut up text into character input/output pairs\n",
    "    \n",
    "    # create empty vessels for one-hot encoded input/output\n",
    "    X = np.zeros((len(inputs), window_size, num_chars), dtype=np.bool)\n",
    "    \n",
    "    # loop over inputs/outputs and tranform and store in X/y\n",
    "    for i, sentence in enumerate(inputs):\n",
    "        for t, char in enumerate(sentence):\n",
    "            if char not in chars_to_indices:\n",
    "                char = ' '\n",
    "            X[i, t, chars_to_indices[char]] = 1\n",
    "    return X"
   ]
  },
  {
   "cell_type": "code",
   "execution_count": 14,
   "metadata": {
    "colab": {},
    "colab_type": "code",
    "id": "oUY4YJaJlbeN"
   },
   "outputs": [],
   "source": [
    "window_size = 100\n",
    "X_, y_ = create_dataset(text, window_size)\n",
    "X = encode_text(X_, chars, window_size)\n",
    "y = encode_text(y_, chars, window_size)"
   ]
  },
  {
   "cell_type": "code",
   "execution_count": 15,
   "metadata": {
    "colab": {
     "base_uri": "https://localhost:8080/",
     "height": 221
    },
    "colab_type": "code",
    "id": "zDPXvtijaBLi",
    "outputId": "7205206a-96e8-48fa-97ea-8e5f271c9bf5"
   },
   "outputs": [
    {
     "name": "stdout",
     "output_type": "stream",
     "text": [
      "ENTRADA:\n",
      "o\n",
      "donde tiembla enmarañada\n",
      "la oscura raíz del grito.\n",
      "(Las vecinas, arrodilladas en el suelo, lloran.\n",
      "----------------\n",
      "SALIDA:\n",
      "\n",
      "donde tiembla enmarañada\n",
      "la oscura raíz del grito.\n",
      "(Las vecinas, arrodilladas en el suelo, lloran.)\n",
      "----------------\n"
     ]
    }
   ],
   "source": [
    "print('ENTRADA:')\n",
    "print(X_[-1])\n",
    "print('----------------')\n",
    "print('SALIDA:')\n",
    "print(y_[-1])\n",
    "print('----------------')"
   ]
  },
  {
   "cell_type": "code",
   "execution_count": 16,
   "metadata": {
    "colab": {
     "base_uri": "https://localhost:8080/",
     "height": 34
    },
    "colab_type": "code",
    "id": "Wc8YZSWslhNE",
    "outputId": "2f3b0163-43af-4c2e-eb0a-16d40cfd16da"
   },
   "outputs": [
    {
     "data": {
      "text/plain": [
       "((67461, 100, 71), (67461, 100, 71))"
      ]
     },
     "execution_count": 16,
     "metadata": {},
     "output_type": "execute_result"
    }
   ],
   "source": [
    "X.shape, y.shape"
   ]
  },
  {
   "cell_type": "code",
   "execution_count": 17,
   "metadata": {
    "colab": {},
    "colab_type": "code",
    "id": "NEoDXzyCmLVU"
   },
   "outputs": [],
   "source": [
    "from sklearn.model_selection import train_test_split\n",
    "X_train, X_validation, y_train, y_validation = train_test_split(X, y, test_size=0.2, shuffle=False)\n",
    "\n",
    "## Por que shuffle va en TRUE?? ##"
   ]
  },
  {
   "cell_type": "code",
   "execution_count": 18,
   "metadata": {
    "colab": {
     "base_uri": "https://localhost:8080/",
     "height": 54
    },
    "colab_type": "code",
    "id": "7rOWhrqtY8PH",
    "outputId": "7ab02857-4ba3-4387-eb47-04b1cccbb029"
   },
   "outputs": [
    {
     "name": "stdout",
     "output_type": "stream",
     "text": [
      "{'R': 0, 'g': 1, 'l': 2, 'Ñ': 3, 'i': 4, ' ': 5, ';': 6, 'ú': 7, 'm': 8, 'y': 9, 'N': 10, 'f': 11, 'B': 12, 'P': 13, 'ñ': 14, 'r': 15, '¿': 16, ',': 17, 'ó': 18, 'C': 19, 'p': 20, 'F': 21, 'M': 22, 'T': 23, 'o': 24, 'b': 25, 't': 26, '(': 27, 'x': 28, '9': 29, '\\n': 30, 'v': 31, 'h': 32, 'H': 33, '?': 34, ':': 35, 'a': 36, 'A': 37, 'É': 38, 'n': 39, 'I': 40, 'Y': 41, 'é': 42, 'G': 43, 'Q': 44, 's': 45, 'z': 46, 'D': 47, 'U': 48, 'í': 49, '¡': 50, '!': 51, '2': 52, 'á': 53, 'L': 54, 'J': 55, 'S': 56, 'c': 57, '.': 58, 'Z': 59, 'e': 60, 'j': 61, '3': 62, 'u': 63, 'q': 64, ')': 65, 'E': 66, 'V': 67, '1': 68, 'd': 69, 'O': 70}\n"
     ]
    }
   ],
   "source": [
    "chars_to_indices = dict((c, i) for i, c in enumerate(chars))\n",
    "indices_to_chars = dict((i, c) for i, c in enumerate(chars))\n",
    "print(chars_to_indices)"
   ]
  },
  {
   "cell_type": "code",
   "execution_count": 19,
   "metadata": {
    "colab": {
     "base_uri": "https://localhost:8080/",
     "height": 85
    },
    "colab_type": "code",
    "id": "VyLqXsASY8PQ",
    "outputId": "6c47d40e-3181-4487-e0f4-3a4a5739030b"
   },
   "outputs": [
    {
     "data": {
      "text/plain": [
       "array([0, 0, 0, 0, 0, 0, 0, 0, 0, 0, 0, 0, 1, 0, 0, 0, 0, 0, 0, 0, 0, 0,\n",
       "       0, 0, 0, 0, 0, 0, 0, 0, 0, 0, 0, 0, 0, 0, 0, 0, 0, 0, 0, 0, 0, 0,\n",
       "       0, 0, 0, 0, 0, 0, 0, 0, 0, 0, 0, 0, 0, 0, 0, 0, 0, 0, 0, 0, 0, 0,\n",
       "       0, 0, 0, 0, 0])"
      ]
     },
     "execution_count": 19,
     "metadata": {},
     "output_type": "execute_result"
    }
   ],
   "source": [
    "X_train[0,0]*1"
   ]
  },
  {
   "cell_type": "markdown",
   "metadata": {
    "colab_type": "text",
    "id": "tjUcf9P-Y8PS"
   },
   "source": [
    "# Defino modelo"
   ]
  },
  {
   "cell_type": "code",
   "execution_count": 22,
   "metadata": {
    "colab": {},
    "colab_type": "code",
    "id": "vRjoweyHY8PT"
   },
   "outputs": [],
   "source": [
    "from tensorflow.keras.models import Sequential\n",
    "from tensorflow.keras.layers import Dense, Activation, LSTM, Dropout, SimpleRNN \n",
    "from tensorflow.keras.optimizers import RMSprop\n",
    "# from tensorflow.keras.utils.data_utils import get_file\n",
    "from tensorflow.keras.callbacks import ModelCheckpoint \n",
    "import tensorflow.keras\n",
    "import random"
   ]
  },
  {
   "cell_type": "code",
   "execution_count": null,
   "metadata": {},
   "outputs": [],
   "source": []
  },
  {
   "cell_type": "code",
   "execution_count": 32,
   "metadata": {
    "colab": {},
    "colab_type": "code",
    "id": "Ai1zPUawV4-a"
   },
   "outputs": [],
   "source": [
    "def get_model(dropout_p = 0.1, output = len(chars), input_shape = X_train.shape[1:], RNN_units=200):\n",
    "  model = Sequential()\n",
    "  model.add(SimpleRNN(200, input_shape=input_shape, return_sequences=True, name='RNN',\n",
    "                        dropout=dropout_p, recurrent_dropout=dropout_p ))\n",
    "  model.add(Dense(output, activation='softmax'))\n",
    "  model.compile(loss='categorical_crossentropy', optimizer='rmsprop')\n",
    "  return model"
   ]
  },
  {
   "cell_type": "code",
   "execution_count": 34,
   "metadata": {
    "colab": {},
    "colab_type": "code",
    "id": "oRfgyHOweNHr"
   },
   "outputs": [],
   "source": [
    "model = get_model()"
   ]
  },
  {
   "cell_type": "code",
   "execution_count": 35,
   "metadata": {
    "colab": {
     "base_uri": "https://localhost:8080/",
     "height": 221
    },
    "colab_type": "code",
    "id": "6zrSwxKfe2Ng",
    "outputId": "0b7b05af-52fa-47eb-9d67-997254476afe"
   },
   "outputs": [
    {
     "name": "stdout",
     "output_type": "stream",
     "text": [
      "Model: \"sequential_5\"\n",
      "_________________________________________________________________\n",
      "Layer (type)                 Output Shape              Param #   \n",
      "=================================================================\n",
      "RNN (SimpleRNN)              (None, 100, 200)          54400     \n",
      "_________________________________________________________________\n",
      "dense_5 (Dense)              (None, 100, 71)           14271     \n",
      "=================================================================\n",
      "Total params: 68,671\n",
      "Trainable params: 68,671\n",
      "Non-trainable params: 0\n",
      "_________________________________________________________________\n"
     ]
    }
   ],
   "source": [
    "model.summary()"
   ]
  },
  {
   "cell_type": "markdown",
   "metadata": {
    "colab_type": "text",
    "id": "AT4OEFheY8PX"
   },
   "source": [
    "# Primer modelo lo mas sencillo"
   ]
  },
  {
   "cell_type": "code",
   "execution_count": 36,
   "metadata": {
    "colab": {
     "base_uri": "https://localhost:8080/",
     "height": 1000
    },
    "colab_type": "code",
    "id": "YFnnAeRlY8PY",
    "outputId": "321ada66-2138-4c89-e077-41e304324d4b"
   },
   "outputs": [
    {
     "name": "stdout",
     "output_type": "stream",
     "text": [
      "Epoch 1/20\n",
      "211/211 [==============================] - ETA: 0s - loss: 2.6057\n",
      "Epoch 00001: val_loss improved from inf to 2.17281, saving model to bodas_sangre_RNN.hdf5\n",
      "211/211 [==============================] - 48s 227ms/step - loss: 2.6057 - val_loss: 2.1728\n",
      "Epoch 2/20\n",
      "211/211 [==============================] - ETA: 0s - loss: 1.9800\n",
      "Epoch 00002: val_loss improved from 2.17281 to 2.04878, saving model to bodas_sangre_RNN.hdf5\n",
      "211/211 [==============================] - 47s 221ms/step - loss: 1.9800 - val_loss: 2.0488\n",
      "Epoch 3/20\n",
      "211/211 [==============================] - ETA: 0s - loss: 1.8736\n",
      "Epoch 00003: val_loss improved from 2.04878 to 2.00668, saving model to bodas_sangre_RNN.hdf5\n",
      "211/211 [==============================] - 47s 225ms/step - loss: 1.8736 - val_loss: 2.0067\n",
      "Epoch 4/20\n",
      "211/211 [==============================] - ETA: 0s - loss: 1.8054\n",
      "Epoch 00004: val_loss improved from 2.00668 to 1.94482, saving model to bodas_sangre_RNN.hdf5\n",
      "211/211 [==============================] - 48s 225ms/step - loss: 1.8054 - val_loss: 1.9448\n",
      "Epoch 5/20\n",
      "211/211 [==============================] - ETA: 0s - loss: 1.7420\n",
      "Epoch 00005: val_loss improved from 1.94482 to 1.90383, saving model to bodas_sangre_RNN.hdf5\n",
      "211/211 [==============================] - 49s 234ms/step - loss: 1.7420 - val_loss: 1.9038\n",
      "Epoch 6/20\n",
      "211/211 [==============================] - ETA: 0s - loss: 1.6857\n",
      "Epoch 00006: val_loss improved from 1.90383 to 1.86239, saving model to bodas_sangre_RNN.hdf5\n",
      "211/211 [==============================] - 48s 226ms/step - loss: 1.6857 - val_loss: 1.8624\n",
      "Epoch 7/20\n",
      "211/211 [==============================] - ETA: 0s - loss: 1.6380\n",
      "Epoch 00007: val_loss improved from 1.86239 to 1.84694, saving model to bodas_sangre_RNN.hdf5\n",
      "211/211 [==============================] - 47s 221ms/step - loss: 1.6380 - val_loss: 1.8469\n",
      "Epoch 8/20\n",
      "211/211 [==============================] - ETA: 0s - loss: 1.5968\n",
      "Epoch 00008: val_loss improved from 1.84694 to 1.81531, saving model to bodas_sangre_RNN.hdf5\n",
      "211/211 [==============================] - 47s 225ms/step - loss: 1.5968 - val_loss: 1.8153\n",
      "Epoch 9/20\n",
      "211/211 [==============================] - ETA: 0s - loss: 1.5627\n",
      "Epoch 00009: val_loss improved from 1.81531 to 1.80044, saving model to bodas_sangre_RNN.hdf5\n",
      "211/211 [==============================] - 46s 219ms/step - loss: 1.5627 - val_loss: 1.8004\n",
      "Epoch 10/20\n",
      "211/211 [==============================] - ETA: 0s - loss: 1.5352\n",
      "Epoch 00010: val_loss improved from 1.80044 to 1.79583, saving model to bodas_sangre_RNN.hdf5\n",
      "211/211 [==============================] - 46s 220ms/step - loss: 1.5352 - val_loss: 1.7958\n",
      "Epoch 11/20\n",
      "211/211 [==============================] - ETA: 0s - loss: 1.5101\n",
      "Epoch 00011: val_loss improved from 1.79583 to 1.79140, saving model to bodas_sangre_RNN.hdf5\n",
      "211/211 [==============================] - 45s 215ms/step - loss: 1.5101 - val_loss: 1.7914\n",
      "Epoch 12/20\n",
      "211/211 [==============================] - ETA: 0s - loss: 1.4896\n",
      "Epoch 00012: val_loss improved from 1.79140 to 1.77885, saving model to bodas_sangre_RNN.hdf5\n",
      "211/211 [==============================] - 45s 214ms/step - loss: 1.4896 - val_loss: 1.7788\n",
      "Epoch 13/20\n",
      "211/211 [==============================] - ETA: 0s - loss: 1.4716\n",
      "Epoch 00013: val_loss improved from 1.77885 to 1.76385, saving model to bodas_sangre_RNN.hdf5\n",
      "211/211 [==============================] - 46s 216ms/step - loss: 1.4716 - val_loss: 1.7638\n",
      "Epoch 14/20\n",
      "211/211 [==============================] - ETA: 0s - loss: 1.4567\n",
      "Epoch 00014: val_loss did not improve from 1.76385\n",
      "211/211 [==============================] - 46s 218ms/step - loss: 1.4567 - val_loss: 1.7685\n",
      "Epoch 15/20\n",
      "211/211 [==============================] - ETA: 0s - loss: 1.4428\n",
      "Epoch 00015: val_loss did not improve from 1.76385\n",
      "211/211 [==============================] - 47s 224ms/step - loss: 1.4428 - val_loss: 1.7793\n",
      "Epoch 16/20\n",
      "211/211 [==============================] - ETA: 0s - loss: 1.4310\n",
      "Epoch 00016: val_loss did not improve from 1.76385\n",
      "211/211 [==============================] - 47s 221ms/step - loss: 1.4310 - val_loss: 1.7737\n",
      "Epoch 17/20\n",
      "211/211 [==============================] - ETA: 0s - loss: 1.4205\n",
      "Epoch 00017: val_loss did not improve from 1.76385\n",
      "211/211 [==============================] - 46s 219ms/step - loss: 1.4205 - val_loss: 1.7666\n",
      "Epoch 18/20\n",
      "211/211 [==============================] - ETA: 0s - loss: 1.4121\n",
      "Epoch 00018: val_loss did not improve from 1.76385\n",
      "211/211 [==============================] - 47s 222ms/step - loss: 1.4121 - val_loss: 1.7678\n",
      "Epoch 19/20\n",
      "211/211 [==============================] - ETA: 0s - loss: 1.4036\n",
      "Epoch 00019: val_loss did not improve from 1.76385\n",
      "211/211 [==============================] - 47s 221ms/step - loss: 1.4036 - val_loss: 1.7737\n",
      "Epoch 20/20\n",
      "211/211 [==============================] - ETA: 0s - loss: 1.3952\n",
      "Epoch 00020: val_loss did not improve from 1.76385\n",
      "211/211 [==============================] - 46s 220ms/step - loss: 1.3952 - val_loss: 1.7646\n"
     ]
    }
   ],
   "source": [
    "batch_size = 256\n",
    "checkpointer = ModelCheckpoint(filepath='bodas_sangre_RNN.hdf5', verbose=1, save_best_only=True)\n",
    "history = model.fit(X_train, y_train, batch_size=batch_size, epochs=20, verbose = 1, \n",
    "                    validation_data = (X_validation, y_validation),\n",
    "                    callbacks=[checkpointer])"
   ]
  },
  {
   "cell_type": "code",
   "execution_count": 37,
   "metadata": {
    "colab": {},
    "colab_type": "code",
    "id": "Q84bdilwrzBj"
   },
   "outputs": [],
   "source": [
    "from matplotlib import pyplot as plt"
   ]
  },
  {
   "cell_type": "code",
   "execution_count": 38,
   "metadata": {
    "colab": {
     "base_uri": "https://localhost:8080/",
     "height": 282
    },
    "colab_type": "code",
    "id": "0naLef9kr2Uw",
    "outputId": "573bf1a9-b66f-4100-da46-7d79f3a96d00"
   },
   "outputs": [
    {
     "data": {
      "text/plain": [
       "[<matplotlib.lines.Line2D at 0x1d119d190>]"
      ]
     },
     "execution_count": 38,
     "metadata": {},
     "output_type": "execute_result"
    },
    {
     "data": {
      "image/png": "[encoded data removed]",
      "text/plain": [
       "<Figure size 432x288 with 1 Axes>"
      ]
     },
     "metadata": {
      "needs_background": "light"
     },
     "output_type": "display_data"
    }
   ],
   "source": [
    "plt.plot(history.history['loss'])\n",
    "plt.plot(history.history['val_loss'])"
   ]
  },
  {
   "cell_type": "code",
   "execution_count": 39,
   "metadata": {
    "colab": {},
    "colab_type": "code",
    "id": "Var3RyUzY8Pa"
   },
   "outputs": [],
   "source": [
    "model.save_weights('bodas_sangre_RNN_last_epoch.hdf5')"
   ]
  },
  {
   "cell_type": "code",
   "execution_count": 40,
   "metadata": {
    "colab": {},
    "colab_type": "code",
    "id": "wsMEN1DxYCim"
   },
   "outputs": [],
   "source": [
    "model = get_model(input_shape = (None, len(chars)))"
   ]
  },
  {
   "cell_type": "code",
   "execution_count": 41,
   "metadata": {
    "colab": {},
    "colab_type": "code",
    "id": "scO8sOSVhik4"
   },
   "outputs": [],
   "source": [
    "model.load_weights('bodas_sangre_RNN.hdf5')\n",
    "# model.load_weights('bodas_sangre_RNN_last_epoch.hdf5')"
   ]
  },
  {
   "cell_type": "code",
   "execution_count": 42,
   "metadata": {
    "colab": {},
    "colab_type": "code",
    "id": "31JKmbPkixUs"
   },
   "outputs": [],
   "source": [
    "from RNN_utils import get_deep_rnn, chars_to_one_hot, sample"
   ]
  },
  {
   "cell_type": "markdown",
   "metadata": {
    "colab_type": "text",
    "id": "WXlX5aHbgFKo"
   },
   "source": [
    "# Greedy search"
   ]
  },
  {
   "cell_type": "code",
   "execution_count": 45,
   "metadata": {
    "colab": {
     "base_uri": "https://localhost:8080/",
     "height": 34
    },
    "colab_type": "code",
    "id": "mSoz2Gm6r6Py",
    "outputId": "05ccd0dd-3811-4688-e130-b208893a1b1a"
   },
   "outputs": [
    {
     "data": {
      "text/plain": [
       "(1, 14, 71)"
      ]
     },
     "execution_count": 45,
     "metadata": {},
     "output_type": "execute_result"
    }
   ],
   "source": [
    "input_text = \"Estaba la novi\"\n",
    "X_test = chars_to_one_hot(input_text, chars, chars_to_indices, len(input_text))\n",
    "predictions = model.predict(X_test)\n",
    "predictions.shape"
   ]
  },
  {
   "cell_type": "code",
   "execution_count": 91,
   "metadata": {},
   "outputs": [
    {
     "data": {
      "text/plain": [
       "array([9.8595880e-02, 3.0199248e-05, 1.0427042e-01, 6.8795934e-02,\n",
       "       8.4964113e-06, 4.8878915e-03, 1.1260908e-05, 2.5544982e-06,\n",
       "       6.1584776e-03, 3.9438528e-06, 1.0866413e-02, 1.0217662e-05,\n",
       "       1.6925324e-05, 1.9462246e-05, 1.0756789e-04, 9.6491473e-03,\n",
       "       6.3047875e-05, 2.8765106e-04, 9.9849547e-07, 1.1072064e-02,\n",
       "       3.3655015e-05, 6.9537168e-07, 1.1933605e-04, 3.2243708e-05,\n",
       "       8.7827430e-05, 6.1508745e-04, 8.8863820e-04, 8.2765473e-05,\n",
       "       8.7006856e-03, 1.4671139e-06, 1.1123004e-03, 8.6303953e-05,\n",
       "       3.5331424e-05, 6.2480380e-05, 3.0463416e-04, 1.6445956e-01,\n",
       "       2.3901721e-03, 3.0268406e-04, 5.2855780e-06, 1.7089438e-01,\n",
       "       3.0970645e-05, 2.7385298e-05, 2.3406468e-05, 3.2467008e-02,\n",
       "       1.3212465e-05, 2.5961384e-01, 5.1184552e-04, 9.1879446e-07,\n",
       "       2.7843545e-05, 1.3391495e-07, 9.3623057e-06, 8.7610562e-05,\n",
       "       6.5375261e-06, 8.8957887e-07, 7.5117227e-05, 9.0175627e-06,\n",
       "       1.0356801e-02, 8.4588956e-03, 1.0370781e-03, 1.9868667e-06,\n",
       "       2.0761211e-06, 3.2568439e-06, 3.1137067e-06, 4.4575468e-06,\n",
       "       3.3498622e-05, 5.4682314e-04, 2.0114772e-05, 7.9923639e-06,\n",
       "       8.4182966e-06, 6.6490611e-05, 2.1469902e-02], dtype=float32)"
      ]
     },
     "execution_count": 91,
     "metadata": {},
     "output_type": "execute_result"
    }
   ],
   "source": [
    "X_test = chars_to_one_hot(input_text, chars, chars_to_indices, len(input_text))\n",
    "predictions = model.predict(X_test)\n",
    "# list(zip(chars, predictions[0, 0]))\n",
    "predictions[0, 0]"
   ]
  },
  {
   "cell_type": "code",
   "execution_count": 57,
   "metadata": {},
   "outputs": [
    {
     "data": {
      "text/plain": [
       "(14, 71)"
      ]
     },
     "execution_count": 57,
     "metadata": {},
     "output_type": "execute_result"
    }
   ],
   "source": [
    "predictions[0].shape"
   ]
  },
  {
   "cell_type": "code",
   "execution_count": 64,
   "metadata": {
    "colab": {},
    "colab_type": "code",
    "id": "KpOCxemdjsBL"
   },
   "outputs": [],
   "source": [
    "def get_predictions(input_text, pred_char_n = -1, verbose = True):\n",
    "  # Pasar a one hot enconding\n",
    "  X_test = chars_to_one_hot(input_text, chars, chars_to_indices, len(input_text))\n",
    "  # Predicción con modelo\n",
    "  predictions = model.predict(X_test)\n",
    "  # La distribución de probabilidades de caracteres de la salida pred_char_n\n",
    "  char_prob = predictions[0, pred_char_n]\n",
    "  # Indices ordenados de mayor probabilidad a menor\n",
    "  probs_sorted_indexes = np.argsort(char_prob)[::-1] \n",
    "  if verbose:\n",
    "    # Imprime texto original hasta caracter\n",
    "    print(input_text[:pred_char_n+1])\n",
    "    # Imprime tuplas de caracter, probabilidad\n",
    "    print([(indices_to_chars[i], predictions[0][pred_char_n][i]) for i in probs_sorted_indexes[:5]])  \n",
    "  return indices_to_chars[probs_sorted_indexes[0]]"
   ]
  },
  {
   "cell_type": "code",
   "execution_count": 65,
   "metadata": {
    "colab": {
     "base_uri": "https://localhost:8080/",
     "height": 68
    },
    "colab_type": "code",
    "id": "Hh8EIc7S6g7i",
    "outputId": "e1c074bc-50cc-45d5-81f5-593541745c73"
   },
   "outputs": [
    {
     "name": "stdout",
     "output_type": "stream",
     "text": [
      "Esta\n",
      "[(' ', 0.52335507), ('s', 0.20410538), ('n', 0.061486483), ('l', 0.06006165), ('r', 0.026716223)]\n"
     ]
    },
    {
     "data": {
      "text/plain": [
       "' '"
      ]
     },
     "execution_count": 65,
     "metadata": {},
     "output_type": "execute_result"
    }
   ],
   "source": [
    "input_text = \"Estaba la novi\"\n",
    "# input_text = \"Estaba el novi\"\n",
    "# input_text = \"los caballo\"\n",
    "# input_text = \"el caballo\"\n",
    "get_predictions(input_text, pred_char_n=3)"
   ]
  },
  {
   "cell_type": "code",
   "execution_count": 98,
   "metadata": {
    "colab": {
     "base_uri": "https://localhost:8080/",
     "height": 102
    },
    "colab_type": "code",
    "id": "BFEtweD8irdF",
    "outputId": "972c18e8-3e34-4420-8e9c-5cb525c7d52a"
   },
   "outputs": [
    {
     "name": "stdout",
     "output_type": "stream",
     "text": [
      "NOVIO: (Alegre) ¿Te hay que se sire esta fuerte. (A la novia) ¿Te qué? ¿Qué es está?\n",
      "\n",
      "NOVIO: ¿Qué es está?\n",
      "\n",
      "NOVIO: ¿Qué es está?\n",
      "\n",
      "NOVIO: ¿Qué es está?\n",
      "\n",
      "NOVIO: ¿Qué es está?\n",
      "\n",
      "NOVIO: ¿Qué es está?\n",
      "\n",
      "NOVIO: ¿Q\n"
     ]
    }
   ],
   "source": [
    "t = 'NOVIO'\n",
    "# t = 'NOVIA'\n",
    "for i in range(200):\n",
    "  t = t + get_predictions(t,len(t)-1, verbose=False)\n",
    "  #print(t)\n",
    "print(t)"
   ]
  },
  {
   "cell_type": "markdown",
   "metadata": {
    "colab_type": "text",
    "id": "IUTbt7cddGtK"
   },
   "source": [
    "# Sampling model"
   ]
  },
  {
   "cell_type": "code",
   "execution_count": 121,
   "metadata": {
    "colab": {
     "base_uri": "https://localhost:8080/",
     "height": 130
    },
    "colab_type": "code",
    "id": "G_m5wgwJj1-g",
    "outputId": "00fb1b74-3e03-4118-bda7-0ae24c8634dd"
   },
   "outputs": [],
   "source": [
    "def sample(a, temperature=1.0, epsilon=1e-10):\n",
    "    a = np.log(np.array(a) + epsilon)\n",
    "    a = a*(1/temperature)\n",
    "    sample_temp = np.exp(a)/(np.exp(a).sum() + epsilon)\n",
    "    if sample_temp.sum() == 0:\n",
    "        return np.argmax(a)\n",
    "    else:\n",
    "        sample_temp = sample_temp/sample_temp.sum()\n",
    "    # sample_temp contiene la nueva distribución luego de modificar la temperatura\n",
    "    choices = range(len(a)) \n",
    "    # Elejir un caracter en función de la distribución sample_temp\n",
    "    sampled_output = np.random.choice(choices, p=sample_temp)\n",
    "    return sampled_output"
   ]
  },
  {
   "cell_type": "code",
   "execution_count": 122,
   "metadata": {
    "colab": {},
    "colab_type": "code",
    "id": "vzZSRqfvY51K"
   },
   "outputs": [],
   "source": [
    "def sample_model(input_text, model=model, chars=chars, chars_to_indices=chars_to_indices, t=1.0):\n",
    "    X_test = chars_to_one_hot(input_text, chars, chars_to_indices, len(input_text))\n",
    "    # Predicción con modelo\n",
    "    p = model.predict(X_test)[0][-1]\n",
    "    # Sampleo de distribución p\n",
    "    sampled_dist = sample(p, temperature=t, epsilon=1e-10)\n",
    "    return indices_to_chars[sampled_dist]"
   ]
  },
  {
   "cell_type": "code",
   "execution_count": 123,
   "metadata": {
    "colab": {
     "base_uri": "https://localhost:8080/",
     "height": 54
    },
    "colab_type": "code",
    "id": "HiP8JOkdZQLU",
    "outputId": "7943e4f5-b7ef-4dac-9e86-256e204eef3b"
   },
   "outputs": [
    {
     "name": "stdout",
     "output_type": "stream",
     "text": [
      "a o o n o o o o o o o a o o o o o o o o a o o o o o o o o o r a o o o o o o a o o o a a o o o o o o o o o o o o a o o o o o o o o o o o o o o o o o o o o o o o o o o o o o o o o o o o o o o o o o o o "
     ]
    }
   ],
   "source": [
    "input_text = 'Estaba el novi'\n",
    "for i in range(100):\n",
    "  print(sample_model(input_text, t=1), end=' ')"
   ]
  },
  {
   "cell_type": "code",
   "execution_count": 124,
   "metadata": {
    "colab": {
     "base_uri": "https://localhost:8080/",
     "height": 68
    },
    "colab_type": "code",
    "id": "EN2XYyBK87ne",
    "outputId": "2bdc5501-b2f8-489f-f774-6326089cae1f"
   },
   "outputs": [
    {
     "name": "stdout",
     "output_type": "stream",
     "text": [
      "NOVIA: (Seria) No lo viste esta la novia. Estoy despierte la novia.\n",
      "MUCHACHA 1: (Entrando) ¡Ah! (Entrando\n"
     ]
    }
   ],
   "source": [
    "t = 'NOVIO'\n",
    "t = 'NOVIA'\n",
    "for i in range(100):\n",
    "  t = t + sample_model(t, t=0.1)\n",
    "  # print(t)\n",
    "print(t)"
   ]
  },
  {
   "cell_type": "code",
   "execution_count": null,
   "metadata": {
    "colab": {},
    "colab_type": "code",
    "id": "_4JFu1CNcz9m"
   },
   "outputs": [],
   "source": []
  }
 ],
 "metadata": {
  "accelerator": "GPU",
  "colab": {
   "name": "1-obras-de-teatro-many-2-one.ipynb",
   "provenance": []
  },
  "kernelspec": {
   "display_name": "Python 3",
   "language": "python",
   "name": "python3"
  },
  "language_info": {
   "codemirror_mode": {
    "name": "ipython",
    "version": 3
   },
   "file_extension": ".py",
   "mimetype": "text/x-python",
   "name": "python",
   "nbconvert_exporter": "python",
   "pygments_lexer": "ipython3",
   "version": "3.8.5"
  },
  "toc": {
   "nav_menu": {},
   "number_sections": true,
   "sideBar": true,
   "skip_h1_title": true,
   "toc_cell": false,
   "toc_position": {},
   "toc_section_display": "block",
   "toc_window_display": false
  }
 },
 "nbformat": 4,
 "nbformat_minor": 4
}
