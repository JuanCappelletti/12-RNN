{
 "cells": [
  {
   "cell_type": "code",
   "execution_count": 12,
   "metadata": {},
   "outputs": [
    {
     "name": "stdout",
     "output_type": "stream",
     "text": [
      "The autoreload extension is already loaded. To reload it, use:\n",
      "  %reload_ext autoreload\n"
     ]
    }
   ],
   "source": [
    "%load_ext autoreload\n",
    "%autoreload 2\n",
    "import numpy as np\n",
    "import sys \n",
    "sys.path.append(\"/Users/julianganzabal/facultad/lab-ml/mllab-tools\")\n",
    "from RNN_utils import encode_io_pairs, chars_to_one_hot, sample\n",
    "from fnn_helper import PlotLosses"
   ]
  },
  {
   "cell_type": "code",
   "execution_count": 13,
   "metadata": {
    "collapsed": true
   },
   "outputs": [],
   "source": [
    "text=\"HELLO\""
   ]
  },
  {
   "cell_type": "code",
   "execution_count": 14,
   "metadata": {},
   "outputs": [
    {
     "name": "stdout",
     "output_type": "stream",
     "text": [
      "['E', 'H', 'L', 'O']\n"
     ]
    }
   ],
   "source": [
    "chars = sorted(set(text))\n",
    "print(chars)"
   ]
  },
  {
   "cell_type": "code",
   "execution_count": 15,
   "metadata": {},
   "outputs": [
    {
     "data": {
      "text/plain": [
       "array([[[0, 1, 0, 0],\n",
       "        [1, 0, 0, 0]]])"
      ]
     },
     "execution_count": 15,
     "metadata": {},
     "output_type": "execute_result"
    }
   ],
   "source": [
    "window_size=1\n",
    "chars_to_indices = dict((c, i) for i, c in enumerate(chars))  # map each unique character to unique integer\n",
    "indices_to_chars = dict((i, c) for i, c in enumerate(chars))\n",
    "chars_to_one_hot('HE', chars, chars_to_indices, window_size)*1"
   ]
  },
  {
   "cell_type": "code",
   "execution_count": 16,
   "metadata": {},
   "outputs": [
    {
     "data": {
      "text/plain": [
       "'E'"
      ]
     },
     "execution_count": 16,
     "metadata": {},
     "output_type": "execute_result"
    }
   ],
   "source": [
    "indices_to_chars[np.argmax([1, 0, 0, 0])]"
   ]
  },
  {
   "cell_type": "code",
   "execution_count": 17,
   "metadata": {
    "collapsed": true
   },
   "outputs": [],
   "source": [
    "window_size=1\n",
    "step_size=1\n",
    "X, y = encode_io_pairs(text, chars, window_size,step_size)"
   ]
  },
  {
   "cell_type": "code",
   "execution_count": 18,
   "metadata": {},
   "outputs": [
    {
     "data": {
      "text/plain": [
       "(4, 1, 4)"
      ]
     },
     "execution_count": 18,
     "metadata": {},
     "output_type": "execute_result"
    }
   ],
   "source": [
    "X.shape"
   ]
  },
  {
   "cell_type": "code",
   "execution_count": 19,
   "metadata": {},
   "outputs": [
    {
     "name": "stdout",
     "output_type": "stream",
     "text": [
      "[[[0 1 0 0]]\n",
      "\n",
      " [[1 0 0 0]]\n",
      "\n",
      " [[0 0 1 0]]\n",
      "\n",
      " [[0 0 1 0]]]\n",
      "[[1 0 0 0]\n",
      " [0 0 1 0]\n",
      " [0 0 1 0]\n",
      " [0 0 0 1]]\n"
     ]
    }
   ],
   "source": [
    "print(X*1)\n",
    "print(y*1)"
   ]
  },
  {
   "cell_type": "markdown",
   "metadata": {},
   "source": [
    "# T=1, D=4, N=4"
   ]
  },
  {
   "cell_type": "code",
   "execution_count": 20,
   "metadata": {
    "collapsed": true
   },
   "outputs": [],
   "source": [
    "from keras.layers import SimpleRNN, Dense\n",
    "from keras.models import Sequential"
   ]
  },
  {
   "cell_type": "code",
   "execution_count": 21,
   "metadata": {},
   "outputs": [
    {
     "name": "stdout",
     "output_type": "stream",
     "text": [
      "_________________________________________________________________\n",
      "Layer (type)                 Output Shape              Param #   \n",
      "=================================================================\n",
      "simple_rnn_1 (SimpleRNN)     (None, 10)                150       \n",
      "_________________________________________________________________\n",
      "dense_1 (Dense)              (None, 4)                 44        \n",
      "=================================================================\n",
      "Total params: 194\n",
      "Trainable params: 194\n",
      "Non-trainable params: 0\n",
      "_________________________________________________________________\n"
     ]
    }
   ],
   "source": [
    "model = Sequential()\n",
    "model.add(SimpleRNN(10, input_shape=(1,len(chars))))\n",
    "model.add(Dense(len(chars), activation=\"softmax\"))\n",
    "model.summary()"
   ]
  },
  {
   "cell_type": "code",
   "execution_count": 22,
   "metadata": {},
   "outputs": [
    {
     "data": {
      "image/png": "[encoded data removed]",
      "text/plain": [
       "<matplotlib.figure.Figure at 0x1190212b0>"
      ]
     },
     "metadata": {},
     "output_type": "display_data"
    },
    {
     "name": "stdout",
     "output_type": "stream",
     "text": [
      "4/4 [==============================] - 0s - loss: 0.3779 - acc: 0.7500     \n",
      "Epoch 492/500\n",
      "4/4 [==============================] - 0s - loss: 0.3777 - acc: 0.7500         \n",
      "Epoch 493/500\n",
      "4/4 [==============================] - 0s - loss: 0.3776 - acc: 0.7500     \n",
      "Epoch 494/500\n",
      "4/4 [==============================] - 0s - loss: 0.3774 - acc: 0.7500         \n",
      "Epoch 495/500\n",
      "4/4 [==============================] - 0s - loss: 0.3775 - acc: 0.7500     \n",
      "Epoch 496/500\n",
      "4/4 [==============================] - 0s - loss: 0.3773 - acc: 0.7500         \n",
      "Epoch 497/500\n",
      "4/4 [==============================] - 0s - loss: 0.3777 - acc: 0.7500         \n",
      "Epoch 498/500\n",
      "4/4 [==============================] - 0s - loss: 0.3780 - acc: 0.7500     \n",
      "Epoch 499/500\n",
      "4/4 [==============================] - 0s - loss: 0.3769 - acc: 0.7500     \n",
      "Epoch 500/500\n",
      "4/4 [==============================] - 0s - loss: 0.3768 - acc: 0.7500         \n"
     ]
    },
    {
     "data": {
      "text/plain": [
       "<keras.callbacks.History at 0x118a6cef0>"
      ]
     },
     "execution_count": 22,
     "metadata": {},
     "output_type": "execute_result"
    }
   ],
   "source": [
    "model.compile(optimizer='adam', loss='categorical_crossentropy', metrics=['accuracy'])\n",
    "plot_losses = PlotLosses(plot_interval=10, evaluate_interval=None)\n",
    "model.fit(X,y, epochs=500, batch_size=1, verbose=1, callbacks=[plot_losses])"
   ]
  },
  {
   "cell_type": "code",
   "execution_count": 31,
   "metadata": {},
   "outputs": [
    {
     "name": "stdout",
     "output_type": "stream",
     "text": [
      "[[[0 0 1 0]]]\n",
      "[[ 0.01297768  0.00369497  0.50553054  0.47779688]]\n",
      "L\n"
     ]
    }
   ],
   "source": [
    "to_predict = chars_to_one_hot('L', chars, chars_to_indices, window_size)*1\n",
    "print(to_predict)\n",
    "predicted = model.predict(to_predict)\n",
    "print(predicted)\n",
    "print(indices_to_chars[np.argmax(predicted)])"
   ]
  },
  {
   "cell_type": "code",
   "execution_count": 80,
   "metadata": {},
   "outputs": [
    {
     "name": "stdout",
     "output_type": "stream",
     "text": [
      "O\n",
      "L\n",
      "O\n",
      "O\n",
      "L\n",
      "L\n",
      "L\n",
      "O\n",
      "O\n",
      "L\n"
     ]
    }
   ],
   "source": [
    "to_predict = chars_to_one_hot('L', chars, chars_to_indices, window_size)*1\n",
    "predicted = model.predict(to_predict)\n",
    "iterat = 10\n",
    "temp = 1 # 1, 0.5, 0.1, 0.01\n",
    "for i in range(iterat):\n",
    "    print(indices_to_chars[sample(predicted[0], temp)])"
   ]
  },
  {
   "cell_type": "code",
   "execution_count": 81,
   "metadata": {
    "collapsed": true
   },
   "outputs": [],
   "source": [
    "to_predict = chars_to_one_hot('HEL', chars, chars_to_indices, window_size)*1"
   ]
  },
  {
   "cell_type": "code",
   "execution_count": 82,
   "metadata": {},
   "outputs": [
    {
     "data": {
      "text/plain": [
       "array([[[0, 1, 0, 0]],\n",
       "\n",
       "       [[1, 0, 0, 0]],\n",
       "\n",
       "       [[0, 0, 1, 0]]])"
      ]
     },
     "execution_count": 82,
     "metadata": {},
     "output_type": "execute_result"
    }
   ],
   "source": [
    "to_predict.reshape(3,1,4)"
   ]
  },
  {
   "cell_type": "code",
   "execution_count": 83,
   "metadata": {
    "collapsed": true
   },
   "outputs": [],
   "source": [
    "predicted = model.predict(to_predict.reshape(3,1,4))"
   ]
  },
  {
   "cell_type": "code",
   "execution_count": 84,
   "metadata": {},
   "outputs": [
    {
     "data": {
      "text/plain": [
       "array([[ 0.96730185,  0.00576135,  0.01761472,  0.00932202],\n",
       "       [ 0.01184521,  0.00295176,  0.95000321,  0.03519982],\n",
       "       [ 0.01297768,  0.00369497,  0.50553054,  0.47779688]], dtype=float32)"
      ]
     },
     "execution_count": 84,
     "metadata": {},
     "output_type": "execute_result"
    }
   ],
   "source": [
    "predicted"
   ]
  },
  {
   "cell_type": "markdown",
   "metadata": {},
   "source": [
    "## T = 2"
   ]
  },
  {
   "cell_type": "code",
   "execution_count": 85,
   "metadata": {
    "collapsed": true
   },
   "outputs": [],
   "source": [
    "window_size = 2\n",
    "X_2, y_2 = encode_io_pairs(text, chars, window_size,step_size)"
   ]
  },
  {
   "cell_type": "code",
   "execution_count": 86,
   "metadata": {},
   "outputs": [
    {
     "name": "stdout",
     "output_type": "stream",
     "text": [
      "_________________________________________________________________\n",
      "Layer (type)                 Output Shape              Param #   \n",
      "=================================================================\n",
      "simple_rnn_2 (SimpleRNN)     (None, 10)                150       \n",
      "_________________________________________________________________\n",
      "dense_2 (Dense)              (None, 4)                 44        \n",
      "=================================================================\n",
      "Total params: 194\n",
      "Trainable params: 194\n",
      "Non-trainable params: 0\n",
      "_________________________________________________________________\n"
     ]
    }
   ],
   "source": [
    "model_2 = Sequential()\n",
    "model_2.add(SimpleRNN(10, input_shape=(2,len(chars))))\n",
    "model_2.add(Dense(len(chars), activation=\"softmax\"))\n",
    "model_2.summary()"
   ]
  },
  {
   "cell_type": "code",
   "execution_count": 87,
   "metadata": {},
   "outputs": [
    {
     "data": {
      "image/png": "[encoded data removed]",
      "text/plain": [
       "<matplotlib.figure.Figure at 0x11a9a29b0>"
      ]
     },
     "metadata": {},
     "output_type": "display_data"
    },
    {
     "name": "stdout",
     "output_type": "stream",
     "text": [
      "3/3 [==============================] - 0s - loss: 0.0068 - acc: 1.0000     \n",
      "Epoch 492/500\n",
      "3/3 [==============================] - 0s - loss: 0.0068 - acc: 1.0000     \n",
      "Epoch 493/500\n",
      "3/3 [==============================] - 0s - loss: 0.0067 - acc: 1.0000     \n",
      "Epoch 494/500\n",
      "3/3 [==============================] - 0s - loss: 0.0067 - acc: 1.0000     \n",
      "Epoch 495/500\n",
      "3/3 [==============================] - 0s - loss: 0.0067 - acc: 1.0000     \n",
      "Epoch 496/500\n",
      "3/3 [==============================] - 0s - loss: 0.0067 - acc: 1.0000     \n",
      "Epoch 497/500\n",
      "3/3 [==============================] - 0s - loss: 0.0066 - acc: 1.0000     \n",
      "Epoch 498/500\n",
      "3/3 [==============================] - 0s - loss: 0.0066 - acc: 1.0000     \n",
      "Epoch 499/500\n",
      "3/3 [==============================] - 0s - loss: 0.0066 - acc: 1.0000     \n",
      "Epoch 500/500\n",
      "3/3 [==============================] - 0s - loss: 0.0065 - acc: 1.0000     \n"
     ]
    },
    {
     "data": {
      "text/plain": [
       "<keras.callbacks.History at 0x1192d7be0>"
      ]
     },
     "execution_count": 87,
     "metadata": {},
     "output_type": "execute_result"
    }
   ],
   "source": [
    "model_2.compile(optimizer='adam', loss='categorical_crossentropy', metrics=['accuracy'])\n",
    "plot_losses = PlotLosses(plot_interval=10, evaluate_interval=None)\n",
    "model_2.fit(X_2,y_2, epochs=500, batch_size=1, verbose=1, callbacks=[plot_losses])"
   ]
  },
  {
   "cell_type": "markdown",
   "metadata": {},
   "source": [
    "# Stateful RNN"
   ]
  },
  {
   "cell_type": "code",
   "execution_count": 88,
   "metadata": {},
   "outputs": [
    {
     "name": "stdout",
     "output_type": "stream",
     "text": [
      "_________________________________________________________________\n",
      "Layer (type)                 Output Shape              Param #   \n",
      "=================================================================\n",
      "simple_rnn_3 (SimpleRNN)     (1, 10)                   150       \n",
      "_________________________________________________________________\n",
      "dense_3 (Dense)              (1, 4)                    44        \n",
      "=================================================================\n",
      "Total params: 194\n",
      "Trainable params: 194\n",
      "Non-trainable params: 0\n",
      "_________________________________________________________________\n"
     ]
    }
   ],
   "source": [
    "batch_size=1\n",
    "model_3 = Sequential()\n",
    "model_3.add(SimpleRNN(10, batch_input_shape=(batch_size,1,len(chars)), stateful=True))\n",
    "model_3.add(Dense(len(chars), activation=\"softmax\"))\n",
    "model_3.summary()"
   ]
  },
  {
   "cell_type": "code",
   "execution_count": 89,
   "metadata": {},
   "outputs": [
    {
     "name": "stdout",
     "output_type": "stream",
     "text": [
      "Epoch 1/1\n",
      "4/4 [==============================] - 0s - loss: 1.3816 - acc: 0.5000         \n",
      "Epoch 1/1\n",
      "4/4 [==============================] - 0s - loss: 1.3694 - acc: 0.5000         \n",
      "Epoch 1/1\n",
      "4/4 [==============================] - 0s - loss: 1.3592 - acc: 0.5000         \n",
      "Epoch 1/1\n",
      "4/4 [==============================] - 0s - loss: 1.3492 - acc: 0.5000         \n",
      "Epoch 1/1\n",
      "4/4 [==============================] - 0s - loss: 1.3392 - acc: 0.5000         \n",
      "Epoch 1/1\n",
      "4/4 [==============================] - 0s - loss: 1.3294 - acc: 0.5000         \n",
      "Epoch 1/1\n",
      "4/4 [==============================] - 0s - loss: 1.3195 - acc: 0.5000         \n",
      "Epoch 1/1\n",
      "4/4 [==============================] - 0s - loss: 1.3097 - acc: 0.5000         \n",
      "Epoch 1/1\n",
      "4/4 [==============================] - 0s - loss: 1.3001 - acc: 0.5000         \n",
      "Epoch 1/1\n",
      "4/4 [==============================] - 0s - loss: 1.2906 - acc: 0.5000         \n",
      "Epoch 1/1\n",
      "4/4 [==============================] - 0s - loss: 1.2810 - acc: 0.5000         \n",
      "Epoch 1/1\n",
      "4/4 [==============================] - 0s - loss: 1.2714 - acc: 0.5000         \n",
      "Epoch 1/1\n",
      "4/4 [==============================] - 0s - loss: 1.2619 - acc: 0.5000         \n",
      "Epoch 1/1\n",
      "4/4 [==============================] - 0s - loss: 1.2524 - acc: 0.5000         \n",
      "Epoch 1/1\n",
      "4/4 [==============================] - 0s - loss: 1.2430 - acc: 0.5000         \n",
      "Epoch 1/1\n",
      "4/4 [==============================] - 0s - loss: 1.2337 - acc: 0.5000         \n",
      "Epoch 1/1\n",
      "4/4 [==============================] - 0s - loss: 1.2244 - acc: 0.5000         \n",
      "Epoch 1/1\n",
      "4/4 [==============================] - 0s - loss: 1.2151 - acc: 0.5000         \n",
      "Epoch 1/1\n",
      "4/4 [==============================] - 0s - loss: 1.2059 - acc: 0.5000         \n",
      "Epoch 1/1\n",
      "4/4 [==============================] - 0s - loss: 1.1968 - acc: 0.5000         \n",
      "Epoch 1/1\n",
      "4/4 [==============================] - 0s - loss: 1.1877 - acc: 0.5000         \n",
      "Epoch 1/1\n",
      "4/4 [==============================] - 0s - loss: 1.1786 - acc: 0.5000         \n",
      "Epoch 1/1\n",
      "4/4 [==============================] - 0s - loss: 1.1696 - acc: 0.5000         \n",
      "Epoch 1/1\n",
      "4/4 [==============================] - 0s - loss: 1.1606 - acc: 0.5000         \n",
      "Epoch 1/1\n",
      "4/4 [==============================] - 0s - loss: 1.1515 - acc: 0.5000         \n",
      "Epoch 1/1\n",
      "4/4 [==============================] - 0s - loss: 1.1425 - acc: 0.5000         \n",
      "Epoch 1/1\n",
      "4/4 [==============================] - 0s - loss: 1.1336 - acc: 0.5000         \n",
      "Epoch 1/1\n",
      "4/4 [==============================] - 0s - loss: 1.1246 - acc: 0.5000         \n",
      "Epoch 1/1\n",
      "4/4 [==============================] - 0s - loss: 1.1157 - acc: 0.5000         \n",
      "Epoch 1/1\n",
      "4/4 [==============================] - 0s - loss: 1.1069 - acc: 0.5000         \n",
      "Epoch 1/1\n",
      "4/4 [==============================] - 0s - loss: 1.0982 - acc: 0.7500         \n",
      "Epoch 1/1\n",
      "4/4 [==============================] - 0s - loss: 1.0893 - acc: 0.7500         \n",
      "Epoch 1/1\n",
      "4/4 [==============================] - 0s - loss: 1.0792 - acc: 0.7500         \n",
      "Epoch 1/1\n",
      "4/4 [==============================] - 0s - loss: 1.0699 - acc: 0.7500         \n",
      "Epoch 1/1\n",
      "4/4 [==============================] - 0s - loss: 1.0610 - acc: 0.7500         \n",
      "Epoch 1/1\n",
      "4/4 [==============================] - 0s - loss: 1.0522 - acc: 0.7500         \n",
      "Epoch 1/1\n",
      "4/4 [==============================] - 0s - loss: 1.0420 - acc: 0.7500         \n",
      "Epoch 1/1\n",
      "4/4 [==============================] - 0s - loss: 1.0314 - acc: 0.7500         \n",
      "Epoch 1/1\n",
      "4/4 [==============================] - 0s - loss: 1.0215 - acc: 0.7500         \n",
      "Epoch 1/1\n",
      "4/4 [==============================] - 0s - loss: 1.0121 - acc: 0.7500         \n",
      "Epoch 1/1\n",
      "4/4 [==============================] - 0s - loss: 1.0031 - acc: 0.7500         \n",
      "Epoch 1/1\n",
      "4/4 [==============================] - 0s - loss: 0.9944 - acc: 0.7500         \n",
      "Epoch 1/1\n",
      "4/4 [==============================] - 0s - loss: 0.9858 - acc: 0.7500         \n",
      "Epoch 1/1\n",
      "4/4 [==============================] - 0s - loss: 0.9773 - acc: 0.7500         \n",
      "Epoch 1/1\n",
      "4/4 [==============================] - 0s - loss: 0.9690 - acc: 0.7500         \n",
      "Epoch 1/1\n",
      "4/4 [==============================] - 0s - loss: 0.9607 - acc: 0.5000         \n",
      "Epoch 1/1\n",
      "4/4 [==============================] - 0s - loss: 0.9524 - acc: 0.5000         \n",
      "Epoch 1/1\n",
      "4/4 [==============================] - 0s - loss: 0.9442 - acc: 0.5000         \n",
      "Epoch 1/1\n",
      "4/4 [==============================] - 0s - loss: 0.9360 - acc: 0.5000         \n",
      "Epoch 1/1\n",
      "4/4 [==============================] - 0s - loss: 0.9279 - acc: 0.5000         \n",
      "Epoch 1/1\n",
      "4/4 [==============================] - 0s - loss: 0.9198 - acc: 0.5000         \n",
      "Epoch 1/1\n",
      "4/4 [==============================] - 0s - loss: 0.9117 - acc: 0.5000         \n",
      "Epoch 1/1\n",
      "4/4 [==============================] - 0s - loss: 0.9036 - acc: 0.5000         \n",
      "Epoch 1/1\n",
      "4/4 [==============================] - 0s - loss: 0.8956 - acc: 0.5000         \n",
      "Epoch 1/1\n",
      "4/4 [==============================] - 0s - loss: 0.8875 - acc: 0.5000         \n",
      "Epoch 1/1\n",
      "4/4 [==============================] - 0s - loss: 0.8795 - acc: 0.5000         \n",
      "Epoch 1/1\n",
      "4/4 [==============================] - 0s - loss: 0.8716 - acc: 0.5000         \n",
      "Epoch 1/1\n",
      "4/4 [==============================] - 0s - loss: 0.8636 - acc: 0.5000         \n",
      "Epoch 1/1\n",
      "4/4 [==============================] - 0s - loss: 0.8557 - acc: 0.5000         \n",
      "Epoch 1/1\n",
      "4/4 [==============================] - 0s - loss: 0.8478 - acc: 0.5000         \n",
      "Epoch 1/1\n",
      "4/4 [==============================] - 0s - loss: 0.8399 - acc: 0.5000         \n",
      "Epoch 1/1\n",
      "4/4 [==============================] - 0s - loss: 0.8320 - acc: 0.5000         \n",
      "Epoch 1/1\n",
      "4/4 [==============================] - 0s - loss: 0.8242 - acc: 0.5000         \n",
      "Epoch 1/1\n",
      "4/4 [==============================] - 0s - loss: 0.8164 - acc: 0.5000         \n",
      "Epoch 1/1\n",
      "4/4 [==============================] - 0s - loss: 0.8087 - acc: 0.5000         \n",
      "Epoch 1/1\n",
      "4/4 [==============================] - 0s - loss: 0.8009 - acc: 0.5000         \n",
      "Epoch 1/1\n",
      "4/4 [==============================] - 0s - loss: 0.7933 - acc: 0.5000         \n",
      "Epoch 1/1\n",
      "4/4 [==============================] - 0s - loss: 0.7856 - acc: 0.5000         \n",
      "Epoch 1/1\n",
      "4/4 [==============================] - 0s - loss: 0.7780 - acc: 0.7500         \n",
      "Epoch 1/1\n",
      "4/4 [==============================] - 0s - loss: 0.7704 - acc: 0.7500         \n",
      "Epoch 1/1\n",
      "4/4 [==============================] - 0s - loss: 0.7628 - acc: 0.7500         \n",
      "Epoch 1/1\n",
      "4/4 [==============================] - 0s - loss: 0.7554 - acc: 0.7500         \n",
      "Epoch 1/1\n",
      "4/4 [==============================] - 0s - loss: 0.7479 - acc: 0.7500         \n",
      "Epoch 1/1\n",
      "4/4 [==============================] - 0s - loss: 0.7404 - acc: 0.7500         \n",
      "Epoch 1/1\n",
      "4/4 [==============================] - 0s - loss: 0.7330 - acc: 0.7500         \n",
      "Epoch 1/1\n",
      "4/4 [==============================] - 0s - loss: 0.7256 - acc: 0.7500         \n",
      "Epoch 1/1\n",
      "4/4 [==============================] - 0s - loss: 0.7183 - acc: 0.7500         \n",
      "Epoch 1/1\n",
      "4/4 [==============================] - 0s - loss: 0.7110 - acc: 0.7500         \n",
      "Epoch 1/1\n",
      "4/4 [==============================] - 0s - loss: 0.7038 - acc: 0.7500         \n",
      "Epoch 1/1\n",
      "4/4 [==============================] - 0s - loss: 0.6966 - acc: 0.7500         \n",
      "Epoch 1/1\n",
      "4/4 [==============================] - 0s - loss: 0.6894 - acc: 0.7500         \n",
      "Epoch 1/1\n",
      "4/4 [==============================] - 0s - loss: 0.6823 - acc: 0.7500         \n",
      "Epoch 1/1\n",
      "4/4 [==============================] - 0s - loss: 0.6752 - acc: 0.7500         \n",
      "Epoch 1/1\n",
      "4/4 [==============================] - 0s - loss: 0.6682 - acc: 0.7500         \n",
      "Epoch 1/1\n",
      "4/4 [==============================] - 0s - loss: 0.6612 - acc: 1.0000     \n",
      "Epoch 1/1\n",
      "4/4 [==============================] - 0s - loss: 0.6542 - acc: 1.0000     \n",
      "Epoch 1/1\n",
      "4/4 [==============================] - 0s - loss: 0.6473 - acc: 1.0000     \n",
      "Epoch 1/1\n",
      "4/4 [==============================] - 0s - loss: 0.6405 - acc: 1.0000     \n",
      "Epoch 1/1\n",
      "4/4 [==============================] - 0s - loss: 0.6336 - acc: 1.0000     \n",
      "Epoch 1/1\n",
      "4/4 [==============================] - 0s - loss: 0.6268 - acc: 1.0000     \n",
      "Epoch 1/1\n",
      "4/4 [==============================] - 0s - loss: 0.6201 - acc: 1.0000     \n",
      "Epoch 1/1\n"
     ]
    },
    {
     "name": "stdout",
     "output_type": "stream",
     "text": [
      "4/4 [==============================] - 0s - loss: 0.6134 - acc: 1.0000     \n",
      "Epoch 1/1\n",
      "4/4 [==============================] - 0s - loss: 0.6066 - acc: 1.0000     \n",
      "Epoch 1/1\n",
      "4/4 [==============================] - 0s - loss: 0.5982 - acc: 1.0000     \n",
      "Epoch 1/1\n",
      "4/4 [==============================] - 0s - loss: 0.5905 - acc: 1.0000     \n",
      "Epoch 1/1\n",
      "4/4 [==============================] - 0s - loss: 0.5833 - acc: 1.0000     \n",
      "Epoch 1/1\n",
      "4/4 [==============================] - 0s - loss: 0.5763 - acc: 1.0000     \n",
      "Epoch 1/1\n",
      "4/4 [==============================] - 0s - loss: 0.5692 - acc: 1.0000     \n",
      "Epoch 1/1\n",
      "4/4 [==============================] - 0s - loss: 0.5625 - acc: 1.0000     \n",
      "Epoch 1/1\n",
      "4/4 [==============================] - 0s - loss: 0.5560 - acc: 1.0000     \n",
      "Epoch 1/1\n",
      "4/4 [==============================] - 0s - loss: 0.5497 - acc: 1.0000     \n",
      "Epoch 1/1\n",
      "4/4 [==============================] - 0s - loss: 0.5435 - acc: 1.0000     \n",
      "Epoch 1/1\n",
      "4/4 [==============================] - 0s - loss: 0.5375 - acc: 1.0000     \n",
      "Epoch 1/1\n",
      "4/4 [==============================] - 0s - loss: 0.5315 - acc: 1.0000     \n",
      "Epoch 1/1\n",
      "4/4 [==============================] - 0s - loss: 0.5257 - acc: 1.0000     \n",
      "Epoch 1/1\n",
      "4/4 [==============================] - 0s - loss: 0.5198 - acc: 1.0000     \n",
      "Epoch 1/1\n",
      "4/4 [==============================] - 0s - loss: 0.5140 - acc: 1.0000     \n",
      "Epoch 1/1\n",
      "4/4 [==============================] - 0s - loss: 0.5082 - acc: 1.0000     \n",
      "Epoch 1/1\n",
      "4/4 [==============================] - 0s - loss: 0.5025 - acc: 1.0000     \n",
      "Epoch 1/1\n",
      "4/4 [==============================] - 0s - loss: 0.4968 - acc: 1.0000     \n",
      "Epoch 1/1\n",
      "4/4 [==============================] - 0s - loss: 0.4912 - acc: 1.0000     \n",
      "Epoch 1/1\n",
      "4/4 [==============================] - 0s - loss: 0.4853 - acc: 1.0000     \n",
      "Epoch 1/1\n",
      "4/4 [==============================] - 0s - loss: 0.4796 - acc: 1.0000     \n",
      "Epoch 1/1\n",
      "4/4 [==============================] - 0s - loss: 0.4740 - acc: 1.0000     \n",
      "Epoch 1/1\n",
      "4/4 [==============================] - 0s - loss: 0.4686 - acc: 1.0000     \n",
      "Epoch 1/1\n",
      "4/4 [==============================] - 0s - loss: 0.4632 - acc: 1.0000     \n",
      "Epoch 1/1\n",
      "4/4 [==============================] - 0s - loss: 0.4579 - acc: 1.0000     \n",
      "Epoch 1/1\n",
      "4/4 [==============================] - 0s - loss: 0.4527 - acc: 1.0000     \n",
      "Epoch 1/1\n",
      "4/4 [==============================] - 0s - loss: 0.4476 - acc: 1.0000     \n",
      "Epoch 1/1\n",
      "4/4 [==============================] - 0s - loss: 0.4426 - acc: 1.0000     \n",
      "Epoch 1/1\n",
      "4/4 [==============================] - 0s - loss: 0.4375 - acc: 1.0000     \n",
      "Epoch 1/1\n",
      "4/4 [==============================] - 0s - loss: 0.4325 - acc: 1.0000     \n",
      "Epoch 1/1\n",
      "4/4 [==============================] - 0s - loss: 0.4275 - acc: 1.0000     \n",
      "Epoch 1/1\n",
      "4/4 [==============================] - 0s - loss: 0.4224 - acc: 1.0000     \n",
      "Epoch 1/1\n",
      "4/4 [==============================] - 0s - loss: 0.4171 - acc: 1.0000     \n",
      "Epoch 1/1\n",
      "4/4 [==============================] - 0s - loss: 0.4119 - acc: 1.0000     \n",
      "Epoch 1/1\n",
      "4/4 [==============================] - 0s - loss: 0.4070 - acc: 1.0000     \n",
      "Epoch 1/1\n",
      "4/4 [==============================] - 0s - loss: 0.4023 - acc: 1.0000     \n",
      "Epoch 1/1\n",
      "4/4 [==============================] - 0s - loss: 0.3977 - acc: 1.0000     \n",
      "Epoch 1/1\n",
      "4/4 [==============================] - 0s - loss: 0.3931 - acc: 1.0000     \n",
      "Epoch 1/1\n",
      "4/4 [==============================] - 0s - loss: 0.3887 - acc: 1.0000     \n",
      "Epoch 1/1\n",
      "4/4 [==============================] - 0s - loss: 0.3837 - acc: 1.0000     \n",
      "Epoch 1/1\n",
      "4/4 [==============================] - 0s - loss: 0.3789 - acc: 1.0000     \n",
      "Epoch 1/1\n",
      "4/4 [==============================] - 0s - loss: 0.3744 - acc: 1.0000     \n",
      "Epoch 1/1\n",
      "4/4 [==============================] - 0s - loss: 0.3700 - acc: 1.0000     \n",
      "Epoch 1/1\n",
      "4/4 [==============================] - 0s - loss: 0.3657 - acc: 1.0000     \n",
      "Epoch 1/1\n",
      "4/4 [==============================] - 0s - loss: 0.3616 - acc: 1.0000     \n",
      "Epoch 1/1\n",
      "4/4 [==============================] - 0s - loss: 0.3576 - acc: 1.0000     \n",
      "Epoch 1/1\n",
      "4/4 [==============================] - 0s - loss: 0.3537 - acc: 1.0000     \n",
      "Epoch 1/1\n",
      "4/4 [==============================] - ETA: 0s - loss: 0.6034 - acc: 1.000 - 0s - loss: 0.3499 - acc: 1.0000     \n",
      "Epoch 1/1\n",
      "4/4 [==============================] - 0s - loss: 0.3461 - acc: 1.0000     \n",
      "Epoch 1/1\n",
      "4/4 [==============================] - 0s - loss: 0.3424 - acc: 1.0000     \n",
      "Epoch 1/1\n",
      "4/4 [==============================] - 0s - loss: 0.3387 - acc: 1.0000     \n",
      "Epoch 1/1\n",
      "4/4 [==============================] - 0s - loss: 0.3351 - acc: 1.0000     \n",
      "Epoch 1/1\n",
      "4/4 [==============================] - 0s - loss: 0.3316 - acc: 1.0000     \n",
      "Epoch 1/1\n",
      "4/4 [==============================] - 0s - loss: 0.3275 - acc: 1.0000     \n",
      "Epoch 1/1\n",
      "4/4 [==============================] - ETA: 0s - loss: 0.5579 - acc: 1.000 - 0s - loss: 0.3235 - acc: 1.0000     \n",
      "Epoch 1/1\n",
      "4/4 [==============================] - 0s - loss: 0.3192 - acc: 1.0000     \n",
      "Epoch 1/1\n",
      "4/4 [==============================] - 0s - loss: 0.3146 - acc: 1.0000     \n",
      "Epoch 1/1\n",
      "4/4 [==============================] - 0s - loss: 0.3105 - acc: 1.0000     \n",
      "Epoch 1/1\n",
      "4/4 [==============================] - 0s - loss: 0.3068 - acc: 1.0000     \n",
      "Epoch 1/1\n",
      "4/4 [==============================] - 0s - loss: 0.3033 - acc: 1.0000     \n",
      "Epoch 1/1\n",
      "4/4 [==============================] - 0s - loss: 0.3001 - acc: 1.0000     \n",
      "Epoch 1/1\n",
      "4/4 [==============================] - 0s - loss: 0.2971 - acc: 1.0000     \n",
      "Epoch 1/1\n",
      "4/4 [==============================] - 0s - loss: 0.2939 - acc: 1.0000     \n",
      "Epoch 1/1\n",
      "4/4 [==============================] - 0s - loss: 0.2909 - acc: 1.0000     \n",
      "Epoch 1/1\n",
      "4/4 [==============================] - 0s - loss: 0.2880 - acc: 1.0000     \n",
      "Epoch 1/1\n",
      "4/4 [==============================] - 0s - loss: 0.2852 - acc: 1.0000     \n",
      "Epoch 1/1\n",
      "4/4 [==============================] - 0s - loss: 0.2820 - acc: 1.0000     \n",
      "Epoch 1/1\n",
      "4/4 [==============================] - 0s - loss: 0.2790 - acc: 1.0000     \n",
      "Epoch 1/1\n",
      "4/4 [==============================] - 0s - loss: 0.2761 - acc: 1.0000     \n",
      "Epoch 1/1\n",
      "4/4 [==============================] - 0s - loss: 0.2734 - acc: 1.0000     \n",
      "Epoch 1/1\n",
      "4/4 [==============================] - 0s - loss: 0.2708 - acc: 1.0000     \n",
      "Epoch 1/1\n",
      "4/4 [==============================] - 0s - loss: 0.2683 - acc: 1.0000     \n",
      "Epoch 1/1\n",
      "4/4 [==============================] - 0s - loss: 0.2656 - acc: 1.0000     \n",
      "Epoch 1/1\n",
      "4/4 [==============================] - 0s - loss: 0.2628 - acc: 1.0000     \n",
      "Epoch 1/1\n",
      "4/4 [==============================] - 0s - loss: 0.2597 - acc: 1.0000     \n",
      "Epoch 1/1\n",
      "4/4 [==============================] - 0s - loss: 0.2565 - acc: 1.0000     \n",
      "Epoch 1/1\n",
      "4/4 [==============================] - 0s - loss: 0.2535 - acc: 1.0000     \n",
      "Epoch 1/1\n",
      "4/4 [==============================] - 0s - loss: 0.2503 - acc: 1.0000     \n",
      "Epoch 1/1\n",
      "4/4 [==============================] - 0s - loss: 0.2473 - acc: 1.0000     \n",
      "Epoch 1/1\n",
      "4/4 [==============================] - 0s - loss: 0.2443 - acc: 1.0000     \n",
      "Epoch 1/1\n",
      "4/4 [==============================] - 0s - loss: 0.2415 - acc: 1.0000     \n",
      "Epoch 1/1\n",
      "4/4 [==============================] - 0s - loss: 0.2384 - acc: 1.0000     \n",
      "Epoch 1/1\n",
      "4/4 [==============================] - 0s - loss: 0.2354 - acc: 1.0000     \n",
      "Epoch 1/1\n",
      "4/4 [==============================] - 0s - loss: 0.2329 - acc: 1.0000     \n",
      "Epoch 1/1\n",
      "4/4 [==============================] - 0s - loss: 0.2306 - acc: 1.0000     \n",
      "Epoch 1/1\n",
      "4/4 [==============================] - 0s - loss: 0.2285 - acc: 1.0000     \n",
      "Epoch 1/1\n",
      "4/4 [==============================] - 0s - loss: 0.2265 - acc: 1.0000     \n",
      "Epoch 1/1\n",
      "4/4 [==============================] - 0s - loss: 0.2247 - acc: 1.0000     \n",
      "Epoch 1/1\n",
      "4/4 [==============================] - 0s - loss: 0.2229 - acc: 1.0000     \n",
      "Epoch 1/1\n",
      "4/4 [==============================] - 0s - loss: 0.2211 - acc: 1.0000     \n",
      "Epoch 1/1\n",
      "4/4 [==============================] - 0s - loss: 0.2194 - acc: 1.0000     \n",
      "Epoch 1/1\n",
      "4/4 [==============================] - 0s - loss: 0.2174 - acc: 1.0000     \n",
      "Epoch 1/1\n",
      "4/4 [==============================] - 0s - loss: 0.2155 - acc: 1.0000     \n",
      "Epoch 1/1\n"
     ]
    },
    {
     "name": "stdout",
     "output_type": "stream",
     "text": [
      "4/4 [==============================] - 0s - loss: 0.2137 - acc: 1.0000     \n",
      "Epoch 1/1\n",
      "4/4 [==============================] - 0s - loss: 0.2119 - acc: 1.0000     \n",
      "Epoch 1/1\n",
      "4/4 [==============================] - 0s - loss: 0.2097 - acc: 1.0000     \n",
      "Epoch 1/1\n",
      "4/4 [==============================] - 0s - loss: 0.2078 - acc: 1.0000     \n",
      "Epoch 1/1\n",
      "4/4 [==============================] - 0s - loss: 0.2060 - acc: 1.0000     \n",
      "Epoch 1/1\n",
      "4/4 [==============================] - 0s - loss: 0.2043 - acc: 1.0000     \n",
      "Epoch 1/1\n",
      "4/4 [==============================] - 0s - loss: 0.2027 - acc: 1.0000     \n",
      "Epoch 1/1\n",
      "4/4 [==============================] - 0s - loss: 0.2012 - acc: 1.0000     \n",
      "Epoch 1/1\n",
      "4/4 [==============================] - 0s - loss: 0.1997 - acc: 1.0000     \n",
      "Epoch 1/1\n",
      "4/4 [==============================] - 0s - loss: 0.1983 - acc: 1.0000     \n",
      "Epoch 1/1\n",
      "4/4 [==============================] - 0s - loss: 0.1968 - acc: 1.0000     \n",
      "Epoch 1/1\n",
      "4/4 [==============================] - 0s - loss: 0.1954 - acc: 1.0000     \n",
      "Epoch 1/1\n",
      "4/4 [==============================] - 0s - loss: 0.1940 - acc: 1.0000     \n",
      "Epoch 1/1\n",
      "4/4 [==============================] - 0s - loss: 0.1926 - acc: 1.0000     \n",
      "Epoch 1/1\n",
      "4/4 [==============================] - 0s - loss: 0.1913 - acc: 1.0000     \n",
      "Epoch 1/1\n",
      "4/4 [==============================] - 0s - loss: 0.1899 - acc: 1.0000     \n",
      "Epoch 1/1\n",
      "4/4 [==============================] - 0s - loss: 0.1886 - acc: 1.0000     \n",
      "Epoch 1/1\n",
      "4/4 [==============================] - 0s - loss: 0.1872 - acc: 1.0000     \n",
      "Epoch 1/1\n",
      "4/4 [==============================] - 0s - loss: 0.1859 - acc: 1.0000     \n",
      "Epoch 1/1\n",
      "4/4 [==============================] - ETA: 0s - loss: 0.3007 - acc: 1.000 - 0s - loss: 0.1846 - acc: 1.0000     \n",
      "Epoch 1/1\n",
      "4/4 [==============================] - 0s - loss: 0.1833 - acc: 1.0000     \n",
      "Epoch 1/1\n",
      "4/4 [==============================] - 0s - loss: 0.1820 - acc: 1.0000     \n",
      "Epoch 1/1\n",
      "4/4 [==============================] - 0s - loss: 0.1807 - acc: 1.0000     \n",
      "Epoch 1/1\n",
      "4/4 [==============================] - 0s - loss: 0.1795 - acc: 1.0000     \n",
      "Epoch 1/1\n",
      "4/4 [==============================] - 0s - loss: 0.1782 - acc: 1.0000     \n",
      "Epoch 1/1\n",
      "4/4 [==============================] - 0s - loss: 0.1770 - acc: 1.0000     \n",
      "Epoch 1/1\n",
      "4/4 [==============================] - 0s - loss: 0.1758 - acc: 1.0000     \n",
      "Epoch 1/1\n",
      "4/4 [==============================] - 0s - loss: 0.1746 - acc: 1.0000     \n",
      "Epoch 1/1\n",
      "4/4 [==============================] - 0s - loss: 0.1734 - acc: 1.0000     \n",
      "Epoch 1/1\n",
      "4/4 [==============================] - 0s - loss: 0.1722 - acc: 1.0000     \n",
      "Epoch 1/1\n",
      "4/4 [==============================] - 0s - loss: 0.1710 - acc: 1.0000     \n",
      "Epoch 1/1\n",
      "4/4 [==============================] - 0s - loss: 0.1699 - acc: 1.0000     \n",
      "Epoch 1/1\n",
      "4/4 [==============================] - 0s - loss: 0.1687 - acc: 1.0000     \n",
      "Epoch 1/1\n",
      "4/4 [==============================] - 0s - loss: 0.1676 - acc: 1.0000     \n",
      "Epoch 1/1\n",
      "4/4 [==============================] - 0s - loss: 0.1665 - acc: 1.0000     \n",
      "Epoch 1/1\n",
      "4/4 [==============================] - 0s - loss: 0.1654 - acc: 1.0000     \n",
      "Epoch 1/1\n",
      "4/4 [==============================] - 0s - loss: 0.1643 - acc: 1.0000     \n",
      "Epoch 1/1\n",
      "4/4 [==============================] - 0s - loss: 0.1632 - acc: 1.0000     \n",
      "Epoch 1/1\n",
      "4/4 [==============================] - 0s - loss: 0.1621 - acc: 1.0000     \n",
      "Epoch 1/1\n",
      "4/4 [==============================] - 0s - loss: 0.1611 - acc: 1.0000     \n",
      "Epoch 1/1\n",
      "4/4 [==============================] - 0s - loss: 0.1596 - acc: 1.0000     \n",
      "Epoch 1/1\n",
      "4/4 [==============================] - 0s - loss: 0.1582 - acc: 1.0000     \n",
      "Epoch 1/1\n",
      "4/4 [==============================] - 0s - loss: 0.1570 - acc: 1.0000     \n",
      "Epoch 1/1\n",
      "4/4 [==============================] - 0s - loss: 0.1559 - acc: 1.0000     \n",
      "Epoch 1/1\n",
      "4/4 [==============================] - 0s - loss: 0.1549 - acc: 1.0000     \n",
      "Epoch 1/1\n",
      "4/4 [==============================] - 0s - loss: 0.1538 - acc: 1.0000     \n",
      "Epoch 1/1\n",
      "4/4 [==============================] - 0s - loss: 0.1529 - acc: 1.0000     \n",
      "Epoch 1/1\n",
      "4/4 [==============================] - 0s - loss: 0.1519 - acc: 1.0000     \n",
      "Epoch 1/1\n",
      "4/4 [==============================] - 0s - loss: 0.1510 - acc: 1.0000     \n",
      "Epoch 1/1\n",
      "4/4 [==============================] - 0s - loss: 0.1501 - acc: 1.0000     \n",
      "Epoch 1/1\n",
      "4/4 [==============================] - 0s - loss: 0.1492 - acc: 1.0000     \n",
      "Epoch 1/1\n",
      "4/4 [==============================] - 0s - loss: 0.1483 - acc: 1.0000     \n",
      "Epoch 1/1\n",
      "4/4 [==============================] - 0s - loss: 0.1474 - acc: 1.0000     \n",
      "Epoch 1/1\n",
      "4/4 [==============================] - 0s - loss: 0.1465 - acc: 1.0000     \n",
      "Epoch 1/1\n",
      "4/4 [==============================] - 0s - loss: 0.1457 - acc: 1.0000     \n",
      "Epoch 1/1\n",
      "4/4 [==============================] - 0s - loss: 0.1448 - acc: 1.0000     \n",
      "Epoch 1/1\n",
      "4/4 [==============================] - 0s - loss: 0.1440 - acc: 1.0000     \n",
      "Epoch 1/1\n",
      "4/4 [==============================] - 0s - loss: 0.1432 - acc: 1.0000     \n",
      "Epoch 1/1\n",
      "4/4 [==============================] - 0s - loss: 0.1423 - acc: 1.0000     \n",
      "Epoch 1/1\n",
      "4/4 [==============================] - 0s - loss: 0.1415 - acc: 1.0000     \n",
      "Epoch 1/1\n",
      "4/4 [==============================] - 0s - loss: 0.1407 - acc: 1.0000     \n",
      "Epoch 1/1\n",
      "4/4 [==============================] - 0s - loss: 0.1399 - acc: 1.0000     \n",
      "Epoch 1/1\n",
      "4/4 [==============================] - 0s - loss: 0.1391 - acc: 1.0000     \n",
      "Epoch 1/1\n",
      "4/4 [==============================] - 0s - loss: 0.1383 - acc: 1.0000     \n",
      "Epoch 1/1\n",
      "4/4 [==============================] - 0s - loss: 0.1375 - acc: 1.0000     \n",
      "Epoch 1/1\n",
      "4/4 [==============================] - 0s - loss: 0.1368 - acc: 1.0000     \n",
      "Epoch 1/1\n",
      "4/4 [==============================] - 0s - loss: 0.1360 - acc: 1.0000     \n",
      "Epoch 1/1\n",
      "4/4 [==============================] - 0s - loss: 0.1353 - acc: 1.0000     \n",
      "Epoch 1/1\n",
      "4/4 [==============================] - 0s - loss: 0.1345 - acc: 1.0000     \n",
      "Epoch 1/1\n",
      "4/4 [==============================] - ETA: 0s - loss: 0.1981 - acc: 1.000 - 0s - loss: 0.1338 - acc: 1.0000     \n",
      "Epoch 1/1\n",
      "4/4 [==============================] - 0s - loss: 0.1330 - acc: 1.0000     \n",
      "Epoch 1/1\n",
      "4/4 [==============================] - 0s - loss: 0.1323 - acc: 1.0000     \n",
      "Epoch 1/1\n",
      "4/4 [==============================] - 0s - loss: 0.1316 - acc: 1.0000     \n",
      "Epoch 1/1\n",
      "4/4 [==============================] - 0s - loss: 0.1308 - acc: 1.0000     \n",
      "Epoch 1/1\n",
      "4/4 [==============================] - 0s - loss: 0.1301 - acc: 1.0000     \n",
      "Epoch 1/1\n",
      "4/4 [==============================] - 0s - loss: 0.1294 - acc: 1.0000     \n",
      "Epoch 1/1\n",
      "4/4 [==============================] - 0s - loss: 0.1287 - acc: 1.0000     \n",
      "Epoch 1/1\n",
      "4/4 [==============================] - 0s - loss: 0.1280 - acc: 1.0000     \n",
      "Epoch 1/1\n",
      "4/4 [==============================] - 0s - loss: 0.1273 - acc: 1.0000     \n",
      "Epoch 1/1\n",
      "4/4 [==============================] - 0s - loss: 0.1267 - acc: 1.0000     \n",
      "Epoch 1/1\n",
      "4/4 [==============================] - 0s - loss: 0.1260 - acc: 1.0000     \n",
      "Epoch 1/1\n",
      "4/4 [==============================] - 0s - loss: 0.1253 - acc: 1.0000     \n",
      "Epoch 1/1\n",
      "4/4 [==============================] - 0s - loss: 0.1247 - acc: 1.0000     \n",
      "Epoch 1/1\n",
      "4/4 [==============================] - 0s - loss: 0.1240 - acc: 1.0000     \n",
      "Epoch 1/1\n",
      "4/4 [==============================] - 0s - loss: 0.1233 - acc: 1.0000     \n",
      "Epoch 1/1\n",
      "4/4 [==============================] - 0s - loss: 0.1227 - acc: 1.0000     \n",
      "Epoch 1/1\n",
      "4/4 [==============================] - 0s - loss: 0.1220 - acc: 1.0000     \n",
      "Epoch 1/1\n",
      "4/4 [==============================] - 0s - loss: 0.1214 - acc: 1.0000     \n",
      "Epoch 1/1\n",
      "4/4 [==============================] - 0s - loss: 0.1208 - acc: 1.0000     \n",
      "Epoch 1/1\n",
      "4/4 [==============================] - 0s - loss: 0.1196 - acc: 1.0000     \n",
      "Epoch 1/1\n",
      "4/4 [==============================] - 0s - loss: 0.1187 - acc: 1.0000     \n",
      "Epoch 1/1\n",
      "4/4 [==============================] - 0s - loss: 0.1179 - acc: 1.0000     \n",
      "Epoch 1/1\n",
      "4/4 [==============================] - 0s - loss: 0.1166 - acc: 1.0000     \n",
      "Epoch 1/1\n",
      "4/4 [==============================] - 0s - loss: 0.1157 - acc: 1.0000     \n",
      "Epoch 1/1\n"
     ]
    },
    {
     "name": "stdout",
     "output_type": "stream",
     "text": [
      "4/4 [==============================] - 0s - loss: 0.1147 - acc: 1.0000     \n",
      "Epoch 1/1\n",
      "4/4 [==============================] - 0s - loss: 0.1138 - acc: 1.0000     \n",
      "Epoch 1/1\n",
      "4/4 [==============================] - 0s - loss: 0.1126 - acc: 1.0000     \n",
      "Epoch 1/1\n",
      "4/4 [==============================] - 0s - loss: 0.1117 - acc: 1.0000     \n",
      "Epoch 1/1\n",
      "4/4 [==============================] - 0s - loss: 0.1109 - acc: 1.0000     \n",
      "Epoch 1/1\n",
      "4/4 [==============================] - 0s - loss: 0.1101 - acc: 1.0000     \n",
      "Epoch 1/1\n",
      "4/4 [==============================] - 0s - loss: 0.1092 - acc: 1.0000     \n",
      "Epoch 1/1\n",
      "4/4 [==============================] - 0s - loss: 0.1085 - acc: 1.0000     \n",
      "Epoch 1/1\n",
      "4/4 [==============================] - 0s - loss: 0.1079 - acc: 1.0000     \n",
      "Epoch 1/1\n",
      "4/4 [==============================] - 0s - loss: 0.1072 - acc: 1.0000     \n",
      "Epoch 1/1\n",
      "4/4 [==============================] - 0s - loss: 0.1064 - acc: 1.0000     \n",
      "Epoch 1/1\n",
      "4/4 [==============================] - 0s - loss: 0.1057 - acc: 1.0000     \n",
      "Epoch 1/1\n",
      "4/4 [==============================] - 0s - loss: 0.1052 - acc: 1.0000     \n",
      "Epoch 1/1\n",
      "4/4 [==============================] - 0s - loss: 0.1047 - acc: 1.0000     \n",
      "Epoch 1/1\n",
      "4/4 [==============================] - 0s - loss: 0.1042 - acc: 1.0000     \n",
      "Epoch 1/1\n",
      "4/4 [==============================] - 0s - loss: 0.1034 - acc: 1.0000     \n",
      "Epoch 1/1\n",
      "4/4 [==============================] - 0s - loss: 0.1027 - acc: 1.0000     \n",
      "Epoch 1/1\n",
      "4/4 [==============================] - 0s - loss: 0.1021 - acc: 1.0000     \n",
      "Epoch 1/1\n",
      "4/4 [==============================] - 0s - loss: 0.1016 - acc: 1.0000     \n",
      "Epoch 1/1\n",
      "4/4 [==============================] - 0s - loss: 0.1011 - acc: 1.0000     \n",
      "Epoch 1/1\n",
      "4/4 [==============================] - 0s - loss: 0.1007 - acc: 1.0000     \n"
     ]
    }
   ],
   "source": [
    "model_3.compile(optimizer='adam', loss='categorical_crossentropy', metrics=['accuracy'])\n",
    "for i in range(300):\n",
    "    model_3.fit(X, y, epochs=1, batch_size=batch_size, verbose=1, shuffle=False)\n",
    "    model_3.reset_states()"
   ]
  },
  {
   "cell_type": "markdown",
   "metadata": {},
   "source": [
    "# Voy ingresando de a uno"
   ]
  },
  {
   "cell_type": "code",
   "execution_count": 152,
   "metadata": {},
   "outputs": [
    {
     "name": "stdout",
     "output_type": "stream",
     "text": [
      "[[ 0.86529064  0.026972    0.07149955  0.03623777]]\n"
     ]
    },
    {
     "data": {
      "text/plain": [
       "'E'"
      ]
     },
     "execution_count": 152,
     "metadata": {},
     "output_type": "execute_result"
    }
   ],
   "source": [
    "window_size=1\n",
    "model_3.reset_states()\n",
    "to_predict = chars_to_one_hot('H', chars, chars_to_indices, window_size)*1\n",
    "predicted = model_3.predict(to_predict)\n",
    "print(predicted)\n",
    "indices_to_chars[np.argmax(predicted[0])]"
   ]
  },
  {
   "cell_type": "code",
   "execution_count": 153,
   "metadata": {},
   "outputs": [
    {
     "name": "stdout",
     "output_type": "stream",
     "text": [
      "[[ 0.13663808  0.01638401  0.84549522  0.00148269]]\n"
     ]
    },
    {
     "data": {
      "text/plain": [
       "'L'"
      ]
     },
     "execution_count": 153,
     "metadata": {},
     "output_type": "execute_result"
    }
   ],
   "source": [
    "to_predict = chars_to_one_hot('E', chars, chars_to_indices, window_size)*1\n",
    "predicted = model_3.predict(to_predict)\n",
    "print(predicted)\n",
    "indices_to_chars[np.argmax(predicted[0])]"
   ]
  },
  {
   "cell_type": "code",
   "execution_count": 154,
   "metadata": {},
   "outputs": [
    {
     "name": "stdout",
     "output_type": "stream",
     "text": [
      "[[ 0.00436717  0.00143313  0.98304582  0.01115397]]\n"
     ]
    },
    {
     "data": {
      "text/plain": [
       "'L'"
      ]
     },
     "execution_count": 154,
     "metadata": {},
     "output_type": "execute_result"
    }
   ],
   "source": [
    "to_predict = chars_to_one_hot('L', chars, chars_to_indices, window_size)*1\n",
    "predicted = model_3.predict(to_predict)\n",
    "print(predicted)\n",
    "indices_to_chars[np.argmax(predicted[0])]"
   ]
  },
  {
   "cell_type": "code",
   "execution_count": 155,
   "metadata": {},
   "outputs": [
    {
     "name": "stdout",
     "output_type": "stream",
     "text": [
      "[[ 0.00278973  0.00735226  0.0598331   0.93002492]]\n"
     ]
    },
    {
     "data": {
      "text/plain": [
       "'O'"
      ]
     },
     "execution_count": 155,
     "metadata": {},
     "output_type": "execute_result"
    }
   ],
   "source": [
    "to_predict = chars_to_one_hot('L', chars, chars_to_indices, window_size)*1\n",
    "predicted = model_3.predict(to_predict)\n",
    "print(predicted)\n",
    "indices_to_chars[np.argmax(predicted[0])]"
   ]
  },
  {
   "cell_type": "markdown",
   "metadata": {},
   "source": [
    "Algunas pruebas mas"
   ]
  },
  {
   "cell_type": "code",
   "execution_count": 156,
   "metadata": {},
   "outputs": [
    {
     "name": "stdout",
     "output_type": "stream",
     "text": [
      "[[ 0.19971915  0.05902244  0.19753617  0.54372221]]\n"
     ]
    },
    {
     "data": {
      "text/plain": [
       "'O'"
      ]
     },
     "execution_count": 156,
     "metadata": {},
     "output_type": "execute_result"
    }
   ],
   "source": [
    "model_3.reset_states()\n",
    "to_predict = chars_to_one_hot('L', chars, chars_to_indices, window_size)*1\n",
    "predicted = model_3.predict(to_predict)\n",
    "print(predicted)\n",
    "indices_to_chars[np.argmax(predicted[0])]"
   ]
  },
  {
   "cell_type": "code",
   "execution_count": 167,
   "metadata": {},
   "outputs": [
    {
     "name": "stdout",
     "output_type": "stream",
     "text": [
      "[[ 0.19971915  0.05902244  0.19753617  0.54372221]]\n",
      "O\n",
      "[[ 0.25657901  0.06925783  0.02384104  0.65032208]]\n",
      "O\n"
     ]
    }
   ],
   "source": [
    "model_3.reset_states()\n",
    "to_predict = chars_to_one_hot('L', chars, chars_to_indices, window_size)*1\n",
    "predicted = model_3.predict(to_predict)\n",
    "print(predicted)\n",
    "print(indices_to_chars[np.argmax(predicted[0])])\n",
    "\n",
    "to_predict = chars_to_one_hot('L', chars, chars_to_indices, window_size)*1\n",
    "predicted = model_3.predict(to_predict)\n",
    "print(predicted)\n",
    "print(indices_to_chars[np.argmax(predicted[0])])"
   ]
  },
  {
   "cell_type": "code",
   "execution_count": 165,
   "metadata": {},
   "outputs": [
    {
     "name": "stdout",
     "output_type": "stream",
     "text": [
      "[[ 0.05337804  0.01291359  0.81225371  0.1214546 ]]\n",
      "L\n",
      "[[ 0.01443067  0.01570051  0.12632035  0.84354842]]\n",
      "O\n"
     ]
    }
   ],
   "source": [
    "# Interesante! HEL -> L, pero EL -> O (No es markov)\n",
    "model_3.reset_states()\n",
    "#to_predict = chars_to_one_hot('H', chars, chars_to_indices, window_size)*1\n",
    "#predicted = model_3.predict(to_predict)\n",
    "#print(predicted)\n",
    "#print(indices_to_chars[np.argmax(predicted[0])])\n",
    "to_predict = chars_to_one_hot('E', chars, chars_to_indices, window_size)*1\n",
    "predicted = model_3.predict(to_predict)\n",
    "print(predicted)\n",
    "print(indices_to_chars[np.argmax(predicted[0])])\n",
    "to_predict = chars_to_one_hot('L', chars, chars_to_indices, window_size)*1\n",
    "predicted = model_3.predict(to_predict)\n",
    "print(predicted)\n",
    "print(indices_to_chars[np.argmax(predicted[0])])"
   ]
  },
  {
   "cell_type": "markdown",
   "metadata": {},
   "source": [
    "# Pad sequences"
   ]
  },
  {
   "cell_type": "markdown",
   "metadata": {},
   "source": [
    "https://machinelearningmastery.com/understanding-stateful-lstm-recurrent-neural-networks-python-keras/"
   ]
  }
 ],
 "metadata": {
  "kernelspec": {
   "display_name": "Python 3",
   "language": "python",
   "name": "python3"
  },
  "language_info": {
   "codemirror_mode": {
    "name": "ipython",
    "version": 3
   },
   "file_extension": ".py",
   "mimetype": "text/x-python",
   "name": "python",
   "nbconvert_exporter": "python",
   "pygments_lexer": "ipython3",
   "version": "3.6.2"
  },
  "toc": {
   "nav_menu": {},
   "number_sections": true,
   "sideBar": true,
   "skip_h1_title": true,
   "toc_cell": false,
   "toc_position": {},
   "toc_section_display": "block",
   "toc_window_display": false
  }
 },
 "nbformat": 4,
 "nbformat_minor": 2
}
