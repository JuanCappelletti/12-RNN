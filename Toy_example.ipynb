{
 "cells": [
  {
   "cell_type": "code",
   "execution_count": 169,
   "metadata": {},
   "outputs": [
    {
     "name": "stdout",
     "output_type": "stream",
     "text": [
      "The autoreload extension is already loaded. To reload it, use:\n",
      "  %reload_ext autoreload\n"
     ]
    }
   ],
   "source": [
    "%load_ext autoreload\n",
    "%autoreload 2\n",
    "import numpy as np\n",
    "import sys \n",
    "sys.path.append(\"/Users/julianganzabal/facultad/lab-ml/mllab-tools\")\n",
    "from RNN_utils import encode_io_pairs, chars_to_one_hot, sample\n",
    "from fnn_helper import PlotLosses"
   ]
  },
  {
   "cell_type": "code",
   "execution_count": 170,
   "metadata": {
    "collapsed": true
   },
   "outputs": [],
   "source": [
    "text=\"HELLO\""
   ]
  },
  {
   "cell_type": "code",
   "execution_count": 171,
   "metadata": {},
   "outputs": [
    {
     "name": "stdout",
     "output_type": "stream",
     "text": [
      "['E', 'H', 'L', 'O']\n"
     ]
    }
   ],
   "source": [
    "chars = sorted(set(text))\n",
    "print(chars)"
   ]
  },
  {
   "cell_type": "code",
   "execution_count": 172,
   "metadata": {},
   "outputs": [
    {
     "data": {
      "text/plain": [
       "array([[[0, 1, 0, 0],\n",
       "        [1, 0, 0, 0]]])"
      ]
     },
     "execution_count": 172,
     "metadata": {},
     "output_type": "execute_result"
    }
   ],
   "source": [
    "window_size=1\n",
    "chars_to_indices = dict((c, i) for i, c in enumerate(chars))  # map each unique character to unique integer\n",
    "indices_to_chars = dict((i, c) for i, c in enumerate(chars))\n",
    "chars_to_one_hot('HE', chars, chars_to_indices, window_size)*1"
   ]
  },
  {
   "cell_type": "code",
   "execution_count": 173,
   "metadata": {},
   "outputs": [
    {
     "data": {
      "text/plain": [
       "'E'"
      ]
     },
     "execution_count": 173,
     "metadata": {},
     "output_type": "execute_result"
    }
   ],
   "source": [
    "indices_to_chars[np.argmax([1, 0, 0, 0])]"
   ]
  },
  {
   "cell_type": "code",
   "execution_count": 176,
   "metadata": {
    "collapsed": true
   },
   "outputs": [],
   "source": [
    "window_size=1\n",
    "step_size=1\n",
    "X, y = encode_io_pairs(text, chars, window_size,step_size)"
   ]
  },
  {
   "cell_type": "code",
   "execution_count": 177,
   "metadata": {},
   "outputs": [
    {
     "data": {
      "text/plain": [
       "(4, 1, 4)"
      ]
     },
     "execution_count": 177,
     "metadata": {},
     "output_type": "execute_result"
    }
   ],
   "source": [
    "X.shape"
   ]
  },
  {
   "cell_type": "code",
   "execution_count": 178,
   "metadata": {},
   "outputs": [
    {
     "name": "stdout",
     "output_type": "stream",
     "text": [
      "[[[0 1 0 0]]\n",
      "\n",
      " [[1 0 0 0]]\n",
      "\n",
      " [[0 0 1 0]]\n",
      "\n",
      " [[0 0 1 0]]]\n",
      "[[1 0 0 0]\n",
      " [0 0 1 0]\n",
      " [0 0 1 0]\n",
      " [0 0 0 1]]\n"
     ]
    }
   ],
   "source": [
    "print(X*1)\n",
    "print(y*1)"
   ]
  },
  {
   "cell_type": "markdown",
   "metadata": {},
   "source": [
    "# T=1, D=4, N=4"
   ]
  },
  {
   "cell_type": "code",
   "execution_count": 179,
   "metadata": {
    "collapsed": true
   },
   "outputs": [],
   "source": [
    "from keras.layers import SimpleRNN, Dense\n",
    "from keras.models import Sequential"
   ]
  },
  {
   "cell_type": "code",
   "execution_count": 184,
   "metadata": {},
   "outputs": [
    {
     "name": "stdout",
     "output_type": "stream",
     "text": [
      "_________________________________________________________________\n",
      "Layer (type)                 Output Shape              Param #   \n",
      "=================================================================\n",
      "simple_rnn_6 (SimpleRNN)     (None, 10)                150       \n",
      "_________________________________________________________________\n",
      "dense_6 (Dense)              (None, 4)                 44        \n",
      "=================================================================\n",
      "Total params: 194\n",
      "Trainable params: 194\n",
      "Non-trainable params: 0\n",
      "_________________________________________________________________\n"
     ]
    }
   ],
   "source": [
    "model = Sequential()\n",
    "model.add(SimpleRNN(10, input_shape=(1,len(chars))))\n",
    "model.add(Dense(len(chars), activation=\"softmax\"))\n",
    "model.summary()"
   ]
  },
  {
   "cell_type": "code",
   "execution_count": 185,
   "metadata": {},
   "outputs": [
    {
     "data": {
      "image/png": "[encoded data removed]",
      "text/plain": [
       "<matplotlib.figure.Figure at 0x11afd14e0>"
      ]
     },
     "metadata": {},
     "output_type": "display_data"
    },
    {
     "name": "stdout",
     "output_type": "stream",
     "text": [
      "4/4 [==============================] - 0s - loss: 0.3705 - acc: 0.7500     \n",
      "Epoch 492/500\n",
      "4/4 [==============================] - 0s - loss: 0.3706 - acc: 0.7500     \n",
      "Epoch 493/500\n",
      "4/4 [==============================] - 0s - loss: 0.3699 - acc: 0.7500     \n",
      "Epoch 494/500\n",
      "4/4 [==============================] - 0s - loss: 0.3702 - acc: 0.7500         \n",
      "Epoch 495/500\n",
      "4/4 [==============================] - 0s - loss: 0.3696 - acc: 0.7500     \n",
      "Epoch 496/500\n",
      "4/4 [==============================] - 0s - loss: 0.3700 - acc: 0.7500     \n",
      "Epoch 497/500\n",
      "4/4 [==============================] - 0s - loss: 0.3699 - acc: 0.7500         \n",
      "Epoch 498/500\n",
      "4/4 [==============================] - 0s - loss: 0.3694 - acc: 0.7500         \n",
      "Epoch 499/500\n",
      "4/4 [==============================] - 0s - loss: 0.3696 - acc: 0.7500     \n",
      "Epoch 500/500\n",
      "4/4 [==============================] - 0s - loss: 0.3694 - acc: 0.7500     \n"
     ]
    },
    {
     "data": {
      "text/plain": [
       "<keras.callbacks.History at 0x119147be0>"
      ]
     },
     "execution_count": 185,
     "metadata": {},
     "output_type": "execute_result"
    }
   ],
   "source": [
    "model.compile(optimizer='adam', loss='categorical_crossentropy', metrics=['accuracy'])\n",
    "plot_losses = PlotLosses(plot_interval=10, evaluate_interval=None)\n",
    "model.fit(X,y, epochs=500, batch_size=1, verbose=1, callbacks=[plot_losses])"
   ]
  },
  {
   "cell_type": "code",
   "execution_count": 193,
   "metadata": {},
   "outputs": [
    {
     "name": "stdout",
     "output_type": "stream",
     "text": [
      "[[[0 0 1 0]]]\n",
      "[[ 0.01161462  0.00818262  0.49688774  0.48331493]]\n",
      "L\n"
     ]
    }
   ],
   "source": [
    "to_predict = chars_to_one_hot('L', chars, chars_to_indices, window_size)*1\n",
    "print(to_predict)\n",
    "predicted = model.predict(to_predict)\n",
    "print(predicted)\n",
    "print(indices_to_chars[np.argmax(predicted)])"
   ]
  },
  {
   "cell_type": "code",
   "execution_count": 197,
   "metadata": {},
   "outputs": [
    {
     "name": "stdout",
     "output_type": "stream",
     "text": [
      "[ 0.38095238  0.02380952  0.5952381 ]\n"
     ]
    },
    {
     "data": {
      "text/plain": [
       "2"
      ]
     },
     "execution_count": 197,
     "metadata": {},
     "output_type": "execute_result"
    }
   ],
   "source": [
    "sample([0.4, 0.1, 0.5],0.5, verbose=True)"
   ]
  },
  {
   "cell_type": "code",
   "execution_count": 203,
   "metadata": {},
   "outputs": [
    {
     "name": "stdout",
     "output_type": "stream",
     "text": [
      "L\n",
      "O\n",
      "L\n",
      "O\n",
      "O\n",
      "L\n",
      "L\n",
      "L\n",
      "L\n",
      "L\n"
     ]
    }
   ],
   "source": [
    "to_predict = chars_to_one_hot('L', chars, chars_to_indices, window_size)*1\n",
    "predicted = model.predict(to_predict)\n",
    "iterat = 10\n",
    "temp = 0.2 # 1, 0.5, 0.1, 0.01\n",
    "for i in range(iterat):\n",
    "    print(indices_to_chars[sample(predicted[0], temp)])"
   ]
  },
  {
   "cell_type": "code",
   "execution_count": 204,
   "metadata": {
    "collapsed": true
   },
   "outputs": [],
   "source": [
    "to_predict = chars_to_one_hot('HEL', chars, chars_to_indices, window_size)*1"
   ]
  },
  {
   "cell_type": "code",
   "execution_count": 205,
   "metadata": {},
   "outputs": [
    {
     "data": {
      "text/plain": [
       "array([[[0, 1, 0, 0]],\n",
       "\n",
       "       [[1, 0, 0, 0]],\n",
       "\n",
       "       [[0, 0, 1, 0]]])"
      ]
     },
     "execution_count": 205,
     "metadata": {},
     "output_type": "execute_result"
    }
   ],
   "source": [
    "to_predict.reshape(3,1,4)"
   ]
  },
  {
   "cell_type": "code",
   "execution_count": 206,
   "metadata": {
    "collapsed": true
   },
   "outputs": [],
   "source": [
    "predicted = model.predict(to_predict.reshape(3,1,4))"
   ]
  },
  {
   "cell_type": "code",
   "execution_count": 207,
   "metadata": {},
   "outputs": [
    {
     "data": {
      "text/plain": [
       "array([[ 0.97065812,  0.00786715,  0.01163135,  0.00984339],\n",
       "       [ 0.00222843,  0.00128068,  0.98128784,  0.01520302],\n",
       "       [ 0.01161462,  0.00818262,  0.49688774,  0.48331493]], dtype=float32)"
      ]
     },
     "execution_count": 207,
     "metadata": {},
     "output_type": "execute_result"
    }
   ],
   "source": [
    "predicted"
   ]
  },
  {
   "cell_type": "markdown",
   "metadata": {},
   "source": [
    "## T = 2"
   ]
  },
  {
   "cell_type": "code",
   "execution_count": 208,
   "metadata": {
    "collapsed": true
   },
   "outputs": [],
   "source": [
    "window_size = 2\n",
    "X_2, y_2 = encode_io_pairs(text, chars, window_size,step_size)"
   ]
  },
  {
   "cell_type": "code",
   "execution_count": 209,
   "metadata": {},
   "outputs": [
    {
     "name": "stdout",
     "output_type": "stream",
     "text": [
      "_________________________________________________________________\n",
      "Layer (type)                 Output Shape              Param #   \n",
      "=================================================================\n",
      "simple_rnn_7 (SimpleRNN)     (None, 10)                150       \n",
      "_________________________________________________________________\n",
      "dense_7 (Dense)              (None, 4)                 44        \n",
      "=================================================================\n",
      "Total params: 194\n",
      "Trainable params: 194\n",
      "Non-trainable params: 0\n",
      "_________________________________________________________________\n"
     ]
    }
   ],
   "source": [
    "model_2 = Sequential()\n",
    "model_2.add(SimpleRNN(10, input_shape=(2,len(chars))))\n",
    "model_2.add(Dense(len(chars), activation=\"softmax\"))\n",
    "model_2.summary()"
   ]
  },
  {
   "cell_type": "code",
   "execution_count": 210,
   "metadata": {},
   "outputs": [
    {
     "data": {
      "image/png": "[encoded data removed]",
      "text/plain": [
       "<matplotlib.figure.Figure at 0x11d4a4f28>"
      ]
     },
     "metadata": {},
     "output_type": "display_data"
    },
    {
     "name": "stdout",
     "output_type": "stream",
     "text": [
      "3/3 [==============================] - 0s - loss: 0.0089 - acc: 1.0000     \n",
      "Epoch 492/500\n",
      "3/3 [==============================] - 0s - loss: 0.0089 - acc: 1.0000     \n",
      "Epoch 493/500\n",
      "3/3 [==============================] - 0s - loss: 0.0088 - acc: 1.0000     \n",
      "Epoch 494/500\n",
      "3/3 [==============================] - 0s - loss: 0.0088 - acc: 1.0000     \n",
      "Epoch 495/500\n",
      "3/3 [==============================] - 0s - loss: 0.0088 - acc: 1.0000     \n",
      "Epoch 496/500\n",
      "3/3 [==============================] - 0s - loss: 0.0087 - acc: 1.0000     \n",
      "Epoch 497/500\n",
      "3/3 [==============================] - 0s - loss: 0.0087 - acc: 1.0000     \n",
      "Epoch 498/500\n",
      "3/3 [==============================] - 0s - loss: 0.0087 - acc: 1.0000     \n",
      "Epoch 499/500\n",
      "3/3 [==============================] - 0s - loss: 0.0086 - acc: 1.0000     \n",
      "Epoch 500/500\n",
      "3/3 [==============================] - 0s - loss: 0.0086 - acc: 1.0000     \n"
     ]
    },
    {
     "data": {
      "text/plain": [
       "<keras.callbacks.History at 0x119a011d0>"
      ]
     },
     "execution_count": 210,
     "metadata": {},
     "output_type": "execute_result"
    }
   ],
   "source": [
    "model_2.compile(optimizer='adam', loss='categorical_crossentropy', metrics=['accuracy'])\n",
    "plot_losses = PlotLosses(plot_interval=10, evaluate_interval=None)\n",
    "model_2.fit(X_2,y_2, epochs=500, batch_size=1, verbose=1, callbacks=[plot_losses])"
   ]
  },
  {
   "cell_type": "markdown",
   "metadata": {},
   "source": [
    "# Stateful RNN"
   ]
  },
  {
   "cell_type": "code",
   "execution_count": 211,
   "metadata": {},
   "outputs": [
    {
     "name": "stdout",
     "output_type": "stream",
     "text": [
      "_________________________________________________________________\n",
      "Layer (type)                 Output Shape              Param #   \n",
      "=================================================================\n",
      "simple_rnn_8 (SimpleRNN)     (1, 10)                   150       \n",
      "_________________________________________________________________\n",
      "dense_8 (Dense)              (1, 4)                    44        \n",
      "=================================================================\n",
      "Total params: 194\n",
      "Trainable params: 194\n",
      "Non-trainable params: 0\n",
      "_________________________________________________________________\n"
     ]
    }
   ],
   "source": [
    "batch_size=1\n",
    "model_3 = Sequential()\n",
    "model_3.add(SimpleRNN(10, batch_input_shape=(batch_size,1,len(chars)), stateful=True))\n",
    "model_3.add(Dense(len(chars), activation=\"softmax\"))\n",
    "model_3.summary()"
   ]
  },
  {
   "cell_type": "code",
   "execution_count": 212,
   "metadata": {},
   "outputs": [
    {
     "name": "stdout",
     "output_type": "stream",
     "text": [
      "Epoch 1/1\n",
      "4/4 [==============================] - 0s - loss: 2.0101 - acc: 0.0000e+00     \n",
      "Epoch 1/1\n",
      "4/4 [==============================] - 0s - loss: 1.9858 - acc: 0.0000e+00     \n",
      "Epoch 1/1\n",
      "4/4 [==============================] - 0s - loss: 1.9666 - acc: 0.0000e+00     \n",
      "Epoch 1/1\n",
      "4/4 [==============================] - 0s - loss: 1.9479 - acc: 0.0000e+00     \n",
      "Epoch 1/1\n",
      "4/4 [==============================] - 0s - loss: 1.9298 - acc: 0.0000e+00     \n",
      "Epoch 1/1\n",
      "4/4 [==============================] - 0s - loss: 1.9121 - acc: 0.0000e+00     \n",
      "Epoch 1/1\n",
      "4/4 [==============================] - 0s - loss: 1.8949 - acc: 0.0000e+00     \n",
      "Epoch 1/1\n",
      "4/4 [==============================] - 0s - loss: 1.8777 - acc: 0.0000e+00     \n",
      "Epoch 1/1\n",
      "4/4 [==============================] - 0s - loss: 1.8609 - acc: 0.0000e+00     \n",
      "Epoch 1/1\n",
      "4/4 [==============================] - 0s - loss: 1.8446 - acc: 0.0000e+00     \n",
      "Epoch 1/1\n",
      "4/4 [==============================] - 0s - loss: 1.8285 - acc: 0.2500         \n",
      "Epoch 1/1\n",
      "4/4 [==============================] - 0s - loss: 1.8128 - acc: 0.2500         \n",
      "Epoch 1/1\n",
      "4/4 [==============================] - 0s - loss: 1.7974 - acc: 0.2500         \n",
      "Epoch 1/1\n",
      "4/4 [==============================] - 0s - loss: 1.7822 - acc: 0.2500         \n",
      "Epoch 1/1\n",
      "4/4 [==============================] - 0s - loss: 1.7672 - acc: 0.2500         \n",
      "Epoch 1/1\n",
      "4/4 [==============================] - 0s - loss: 1.7525 - acc: 0.2500         \n",
      "Epoch 1/1\n",
      "4/4 [==============================] - 0s - loss: 1.7380 - acc: 0.2500         \n",
      "Epoch 1/1\n",
      "4/4 [==============================] - 0s - loss: 1.7237 - acc: 0.2500         \n",
      "Epoch 1/1\n",
      "4/4 [==============================] - 0s - loss: 1.7096 - acc: 0.2500         \n",
      "Epoch 1/1\n",
      "4/4 [==============================] - 0s - loss: 1.6957 - acc: 0.2500         \n",
      "Epoch 1/1\n",
      "4/4 [==============================] - 0s - loss: 1.6820 - acc: 0.2500         \n",
      "Epoch 1/1\n",
      "4/4 [==============================] - 0s - loss: 1.6684 - acc: 0.2500         \n",
      "Epoch 1/1\n",
      "4/4 [==============================] - 0s - loss: 1.6550 - acc: 0.2500         \n",
      "Epoch 1/1\n",
      "4/4 [==============================] - 0s - loss: 1.6418 - acc: 0.2500         \n",
      "Epoch 1/1\n",
      "4/4 [==============================] - 0s - loss: 1.6287 - acc: 0.2500         \n",
      "Epoch 1/1\n",
      "4/4 [==============================] - 0s - loss: 1.6158 - acc: 0.2500         \n",
      "Epoch 1/1\n",
      "4/4 [==============================] - 0s - loss: 1.6030 - acc: 0.2500         \n",
      "Epoch 1/1\n",
      "4/4 [==============================] - 0s - loss: 1.5903 - acc: 0.2500         \n",
      "Epoch 1/1\n",
      "4/4 [==============================] - ETA: 0s - loss: 1.9689 - acc: 0.0000e+0 - 0s - loss: 1.5778 - acc: 0.2500         \n",
      "Epoch 1/1\n",
      "4/4 [==============================] - 0s - loss: 1.5654 - acc: 0.2500         \n",
      "Epoch 1/1\n",
      "4/4 [==============================] - 0s - loss: 1.5532 - acc: 0.2500         \n",
      "Epoch 1/1\n",
      "4/4 [==============================] - 0s - loss: 1.5410 - acc: 0.2500         \n",
      "Epoch 1/1\n",
      "4/4 [==============================] - 0s - loss: 1.5290 - acc: 0.2500         \n",
      "Epoch 1/1\n",
      "4/4 [==============================] - 0s - loss: 1.5171 - acc: 0.2500         \n",
      "Epoch 1/1\n",
      "4/4 [==============================] - 0s - loss: 1.5052 - acc: 0.2500         \n",
      "Epoch 1/1\n",
      "4/4 [==============================] - 0s - loss: 1.4935 - acc: 0.2500         \n",
      "Epoch 1/1\n",
      "4/4 [==============================] - 0s - loss: 1.4815 - acc: 0.2500         \n",
      "Epoch 1/1\n",
      "4/4 [==============================] - 0s - loss: 1.4696 - acc: 0.2500         \n",
      "Epoch 1/1\n",
      "4/4 [==============================] - 0s - loss: 1.4581 - acc: 0.2500         \n",
      "Epoch 1/1\n",
      "4/4 [==============================] - 0s - loss: 1.4465 - acc: 0.2500         \n",
      "Epoch 1/1\n",
      "4/4 [==============================] - 0s - loss: 1.4351 - acc: 0.2500         \n",
      "Epoch 1/1\n",
      "4/4 [==============================] - 0s - loss: 1.4238 - acc: 0.2500         \n",
      "Epoch 1/1\n",
      "4/4 [==============================] - 0s - loss: 1.4127 - acc: 0.2500         \n",
      "Epoch 1/1\n",
      "4/4 [==============================] - 0s - loss: 1.4016 - acc: 0.2500         \n",
      "Epoch 1/1\n",
      "4/4 [==============================] - 0s - loss: 1.3907 - acc: 0.2500         \n",
      "Epoch 1/1\n",
      "4/4 [==============================] - 0s - loss: 1.3799 - acc: 0.2500         \n",
      "Epoch 1/1\n",
      "4/4 [==============================] - 0s - loss: 1.3690 - acc: 0.2500         \n",
      "Epoch 1/1\n",
      "4/4 [==============================] - 0s - loss: 1.3582 - acc: 0.2500         \n",
      "Epoch 1/1\n",
      "4/4 [==============================] - 0s - loss: 1.3476 - acc: 0.2500         \n",
      "Epoch 1/1\n",
      "4/4 [==============================] - 0s - loss: 1.3370 - acc: 0.2500         \n",
      "Epoch 1/1\n",
      "4/4 [==============================] - 0s - loss: 1.3265 - acc: 0.2500         \n",
      "Epoch 1/1\n",
      "4/4 [==============================] - 0s - loss: 1.3160 - acc: 0.2500         \n",
      "Epoch 1/1\n",
      "4/4 [==============================] - 0s - loss: 1.3055 - acc: 0.2500         \n",
      "Epoch 1/1\n",
      "4/4 [==============================] - 0s - loss: 1.2945 - acc: 0.2500         \n",
      "Epoch 1/1\n",
      "4/4 [==============================] - 0s - loss: 1.2838 - acc: 0.2500         \n",
      "Epoch 1/1\n",
      "4/4 [==============================] - 0s - loss: 1.2733 - acc: 0.2500         \n",
      "Epoch 1/1\n",
      "4/4 [==============================] - 0s - loss: 1.2630 - acc: 0.2500         \n",
      "Epoch 1/1\n",
      "4/4 [==============================] - 0s - loss: 1.2528 - acc: 0.2500         \n",
      "Epoch 1/1\n",
      "4/4 [==============================] - 0s - loss: 1.2427 - acc: 0.2500         \n",
      "Epoch 1/1\n",
      "4/4 [==============================] - 0s - loss: 1.2328 - acc: 0.2500         \n",
      "Epoch 1/1\n",
      "4/4 [==============================] - 0s - loss: 1.2228 - acc: 0.2500         \n",
      "Epoch 1/1\n",
      "4/4 [==============================] - 0s - loss: 1.2127 - acc: 0.2500         \n",
      "Epoch 1/1\n",
      "4/4 [==============================] - 0s - loss: 1.2028 - acc: 0.2500         \n",
      "Epoch 1/1\n",
      "4/4 [==============================] - 0s - loss: 1.1929 - acc: 0.2500         \n",
      "Epoch 1/1\n",
      "4/4 [==============================] - 0s - loss: 1.1832 - acc: 0.2500         \n",
      "Epoch 1/1\n",
      "4/4 [==============================] - 0s - loss: 1.1736 - acc: 0.2500         \n",
      "Epoch 1/1\n",
      "4/4 [==============================] - 0s - loss: 1.1641 - acc: 0.2500         \n",
      "Epoch 1/1\n",
      "4/4 [==============================] - 0s - loss: 1.1546 - acc: 0.2500         \n",
      "Epoch 1/1\n",
      "4/4 [==============================] - 0s - loss: 1.1451 - acc: 0.2500         \n",
      "Epoch 1/1\n",
      "4/4 [==============================] - 0s - loss: 1.1358 - acc: 0.2500         \n",
      "Epoch 1/1\n",
      "4/4 [==============================] - 0s - loss: 1.1260 - acc: 0.2500         \n",
      "Epoch 1/1\n",
      "4/4 [==============================] - 0s - loss: 1.1165 - acc: 0.2500         \n",
      "Epoch 1/1\n",
      "4/4 [==============================] - 0s - loss: 1.1072 - acc: 0.2500         \n",
      "Epoch 1/1\n",
      "4/4 [==============================] - 0s - loss: 1.0981 - acc: 0.2500         \n",
      "Epoch 1/1\n",
      "4/4 [==============================] - 0s - loss: 1.0888 - acc: 0.2500         \n",
      "Epoch 1/1\n",
      "4/4 [==============================] - 0s - loss: 1.0797 - acc: 0.2500         \n",
      "Epoch 1/1\n",
      "4/4 [==============================] - 0s - loss: 1.0706 - acc: 0.2500         \n",
      "Epoch 1/1\n",
      "4/4 [==============================] - 0s - loss: 1.0617 - acc: 0.2500         \n",
      "Epoch 1/1\n",
      "4/4 [==============================] - 0s - loss: 1.0530 - acc: 0.2500         \n",
      "Epoch 1/1\n",
      "4/4 [==============================] - 0s - loss: 1.0441 - acc: 0.2500         \n",
      "Epoch 1/1\n",
      "4/4 [==============================] - 0s - loss: 1.0354 - acc: 0.2500         \n",
      "Epoch 1/1\n",
      "4/4 [==============================] - 0s - loss: 1.0268 - acc: 0.2500         \n",
      "Epoch 1/1\n",
      "4/4 [==============================] - 0s - loss: 1.0182 - acc: 0.2500         \n",
      "Epoch 1/1\n",
      "4/4 [==============================] - 0s - loss: 1.0092 - acc: 0.2500         \n",
      "Epoch 1/1\n",
      "4/4 [==============================] - 0s - loss: 1.0002 - acc: 0.2500         \n",
      "Epoch 1/1\n",
      "4/4 [==============================] - 0s - loss: 0.9914 - acc: 0.2500         \n",
      "Epoch 1/1\n",
      "4/4 [==============================] - 0s - loss: 0.9823 - acc: 0.2500         \n",
      "Epoch 1/1\n",
      "4/4 [==============================] - 0s - loss: 0.9737 - acc: 0.2500         \n",
      "Epoch 1/1\n",
      "4/4 [==============================] - 0s - loss: 0.9654 - acc: 0.2500         \n",
      "Epoch 1/1\n",
      "4/4 [==============================] - 0s - loss: 0.9572 - acc: 0.2500         \n",
      "Epoch 1/1\n",
      "4/4 [==============================] - 0s - loss: 0.9493 - acc: 0.2500         \n",
      "Epoch 1/1\n",
      "4/4 [==============================] - 0s - loss: 0.9415 - acc: 0.5000         \n",
      "Epoch 1/1\n",
      "4/4 [==============================] - 0s - loss: 0.9338 - acc: 0.5000         \n",
      "Epoch 1/1\n",
      "4/4 [==============================] - 0s - loss: 0.9262 - acc: 0.5000         \n",
      "Epoch 1/1\n",
      "4/4 [==============================] - 0s - loss: 0.9187 - acc: 0.5000         \n",
      "Epoch 1/1\n",
      "4/4 [==============================] - 0s - loss: 0.9113 - acc: 0.5000         \n",
      "Epoch 1/1\n",
      "4/4 [==============================] - 0s - loss: 0.9039 - acc: 0.5000         \n",
      "Epoch 1/1\n",
      "4/4 [==============================] - 0s - loss: 0.8967 - acc: 0.5000         \n",
      "Epoch 1/1\n",
      "4/4 [==============================] - 0s - loss: 0.8895 - acc: 0.5000         \n",
      "Epoch 1/1\n",
      "4/4 [==============================] - 0s - loss: 0.8824 - acc: 0.5000         \n",
      "Epoch 1/1\n",
      "4/4 [==============================] - 0s - loss: 0.8752 - acc: 0.5000         \n",
      "Epoch 1/1\n",
      "4/4 [==============================] - 0s - loss: 0.8682 - acc: 0.5000         \n",
      "Epoch 1/1\n",
      "4/4 [==============================] - 0s - loss: 0.8613 - acc: 0.5000         \n",
      "Epoch 1/1\n",
      "4/4 [==============================] - 0s - loss: 0.8545 - acc: 0.5000         \n",
      "Epoch 1/1\n",
      "4/4 [==============================] - 0s - loss: 0.8478 - acc: 0.5000         \n",
      "Epoch 1/1\n",
      "4/4 [==============================] - 0s - loss: 0.8411 - acc: 0.7500         \n",
      "Epoch 1/1\n",
      "4/4 [==============================] - 0s - loss: 0.8346 - acc: 0.7500         \n",
      "Epoch 1/1\n",
      "4/4 [==============================] - 0s - loss: 0.8281 - acc: 0.7500         \n",
      "Epoch 1/1\n",
      "4/4 [==============================] - 0s - loss: 0.8217 - acc: 0.7500         \n",
      "Epoch 1/1\n",
      "4/4 [==============================] - 0s - loss: 0.8154 - acc: 0.7500         \n",
      "Epoch 1/1\n",
      "4/4 [==============================] - 0s - loss: 0.8091 - acc: 0.7500         \n",
      "Epoch 1/1\n",
      "4/4 [==============================] - 0s - loss: 0.8030 - acc: 0.7500         \n",
      "Epoch 1/1\n",
      "4/4 [==============================] - 0s - loss: 0.7969 - acc: 0.7500         \n",
      "Epoch 1/1\n",
      "4/4 [==============================] - 0s - loss: 0.7908 - acc: 0.7500         \n",
      "Epoch 1/1\n",
      "4/4 [==============================] - 0s - loss: 0.7849 - acc: 0.7500         \n",
      "Epoch 1/1\n",
      "4/4 [==============================] - 0s - loss: 0.7790 - acc: 0.7500         \n",
      "Epoch 1/1\n",
      "4/4 [==============================] - 0s - loss: 0.7732 - acc: 0.7500         \n",
      "Epoch 1/1\n",
      "4/4 [==============================] - 0s - loss: 0.7674 - acc: 0.7500         \n",
      "Epoch 1/1\n",
      "4/4 [==============================] - 0s - loss: 0.7617 - acc: 0.7500         \n",
      "Epoch 1/1\n",
      "4/4 [==============================] - 0s - loss: 0.7561 - acc: 0.7500         \n",
      "Epoch 1/1\n",
      "4/4 [==============================] - 0s - loss: 0.7505 - acc: 0.7500         \n",
      "Epoch 1/1\n",
      "4/4 [==============================] - 0s - loss: 0.7450 - acc: 0.7500         \n",
      "Epoch 1/1\n",
      "4/4 [==============================] - 0s - loss: 0.7396 - acc: 1.0000     \n",
      "Epoch 1/1\n",
      "4/4 [==============================] - 0s - loss: 0.7342 - acc: 1.0000     \n",
      "Epoch 1/1\n",
      "4/4 [==============================] - 0s - loss: 0.7289 - acc: 1.0000     \n",
      "Epoch 1/1\n",
      "4/4 [==============================] - 0s - loss: 0.7236 - acc: 1.0000     \n",
      "Epoch 1/1\n",
      "4/4 [==============================] - 0s - loss: 0.7181 - acc: 1.0000     \n",
      "Epoch 1/1\n",
      "4/4 [==============================] - 0s - loss: 0.7128 - acc: 1.0000     \n",
      "Epoch 1/1\n",
      "4/4 [==============================] - 0s - loss: 0.7077 - acc: 1.0000     \n",
      "Epoch 1/1\n",
      "4/4 [==============================] - 0s - loss: 0.7026 - acc: 1.0000     \n",
      "Epoch 1/1\n",
      "4/4 [==============================] - 0s - loss: 0.6976 - acc: 1.0000     \n",
      "Epoch 1/1\n",
      "4/4 [==============================] - 0s - loss: 0.6926 - acc: 1.0000     \n",
      "Epoch 1/1\n",
      "4/4 [==============================] - 0s - loss: 0.6878 - acc: 1.0000     \n",
      "Epoch 1/1\n",
      "4/4 [==============================] - 0s - loss: 0.6830 - acc: 1.0000     \n",
      "Epoch 1/1\n",
      "4/4 [==============================] - 0s - loss: 0.6782 - acc: 1.0000     \n",
      "Epoch 1/1\n",
      "4/4 [==============================] - 0s - loss: 0.6735 - acc: 1.0000     \n",
      "Epoch 1/1\n",
      "4/4 [==============================] - 0s - loss: 0.6686 - acc: 1.0000     \n",
      "Epoch 1/1\n",
      "4/4 [==============================] - 0s - loss: 0.6639 - acc: 1.0000     \n",
      "Epoch 1/1\n",
      "4/4 [==============================] - 0s - loss: 0.6592 - acc: 1.0000     \n",
      "Epoch 1/1\n",
      "4/4 [==============================] - 0s - loss: 0.6542 - acc: 1.0000     \n",
      "Epoch 1/1\n",
      "4/4 [==============================] - 0s - loss: 0.6490 - acc: 1.0000     \n",
      "Epoch 1/1\n",
      "4/4 [==============================] - 0s - loss: 0.6442 - acc: 1.0000     \n",
      "Epoch 1/1\n",
      "4/4 [==============================] - 0s - loss: 0.6393 - acc: 1.0000     \n",
      "Epoch 1/1\n",
      "4/4 [==============================] - 0s - loss: 0.6344 - acc: 1.0000     \n",
      "Epoch 1/1\n",
      "4/4 [==============================] - 0s - loss: 0.6297 - acc: 1.0000     \n",
      "Epoch 1/1\n",
      "4/4 [==============================] - 0s - loss: 0.6252 - acc: 1.0000     \n",
      "Epoch 1/1\n",
      "4/4 [==============================] - 0s - loss: 0.6204 - acc: 1.0000     \n",
      "Epoch 1/1\n",
      "4/4 [==============================] - 0s - loss: 0.6159 - acc: 1.0000     \n",
      "Epoch 1/1\n",
      "4/4 [==============================] - 0s - loss: 0.6116 - acc: 1.0000     \n",
      "Epoch 1/1\n",
      "4/4 [==============================] - 0s - loss: 0.6075 - acc: 1.0000     \n",
      "Epoch 1/1\n",
      "4/4 [==============================] - 0s - loss: 0.6032 - acc: 1.0000     \n",
      "Epoch 1/1\n",
      "4/4 [==============================] - 0s - loss: 0.5990 - acc: 1.0000     \n",
      "Epoch 1/1\n",
      "4/4 [==============================] - 0s - loss: 0.5950 - acc: 1.0000     \n",
      "Epoch 1/1\n",
      "4/4 [==============================] - 0s - loss: 0.5911 - acc: 1.0000     \n",
      "Epoch 1/1\n",
      "4/4 [==============================] - 0s - loss: 0.5872 - acc: 1.0000     \n",
      "Epoch 1/1\n",
      "4/4 [==============================] - 0s - loss: 0.5834 - acc: 1.0000     \n",
      "Epoch 1/1\n",
      "4/4 [==============================] - 0s - loss: 0.5797 - acc: 1.0000     \n",
      "Epoch 1/1\n",
      "4/4 [==============================] - 0s - loss: 0.5760 - acc: 1.0000     \n",
      "Epoch 1/1\n",
      "4/4 [==============================] - 0s - loss: 0.5721 - acc: 1.0000     \n",
      "Epoch 1/1\n",
      "4/4 [==============================] - 0s - loss: 0.5681 - acc: 1.0000     \n",
      "Epoch 1/1\n",
      "4/4 [==============================] - 0s - loss: 0.5641 - acc: 1.0000     \n",
      "Epoch 1/1\n",
      "4/4 [==============================] - 0s - loss: 0.5602 - acc: 1.0000     \n",
      "Epoch 1/1\n",
      "4/4 [==============================] - 0s - loss: 0.5565 - acc: 1.0000     \n",
      "Epoch 1/1\n",
      "4/4 [==============================] - 0s - loss: 0.5529 - acc: 1.0000     \n",
      "Epoch 1/1\n",
      "4/4 [==============================] - 0s - loss: 0.5493 - acc: 1.0000     \n",
      "Epoch 1/1\n",
      "4/4 [==============================] - 0s - loss: 0.5459 - acc: 1.0000     \n",
      "Epoch 1/1\n",
      "4/4 [==============================] - 0s - loss: 0.5425 - acc: 1.0000     \n",
      "Epoch 1/1\n",
      "4/4 [==============================] - 0s - loss: 0.5391 - acc: 1.0000     \n",
      "Epoch 1/1\n",
      "4/4 [==============================] - 0s - loss: 0.5358 - acc: 1.0000     \n",
      "Epoch 1/1\n",
      "4/4 [==============================] - 0s - loss: 0.5323 - acc: 1.0000     \n",
      "Epoch 1/1\n",
      "4/4 [==============================] - 0s - loss: 0.5287 - acc: 1.0000     \n",
      "Epoch 1/1\n",
      "4/4 [==============================] - 0s - loss: 0.5252 - acc: 1.0000     \n",
      "Epoch 1/1\n",
      "4/4 [==============================] - 0s - loss: 0.5218 - acc: 1.0000     \n",
      "Epoch 1/1\n",
      "4/4 [==============================] - 0s - loss: 0.5185 - acc: 1.0000     \n",
      "Epoch 1/1\n",
      "4/4 [==============================] - 0s - loss: 0.5153 - acc: 1.0000     \n",
      "Epoch 1/1\n",
      "4/4 [==============================] - 0s - loss: 0.5121 - acc: 1.0000     \n",
      "Epoch 1/1\n",
      "4/4 [==============================] - 0s - loss: 0.5090 - acc: 1.0000     \n",
      "Epoch 1/1\n",
      "4/4 [==============================] - 0s - loss: 0.5059 - acc: 1.0000     \n",
      "Epoch 1/1\n",
      "4/4 [==============================] - 0s - loss: 0.5028 - acc: 1.0000     \n",
      "Epoch 1/1\n",
      "4/4 [==============================] - 0s - loss: 0.4998 - acc: 1.0000     \n",
      "Epoch 1/1\n",
      "4/4 [==============================] - 0s - loss: 0.4968 - acc: 1.0000     \n",
      "Epoch 1/1\n",
      "4/4 [==============================] - 0s - loss: 0.4938 - acc: 1.0000     \n",
      "Epoch 1/1\n",
      "4/4 [==============================] - 0s - loss: 0.4909 - acc: 1.0000     \n",
      "Epoch 1/1\n"
     ]
    },
    {
     "name": "stdout",
     "output_type": "stream",
     "text": [
      "4/4 [==============================] - 0s - loss: 0.4879 - acc: 1.0000     \n",
      "Epoch 1/1\n",
      "4/4 [==============================] - 0s - loss: 0.4850 - acc: 1.0000     \n",
      "Epoch 1/1\n",
      "4/4 [==============================] - 0s - loss: 0.4821 - acc: 1.0000     \n",
      "Epoch 1/1\n",
      "4/4 [==============================] - 0s - loss: 0.4792 - acc: 1.0000     \n",
      "Epoch 1/1\n",
      "4/4 [==============================] - 0s - loss: 0.4763 - acc: 1.0000     \n",
      "Epoch 1/1\n",
      "4/4 [==============================] - ETA: 0s - loss: 0.6179 - acc: 1.000 - 0s - loss: 0.4735 - acc: 1.0000     \n",
      "Epoch 1/1\n",
      "4/4 [==============================] - 0s - loss: 0.4706 - acc: 1.0000     \n",
      "Epoch 1/1\n",
      "4/4 [==============================] - 0s - loss: 0.4674 - acc: 1.0000     \n",
      "Epoch 1/1\n",
      "4/4 [==============================] - 0s - loss: 0.4644 - acc: 1.0000     \n",
      "Epoch 1/1\n",
      "4/4 [==============================] - 0s - loss: 0.4615 - acc: 1.0000     \n",
      "Epoch 1/1\n",
      "4/4 [==============================] - 0s - loss: 0.4587 - acc: 1.0000     \n",
      "Epoch 1/1\n",
      "4/4 [==============================] - 0s - loss: 0.4559 - acc: 1.0000     \n",
      "Epoch 1/1\n",
      "4/4 [==============================] - 0s - loss: 0.4532 - acc: 1.0000     \n",
      "Epoch 1/1\n",
      "4/4 [==============================] - 0s - loss: 0.4504 - acc: 1.0000     \n",
      "Epoch 1/1\n",
      "4/4 [==============================] - 0s - loss: 0.4475 - acc: 1.0000     \n",
      "Epoch 1/1\n",
      "4/4 [==============================] - 0s - loss: 0.4446 - acc: 1.0000     \n",
      "Epoch 1/1\n",
      "4/4 [==============================] - 0s - loss: 0.4419 - acc: 1.0000     \n",
      "Epoch 1/1\n",
      "4/4 [==============================] - 0s - loss: 0.4392 - acc: 1.0000     \n",
      "Epoch 1/1\n",
      "4/4 [==============================] - 0s - loss: 0.4365 - acc: 1.0000     \n",
      "Epoch 1/1\n",
      "4/4 [==============================] - 0s - loss: 0.4339 - acc: 1.0000     \n",
      "Epoch 1/1\n",
      "4/4 [==============================] - 0s - loss: 0.4311 - acc: 1.0000     \n",
      "Epoch 1/1\n",
      "4/4 [==============================] - 0s - loss: 0.4284 - acc: 1.0000     \n",
      "Epoch 1/1\n",
      "4/4 [==============================] - 0s - loss: 0.4257 - acc: 1.0000     \n",
      "Epoch 1/1\n",
      "4/4 [==============================] - 0s - loss: 0.4232 - acc: 1.0000     \n",
      "Epoch 1/1\n",
      "4/4 [==============================] - 0s - loss: 0.4206 - acc: 1.0000     \n",
      "Epoch 1/1\n",
      "4/4 [==============================] - 0s - loss: 0.4181 - acc: 1.0000     \n",
      "Epoch 1/1\n",
      "4/4 [==============================] - 0s - loss: 0.4157 - acc: 1.0000     \n",
      "Epoch 1/1\n",
      "4/4 [==============================] - 0s - loss: 0.4132 - acc: 1.0000     \n",
      "Epoch 1/1\n",
      "4/4 [==============================] - 0s - loss: 0.4108 - acc: 1.0000     \n",
      "Epoch 1/1\n",
      "4/4 [==============================] - 0s - loss: 0.4084 - acc: 1.0000     \n",
      "Epoch 1/1\n",
      "4/4 [==============================] - 0s - loss: 0.4058 - acc: 1.0000     \n",
      "Epoch 1/1\n",
      "4/4 [==============================] - 0s - loss: 0.4026 - acc: 1.0000     \n",
      "Epoch 1/1\n",
      "4/4 [==============================] - 0s - loss: 0.3997 - acc: 1.0000     \n",
      "Epoch 1/1\n",
      "4/4 [==============================] - 0s - loss: 0.3968 - acc: 1.0000     \n",
      "Epoch 1/1\n",
      "4/4 [==============================] - ETA: 0s - loss: 0.5071 - acc: 1.000 - 0s - loss: 0.3941 - acc: 1.0000     \n",
      "Epoch 1/1\n",
      "4/4 [==============================] - 0s - loss: 0.3916 - acc: 1.0000     \n",
      "Epoch 1/1\n",
      "4/4 [==============================] - 0s - loss: 0.3891 - acc: 1.0000     \n",
      "Epoch 1/1\n",
      "4/4 [==============================] - 0s - loss: 0.3868 - acc: 1.0000     \n",
      "Epoch 1/1\n",
      "4/4 [==============================] - 0s - loss: 0.3845 - acc: 1.0000     \n",
      "Epoch 1/1\n",
      "4/4 [==============================] - 0s - loss: 0.3822 - acc: 1.0000     \n",
      "Epoch 1/1\n",
      "4/4 [==============================] - 0s - loss: 0.3798 - acc: 1.0000     \n",
      "Epoch 1/1\n",
      "4/4 [==============================] - 0s - loss: 0.3771 - acc: 1.0000     \n",
      "Epoch 1/1\n",
      "4/4 [==============================] - 0s - loss: 0.3746 - acc: 1.0000     \n",
      "Epoch 1/1\n",
      "4/4 [==============================] - 0s - loss: 0.3722 - acc: 1.0000     \n",
      "Epoch 1/1\n",
      "4/4 [==============================] - 0s - loss: 0.3699 - acc: 1.0000     \n",
      "Epoch 1/1\n",
      "4/4 [==============================] - 0s - loss: 0.3676 - acc: 1.0000     \n",
      "Epoch 1/1\n",
      "4/4 [==============================] - 0s - loss: 0.3652 - acc: 1.0000     \n",
      "Epoch 1/1\n",
      "4/4 [==============================] - 0s - loss: 0.3627 - acc: 1.0000     \n",
      "Epoch 1/1\n",
      "4/4 [==============================] - 0s - loss: 0.3600 - acc: 1.0000     \n",
      "Epoch 1/1\n",
      "4/4 [==============================] - 0s - loss: 0.3572 - acc: 1.0000     \n",
      "Epoch 1/1\n",
      "4/4 [==============================] - 0s - loss: 0.3540 - acc: 1.0000     \n",
      "Epoch 1/1\n",
      "4/4 [==============================] - 0s - loss: 0.3513 - acc: 1.0000     \n",
      "Epoch 1/1\n",
      "4/4 [==============================] - 0s - loss: 0.3488 - acc: 1.0000     \n",
      "Epoch 1/1\n",
      "4/4 [==============================] - 0s - loss: 0.3466 - acc: 1.0000     \n",
      "Epoch 1/1\n",
      "4/4 [==============================] - 0s - loss: 0.3443 - acc: 1.0000     \n",
      "Epoch 1/1\n",
      "4/4 [==============================] - 0s - loss: 0.3418 - acc: 1.0000     \n",
      "Epoch 1/1\n",
      "4/4 [==============================] - 0s - loss: 0.3395 - acc: 1.0000     \n",
      "Epoch 1/1\n",
      "4/4 [==============================] - 0s - loss: 0.3372 - acc: 1.0000     \n",
      "Epoch 1/1\n",
      "4/4 [==============================] - 0s - loss: 0.3350 - acc: 1.0000     \n",
      "Epoch 1/1\n",
      "4/4 [==============================] - 0s - loss: 0.3330 - acc: 1.0000     \n",
      "Epoch 1/1\n",
      "4/4 [==============================] - 0s - loss: 0.3311 - acc: 1.0000     \n",
      "Epoch 1/1\n",
      "4/4 [==============================] - 0s - loss: 0.3291 - acc: 1.0000     \n",
      "Epoch 1/1\n",
      "4/4 [==============================] - 0s - loss: 0.3269 - acc: 1.0000     \n",
      "Epoch 1/1\n",
      "4/4 [==============================] - 0s - loss: 0.3245 - acc: 1.0000     \n",
      "Epoch 1/1\n",
      "4/4 [==============================] - 0s - loss: 0.3224 - acc: 1.0000     \n",
      "Epoch 1/1\n",
      "4/4 [==============================] - 0s - loss: 0.3203 - acc: 1.0000     \n",
      "Epoch 1/1\n",
      "4/4 [==============================] - 0s - loss: 0.3184 - acc: 1.0000     \n",
      "Epoch 1/1\n",
      "4/4 [==============================] - 0s - loss: 0.3166 - acc: 1.0000     \n",
      "Epoch 1/1\n",
      "4/4 [==============================] - 0s - loss: 0.3148 - acc: 1.0000     \n",
      "Epoch 1/1\n",
      "4/4 [==============================] - 0s - loss: 0.3130 - acc: 1.0000     \n",
      "Epoch 1/1\n",
      "4/4 [==============================] - 0s - loss: 0.3112 - acc: 1.0000     \n",
      "Epoch 1/1\n",
      "4/4 [==============================] - 0s - loss: 0.3095 - acc: 1.0000     \n",
      "Epoch 1/1\n",
      "4/4 [==============================] - 0s - loss: 0.3077 - acc: 1.0000     \n",
      "Epoch 1/1\n",
      "4/4 [==============================] - 0s - loss: 0.3058 - acc: 1.0000     \n",
      "Epoch 1/1\n",
      "4/4 [==============================] - 0s - loss: 0.3040 - acc: 1.0000     \n",
      "Epoch 1/1\n",
      "4/4 [==============================] - 0s - loss: 0.3022 - acc: 1.0000     \n",
      "Epoch 1/1\n",
      "4/4 [==============================] - 0s - loss: 0.3005 - acc: 1.0000     \n",
      "Epoch 1/1\n",
      "4/4 [==============================] - 0s - loss: 0.2988 - acc: 1.0000     \n",
      "Epoch 1/1\n",
      "4/4 [==============================] - 0s - loss: 0.2971 - acc: 1.0000     \n",
      "Epoch 1/1\n",
      "4/4 [==============================] - 0s - loss: 0.2954 - acc: 1.0000     \n",
      "Epoch 1/1\n",
      "4/4 [==============================] - ETA: 0s - loss: 0.3759 - acc: 1.000 - 0s - loss: 0.2936 - acc: 1.0000     \n",
      "Epoch 1/1\n",
      "4/4 [==============================] - 0s - loss: 0.2917 - acc: 1.0000     \n",
      "Epoch 1/1\n",
      "4/4 [==============================] - 0s - loss: 0.2899 - acc: 1.0000     \n",
      "Epoch 1/1\n",
      "4/4 [==============================] - 0s - loss: 0.2879 - acc: 1.0000     \n",
      "Epoch 1/1\n",
      "4/4 [==============================] - 0s - loss: 0.2859 - acc: 1.0000     \n",
      "Epoch 1/1\n",
      "4/4 [==============================] - 0s - loss: 0.2835 - acc: 1.0000     \n",
      "Epoch 1/1\n",
      "4/4 [==============================] - 0s - loss: 0.2811 - acc: 1.0000     \n",
      "Epoch 1/1\n",
      "4/4 [==============================] - 0s - loss: 0.2789 - acc: 1.0000     \n",
      "Epoch 1/1\n",
      "4/4 [==============================] - 0s - loss: 0.2764 - acc: 1.0000     \n",
      "Epoch 1/1\n",
      "4/4 [==============================] - 0s - loss: 0.2743 - acc: 1.0000     \n",
      "Epoch 1/1\n",
      "4/4 [==============================] - 0s - loss: 0.2725 - acc: 1.0000     \n",
      "Epoch 1/1\n",
      "4/4 [==============================] - 0s - loss: 0.2708 - acc: 1.0000     \n",
      "Epoch 1/1\n",
      "4/4 [==============================] - 0s - loss: 0.2690 - acc: 1.0000     \n",
      "Epoch 1/1\n",
      "4/4 [==============================] - 0s - loss: 0.2671 - acc: 1.0000     \n",
      "Epoch 1/1\n"
     ]
    },
    {
     "name": "stdout",
     "output_type": "stream",
     "text": [
      "4/4 [==============================] - 0s - loss: 0.2653 - acc: 1.0000     \n",
      "Epoch 1/1\n",
      "4/4 [==============================] - 0s - loss: 0.2634 - acc: 1.0000     \n",
      "Epoch 1/1\n",
      "4/4 [==============================] - 0s - loss: 0.2618 - acc: 1.0000     \n",
      "Epoch 1/1\n",
      "4/4 [==============================] - 0s - loss: 0.2602 - acc: 1.0000     \n",
      "Epoch 1/1\n",
      "4/4 [==============================] - 0s - loss: 0.2586 - acc: 1.0000     \n",
      "Epoch 1/1\n",
      "4/4 [==============================] - 0s - loss: 0.2567 - acc: 1.0000     \n",
      "Epoch 1/1\n",
      "4/4 [==============================] - 0s - loss: 0.2549 - acc: 1.0000     \n",
      "Epoch 1/1\n",
      "4/4 [==============================] - 0s - loss: 0.2532 - acc: 1.0000     \n",
      "Epoch 1/1\n",
      "4/4 [==============================] - 0s - loss: 0.2517 - acc: 1.0000     \n",
      "Epoch 1/1\n",
      "4/4 [==============================] - 0s - loss: 0.2502 - acc: 1.0000     \n",
      "Epoch 1/1\n",
      "4/4 [==============================] - 0s - loss: 0.2488 - acc: 1.0000     \n",
      "Epoch 1/1\n",
      "4/4 [==============================] - 0s - loss: 0.2473 - acc: 1.0000     \n",
      "Epoch 1/1\n",
      "4/4 [==============================] - 0s - loss: 0.2458 - acc: 1.0000     \n",
      "Epoch 1/1\n",
      "4/4 [==============================] - 0s - loss: 0.2442 - acc: 1.0000     \n",
      "Epoch 1/1\n",
      "4/4 [==============================] - 0s - loss: 0.2426 - acc: 1.0000     \n",
      "Epoch 1/1\n",
      "4/4 [==============================] - 0s - loss: 0.2411 - acc: 1.0000     \n",
      "Epoch 1/1\n",
      "4/4 [==============================] - 0s - loss: 0.2398 - acc: 1.0000     \n",
      "Epoch 1/1\n",
      "4/4 [==============================] - 0s - loss: 0.2384 - acc: 1.0000     \n",
      "Epoch 1/1\n",
      "4/4 [==============================] - 0s - loss: 0.2371 - acc: 1.0000     \n",
      "Epoch 1/1\n",
      "4/4 [==============================] - 0s - loss: 0.2359 - acc: 1.0000     \n",
      "Epoch 1/1\n",
      "4/4 [==============================] - 0s - loss: 0.2346 - acc: 1.0000     \n",
      "Epoch 1/1\n",
      "4/4 [==============================] - 0s - loss: 0.2333 - acc: 1.0000     \n",
      "Epoch 1/1\n",
      "4/4 [==============================] - 0s - loss: 0.2320 - acc: 1.0000     \n"
     ]
    }
   ],
   "source": [
    "model_3.compile(optimizer='adam', loss='categorical_crossentropy', metrics=['accuracy'])\n",
    "for i in range(300):\n",
    "    model_3.fit(X, y, epochs=1, batch_size=batch_size, verbose=1, shuffle=False)\n",
    "    model_3.reset_states()"
   ]
  },
  {
   "cell_type": "markdown",
   "metadata": {},
   "source": [
    "# Voy ingresando de a uno"
   ]
  },
  {
   "cell_type": "code",
   "execution_count": 213,
   "metadata": {},
   "outputs": [
    {
     "name": "stdout",
     "output_type": "stream",
     "text": [
      "[[ 0.74167341  0.04327888  0.15980627  0.05524141]]\n"
     ]
    },
    {
     "data": {
      "text/plain": [
       "'E'"
      ]
     },
     "execution_count": 213,
     "metadata": {},
     "output_type": "execute_result"
    }
   ],
   "source": [
    "window_size=1\n",
    "model_3.reset_states()\n",
    "to_predict = chars_to_one_hot('H', chars, chars_to_indices, window_size)*1\n",
    "predicted = model_3.predict(to_predict)\n",
    "print(predicted)\n",
    "indices_to_chars[np.argmax(predicted[0])]"
   ]
  },
  {
   "cell_type": "code",
   "execution_count": 214,
   "metadata": {},
   "outputs": [
    {
     "name": "stdout",
     "output_type": "stream",
     "text": [
      "[[ 0.24114993  0.00935013  0.72311991  0.0263801 ]]\n"
     ]
    },
    {
     "data": {
      "text/plain": [
       "'L'"
      ]
     },
     "execution_count": 214,
     "metadata": {},
     "output_type": "execute_result"
    }
   ],
   "source": [
    "to_predict = chars_to_one_hot('E', chars, chars_to_indices, window_size)*1\n",
    "predicted = model_3.predict(to_predict)\n",
    "print(predicted)\n",
    "indices_to_chars[np.argmax(predicted[0])]"
   ]
  },
  {
   "cell_type": "code",
   "execution_count": 215,
   "metadata": {},
   "outputs": [
    {
     "name": "stdout",
     "output_type": "stream",
     "text": [
      "[[ 0.01084032  0.00275862  0.89676136  0.08963973]]\n"
     ]
    },
    {
     "data": {
      "text/plain": [
       "'L'"
      ]
     },
     "execution_count": 215,
     "metadata": {},
     "output_type": "execute_result"
    }
   ],
   "source": [
    "to_predict = chars_to_one_hot('L', chars, chars_to_indices, window_size)*1\n",
    "predicted = model_3.predict(to_predict)\n",
    "print(predicted)\n",
    "indices_to_chars[np.argmax(predicted[0])]"
   ]
  },
  {
   "cell_type": "code",
   "execution_count": 216,
   "metadata": {},
   "outputs": [
    {
     "name": "stdout",
     "output_type": "stream",
     "text": [
      "[[ 0.006766    0.01233834  0.15585099  0.82504463]]\n"
     ]
    },
    {
     "data": {
      "text/plain": [
       "'O'"
      ]
     },
     "execution_count": 216,
     "metadata": {},
     "output_type": "execute_result"
    }
   ],
   "source": [
    "to_predict = chars_to_one_hot('L', chars, chars_to_indices, window_size)*1\n",
    "predicted = model_3.predict(to_predict)\n",
    "print(predicted)\n",
    "indices_to_chars[np.argmax(predicted[0])]"
   ]
  },
  {
   "cell_type": "markdown",
   "metadata": {},
   "source": [
    "Algunas pruebas mas"
   ]
  },
  {
   "cell_type": "code",
   "execution_count": 217,
   "metadata": {},
   "outputs": [
    {
     "name": "stdout",
     "output_type": "stream",
     "text": [
      "[[ 0.0603941   0.0278831   0.22988784  0.681835  ]]\n"
     ]
    },
    {
     "data": {
      "text/plain": [
       "'O'"
      ]
     },
     "execution_count": 217,
     "metadata": {},
     "output_type": "execute_result"
    }
   ],
   "source": [
    "model_3.reset_states()\n",
    "to_predict = chars_to_one_hot('L', chars, chars_to_indices, window_size)*1\n",
    "predicted = model_3.predict(to_predict)\n",
    "print(predicted)\n",
    "indices_to_chars[np.argmax(predicted[0])]"
   ]
  },
  {
   "cell_type": "code",
   "execution_count": 218,
   "metadata": {},
   "outputs": [
    {
     "name": "stdout",
     "output_type": "stream",
     "text": [
      "[[ 0.0603941   0.0278831   0.22988784  0.681835  ]]\n",
      "O\n",
      "[[ 0.00767573  0.01617583  0.04422223  0.93192613]]\n",
      "O\n"
     ]
    }
   ],
   "source": [
    "model_3.reset_states()\n",
    "to_predict = chars_to_one_hot('L', chars, chars_to_indices, window_size)*1\n",
    "predicted = model_3.predict(to_predict)\n",
    "print(predicted)\n",
    "print(indices_to_chars[np.argmax(predicted[0])])\n",
    "\n",
    "to_predict = chars_to_one_hot('L', chars, chars_to_indices, window_size)*1\n",
    "predicted = model_3.predict(to_predict)\n",
    "print(predicted)\n",
    "print(indices_to_chars[np.argmax(predicted[0])])"
   ]
  },
  {
   "cell_type": "code",
   "execution_count": 219,
   "metadata": {},
   "outputs": [
    {
     "name": "stdout",
     "output_type": "stream",
     "text": [
      "[[ 0.06855198  0.01119499  0.86322176  0.05703118]]\n",
      "L\n",
      "[[ 0.02173949  0.00859055  0.69239581  0.27727422]]\n",
      "L\n"
     ]
    }
   ],
   "source": [
    "# Interesante! HEL -> L, pero EL -> O (No es markov)\n",
    "model_3.reset_states()\n",
    "#to_predict = chars_to_one_hot('H', chars, chars_to_indices, window_size)*1\n",
    "#predicted = model_3.predict(to_predict)\n",
    "#print(predicted)\n",
    "#print(indices_to_chars[np.argmax(predicted[0])])\n",
    "to_predict = chars_to_one_hot('E', chars, chars_to_indices, window_size)*1\n",
    "predicted = model_3.predict(to_predict)\n",
    "print(predicted)\n",
    "print(indices_to_chars[np.argmax(predicted[0])])\n",
    "to_predict = chars_to_one_hot('L', chars, chars_to_indices, window_size)*1\n",
    "predicted = model_3.predict(to_predict)\n",
    "print(predicted)\n",
    "print(indices_to_chars[np.argmax(predicted[0])])"
   ]
  },
  {
   "cell_type": "markdown",
   "metadata": {},
   "source": [
    "# Entrenar la secuencia anterior con otro batch size\n",
    "https://machinelearningmastery.com/use-different-batch-sizes-training-predicting-python-keras/"
   ]
  },
  {
   "cell_type": "markdown",
   "metadata": {},
   "source": [
    "# TimeDistributed wrapper\n",
    "https://machinelearningmastery.com/timedistributed-layer-for-long-short-term-memory-networks-in-python/"
   ]
  },
  {
   "cell_type": "markdown",
   "metadata": {},
   "source": [
    "# Pad sequences\n",
    "\"The model will learn the zero values carry no information so indeed the sequences are not the same length in terms of content, but same length vectors is required to perform the computation in Keras.\"\n",
    "https://machinelearningmastery.com/sequence-classification-lstm-recurrent-neural-networks-python-keras/"
   ]
  },
  {
   "cell_type": "markdown",
   "metadata": {},
   "source": [
    "https://machinelearningmastery.com/understanding-stateful-lstm-recurrent-neural-networks-python-keras/"
   ]
  },
  {
   "cell_type": "markdown",
   "metadata": {},
   "source": [
    "# Encoder decoder\n",
    "https://machinelearningmastery.com/encoder-decoder-long-short-term-memory-networks/"
   ]
  },
  {
   "cell_type": "markdown",
   "metadata": {},
   "source": [
    "# Sentiment analysis con CNN y LSTM\n",
    "https://machinelearningmastery.com/sequence-classification-lstm-recurrent-neural-networks-python-keras/"
   ]
  },
  {
   "cell_type": "markdown",
   "metadata": {},
   "source": [
    "# Word-level language model"
   ]
  },
  {
   "cell_type": "markdown",
   "metadata": {},
   "source": [
    "https://machinelearningmastery.com/how-to-develop-a-word-level-neural-language-model-in-keras/"
   ]
  },
  {
   "cell_type": "markdown",
   "metadata": {},
   "source": [
    "# return_sequence vs return_state\n",
    "https://www.quora.com/What-is-the-difference-between-states-and-outputs-in-LSTM\n",
    "\n",
    "https://machinelearningmastery.com/return-sequences-and-return-states-for-lstms-in-keras/"
   ]
  },
  {
   "cell_type": "code",
   "execution_count": null,
   "metadata": {
    "collapsed": true
   },
   "outputs": [],
   "source": []
  }
 ],
 "metadata": {
  "kernelspec": {
   "display_name": "Python 3",
   "language": "python",
   "name": "python3"
  },
  "language_info": {
   "codemirror_mode": {
    "name": "ipython",
    "version": 3
   },
   "file_extension": ".py",
   "mimetype": "text/x-python",
   "name": "python",
   "nbconvert_exporter": "python",
   "pygments_lexer": "ipython3",
   "version": "3.6.2"
  },
  "toc": {
   "nav_menu": {},
   "number_sections": true,
   "sideBar": true,
   "skip_h1_title": true,
   "toc_cell": false,
   "toc_position": {},
   "toc_section_display": "block",
   "toc_window_display": false
  }
 },
 "nbformat": 4,
 "nbformat_minor": 2
}
