{
 "cells": [
  {
   "cell_type": "markdown",
   "metadata": {},
   "source": [
    "# Bidirectional RNNs"
   ]
  },
  {
   "cell_type": "code",
   "execution_count": 107,
   "metadata": {},
   "outputs": [
    {
     "name": "stdout",
     "output_type": "stream",
     "text": [
      "<keras.layers.wrappers.Bidirectional object at 0x13807c1d0>\n"
     ]
    },
    {
     "data": {
      "text/plain": [
       "[<tf.Tensor 'lstm_4/transpose_1:0' shape=(?, ?, 256) dtype=float32>,\n",
       " <tf.Tensor 'lstm_4/while/Exit_2:0' shape=(?, 256) dtype=float32>,\n",
       " <tf.Tensor 'lstm_4/while/Exit_3:0' shape=(?, 256) dtype=float32>]"
      ]
     },
     "execution_count": 107,
     "metadata": {},
     "output_type": "execute_result"
    }
   ],
   "source": [
    "from keras.models import Model\n",
    "from keras.layers import Input, LSTM, GRU, Bidirectional\n",
    "features = 256\n",
    "cells = 256\n",
    "return_sequences=True\n",
    "\n",
    "input_data = Input(shape=(None, features))\n",
    "LSTM_cell = LSTM(cells, return_state=True, return_sequences=return_sequences)\n",
    "Bi_LSTM_cell = Bidirectional(LSTM_cell)\n",
    "print(Bi_LSTM_cell)\n",
    "LSTM_cell(input_data)\n",
    "#LSTM_outputs, LSTM_state_h2, LSTM_state_h1, LSTM_state_c1, LSTM_state_c2 = Bi_LSTM_cell(input_data)\n",
    "#print('LSTM')\n",
    "#print(LSTM_outputs) # LSTM_outputs y LSTM_state_h son diferentes solo si return_sequences=True\n",
    "#print(LSTM_state_h)\n",
    "#print(LSTM_state_c)\n",
    "#print()"
   ]
  },
  {
   "cell_type": "markdown",
   "metadata": {},
   "source": [
    "### Aplicaciones\n",
    "- Traducción\n",
    "- **No es buena** para predecir el futuro en secuencias temporales\n",
    "- Clasificación de imagenes"
   ]
  },
  {
   "cell_type": "markdown",
   "metadata": {},
   "source": [
    "![BiLSTM-Image-classif.png](biLSTM-image-class-complete.png)"
   ]
  }
 ],
 "metadata": {
  "kernelspec": {
   "display_name": "Python 3.7.3 (NLP)",
   "language": "python",
   "name": "nlp"
  },
  "language_info": {
   "codemirror_mode": {
    "name": "ipython",
    "version": 3
   },
   "file_extension": ".py",
   "mimetype": "text/x-python",
   "name": "python",
   "nbconvert_exporter": "python",
   "pygments_lexer": "ipython3",
   "version": "3.7.3"
  }
 },
 "nbformat": 4,
 "nbformat_minor": 2
}
