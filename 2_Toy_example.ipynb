{
 "cells": [
  {
   "cell_type": "code",
   "execution_count": 1,
   "metadata": {},
   "outputs": [
    {
     "name": "stderr",
     "output_type": "stream",
     "text": [
      "Using TensorFlow backend.\n"
     ]
    }
   ],
   "source": [
    "%load_ext autoreload\n",
    "%autoreload 2\n",
    "import numpy as np\n",
    "import sys \n",
    "# sys.path.append(\"/Users/julianganzabal/facultad/lab-ml/mllab-tools\")\n",
    "from RNN_utils import encode_io_pairs, chars_to_one_hot, sample, window_transform_text\n",
    "from fnn_helper import PlotLosses"
   ]
  },
  {
   "cell_type": "markdown",
   "metadata": {},
   "source": [
    "# Formas diferentes de entrenar una RNN con el mismo dataset"
   ]
  },
  {
   "cell_type": "markdown",
   "metadata": {},
   "source": [
    "## Objetivos:"
   ]
  },
  {
   "cell_type": "markdown",
   "metadata": {},
   "source": [
    "Comprender los siguientes conceptos:\n",
    "- Diferencias entre MLP (con features igual a timesteps) y RNN\n",
    "- Stateful vs stateles en Keras\n",
    "- Mini-Batch traininig vs SGD training\n",
    "- Los pesos se actualizan en el backward mientras que el estado de la RNN cambia con cada timestep en el forward\n",
    "- Padding\n",
    "- Masking"
   ]
  },
  {
   "cell_type": "markdown",
   "metadata": {},
   "source": [
    "## Selección de dataset (frase) y preformateo"
   ]
  },
  {
   "cell_type": "markdown",
   "metadata": {},
   "source": [
    "# IMPORTANTE: En estos ejemplos la idea no es generalizar si no ajustarse lo mejor posible al training"
   ]
  },
  {
   "cell_type": "markdown",
   "metadata": {},
   "source": [
    "### Elegimos una frase que tenga una letras repetidas"
   ]
  },
  {
   "cell_type": "code",
   "execution_count": 2,
   "metadata": {
    "collapsed": true
   },
   "outputs": [],
   "source": [
    "text=\"MACHINE LEARNING\""
   ]
  },
  {
   "cell_type": "code",
   "execution_count": 3,
   "metadata": {},
   "outputs": [
    {
     "name": "stdout",
     "output_type": "stream",
     "text": [
      "Caracteres distintos:\n",
      "[' ', 'A', 'C', 'E', 'G', 'H', 'I', 'L', 'M', 'N', 'R']\n"
     ]
    }
   ],
   "source": [
    "chars = sorted(set(text))\n",
    "print('Caracteres distintos:')\n",
    "print(chars)"
   ]
  },
  {
   "cell_type": "code",
   "execution_count": 4,
   "metadata": {},
   "outputs": [],
   "source": [
    "window_size=1\n",
    "chars_to_indices = dict((c, i) for i, c in enumerate(chars))  # map each unique character to unique integer\n",
    "indices_to_chars = dict((i, c) for i, c in enumerate(chars))"
   ]
  },
  {
   "cell_type": "code",
   "execution_count": 5,
   "metadata": {},
   "outputs": [
    {
     "data": {
      "text/plain": [
       "{' ': 0,\n",
       " 'A': 1,\n",
       " 'C': 2,\n",
       " 'E': 3,\n",
       " 'G': 4,\n",
       " 'H': 5,\n",
       " 'I': 6,\n",
       " 'L': 7,\n",
       " 'M': 8,\n",
       " 'N': 9,\n",
       " 'R': 10}"
      ]
     },
     "execution_count": 5,
     "metadata": {},
     "output_type": "execute_result"
    }
   ],
   "source": [
    "chars_to_indices"
   ]
  },
  {
   "cell_type": "code",
   "execution_count": 6,
   "metadata": {},
   "outputs": [
    {
     "data": {
      "text/plain": [
       "{0: ' ',\n",
       " 1: 'A',\n",
       " 2: 'C',\n",
       " 3: 'E',\n",
       " 4: 'G',\n",
       " 5: 'H',\n",
       " 6: 'I',\n",
       " 7: 'L',\n",
       " 8: 'M',\n",
       " 9: 'N',\n",
       " 10: 'R'}"
      ]
     },
     "execution_count": 6,
     "metadata": {},
     "output_type": "execute_result"
    }
   ],
   "source": [
    "indices_to_chars"
   ]
  },
  {
   "cell_type": "markdown",
   "metadata": {},
   "source": [
    "### Texto a One-hot"
   ]
  },
  {
   "cell_type": "code",
   "execution_count": 7,
   "metadata": {},
   "outputs": [
    {
     "name": "stdout",
     "output_type": "stream",
     "text": [
      "[[[0 0 0 0 0 0 0 0 1 0 0]\n",
      "  [0 1 0 0 0 0 0 0 0 0 0]\n",
      "  [0 0 1 0 0 0 0 0 0 0 0]\n",
      "  [0 0 0 0 0 1 0 0 0 0 0]\n",
      "  [0 0 0 0 0 0 1 0 0 0 0]\n",
      "  [0 0 0 0 0 0 0 0 0 1 0]\n",
      "  [0 0 0 1 0 0 0 0 0 0 0]\n",
      "  [1 0 0 0 0 0 0 0 0 0 0]\n",
      "  [0 0 0 0 0 0 0 1 0 0 0]\n",
      "  [0 0 0 1 0 0 0 0 0 0 0]\n",
      "  [0 1 0 0 0 0 0 0 0 0 0]\n",
      "  [0 0 0 0 0 0 0 0 0 0 1]\n",
      "  [0 0 0 0 0 0 0 0 0 1 0]\n",
      "  [0 0 0 0 0 0 1 0 0 0 0]\n",
      "  [0 0 0 0 0 0 0 0 0 1 0]\n",
      "  [0 0 0 0 1 0 0 0 0 0 0]]]\n",
      "(1, 16, 11)\n"
     ]
    }
   ],
   "source": [
    "one_hot_text = chars_to_one_hot(text, chars, chars_to_indices, window_size)*1\n",
    "print(one_hot_text)\n",
    "print(one_hot_text.shape)"
   ]
  },
  {
   "cell_type": "markdown",
   "metadata": {},
   "source": [
    "### One-hot a caracter"
   ]
  },
  {
   "cell_type": "code",
   "execution_count": 8,
   "metadata": {},
   "outputs": [
    {
     "name": "stdout",
     "output_type": "stream",
     "text": [
      "M\n",
      "A\n"
     ]
    }
   ],
   "source": [
    "print(indices_to_chars[np.argmax(one_hot_text[0][0])])\n",
    "print(indices_to_chars[np.argmax(one_hot_text[0][1])])"
   ]
  },
  {
   "cell_type": "markdown",
   "metadata": {},
   "source": [
    "## Ejemplo 1: T = 1\n",
    "En este ejemplo usaremos una RNN pero como una simple vanilla network (MLP)"
   ]
  },
  {
   "cell_type": "markdown",
   "metadata": {},
   "source": [
    "### Preparo entrada/salida:  "
   ]
  },
  {
   "cell_type": "code",
   "execution_count": 15,
   "metadata": {},
   "outputs": [
    {
     "data": {
      "text/plain": [
       "(['M', 'A', 'C', 'H', 'I', 'N', 'E', ' ', 'L', 'E', 'A', 'R', 'N', 'I', 'N'],\n",
       " ['A', 'C', 'H', 'I', 'N', 'E', ' ', 'L', 'E', 'A', 'R', 'N', 'I', 'N', 'G'])"
      ]
     },
     "execution_count": 15,
     "metadata": {},
     "output_type": "execute_result"
    }
   ],
   "source": [
    "window_transform_text(text, 1, 1)"
   ]
  },
  {
   "cell_type": "code",
   "execution_count": 16,
   "metadata": {
    "collapsed": true
   },
   "outputs": [],
   "source": [
    "window_size = 1\n",
    "step_size = 1\n",
    "# encode_io_pairs llama a window_transform_text y despues codifica en one-hot\n",
    "X, y = encode_io_pairs(text, chars, window_size, step_size)"
   ]
  },
  {
   "cell_type": "code",
   "execution_count": 17,
   "metadata": {},
   "outputs": [
    {
     "name": "stdout",
     "output_type": "stream",
     "text": [
      "X: (15, 1, 11) y: (15, 11)\n"
     ]
    }
   ],
   "source": [
    "print('X:', X.shape, 'y:', y.shape)"
   ]
  },
  {
   "cell_type": "code",
   "execution_count": 18,
   "metadata": {},
   "outputs": [
    {
     "name": "stdout",
     "output_type": "stream",
     "text": [
      "N:  15\n",
      "T:  1\n",
      "D:  11\n"
     ]
    }
   ],
   "source": [
    "print('N: ', X.shape[0])\n",
    "print('T: ', X.shape[1])\n",
    "print('D: ', X.shape[2])"
   ]
  },
  {
   "cell_type": "code",
   "execution_count": 19,
   "metadata": {},
   "outputs": [
    {
     "name": "stdout",
     "output_type": "stream",
     "text": [
      "[[0 0 0 0 0 0 0 0 1 0 0]] M\n",
      "[[0 1 0 0 0 0 0 0 0 0 0]] A\n",
      "[[0 0 1 0 0 0 0 0 0 0 0]] C\n",
      "[[0 0 0 0 0 1 0 0 0 0 0]] H\n",
      "[[0 0 0 0 0 0 1 0 0 0 0]] I\n",
      "[[0 0 0 0 0 0 0 0 0 1 0]] N\n",
      "[[0 0 0 1 0 0 0 0 0 0 0]] E\n",
      "[[1 0 0 0 0 0 0 0 0 0 0]]  \n",
      "[[0 0 0 0 0 0 0 1 0 0 0]] L\n",
      "[[0 0 0 1 0 0 0 0 0 0 0]] E\n",
      "[[0 1 0 0 0 0 0 0 0 0 0]] A\n",
      "[[0 0 0 0 0 0 0 0 0 0 1]] R\n",
      "[[0 0 0 0 0 0 0 0 0 1 0]] N\n",
      "[[0 0 0 0 0 0 1 0 0 0 0]] I\n",
      "[[0 0 0 0 0 0 0 0 0 1 0]] N\n"
     ]
    }
   ],
   "source": [
    "for xi in X:\n",
    "    print(xi*1, indices_to_chars[np.argmax(xi)])"
   ]
  },
  {
   "cell_type": "code",
   "execution_count": 20,
   "metadata": {},
   "outputs": [
    {
     "name": "stdout",
     "output_type": "stream",
     "text": [
      "[0 1 0 0 0 0 0 0 0 0 0] A\n",
      "[0 0 1 0 0 0 0 0 0 0 0] C\n",
      "[0 0 0 0 0 1 0 0 0 0 0] H\n",
      "[0 0 0 0 0 0 1 0 0 0 0] I\n",
      "[0 0 0 0 0 0 0 0 0 1 0] N\n",
      "[0 0 0 1 0 0 0 0 0 0 0] E\n",
      "[1 0 0 0 0 0 0 0 0 0 0]  \n",
      "[0 0 0 0 0 0 0 1 0 0 0] L\n",
      "[0 0 0 1 0 0 0 0 0 0 0] E\n",
      "[0 1 0 0 0 0 0 0 0 0 0] A\n",
      "[0 0 0 0 0 0 0 0 0 0 1] R\n",
      "[0 0 0 0 0 0 0 0 0 1 0] N\n",
      "[0 0 0 0 0 0 1 0 0 0 0] I\n",
      "[0 0 0 0 0 0 0 0 0 1 0] N\n",
      "[0 0 0 0 1 0 0 0 0 0 0] G\n"
     ]
    }
   ],
   "source": [
    "for yi in y:\n",
    "    print(yi*1, indices_to_chars[np.argmax(yi)])"
   ]
  },
  {
   "cell_type": "markdown",
   "metadata": {},
   "source": [
    "Notar que la salida es el siguiente caracter al de la entrada\n",
    "\n",
    "Esto es equivalente a un MLP"
   ]
  },
  {
   "cell_type": "markdown",
   "metadata": {},
   "source": [
    "### Armo modelo RNN"
   ]
  },
  {
   "cell_type": "code",
   "execution_count": 21,
   "metadata": {
    "collapsed": true
   },
   "outputs": [],
   "source": [
    "from keras.layers import SimpleRNN, Dense\n",
    "from keras.models import Sequential"
   ]
  },
  {
   "cell_type": "code",
   "execution_count": 22,
   "metadata": {},
   "outputs": [
    {
     "name": "stdout",
     "output_type": "stream",
     "text": [
      "_________________________________________________________________\n",
      "Layer (type)                 Output Shape              Param #   \n",
      "=================================================================\n",
      "simple_rnn_1 (SimpleRNN)     (None, 10)                220       \n",
      "_________________________________________________________________\n",
      "dense_1 (Dense)              (None, 11)                121       \n",
      "=================================================================\n",
      "Total params: 341\n",
      "Trainable params: 341\n",
      "Non-trainable params: 0\n",
      "_________________________________________________________________\n"
     ]
    }
   ],
   "source": [
    "model = Sequential()\n",
    "model.add(SimpleRNN(10, input_shape=(window_size,len(chars))))\n",
    "model.add(Dense(len(chars), activation=\"softmax\"))\n",
    "model.summary()"
   ]
  },
  {
   "cell_type": "markdown",
   "metadata": {},
   "source": [
    "### Entreno el modelo"
   ]
  },
  {
   "cell_type": "code",
   "execution_count": 23,
   "metadata": {},
   "outputs": [
    {
     "data": {
      "image/png": "[encoded data removed]",
      "text/plain": [
       "<Figure size 1440x360 with 2 Axes>"
      ]
     },
     "metadata": {},
     "output_type": "display_data"
    },
    {
     "name": "stdout",
     "output_type": "stream",
     "text": [
      "Epoch 492/500\n",
      "15/15 [==============================] - 0s 2ms/step - loss: 0.4203 - acc: 0.6667\n",
      "Epoch 493/500\n",
      "15/15 [==============================] - 0s 2ms/step - loss: 0.4213 - acc: 0.6667\n",
      "Epoch 494/500\n",
      "15/15 [==============================] - 0s 2ms/step - loss: 0.4206 - acc: 0.7333\n",
      "Epoch 495/500\n",
      "15/15 [==============================] - 0s 2ms/step - loss: 0.4204 - acc: 0.6667\n",
      "Epoch 496/500\n",
      "15/15 [==============================] - 0s 2ms/step - loss: 0.4222 - acc: 0.6667\n",
      "Epoch 497/500\n",
      "15/15 [==============================] - 0s 2ms/step - loss: 0.4206 - acc: 0.6667\n",
      "Epoch 498/500\n",
      "15/15 [==============================] - 0s 2ms/step - loss: 0.4207 - acc: 0.6667\n",
      "Epoch 499/500\n",
      "15/15 [==============================] - 0s 2ms/step - loss: 0.4220 - acc: 0.6667\n",
      "Epoch 500/500\n",
      "15/15 [==============================] - 0s 2ms/step - loss: 0.4225 - acc: 0.6667\n"
     ]
    },
    {
     "data": {
      "text/plain": [
       "<keras.callbacks.History at 0xb237f9470>"
      ]
     },
     "execution_count": 23,
     "metadata": {},
     "output_type": "execute_result"
    }
   ],
   "source": [
    "model.compile(optimizer='adam', loss='categorical_crossentropy', metrics=['accuracy'])\n",
    "plot_losses = PlotLosses(plot_interval=10, evaluate_interval=None)\n",
    "model.fit(X,y, epochs=500, batch_size=1, verbose=1, callbacks=[plot_losses])"
   ]
  },
  {
   "cell_type": "markdown",
   "metadata": {},
   "source": [
    "Por que no llega al 100%? Que es lo que no puede predecir?"
   ]
  },
  {
   "cell_type": "markdown",
   "metadata": {},
   "source": [
    "### Predicción usando argmax (Greedy Search)"
   ]
  },
  {
   "cell_type": "code",
   "execution_count": 24,
   "metadata": {},
   "outputs": [
    {
     "name": "stdout",
     "output_type": "stream",
     "text": [
      "M = [[[0 0 0 0 0 0 0 0 1 0 0]]]\n",
      "[[1.2938712e-02 9.8166949e-01 1.0294986e-03 8.5471058e-04 1.5996530e-03\n",
      "  3.2317624e-04 6.2766799e-04 2.1046482e-05 6.6600551e-05 1.6750171e-05\n",
      "  8.5260853e-04]]\n",
      "A 0.9816695\n"
     ]
    }
   ],
   "source": [
    "char_to_predict = text[0]\n",
    "to_predict = chars_to_one_hot(char_to_predict, chars, chars_to_indices, window_size)*1\n",
    "print(char_to_predict, '=', to_predict)\n",
    "predicted = model.predict(to_predict)\n",
    "print(predicted)\n",
    "print(indices_to_chars[np.argmax(predicted)], np.max(predicted))"
   ]
  },
  {
   "cell_type": "code",
   "execution_count": 25,
   "metadata": {
    "collapsed": true
   },
   "outputs": [
    {
     "name": "stdout",
     "output_type": "stream",
     "text": [
      "MACHINE LEARNING\n",
      "[[[0 0 0 0 0 0 0 0 1 0 0]\n",
      "  [0 1 0 0 0 0 0 0 0 0 0]\n",
      "  [0 0 1 0 0 0 0 0 0 0 0]\n",
      "  [0 0 0 0 0 1 0 0 0 0 0]\n",
      "  [0 0 0 0 0 0 1 0 0 0 0]\n",
      "  [0 0 0 0 0 0 0 0 0 1 0]\n",
      "  [0 0 0 1 0 0 0 0 0 0 0]\n",
      "  [1 0 0 0 0 0 0 0 0 0 0]\n",
      "  [0 0 0 0 0 0 0 1 0 0 0]\n",
      "  [0 0 0 1 0 0 0 0 0 0 0]\n",
      "  [0 1 0 0 0 0 0 0 0 0 0]\n",
      "  [0 0 0 0 0 0 0 0 0 0 1]\n",
      "  [0 0 0 0 0 0 0 0 0 1 0]\n",
      "  [0 0 0 0 0 0 1 0 0 0 0]\n",
      "  [0 0 0 0 0 0 0 0 0 1 0]\n",
      "  [0 0 0 0 1 0 0 0 0 0 0]]]\n",
      "(1, 16, 11)\n"
     ]
    }
   ],
   "source": [
    "chars_to_predict = text[:]\n",
    "print(chars_to_predict)\n",
    "# Los paso a one hot\n",
    "to_predict = chars_to_one_hot(chars_to_predict, chars, chars_to_indices, window_size)*1\n",
    "print(to_predict)\n",
    "print(to_predict.shape)"
   ]
  },
  {
   "cell_type": "code",
   "execution_count": 26,
   "metadata": {},
   "outputs": [
    {
     "name": "stdout",
     "output_type": "stream",
     "text": [
      "[[[0 0 0 0 0 0 0 0 1 0 0]]\n",
      "\n",
      " [[0 1 0 0 0 0 0 0 0 0 0]]\n",
      "\n",
      " [[0 0 1 0 0 0 0 0 0 0 0]]\n",
      "\n",
      " [[0 0 0 0 0 1 0 0 0 0 0]]\n",
      "\n",
      " [[0 0 0 0 0 0 1 0 0 0 0]]\n",
      "\n",
      " [[0 0 0 0 0 0 0 0 0 1 0]]\n",
      "\n",
      " [[0 0 0 1 0 0 0 0 0 0 0]]\n",
      "\n",
      " [[1 0 0 0 0 0 0 0 0 0 0]]\n",
      "\n",
      " [[0 0 0 0 0 0 0 1 0 0 0]]\n",
      "\n",
      " [[0 0 0 1 0 0 0 0 0 0 0]]\n",
      "\n",
      " [[0 1 0 0 0 0 0 0 0 0 0]]\n",
      "\n",
      " [[0 0 0 0 0 0 0 0 0 0 1]]\n",
      "\n",
      " [[0 0 0 0 0 0 0 0 0 1 0]]\n",
      "\n",
      " [[0 0 0 0 0 0 1 0 0 0 0]]\n",
      "\n",
      " [[0 0 0 0 0 0 0 0 0 1 0]]\n",
      "\n",
      " [[0 0 0 0 1 0 0 0 0 0 0]]]\n",
      "(16, 1, 11)\n"
     ]
    }
   ],
   "source": [
    "# Tengo que hacer reshape para darselo a la red\n",
    "to_predict_reshaped = to_predict.reshape(to_predict.shape[1],to_predict.shape[0],to_predict.shape[2])\n",
    "print(to_predict_reshaped)\n",
    "print(to_predict_reshaped.shape)"
   ]
  },
  {
   "cell_type": "markdown",
   "metadata": {},
   "source": [
    "### Matriz de transición"
   ]
  },
  {
   "cell_type": "code",
   "execution_count": 42,
   "metadata": {
    "collapsed": true
   },
   "outputs": [
    {
     "name": "stdout",
     "output_type": "stream",
     "text": [
      "(16, 11)\n",
      "         A    C    E    G    H    I    L    M    N    R    \n",
      "M [0.01 0.98 0.   0.   0.   0.   0.   0.   0.   0.   0.  ] A\n",
      "A [0.   0.   0.48 0.   0.   0.   0.   0.   0.   0.   0.49] R\n",
      "C [0.   0.   0.   0.   0.   0.99 0.   0.   0.   0.   0.  ] H\n",
      "H [0.   0.   0.   0.   0.   0.   0.98 0.   0.   0.   0.  ] I\n",
      "I [0.   0.   0.   0.   0.   0.   0.   0.   0.   0.99 0.  ] N\n",
      "N [0.   0.   0.   0.32 0.32 0.   0.33 0.   0.   0.   0.  ] I\n",
      "E [0.47 0.5  0.   0.   0.   0.   0.   0.   0.   0.   0.  ] A\n",
      "  [0.   0.   0.   0.   0.   0.   0.   0.99 0.   0.   0.  ] L\n",
      "L [0.   0.   0.   0.98 0.   0.   0.   0.   0.   0.   0.  ] E\n",
      "E [0.47 0.5  0.   0.   0.   0.   0.   0.   0.   0.   0.  ] A\n",
      "A [0.   0.   0.48 0.   0.   0.   0.   0.   0.   0.   0.49] R\n",
      "R [0.   0.   0.   0.   0.   0.   0.   0.   0.   0.99 0.  ] N\n",
      "N [0.   0.   0.   0.32 0.32 0.   0.33 0.   0.   0.   0.  ] I\n",
      "I [0.   0.   0.   0.   0.   0.   0.   0.   0.   0.99 0.  ] N\n",
      "N [0.   0.   0.   0.32 0.32 0.   0.33 0.   0.   0.   0.  ] I\n",
      "G [0.08 0.19 0.03 0.29 0.04 0.04 0.23 0.01 0.   0.   0.03] E\n"
     ]
    }
   ],
   "source": [
    "predicted = model.predict(to_predict_reshaped)\n",
    "print(predicted.shape)\n",
    "print('    ', end='')\n",
    "for c in chars_to_indices.keys():\n",
    "    print(c, end='    ')\n",
    "print()\n",
    "for i, row in enumerate(predicted):\n",
    "    print(indices_to_chars[np.argmax(to_predict[:,i])], (row*100).astype(int)/100, indices_to_chars[np.argmax(row)])"
   ]
  },
  {
   "cell_type": "markdown",
   "metadata": {},
   "source": [
    "Que pasa con la A, la E y la N cuando el texto es MACHINE LEARNING"
   ]
  },
  {
   "cell_type": "markdown",
   "metadata": {},
   "source": [
    "## Ejemplo 2: T = 2"
   ]
  },
  {
   "cell_type": "markdown",
   "metadata": {},
   "source": [
    "### Preparo entrada/salida"
   ]
  },
  {
   "cell_type": "code",
   "execution_count": 43,
   "metadata": {
    "collapsed": true
   },
   "outputs": [
    {
     "name": "stdout",
     "output_type": "stream",
     "text": [
      "MA -> C\n",
      "AC -> H\n",
      "CH -> I\n",
      "HI -> N\n",
      "IN -> E\n",
      "NE ->  \n",
      "E  -> L\n",
      " L -> E\n",
      "LE -> A\n",
      "EA -> R\n",
      "AR -> N\n",
      "RN -> I\n",
      "NI -> N\n",
      "IN -> G\n"
     ]
    }
   ],
   "source": [
    "window_size = 2\n",
    "x_2_t, y_2_t = window_transform_text(text, window_size, step_size)\n",
    "for i, te in enumerate(x_2_t):\n",
    "    print(te, '->' ,y_2_t[i])\n",
    "#print(x_2_t, y_2_t)\n",
    "X_2, y_2 = encode_io_pairs(text, chars, window_size, step_size)"
   ]
  },
  {
   "cell_type": "code",
   "execution_count": 44,
   "metadata": {},
   "outputs": [
    {
     "name": "stdout",
     "output_type": "stream",
     "text": [
      "(14, 2, 11) [[[0 0 0 0 0 0 0 0 1 0 0]\n",
      "  [0 1 0 0 0 0 0 0 0 0 0]]\n",
      "\n",
      " [[0 1 0 0 0 0 0 0 0 0 0]\n",
      "  [0 0 1 0 0 0 0 0 0 0 0]]\n",
      "\n",
      " [[0 0 1 0 0 0 0 0 0 0 0]\n",
      "  [0 0 0 0 0 1 0 0 0 0 0]]\n",
      "\n",
      " [[0 0 0 0 0 1 0 0 0 0 0]\n",
      "  [0 0 0 0 0 0 1 0 0 0 0]]\n",
      "\n",
      " [[0 0 0 0 0 0 1 0 0 0 0]\n",
      "  [0 0 0 0 0 0 0 0 0 1 0]]\n",
      "\n",
      " [[0 0 0 0 0 0 0 0 0 1 0]\n",
      "  [0 0 0 1 0 0 0 0 0 0 0]]\n",
      "\n",
      " [[0 0 0 1 0 0 0 0 0 0 0]\n",
      "  [1 0 0 0 0 0 0 0 0 0 0]]\n",
      "\n",
      " [[1 0 0 0 0 0 0 0 0 0 0]\n",
      "  [0 0 0 0 0 0 0 1 0 0 0]]\n",
      "\n",
      " [[0 0 0 0 0 0 0 1 0 0 0]\n",
      "  [0 0 0 1 0 0 0 0 0 0 0]]\n",
      "\n",
      " [[0 0 0 1 0 0 0 0 0 0 0]\n",
      "  [0 1 0 0 0 0 0 0 0 0 0]]\n",
      "\n",
      " [[0 1 0 0 0 0 0 0 0 0 0]\n",
      "  [0 0 0 0 0 0 0 0 0 0 1]]\n",
      "\n",
      " [[0 0 0 0 0 0 0 0 0 0 1]\n",
      "  [0 0 0 0 0 0 0 0 0 1 0]]\n",
      "\n",
      " [[0 0 0 0 0 0 0 0 0 1 0]\n",
      "  [0 0 0 0 0 0 1 0 0 0 0]]\n",
      "\n",
      " [[0 0 0 0 0 0 1 0 0 0 0]\n",
      "  [0 0 0 0 0 0 0 0 0 1 0]]]\n"
     ]
    }
   ],
   "source": [
    "print(X_2.shape, X_2*1)"
   ]
  },
  {
   "cell_type": "code",
   "execution_count": 45,
   "metadata": {},
   "outputs": [
    {
     "name": "stdout",
     "output_type": "stream",
     "text": [
      "[[0 0 1 0 0 0 0 0 0 0 0]\n",
      " [0 0 0 0 0 1 0 0 0 0 0]\n",
      " [0 0 0 0 0 0 1 0 0 0 0]\n",
      " [0 0 0 0 0 0 0 0 0 1 0]\n",
      " [0 0 0 1 0 0 0 0 0 0 0]\n",
      " [1 0 0 0 0 0 0 0 0 0 0]\n",
      " [0 0 0 0 0 0 0 1 0 0 0]\n",
      " [0 0 0 1 0 0 0 0 0 0 0]\n",
      " [0 1 0 0 0 0 0 0 0 0 0]\n",
      " [0 0 0 0 0 0 0 0 0 0 1]\n",
      " [0 0 0 0 0 0 0 0 0 1 0]\n",
      " [0 0 0 0 0 0 1 0 0 0 0]\n",
      " [0 0 0 0 0 0 0 0 0 1 0]\n",
      " [0 0 0 0 1 0 0 0 0 0 0]]\n"
     ]
    }
   ],
   "source": [
    "print(y_2*1)"
   ]
  },
  {
   "cell_type": "markdown",
   "metadata": {},
   "source": [
    "### Armo modelo"
   ]
  },
  {
   "cell_type": "code",
   "execution_count": 46,
   "metadata": {},
   "outputs": [
    {
     "name": "stdout",
     "output_type": "stream",
     "text": [
      "_________________________________________________________________\n",
      "Layer (type)                 Output Shape              Param #   \n",
      "=================================================================\n",
      "simple_rnn_2 (SimpleRNN)     (None, 10)                220       \n",
      "_________________________________________________________________\n",
      "dense_2 (Dense)              (None, 11)                121       \n",
      "=================================================================\n",
      "Total params: 341\n",
      "Trainable params: 341\n",
      "Non-trainable params: 0\n",
      "_________________________________________________________________\n"
     ]
    }
   ],
   "source": [
    "model_2 = Sequential()\n",
    "model_2.add(SimpleRNN(10, input_shape=(window_size,len(chars))))\n",
    "model_2.add(Dense(len(chars), activation=\"softmax\"))\n",
    "model_2.summary()"
   ]
  },
  {
   "cell_type": "markdown",
   "metadata": {},
   "source": [
    "### Entreno modelo"
   ]
  },
  {
   "cell_type": "code",
   "execution_count": 47,
   "metadata": {},
   "outputs": [
    {
     "data": {
      "image/png": "[encoded data removed]",
      "text/plain": [
       "<Figure size 1440x360 with 2 Axes>"
      ]
     },
     "metadata": {},
     "output_type": "display_data"
    },
    {
     "name": "stdout",
     "output_type": "stream",
     "text": [
      "Epoch 492/500\n",
      "14/14 [==============================] - 0s 2ms/step - loss: 0.1090 - acc: 0.9286\n",
      "Epoch 493/500\n",
      "14/14 [==============================] - 0s 2ms/step - loss: 0.1075 - acc: 0.9286\n",
      "Epoch 494/500\n",
      "14/14 [==============================] - 0s 2ms/step - loss: 0.1087 - acc: 0.8571\n",
      "Epoch 495/500\n",
      "14/14 [==============================] - 0s 2ms/step - loss: 0.1072 - acc: 0.9286\n",
      "Epoch 496/500\n",
      "14/14 [==============================] - 0s 3ms/step - loss: 0.1092 - acc: 0.8571\n",
      "Epoch 497/500\n",
      "14/14 [==============================] - 0s 2ms/step - loss: 0.1084 - acc: 0.9286\n",
      "Epoch 498/500\n",
      "14/14 [==============================] - 0s 2ms/step - loss: 0.1099 - acc: 0.8571\n",
      "Epoch 499/500\n",
      "14/14 [==============================] - 0s 2ms/step - loss: 0.1099 - acc: 0.8571\n",
      "Epoch 500/500\n",
      "14/14 [==============================] - 0s 2ms/step - loss: 0.1076 - acc: 0.9286\n"
     ]
    },
    {
     "data": {
      "text/plain": [
       "<keras.callbacks.History at 0xb23d078d0>"
      ]
     },
     "execution_count": 47,
     "metadata": {},
     "output_type": "execute_result"
    }
   ],
   "source": [
    "model_2.compile(optimizer='adam', loss='categorical_crossentropy', metrics=['accuracy'])\n",
    "plot_losses = PlotLosses(plot_interval=10, evaluate_interval=None)\n",
    "model_2.fit(X_2,y_2, epochs=500, batch_size=1, verbose=1, callbacks=[plot_losses])"
   ]
  },
  {
   "cell_type": "markdown",
   "metadata": {},
   "source": [
    "### Matriz de transición"
   ]
  },
  {
   "cell_type": "code",
   "execution_count": 54,
   "metadata": {},
   "outputs": [
    {
     "name": "stdout",
     "output_type": "stream",
     "text": [
      "(14, 11)\n",
      "         A    C    E    G    H    I    L    M    N    R    \n",
      "MA [0.   0.   0.99 0.   0.   0.   0.   0.   0.   0.   0.  ] C\n",
      "AC [0.   0.   0.   0.   0.   0.99 0.   0.   0.   0.   0.  ] H\n",
      "CH [0.   0.   0.   0.   0.   0.   0.99 0.   0.   0.   0.  ] I\n",
      "HI [0.   0.   0.   0.   0.   0.   0.   0.   0.   0.99 0.  ] N\n",
      "IN [0.   0.   0.   0.5  0.48 0.   0.   0.   0.   0.   0.  ] E\n",
      "NE [0.99 0.   0.   0.   0.   0.   0.   0.   0.   0.   0.  ]  \n",
      "E  [0.   0.   0.   0.   0.   0.   0.   0.99 0.   0.   0.  ] L\n",
      " L [0.   0.   0.   0.98 0.01 0.   0.   0.   0.   0.   0.  ] E\n",
      "LE [0.   0.99 0.   0.   0.   0.   0.   0.   0.   0.   0.  ] A\n",
      "EA [0.   0.   0.   0.   0.   0.   0.   0.   0.   0.   0.99] R\n",
      "AR [0.   0.   0.   0.   0.   0.   0.   0.   0.   0.99 0.  ] N\n",
      "RN [0.   0.   0.   0.   0.   0.   0.99 0.   0.   0.   0.  ] I\n",
      "NI [0.   0.   0.   0.   0.   0.   0.   0.   0.   0.99 0.  ] N\n",
      "IN [0.   0.   0.   0.5  0.48 0.   0.   0.   0.   0.   0.  ] E\n"
     ]
    }
   ],
   "source": [
    "predicted = model_2.predict(X_2)\n",
    "print(predicted.shape)\n",
    "print('    ', end='')\n",
    "for c in chars_to_indices.keys():\n",
    "    print(c, end='    ')\n",
    "print()\n",
    "for i, row in enumerate(predicted):\n",
    "    print(indices_to_chars[np.argmax(X_2[i, :][0])]+indices_to_chars[np.argmax(X_2[i, :][1])], (row*100).astype(int)/100, indices_to_chars[np.argmax(row)])"
   ]
  },
  {
   "cell_type": "markdown",
   "metadata": {},
   "source": [
    "Notar que luego de IN no se puede tener certeza debido a la ambiguedad"
   ]
  },
  {
   "cell_type": "markdown",
   "metadata": {},
   "source": [
    "- Como es de esperar la predicción mejora notablemente\n",
    "- La cantidad de parametros de la red no cambia respecto a la anterior\n",
    "- Que pasa si lo implemento con MLP con la cantidad de parámetros?"
   ]
  },
  {
   "cell_type": "markdown",
   "metadata": {},
   "source": [
    "## Ejemplo 3: T = 3"
   ]
  },
  {
   "cell_type": "markdown",
   "metadata": {},
   "source": [
    "### Preparo entrada/salida"
   ]
  },
  {
   "cell_type": "code",
   "execution_count": 90,
   "metadata": {},
   "outputs": [
    {
     "name": "stdout",
     "output_type": "stream",
     "text": [
      "MAC -> H\n",
      "ACH -> I\n",
      "CHI -> N\n",
      "HIN -> E\n",
      "INE ->  \n",
      "NE  -> L\n",
      "E L -> E\n",
      " LE -> A\n",
      "LEA -> R\n",
      "EAR -> N\n",
      "ARN -> I\n",
      "RNI -> N\n",
      "NIN -> G\n"
     ]
    }
   ],
   "source": [
    "window_size = 3\n",
    "x_3_t, y_3_t = window_transform_text(text, window_size, step_size)\n",
    "for i, te in enumerate(x_3_t):\n",
    "    print(te, '->' ,y_3_t[i])\n",
    "#print(x_2_t, y_2_t)\n",
    "X_3, y_3 = encode_io_pairs(text, chars, window_size, step_size)"
   ]
  },
  {
   "cell_type": "markdown",
   "metadata": {},
   "source": [
    "### Armo modelo"
   ]
  },
  {
   "cell_type": "code",
   "execution_count": 91,
   "metadata": {},
   "outputs": [
    {
     "name": "stdout",
     "output_type": "stream",
     "text": [
      "_________________________________________________________________\n",
      "Layer (type)                 Output Shape              Param #   \n",
      "=================================================================\n",
      "simple_rnn_7 (SimpleRNN)     (None, 10)                220       \n",
      "_________________________________________________________________\n",
      "dense_7 (Dense)              (None, 11)                121       \n",
      "=================================================================\n",
      "Total params: 341\n",
      "Trainable params: 341\n",
      "Non-trainable params: 0\n",
      "_________________________________________________________________\n"
     ]
    }
   ],
   "source": [
    "model_3 = Sequential()\n",
    "model_3.add(SimpleRNN(10, input_shape=(window_size,len(chars))))\n",
    "model_3.add(Dense(len(chars), activation=\"softmax\"))\n",
    "model_3.summary()"
   ]
  },
  {
   "cell_type": "markdown",
   "metadata": {},
   "source": [
    "### Entreno modelo"
   ]
  },
  {
   "cell_type": "markdown",
   "metadata": {},
   "source": [
    "Cambiar batch_size y verificar que converge de la misma manera"
   ]
  },
  {
   "cell_type": "code",
   "execution_count": 92,
   "metadata": {},
   "outputs": [
    {
     "data": {
      "image/png": "[encoded data removed]",
      "text/plain": [
       "<Figure size 1440x360 with 2 Axes>"
      ]
     },
     "metadata": {},
     "output_type": "display_data"
    },
    {
     "name": "stdout",
     "output_type": "stream",
     "text": [
      "Epoch 492/500\n",
      "13/13 [==============================] - 0s 778us/step - loss: 0.0636 - acc: 1.0000\n",
      "Epoch 493/500\n",
      "13/13 [==============================] - 0s 775us/step - loss: 0.0634 - acc: 1.0000\n",
      "Epoch 494/500\n",
      "13/13 [==============================] - 0s 806us/step - loss: 0.0631 - acc: 1.0000\n",
      "Epoch 495/500\n",
      "13/13 [==============================] - 0s 750us/step - loss: 0.0629 - acc: 1.0000\n",
      "Epoch 496/500\n",
      "13/13 [==============================] - 0s 854us/step - loss: 0.0626 - acc: 1.0000\n",
      "Epoch 497/500\n",
      "13/13 [==============================] - 0s 759us/step - loss: 0.0623 - acc: 1.0000\n",
      "Epoch 498/500\n",
      "13/13 [==============================] - 0s 805us/step - loss: 0.0621 - acc: 1.0000\n",
      "Epoch 499/500\n",
      "13/13 [==============================] - 0s 709us/step - loss: 0.0619 - acc: 1.0000\n",
      "Epoch 500/500\n",
      "13/13 [==============================] - 0s 774us/step - loss: 0.0616 - acc: 1.0000\n"
     ]
    },
    {
     "data": {
      "text/plain": [
       "<keras.callbacks.History at 0xb23d38550>"
      ]
     },
     "execution_count": 92,
     "metadata": {},
     "output_type": "execute_result"
    }
   ],
   "source": [
    "model_3.compile(optimizer='adam', loss='categorical_crossentropy', metrics=['accuracy'])\n",
    "plot_losses = PlotLosses(plot_interval=10, evaluate_interval=None)\n",
    "model_3.fit(X_3,y_3, epochs=500, batch_size=4, verbose=1, callbacks=[plot_losses])"
   ]
  },
  {
   "cell_type": "markdown",
   "metadata": {},
   "source": [
    "- Como funciona la RNN con un batch size mayor que 1?\n",
    "- En que momento se resetea el estado?\n",
    "- Que dimensión tendrá el vector de estados durante el entrenamiento?"
   ]
  },
  {
   "cell_type": "markdown",
   "metadata": {},
   "source": [
    "### Matriz de transición"
   ]
  },
  {
   "cell_type": "code",
   "execution_count": 95,
   "metadata": {},
   "outputs": [
    {
     "name": "stdout",
     "output_type": "stream",
     "text": [
      "(13, 11)\n",
      "          A    C    E    G    H    I    L    M    N    R    \n",
      "MAC [0.   0.   0.   0.   0.   0.97 0.   0.   0.   0.   0.  ] H\n",
      "ACH [0.   0.   0.   0.   0.01 0.   0.97 0.   0.   0.   0.  ] I\n",
      "CHI [0.01 0.   0.   0.   0.   0.   0.   0.   0.   0.95 0.  ] N\n",
      "HIN [0.   0.   0.   0.96 0.01 0.   0.   0.   0.   0.   0.  ] E\n",
      "INE [0.85 0.03 0.   0.01 0.   0.   0.   0.   0.   0.08 0.  ]  \n",
      "NE  [0.   0.01 0.   0.   0.02 0.   0.   0.92 0.   0.   0.01] L\n",
      "E L [0.   0.   0.   0.96 0.   0.   0.   0.   0.   0.01 0.  ] E\n",
      " LE [0.01 0.92 0.   0.   0.   0.   0.   0.02 0.   0.   0.01] A\n",
      "LEA [0.   0.01 0.   0.   0.   0.   0.   0.01 0.   0.   0.94] R\n",
      "EAR [0.02 0.   0.   0.01 0.   0.   0.   0.   0.   0.93 0.  ] N\n",
      "ARN [0.   0.   0.   0.   0.01 0.   0.97 0.   0.   0.   0.  ] I\n",
      "RNI [0.02 0.   0.   0.   0.   0.   0.   0.   0.   0.95 0.  ] N\n",
      "NIN [0.   0.   0.   0.03 0.89 0.   0.01 0.03 0.   0.   0.  ] G\n"
     ]
    }
   ],
   "source": [
    "predicted = model_3.predict(X_3)\n",
    "print(predicted.shape)\n",
    "print('     ', end='')\n",
    "for c in chars_to_indices.keys():\n",
    "    print(c, end='    ')\n",
    "print()\n",
    "for i, row in enumerate(predicted):\n",
    "    print(indices_to_chars[np.argmax(X_3[i, :][0])]+\n",
    "          indices_to_chars[np.argmax(X_3[i, :][1])]+\n",
    "          indices_to_chars[np.argmax(X_3[i, :][2])], \n",
    "          (row*100).astype(int)/100, indices_to_chars[np.argmax(row)])"
   ]
  },
  {
   "cell_type": "markdown",
   "metadata": {},
   "source": [
    "- Las probabilidades son practicamente 1\n",
    "- La cantidad de parametros de la red no cambia respecto a la anterior\n",
    "- Que pasa si lo implemento con MLP con la cantidad de parámetros?"
   ]
  },
  {
   "cell_type": "markdown",
   "metadata": {},
   "source": [
    "### Redefino Modelo con pesos aprendidos pero statefull\n",
    "Cargo los pesos aprendidos y la evaluo en modo statefull"
   ]
  },
  {
   "cell_type": "code",
   "execution_count": 109,
   "metadata": {},
   "outputs": [
    {
     "name": "stdout",
     "output_type": "stream",
     "text": [
      "_________________________________________________________________\n",
      "Layer (type)                 Output Shape              Param #   \n",
      "=================================================================\n",
      "simple_rnn_11 (SimpleRNN)    (1, 10)                   220       \n",
      "_________________________________________________________________\n",
      "dense_11 (Dense)             (1, 11)                   121       \n",
      "=================================================================\n",
      "Total params: 341\n",
      "Trainable params: 341\n",
      "Non-trainable params: 0\n",
      "_________________________________________________________________\n"
     ]
    }
   ],
   "source": [
    "batch_size=1\n",
    "model_3s = Sequential()\n",
    "model_3s.add(SimpleRNN(10, batch_input_shape=(batch_size,1,len(chars)), stateful=True))\n",
    "model_3s.add(Dense(len(chars), activation=\"softmax\"))\n",
    "model_3s.summary()\n",
    "model_3s.set_weights(model_3.get_weights())"
   ]
  },
  {
   "cell_type": "code",
   "execution_count": 110,
   "metadata": {},
   "outputs": [
    {
     "name": "stdout",
     "output_type": "stream",
     "text": [
      "char de entrada: M\n",
      "        A    C    E    G    H    I    L    M    N    R    \n",
      "[[0.12 0.14 0.08 0.02 0.03 0.2  0.1  0.05 0.03 0.03 0.15]]\n",
      "char predicted: H\n"
     ]
    }
   ],
   "source": [
    "window_size=1\n",
    "model_3s.reset_states()\n",
    "input_char = text[0]\n",
    "print('char de entrada:',input_char)\n",
    "to_predict = chars_to_one_hot(input_char, chars, chars_to_indices, window_size)*1\n",
    "predicted = model_3s.predict(to_predict)\n",
    "print('   ', end='')\n",
    "for c in chars_to_indices.keys():\n",
    "    print(c, end='    ')\n",
    "print()\n",
    "print((predicted*100).astype(int)/100)\n",
    "print('char predicted:', indices_to_chars[np.argmax(predicted[0])])"
   ]
  },
  {
   "cell_type": "markdown",
   "metadata": {},
   "source": [
    "Notar que con un solo caracter ingresado, no tiene suficiente data para predecir (Ningun caracter tiene alta probabilidad)"
   ]
  },
  {
   "cell_type": "code",
   "execution_count": 111,
   "metadata": {},
   "outputs": [
    {
     "name": "stdout",
     "output_type": "stream",
     "text": [
      "char de entrada: A\n",
      "       A    C    E    G    H    I    L    M    N    R    \n",
      "[[0.07 0.02 0.02 0.01 0.   0.47 0.   0.   0.01 0.02 0.31]]\n",
      "char predicted: H\n"
     ]
    }
   ],
   "source": [
    "input_char = text[1]\n",
    "print('char de entrada:',input_char)\n",
    "to_predict = chars_to_one_hot(input_char, chars, chars_to_indices, window_size)*1\n",
    "predicted = model_3s.predict(to_predict)\n",
    "print('  ', end='')\n",
    "for c in chars_to_indices.keys():\n",
    "    print(c, end='    ')\n",
    "print()\n",
    "print((predicted*100).astype(int)/100)\n",
    "print('char predicted:', indices_to_chars[np.argmax(predicted[0])])"
   ]
  },
  {
   "cell_type": "markdown",
   "metadata": {},
   "source": [
    "la predicción no tiene por que ser correcta a esta altura debido a que el modelo nunca fue entrenado con la secuencia ingresada"
   ]
  },
  {
   "cell_type": "code",
   "execution_count": 112,
   "metadata": {},
   "outputs": [
    {
     "name": "stdout",
     "output_type": "stream",
     "text": [
      "char de entrada: C\n",
      "        A    C    E    G    H    I    L    M    N    R    \n",
      "[[0.   0.   0.   0.   0.   0.97 0.   0.   0.   0.   0.  ]]\n",
      "char predicted: H\n"
     ]
    }
   ],
   "source": [
    "input_char = text[2]\n",
    "print('char de entrada:',input_char)\n",
    "to_predict = chars_to_one_hot(input_char, chars, chars_to_indices, window_size)*1\n",
    "predicted = model_3s.predict(to_predict)\n",
    "print('   ', end='')\n",
    "for c in chars_to_indices.keys():\n",
    "    print(c, end='    ')\n",
    "print()\n",
    "print((predicted*100).astype(int)/100)\n",
    "print('char predicted:', indices_to_chars[np.argmax(predicted[0])])"
   ]
  },
  {
   "cell_type": "markdown",
   "metadata": {},
   "source": [
    "Notar que luego de la tercer predicción el modelo predice casi perfectamente"
   ]
  },
  {
   "cell_type": "code",
   "execution_count": 113,
   "metadata": {},
   "outputs": [
    {
     "name": "stdout",
     "output_type": "stream",
     "text": [
      "char de entrada: H\n",
      "        A    C    E    G    H    I    L    M    N    R    \n",
      "[[0.09 0.01 0.01 0.   0.   0.06 0.7  0.01 0.01 0.04 0.02]]\n",
      "char predicted: I\n"
     ]
    }
   ],
   "source": [
    "input_char = text[3]\n",
    "print('char de entrada:',input_char)\n",
    "to_predict = chars_to_one_hot(input_char, chars, chars_to_indices, window_size)*1\n",
    "predicted = model_3s.predict(to_predict)\n",
    "print('   ', end='')\n",
    "for c in chars_to_indices.keys():\n",
    "    print(c, end='    ')\n",
    "print()\n",
    "print((predicted*100).astype(int)/100)\n",
    "print('char predicted:', indices_to_chars[np.argmax(predicted[0])])"
   ]
  },
  {
   "cell_type": "markdown",
   "metadata": {},
   "source": [
    "Notar como suele bajar la probabilidad de la predicción debido a que el modelo no tiene por que predecir secuencias mayores a la longitud entrenada (Aunque en ciertas circunstancias podría generalizar)"
   ]
  },
  {
   "cell_type": "code",
   "execution_count": 114,
   "metadata": {},
   "outputs": [
    {
     "name": "stdout",
     "output_type": "stream",
     "text": [
      "char de entrada: I\n",
      "         A     C     E     G     H     I     L     M     N     R     \n",
      "[[0.01 0.   0.01 0.   0.02 0.02 0.6  0.06 0.   0.19 0.04]]\n",
      "char predicted: I\n"
     ]
    }
   ],
   "source": [
    "input_char = text[4]\n",
    "print('char de entrada:',input_char)\n",
    "to_predict = chars_to_one_hot(input_char, chars, chars_to_indices, window_size)*1\n",
    "predicted = model_3s.predict(to_predict)\n",
    "print('   ', end='')\n",
    "for c in chars_to_indices.keys():\n",
    "    print(c, end='     ')\n",
    "print()\n",
    "print((predicted*100).astype(int)/100)\n",
    "print('char predicted:', indices_to_chars[np.argmax(predicted[0])])"
   ]
  },
  {
   "cell_type": "code",
   "execution_count": 115,
   "metadata": {},
   "outputs": [
    {
     "name": "stdout",
     "output_type": "stream",
     "text": [
      "char de entrada: N\n",
      "         A     C     E     G     H     I     L     M     N     R     \n",
      "[[0.02 0.   0.01 0.05 0.37 0.04 0.35 0.01 0.01 0.1  0.  ]]\n",
      "char predicted: G\n"
     ]
    }
   ],
   "source": [
    "input_char = text[5]\n",
    "print('char de entrada:',input_char)\n",
    "to_predict = chars_to_one_hot(input_char, chars, chars_to_indices, window_size)*1\n",
    "predicted = model_3s.predict(to_predict)\n",
    "print('   ', end='')\n",
    "for c in chars_to_indices.keys():\n",
    "    print(c, end='     ')\n",
    "print()\n",
    "print((predicted*100).astype(int)/100)\n",
    "print('char predicted:', indices_to_chars[np.argmax(predicted[0])])"
   ]
  },
  {
   "cell_type": "markdown",
   "metadata": {},
   "source": [
    "Ya a esta altura estoy tratando de predecir algo probablemente demasiado lejano y no lo puede predecir correctamente"
   ]
  },
  {
   "cell_type": "markdown",
   "metadata": {},
   "source": [
    "Por eso, si quiero predecir una nueva secuencia de tres, tengo que resetear el estado y luego  mandar de a un caracter"
   ]
  },
  {
   "cell_type": "markdown",
   "metadata": {},
   "source": [
    "### Reseteo estado y aranco una nueva secuencia"
   ]
  },
  {
   "cell_type": "code",
   "execution_count": 120,
   "metadata": {},
   "outputs": [
    {
     "name": "stdout",
     "output_type": "stream",
     "text": [
      "char de entrada: H\n",
      "         A     C     E     G     H     I     L     M     N     R     \n",
      "[[0.32 0.1  0.02 0.08 0.02 0.01 0.2  0.03 0.04 0.09 0.03]]\n",
      "char predicted:  \n"
     ]
    }
   ],
   "source": [
    "model_3s.reset_states()\n",
    "input_char = text[3]\n",
    "print('char de entrada:',input_char)\n",
    "to_predict = chars_to_one_hot(input_char, chars, chars_to_indices, window_size)*1\n",
    "predicted = model_3s.predict(to_predict)\n",
    "print('   ', end='')\n",
    "for c in chars_to_indices.keys():\n",
    "    print(c, end='     ')\n",
    "print()\n",
    "print((predicted*100).astype(int)/100)\n",
    "print('char predicted:', indices_to_chars[np.argmax(predicted[0])])"
   ]
  },
  {
   "cell_type": "code",
   "execution_count": 121,
   "metadata": {},
   "outputs": [
    {
     "name": "stdout",
     "output_type": "stream",
     "text": [
      "char de entrada: I\n",
      "         A     C     E     G     H     I     L     M     N     R     \n",
      "[[0.   0.07 0.   0.   0.02 0.   0.01 0.71 0.   0.12 0.03]]\n",
      "char predicted: L\n"
     ]
    }
   ],
   "source": [
    "input_char = text[4]\n",
    "print('char de entrada:',input_char)\n",
    "to_predict = chars_to_one_hot(input_char, chars, chars_to_indices, window_size)*1\n",
    "predicted = model_3s.predict(to_predict)\n",
    "print('   ', end='')\n",
    "for c in chars_to_indices.keys():\n",
    "    print(c, end='     ')\n",
    "print()\n",
    "print((predicted*100).astype(int)/100)\n",
    "print('char predicted:', indices_to_chars[np.argmax(predicted[0])])"
   ]
  },
  {
   "cell_type": "code",
   "execution_count": 122,
   "metadata": {},
   "outputs": [
    {
     "name": "stdout",
     "output_type": "stream",
     "text": [
      "char de entrada: N\n",
      "         A     C     E     G     H     I     L     M     N     R     \n",
      "[[0.   0.   0.   0.96 0.01 0.   0.   0.   0.   0.   0.  ]]\n",
      "char predicted: E\n"
     ]
    }
   ],
   "source": [
    "input_char = text[5]\n",
    "print('char de entrada:',input_char)\n",
    "to_predict = chars_to_one_hot(input_char, chars, chars_to_indices, window_size)*1\n",
    "predicted = model_3s.predict(to_predict)\n",
    "print('   ', end='')\n",
    "for c in chars_to_indices.keys():\n",
    "    print(c, end='     ')\n",
    "print()\n",
    "print((predicted*100).astype(int)/100)\n",
    "print('char predicted:', indices_to_chars[np.argmax(predicted[0])])"
   ]
  },
  {
   "cell_type": "markdown",
   "metadata": {},
   "source": [
    "Notar que aca tiene una predicción muy alta debido a que esta secuencia fue vista por el modelo"
   ]
  },
  {
   "cell_type": "markdown",
   "metadata": {},
   "source": [
    "Conclusión importante:  \n",
    "Si puede usar la statefull para predecir, pero hay que alimentar con el largo orignal de la secuencia para que la salida empiece a tener sentido"
   ]
  },
  {
   "cell_type": "markdown",
   "metadata": {},
   "source": [
    "## Ejemplo 4: Stateful RNN\n",
    "Entreno en modo stateful"
   ]
  },
  {
   "cell_type": "code",
   "execution_count": 123,
   "metadata": {},
   "outputs": [
    {
     "data": {
      "text/plain": [
       "(['M', 'A', 'C', 'H', 'I', 'N', 'E', ' ', 'L', 'E', 'A', 'R', 'N', 'I', 'N'],\n",
       " ['A', 'C', 'H', 'I', 'N', 'E', ' ', 'L', 'E', 'A', 'R', 'N', 'I', 'N', 'G'])"
      ]
     },
     "execution_count": 123,
     "metadata": {},
     "output_type": "execute_result"
    }
   ],
   "source": [
    "window_transform_text(text, 1, 1)"
   ]
  },
  {
   "cell_type": "code",
   "execution_count": 124,
   "metadata": {},
   "outputs": [
    {
     "name": "stdout",
     "output_type": "stream",
     "text": [
      "_________________________________________________________________\n",
      "Layer (type)                 Output Shape              Param #   \n",
      "=================================================================\n",
      "simple_rnn_12 (SimpleRNN)    (1, 10)                   220       \n",
      "_________________________________________________________________\n",
      "dense_12 (Dense)             (1, 11)                   121       \n",
      "=================================================================\n",
      "Total params: 341\n",
      "Trainable params: 341\n",
      "Non-trainable params: 0\n",
      "_________________________________________________________________\n"
     ]
    }
   ],
   "source": [
    "batch_size=1\n",
    "model_4 = Sequential()\n",
    "model_4.add(SimpleRNN(10, batch_input_shape=(batch_size,1,len(chars)), stateful=True))\n",
    "model_4.add(Dense(len(chars), activation=\"softmax\"))\n",
    "model_4.summary()"
   ]
  },
  {
   "cell_type": "markdown",
   "metadata": {},
   "source": [
    "- Notar que X e y son los mismos que en el caso T = 1"
   ]
  },
  {
   "cell_type": "code",
   "execution_count": 134,
   "metadata": {},
   "outputs": [
    {
     "data": {
      "text/plain": [
       "((15, 1, 11), (15, 11))"
      ]
     },
     "execution_count": 134,
     "metadata": {},
     "output_type": "execute_result"
    }
   ],
   "source": [
    "X.shape, y.shape"
   ]
  },
  {
   "cell_type": "code",
   "execution_count": 135,
   "metadata": {},
   "outputs": [],
   "source": [
    "batch_size = 1"
   ]
  },
  {
   "cell_type": "markdown",
   "metadata": {},
   "source": [
    "### Observar: shuffle=False y stateful=True\n",
    "- Puedo usar otro batch size en este caso?\n",
    "- Por que suffle tiene que estar en false?"
   ]
  },
  {
   "cell_type": "code",
   "execution_count": 127,
   "metadata": {},
   "outputs": [
    {
     "name": "stdout",
     "output_type": "stream",
     "text": [
      "Epoch 1/1\n",
      "15/15 [==============================] - 1s 39ms/step - loss: 2.5136 - acc: 0.0667\n",
      "Epoch 1/1\n",
      "15/15 [==============================] - 0s 2ms/step - loss: 2.4870 - acc: 0.0667\n",
      "Epoch 1/1\n",
      "15/15 [==============================] - 0s 2ms/step - loss: 2.4668 - acc: 0.0667\n",
      "Epoch 1/1\n",
      "15/15 [==============================] - 0s 2ms/step - loss: 2.4474 - acc: 0.0667\n",
      "Epoch 1/1\n",
      "15/15 [==============================] - 0s 2ms/step - loss: 2.4286 - acc: 0.0667\n",
      "Epoch 1/1\n",
      "15/15 [==============================] - 0s 2ms/step - loss: 2.4100 - acc: 0.0667\n",
      "Epoch 1/1\n",
      "15/15 [==============================] - 0s 2ms/step - loss: 2.3904 - acc: 0.0667\n",
      "Epoch 1/1\n",
      "15/15 [==============================] - 0s 2ms/step - loss: 2.3677 - acc: 0.1333\n",
      "Epoch 1/1\n",
      "15/15 [==============================] - 0s 2ms/step - loss: 2.3450 - acc: 0.1333\n",
      "Epoch 1/1\n",
      "15/15 [==============================] - 0s 2ms/step - loss: 2.3183 - acc: 0.1333\n",
      "Epoch 1/1\n",
      "15/15 [==============================] - 0s 2ms/step - loss: 2.2962 - acc: 0.1333\n",
      "Epoch 1/1\n",
      "15/15 [==============================] - 0s 2ms/step - loss: 2.2709 - acc: 0.2000\n",
      "Epoch 1/1\n",
      "15/15 [==============================] - 0s 2ms/step - loss: 2.2422 - acc: 0.2000\n",
      "Epoch 1/1\n",
      "15/15 [==============================] - 0s 2ms/step - loss: 2.2179 - acc: 0.2000\n",
      "Epoch 1/1\n",
      "15/15 [==============================] - 0s 2ms/step - loss: 2.1926 - acc: 0.2667\n",
      "Epoch 1/1\n",
      "15/15 [==============================] - 0s 3ms/step - loss: 2.1643 - acc: 0.2667\n",
      "Epoch 1/1\n",
      "15/15 [==============================] - 0s 2ms/step - loss: 2.1395 - acc: 0.3333\n",
      "Epoch 1/1\n",
      "15/15 [==============================] - 0s 2ms/step - loss: 2.1177 - acc: 0.4667\n",
      "Epoch 1/1\n",
      "15/15 [==============================] - 0s 2ms/step - loss: 2.1007 - acc: 0.4000\n",
      "Epoch 1/1\n",
      "15/15 [==============================] - 0s 2ms/step - loss: 2.0822 - acc: 0.4000\n",
      "Epoch 1/1\n",
      "15/15 [==============================] - 0s 2ms/step - loss: 2.0554 - acc: 0.4667\n",
      "Epoch 1/1\n",
      "15/15 [==============================] - 0s 2ms/step - loss: 2.0331 - acc: 0.4667\n",
      "Epoch 1/1\n",
      "15/15 [==============================] - 0s 2ms/step - loss: 2.0186 - acc: 0.4667\n",
      "Epoch 1/1\n",
      "15/15 [==============================] - 0s 2ms/step - loss: 2.0077 - acc: 0.4000\n",
      "Epoch 1/1\n",
      "15/15 [==============================] - 0s 2ms/step - loss: 1.9956 - acc: 0.4000\n",
      "Epoch 1/1\n",
      "15/15 [==============================] - 0s 2ms/step - loss: 1.9830 - acc: 0.4000\n",
      "Epoch 1/1\n",
      "15/15 [==============================] - 0s 2ms/step - loss: 1.9708 - acc: 0.4000\n",
      "Epoch 1/1\n",
      "15/15 [==============================] - 0s 2ms/step - loss: 1.9577 - acc: 0.4000\n",
      "Epoch 1/1\n",
      "15/15 [==============================] - 0s 2ms/step - loss: 1.9437 - acc: 0.4000\n",
      "Epoch 1/1\n",
      "15/15 [==============================] - 0s 2ms/step - loss: 1.9292 - acc: 0.4000\n",
      "Epoch 1/1\n",
      "15/15 [==============================] - 0s 2ms/step - loss: 1.9165 - acc: 0.4000\n",
      "Epoch 1/1\n",
      "15/15 [==============================] - 0s 3ms/step - loss: 1.9044 - acc: 0.4000\n",
      "Epoch 1/1\n",
      "15/15 [==============================] - 0s 3ms/step - loss: 1.8906 - acc: 0.4000\n",
      "Epoch 1/1\n",
      "15/15 [==============================] - 0s 3ms/step - loss: 1.8781 - acc: 0.4000\n",
      "Epoch 1/1\n",
      "15/15 [==============================] - 0s 2ms/step - loss: 1.8659 - acc: 0.4000\n",
      "Epoch 1/1\n",
      "15/15 [==============================] - 0s 3ms/step - loss: 1.8539 - acc: 0.4000\n",
      "Epoch 1/1\n",
      "15/15 [==============================] - 0s 3ms/step - loss: 1.8432 - acc: 0.4000\n",
      "Epoch 1/1\n",
      "15/15 [==============================] - 0s 3ms/step - loss: 1.8243 - acc: 0.4000\n",
      "Epoch 1/1\n",
      "15/15 [==============================] - 0s 2ms/step - loss: 1.8066 - acc: 0.4000\n",
      "Epoch 1/1\n",
      "15/15 [==============================] - 0s 3ms/step - loss: 1.7859 - acc: 0.4000\n",
      "Epoch 1/1\n",
      "15/15 [==============================] - 0s 2ms/step - loss: 1.7725 - acc: 0.4000\n",
      "Epoch 1/1\n",
      "15/15 [==============================] - 0s 2ms/step - loss: 1.7495 - acc: 0.4667\n",
      "Epoch 1/1\n",
      "15/15 [==============================] - 0s 2ms/step - loss: 1.7276 - acc: 0.4000\n",
      "Epoch 1/1\n",
      "15/15 [==============================] - 0s 3ms/step - loss: 1.7088 - acc: 0.4667\n",
      "Epoch 1/1\n",
      "15/15 [==============================] - 0s 3ms/step - loss: 1.6944 - acc: 0.4667\n",
      "Epoch 1/1\n",
      "15/15 [==============================] - 0s 3ms/step - loss: 1.6819 - acc: 0.4667\n",
      "Epoch 1/1\n",
      "15/15 [==============================] - 0s 2ms/step - loss: 1.6653 - acc: 0.5333\n",
      "Epoch 1/1\n",
      "15/15 [==============================] - 0s 3ms/step - loss: 1.6450 - acc: 0.4667\n",
      "Epoch 1/1\n",
      "15/15 [==============================] - 0s 2ms/step - loss: 1.6231 - acc: 0.6000\n",
      "Epoch 1/1\n",
      "15/15 [==============================] - 0s 3ms/step - loss: 1.6060 - acc: 0.6000\n",
      "Epoch 1/1\n",
      "15/15 [==============================] - 0s 3ms/step - loss: 1.5904 - acc: 0.6000\n",
      "Epoch 1/1\n",
      "15/15 [==============================] - 0s 2ms/step - loss: 1.5781 - acc: 0.6000\n",
      "Epoch 1/1\n",
      "15/15 [==============================] - 0s 3ms/step - loss: 1.5671 - acc: 0.6000\n",
      "Epoch 1/1\n",
      "15/15 [==============================] - 0s 2ms/step - loss: 1.5560 - acc: 0.6667\n",
      "Epoch 1/1\n",
      "15/15 [==============================] - 0s 3ms/step - loss: 1.5429 - acc: 0.6667\n",
      "Epoch 1/1\n",
      "15/15 [==============================] - 0s 4ms/step - loss: 1.5278 - acc: 0.6667\n",
      "Epoch 1/1\n",
      "15/15 [==============================] - 0s 3ms/step - loss: 1.5126 - acc: 0.6667\n",
      "Epoch 1/1\n",
      "15/15 [==============================] - 0s 3ms/step - loss: 1.4930 - acc: 0.6667\n",
      "Epoch 1/1\n",
      "15/15 [==============================] - 0s 4ms/step - loss: 1.4787 - acc: 0.6667\n",
      "Epoch 1/1\n",
      "15/15 [==============================] - 0s 2ms/step - loss: 1.4620 - acc: 0.7333\n",
      "Epoch 1/1\n",
      "15/15 [==============================] - 0s 2ms/step - loss: 1.4448 - acc: 0.7333\n",
      "Epoch 1/1\n",
      "15/15 [==============================] - 0s 2ms/step - loss: 1.4277 - acc: 0.8000\n",
      "Epoch 1/1\n",
      "15/15 [==============================] - 0s 3ms/step - loss: 1.4128 - acc: 0.8000\n",
      "Epoch 1/1\n",
      "15/15 [==============================] - 0s 3ms/step - loss: 1.3992 - acc: 0.8000\n",
      "Epoch 1/1\n",
      "15/15 [==============================] - 0s 3ms/step - loss: 1.3870 - acc: 0.8000\n",
      "Epoch 1/1\n",
      "15/15 [==============================] - 0s 3ms/step - loss: 1.3714 - acc: 0.8000\n",
      "Epoch 1/1\n",
      "15/15 [==============================] - 0s 3ms/step - loss: 1.3565 - acc: 0.8000\n",
      "Epoch 1/1\n",
      "15/15 [==============================] - 0s 3ms/step - loss: 1.3464 - acc: 0.8000\n",
      "Epoch 1/1\n",
      "15/15 [==============================] - 0s 3ms/step - loss: 1.3353 - acc: 0.8000\n",
      "Epoch 1/1\n",
      "15/15 [==============================] - 0s 2ms/step - loss: 1.3225 - acc: 0.8000\n",
      "Epoch 1/1\n",
      "15/15 [==============================] - 0s 2ms/step - loss: 1.3080 - acc: 0.8000\n",
      "Epoch 1/1\n",
      "15/15 [==============================] - 0s 3ms/step - loss: 1.2932 - acc: 0.8000\n",
      "Epoch 1/1\n",
      "15/15 [==============================] - 0s 2ms/step - loss: 1.2777 - acc: 0.8000\n",
      "Epoch 1/1\n",
      "15/15 [==============================] - 0s 2ms/step - loss: 1.2586 - acc: 0.8000\n",
      "Epoch 1/1\n",
      "15/15 [==============================] - 0s 2ms/step - loss: 1.2446 - acc: 0.8000\n",
      "Epoch 1/1\n",
      "15/15 [==============================] - 0s 3ms/step - loss: 1.2323 - acc: 0.8000\n",
      "Epoch 1/1\n",
      "15/15 [==============================] - 0s 3ms/step - loss: 1.2215 - acc: 0.8000\n",
      "Epoch 1/1\n",
      "15/15 [==============================] - 0s 3ms/step - loss: 1.2104 - acc: 0.8000\n",
      "Epoch 1/1\n",
      "15/15 [==============================] - 0s 2ms/step - loss: 1.1985 - acc: 0.8667\n",
      "Epoch 1/1\n",
      "15/15 [==============================] - 0s 3ms/step - loss: 1.1835 - acc: 0.8667\n",
      "Epoch 1/1\n",
      "15/15 [==============================] - 0s 2ms/step - loss: 1.1714 - acc: 0.8667\n",
      "Epoch 1/1\n",
      "15/15 [==============================] - 0s 2ms/step - loss: 1.1599 - acc: 0.8667\n",
      "Epoch 1/1\n",
      "15/15 [==============================] - 0s 2ms/step - loss: 1.1462 - acc: 0.8000\n",
      "Epoch 1/1\n",
      "15/15 [==============================] - 0s 3ms/step - loss: 1.1336 - acc: 0.8000\n",
      "Epoch 1/1\n",
      "15/15 [==============================] - 0s 3ms/step - loss: 1.1202 - acc: 0.8667\n",
      "Epoch 1/1\n",
      "15/15 [==============================] - 0s 2ms/step - loss: 1.1094 - acc: 0.8667\n",
      "Epoch 1/1\n",
      "15/15 [==============================] - 0s 2ms/step - loss: 1.0945 - acc: 0.8000\n",
      "Epoch 1/1\n",
      "15/15 [==============================] - 0s 2ms/step - loss: 1.0756 - acc: 0.8667\n",
      "Epoch 1/1\n",
      "15/15 [==============================] - 0s 2ms/step - loss: 1.0582 - acc: 0.8667\n",
      "Epoch 1/1\n",
      "15/15 [==============================] - 0s 3ms/step - loss: 1.0454 - acc: 0.8667\n",
      "Epoch 1/1\n",
      "15/15 [==============================] - 0s 3ms/step - loss: 1.0345 - acc: 0.8667\n",
      "Epoch 1/1\n",
      "15/15 [==============================] - 0s 3ms/step - loss: 1.0263 - acc: 0.8667\n",
      "Epoch 1/1\n",
      "15/15 [==============================] - 0s 2ms/step - loss: 1.0153 - acc: 0.8667\n",
      "Epoch 1/1\n",
      "15/15 [==============================] - 0s 3ms/step - loss: 1.0029 - acc: 0.8667\n",
      "Epoch 1/1\n",
      "15/15 [==============================] - 0s 3ms/step - loss: 0.9927 - acc: 0.8667\n",
      "Epoch 1/1\n",
      "15/15 [==============================] - 0s 2ms/step - loss: 0.9777 - acc: 0.8667\n",
      "Epoch 1/1\n",
      "15/15 [==============================] - 0s 2ms/step - loss: 0.9656 - acc: 0.8667\n",
      "Epoch 1/1\n",
      "15/15 [==============================] - 0s 3ms/step - loss: 0.9508 - acc: 0.8667\n",
      "Epoch 1/1\n",
      "15/15 [==============================] - 0s 2ms/step - loss: 0.9369 - acc: 0.8000\n",
      "Epoch 1/1\n",
      "15/15 [==============================] - 0s 2ms/step - loss: 0.9266 - acc: 0.8000\n",
      "Epoch 1/1\n",
      "15/15 [==============================] - 0s 2ms/step - loss: 0.9135 - acc: 0.8000\n",
      "Epoch 1/1\n",
      "15/15 [==============================] - 0s 2ms/step - loss: 0.9030 - acc: 0.8000\n",
      "Epoch 1/1\n",
      "15/15 [==============================] - 0s 2ms/step - loss: 0.8925 - acc: 0.8000\n",
      "Epoch 1/1\n",
      "15/15 [==============================] - 0s 2ms/step - loss: 0.8801 - acc: 0.8000\n",
      "Epoch 1/1\n",
      "15/15 [==============================] - 0s 3ms/step - loss: 0.8690 - acc: 0.8667\n",
      "Epoch 1/1\n",
      "15/15 [==============================] - 0s 3ms/step - loss: 0.8612 - acc: 0.8667\n",
      "Epoch 1/1\n",
      "15/15 [==============================] - 0s 3ms/step - loss: 0.8533 - acc: 0.8667\n",
      "Epoch 1/1\n",
      "15/15 [==============================] - 0s 2ms/step - loss: 0.8403 - acc: 0.8667\n",
      "Epoch 1/1\n",
      "15/15 [==============================] - 0s 2ms/step - loss: 0.8271 - acc: 0.8667\n",
      "Epoch 1/1\n",
      "15/15 [==============================] - 0s 2ms/step - loss: 0.8163 - acc: 0.8667\n",
      "Epoch 1/1\n",
      "15/15 [==============================] - 0s 3ms/step - loss: 0.8038 - acc: 0.8667\n",
      "Epoch 1/1\n",
      "15/15 [==============================] - 0s 3ms/step - loss: 0.7953 - acc: 0.8667\n",
      "Epoch 1/1\n",
      "15/15 [==============================] - 0s 3ms/step - loss: 0.7866 - acc: 0.8667\n",
      "Epoch 1/1\n",
      "15/15 [==============================] - 0s 2ms/step - loss: 0.7750 - acc: 0.8667\n",
      "Epoch 1/1\n",
      "15/15 [==============================] - 0s 3ms/step - loss: 0.7653 - acc: 0.8667\n",
      "Epoch 1/1\n",
      "15/15 [==============================] - 0s 3ms/step - loss: 0.7558 - acc: 0.8667\n",
      "Epoch 1/1\n",
      "15/15 [==============================] - 0s 3ms/step - loss: 0.7467 - acc: 0.8667\n",
      "Epoch 1/1\n",
      "15/15 [==============================] - 0s 3ms/step - loss: 0.7371 - acc: 0.8667\n",
      "Epoch 1/1\n",
      "15/15 [==============================] - 0s 3ms/step - loss: 0.7286 - acc: 0.8667\n",
      "Epoch 1/1\n",
      "15/15 [==============================] - 0s 3ms/step - loss: 0.7189 - acc: 0.8667\n",
      "Epoch 1/1\n",
      "15/15 [==============================] - 0s 3ms/step - loss: 0.7070 - acc: 0.9333\n",
      "Epoch 1/1\n",
      "15/15 [==============================] - 0s 3ms/step - loss: 0.6992 - acc: 0.9333\n",
      "Epoch 1/1\n",
      "15/15 [==============================] - 0s 3ms/step - loss: 0.6910 - acc: 0.9333\n",
      "Epoch 1/1\n",
      "15/15 [==============================] - 0s 3ms/step - loss: 0.6837 - acc: 0.9333\n",
      "Epoch 1/1\n",
      "15/15 [==============================] - 0s 3ms/step - loss: 0.6758 - acc: 0.9333\n",
      "Epoch 1/1\n",
      "15/15 [==============================] - 0s 3ms/step - loss: 0.6692 - acc: 0.9333\n",
      "Epoch 1/1\n",
      "15/15 [==============================] - 0s 3ms/step - loss: 0.6641 - acc: 0.9333\n",
      "Epoch 1/1\n",
      "15/15 [==============================] - 0s 3ms/step - loss: 0.6581 - acc: 0.9333\n",
      "Epoch 1/1\n",
      "15/15 [==============================] - 0s 2ms/step - loss: 0.6508 - acc: 0.9333\n",
      "Epoch 1/1\n",
      "15/15 [==============================] - 0s 2ms/step - loss: 0.6405 - acc: 0.9333\n",
      "Epoch 1/1\n",
      "15/15 [==============================] - 0s 2ms/step - loss: 0.6279 - acc: 0.9333\n",
      "Epoch 1/1\n",
      "15/15 [==============================] - 0s 3ms/step - loss: 0.6187 - acc: 0.9333\n",
      "Epoch 1/1\n",
      "15/15 [==============================] - 0s 2ms/step - loss: 0.6094 - acc: 0.9333\n",
      "Epoch 1/1\n",
      "15/15 [==============================] - 0s 2ms/step - loss: 0.5974 - acc: 0.9333\n",
      "Epoch 1/1\n",
      "15/15 [==============================] - 0s 3ms/step - loss: 0.5872 - acc: 0.9333\n",
      "Epoch 1/1\n",
      "15/15 [==============================] - 0s 3ms/step - loss: 0.5792 - acc: 0.9333\n",
      "Epoch 1/1\n",
      "15/15 [==============================] - 0s 3ms/step - loss: 0.5728 - acc: 0.9333\n",
      "Epoch 1/1\n",
      "15/15 [==============================] - 0s 2ms/step - loss: 0.5661 - acc: 0.9333\n",
      "Epoch 1/1\n",
      "15/15 [==============================] - 0s 2ms/step - loss: 0.5580 - acc: 0.9333\n",
      "Epoch 1/1\n",
      "15/15 [==============================] - 0s 2ms/step - loss: 0.5487 - acc: 0.9333\n",
      "Epoch 1/1\n",
      "15/15 [==============================] - 0s 2ms/step - loss: 0.5376 - acc: 1.0000\n",
      "Epoch 1/1\n",
      "15/15 [==============================] - 0s 2ms/step - loss: 0.5262 - acc: 1.0000\n",
      "Epoch 1/1\n",
      "15/15 [==============================] - 0s 2ms/step - loss: 0.5155 - acc: 1.0000\n",
      "Epoch 1/1\n",
      "15/15 [==============================] - 0s 2ms/step - loss: 0.5043 - acc: 1.0000\n",
      "Epoch 1/1\n",
      "15/15 [==============================] - 0s 3ms/step - loss: 0.4966 - acc: 1.0000\n",
      "Epoch 1/1\n",
      "15/15 [==============================] - 0s 2ms/step - loss: 0.4879 - acc: 1.0000\n",
      "Epoch 1/1\n",
      "15/15 [==============================] - 0s 2ms/step - loss: 0.4799 - acc: 1.0000\n",
      "Epoch 1/1\n",
      "15/15 [==============================] - 0s 3ms/step - loss: 0.4739 - acc: 1.0000\n",
      "Epoch 1/1\n",
      "15/15 [==============================] - 0s 3ms/step - loss: 0.4694 - acc: 1.0000\n",
      "Epoch 1/1\n",
      "15/15 [==============================] - 0s 2ms/step - loss: 0.4658 - acc: 1.0000\n",
      "Epoch 1/1\n",
      "15/15 [==============================] - 0s 3ms/step - loss: 0.4607 - acc: 1.0000\n",
      "Epoch 1/1\n",
      "15/15 [==============================] - 0s 2ms/step - loss: 0.4553 - acc: 1.0000\n",
      "Epoch 1/1\n",
      "15/15 [==============================] - 0s 2ms/step - loss: 0.4507 - acc: 1.0000\n",
      "Epoch 1/1\n",
      "15/15 [==============================] - 0s 2ms/step - loss: 0.4441 - acc: 1.0000\n",
      "Epoch 1/1\n",
      "15/15 [==============================] - 0s 3ms/step - loss: 0.4377 - acc: 1.0000\n",
      "Epoch 1/1\n",
      "15/15 [==============================] - 0s 3ms/step - loss: 0.4321 - acc: 1.0000\n",
      "Epoch 1/1\n",
      "15/15 [==============================] - 0s 3ms/step - loss: 0.4246 - acc: 1.0000\n",
      "Epoch 1/1\n",
      "15/15 [==============================] - 0s 3ms/step - loss: 0.4186 - acc: 1.0000\n",
      "Epoch 1/1\n",
      "15/15 [==============================] - 0s 2ms/step - loss: 0.4123 - acc: 1.0000\n",
      "Epoch 1/1\n",
      "15/15 [==============================] - 0s 3ms/step - loss: 0.4060 - acc: 1.0000\n",
      "Epoch 1/1\n",
      "15/15 [==============================] - 0s 2ms/step - loss: 0.3987 - acc: 1.0000\n",
      "Epoch 1/1\n",
      "15/15 [==============================] - 0s 2ms/step - loss: 0.3923 - acc: 1.0000\n",
      "Epoch 1/1\n",
      "15/15 [==============================] - 0s 3ms/step - loss: 0.3870 - acc: 1.0000\n",
      "Epoch 1/1\n",
      "15/15 [==============================] - 0s 2ms/step - loss: 0.3821 - acc: 1.0000\n",
      "Epoch 1/1\n",
      "15/15 [==============================] - 0s 2ms/step - loss: 0.3779 - acc: 1.0000\n",
      "Epoch 1/1\n",
      "15/15 [==============================] - 0s 2ms/step - loss: 0.3748 - acc: 1.0000\n",
      "Epoch 1/1\n",
      "15/15 [==============================] - 0s 2ms/step - loss: 0.3725 - acc: 1.0000\n",
      "Epoch 1/1\n",
      "15/15 [==============================] - 0s 2ms/step - loss: 0.3696 - acc: 1.0000\n",
      "Epoch 1/1\n",
      "15/15 [==============================] - 0s 3ms/step - loss: 0.3674 - acc: 1.0000\n",
      "Epoch 1/1\n",
      "15/15 [==============================] - 0s 2ms/step - loss: 0.3655 - acc: 1.0000\n",
      "Epoch 1/1\n",
      "15/15 [==============================] - 0s 2ms/step - loss: 0.3636 - acc: 1.0000\n",
      "Epoch 1/1\n",
      "15/15 [==============================] - 0s 3ms/step - loss: 0.3619 - acc: 1.0000\n",
      "Epoch 1/1\n",
      "15/15 [==============================] - 0s 3ms/step - loss: 0.3602 - acc: 1.0000\n",
      "Epoch 1/1\n",
      "15/15 [==============================] - 0s 3ms/step - loss: 0.3585 - acc: 1.0000\n",
      "Epoch 1/1\n",
      "15/15 [==============================] - 0s 3ms/step - loss: 0.3556 - acc: 1.0000\n",
      "Epoch 1/1\n",
      "15/15 [==============================] - 0s 2ms/step - loss: 0.3523 - acc: 1.0000\n",
      "Epoch 1/1\n",
      "15/15 [==============================] - 0s 3ms/step - loss: 0.3474 - acc: 1.0000\n",
      "Epoch 1/1\n",
      "15/15 [==============================] - 0s 3ms/step - loss: 0.3409 - acc: 1.0000\n",
      "Epoch 1/1\n",
      "15/15 [==============================] - 0s 2ms/step - loss: 0.3364 - acc: 1.0000\n",
      "Epoch 1/1\n",
      "15/15 [==============================] - 0s 2ms/step - loss: 0.3294 - acc: 1.0000\n",
      "Epoch 1/1\n",
      "15/15 [==============================] - 0s 2ms/step - loss: 0.3235 - acc: 1.0000\n",
      "Epoch 1/1\n",
      "15/15 [==============================] - 0s 2ms/step - loss: 0.3169 - acc: 1.0000\n",
      "Epoch 1/1\n",
      "15/15 [==============================] - 0s 2ms/step - loss: 0.3112 - acc: 1.0000\n",
      "Epoch 1/1\n",
      "15/15 [==============================] - 0s 3ms/step - loss: 0.3055 - acc: 1.0000\n",
      "Epoch 1/1\n",
      "15/15 [==============================] - 0s 3ms/step - loss: 0.3021 - acc: 1.0000\n",
      "Epoch 1/1\n",
      "15/15 [==============================] - 0s 2ms/step - loss: 0.2980 - acc: 1.0000\n",
      "Epoch 1/1\n",
      "15/15 [==============================] - 0s 2ms/step - loss: 0.2919 - acc: 1.0000\n",
      "Epoch 1/1\n",
      "15/15 [==============================] - 0s 2ms/step - loss: 0.2848 - acc: 1.0000\n",
      "Epoch 1/1\n",
      "15/15 [==============================] - 0s 2ms/step - loss: 0.2789 - acc: 1.0000\n",
      "Epoch 1/1\n",
      "15/15 [==============================] - 0s 2ms/step - loss: 0.2736 - acc: 1.0000\n",
      "Epoch 1/1\n",
      "15/15 [==============================] - 0s 2ms/step - loss: 0.2687 - acc: 1.0000\n",
      "Epoch 1/1\n",
      "15/15 [==============================] - 0s 2ms/step - loss: 0.2639 - acc: 1.0000\n",
      "Epoch 1/1\n",
      "15/15 [==============================] - 0s 3ms/step - loss: 0.2604 - acc: 1.0000\n",
      "Epoch 1/1\n",
      "15/15 [==============================] - 0s 2ms/step - loss: 0.2581 - acc: 1.0000\n",
      "Epoch 1/1\n",
      "15/15 [==============================] - 0s 2ms/step - loss: 0.2554 - acc: 1.0000\n",
      "Epoch 1/1\n",
      "15/15 [==============================] - 0s 2ms/step - loss: 0.2513 - acc: 1.0000\n",
      "Epoch 1/1\n",
      "15/15 [==============================] - 0s 2ms/step - loss: 0.2482 - acc: 1.0000\n",
      "Epoch 1/1\n",
      "15/15 [==============================] - 0s 3ms/step - loss: 0.2449 - acc: 1.0000\n",
      "Epoch 1/1\n",
      "15/15 [==============================] - 0s 3ms/step - loss: 0.2429 - acc: 1.0000\n",
      "Epoch 1/1\n",
      "15/15 [==============================] - 0s 3ms/step - loss: 0.2413 - acc: 1.0000\n",
      "Epoch 1/1\n",
      "15/15 [==============================] - 0s 3ms/step - loss: 0.2377 - acc: 1.0000\n",
      "Epoch 1/1\n",
      "15/15 [==============================] - 0s 2ms/step - loss: 0.2343 - acc: 1.0000\n",
      "Epoch 1/1\n",
      "15/15 [==============================] - 0s 3ms/step - loss: 0.2307 - acc: 1.0000\n",
      "Epoch 1/1\n",
      "15/15 [==============================] - 0s 3ms/step - loss: 0.2266 - acc: 1.0000\n",
      "Epoch 1/1\n",
      "15/15 [==============================] - 0s 2ms/step - loss: 0.2238 - acc: 1.0000\n",
      "Epoch 1/1\n",
      "15/15 [==============================] - 0s 3ms/step - loss: 0.2213 - acc: 1.0000\n",
      "Epoch 1/1\n",
      "15/15 [==============================] - 0s 2ms/step - loss: 0.2198 - acc: 1.0000\n",
      "Epoch 1/1\n",
      "15/15 [==============================] - 0s 2ms/step - loss: 0.2172 - acc: 1.0000\n",
      "Epoch 1/1\n",
      "15/15 [==============================] - 0s 2ms/step - loss: 0.2137 - acc: 1.0000\n",
      "Epoch 1/1\n",
      "15/15 [==============================] - 0s 2ms/step - loss: 0.2113 - acc: 1.0000\n",
      "Epoch 1/1\n",
      "15/15 [==============================] - 0s 3ms/step - loss: 0.2091 - acc: 1.0000\n",
      "Epoch 1/1\n",
      "15/15 [==============================] - 0s 3ms/step - loss: 0.2073 - acc: 1.0000\n",
      "Epoch 1/1\n",
      "15/15 [==============================] - 0s 3ms/step - loss: 0.2051 - acc: 1.0000\n",
      "Epoch 1/1\n",
      "15/15 [==============================] - 0s 3ms/step - loss: 0.2026 - acc: 1.0000\n",
      "Epoch 1/1\n",
      "15/15 [==============================] - 0s 3ms/step - loss: 0.1999 - acc: 1.0000\n",
      "Epoch 1/1\n",
      "15/15 [==============================] - 0s 3ms/step - loss: 0.1974 - acc: 1.0000\n",
      "Epoch 1/1\n",
      "15/15 [==============================] - 0s 3ms/step - loss: 0.1951 - acc: 1.0000\n",
      "Epoch 1/1\n",
      "15/15 [==============================] - 0s 3ms/step - loss: 0.1927 - acc: 1.0000\n",
      "Epoch 1/1\n",
      "15/15 [==============================] - 0s 3ms/step - loss: 0.1906 - acc: 1.0000\n",
      "Epoch 1/1\n",
      "15/15 [==============================] - 0s 3ms/step - loss: 0.1892 - acc: 1.0000\n",
      "Epoch 1/1\n",
      "15/15 [==============================] - 0s 3ms/step - loss: 0.1873 - acc: 1.0000\n",
      "Epoch 1/1\n",
      "15/15 [==============================] - 0s 3ms/step - loss: 0.1852 - acc: 1.0000\n",
      "Epoch 1/1\n",
      "15/15 [==============================] - 0s 2ms/step - loss: 0.1822 - acc: 1.0000\n",
      "Epoch 1/1\n",
      "15/15 [==============================] - 0s 2ms/step - loss: 0.1794 - acc: 1.0000\n",
      "Epoch 1/1\n",
      "15/15 [==============================] - 0s 2ms/step - loss: 0.1764 - acc: 1.0000\n",
      "Epoch 1/1\n",
      "15/15 [==============================] - 0s 2ms/step - loss: 0.1733 - acc: 1.0000\n",
      "Epoch 1/1\n",
      "15/15 [==============================] - 0s 2ms/step - loss: 0.1713 - acc: 1.0000\n",
      "Epoch 1/1\n",
      "15/15 [==============================] - 0s 2ms/step - loss: 0.1684 - acc: 1.0000\n",
      "Epoch 1/1\n",
      "15/15 [==============================] - 0s 2ms/step - loss: 0.1664 - acc: 1.0000\n",
      "Epoch 1/1\n",
      "15/15 [==============================] - 0s 2ms/step - loss: 0.1651 - acc: 1.0000\n",
      "Epoch 1/1\n",
      "15/15 [==============================] - 0s 2ms/step - loss: 0.1633 - acc: 1.0000\n",
      "Epoch 1/1\n",
      "15/15 [==============================] - 0s 2ms/step - loss: 0.1610 - acc: 1.0000\n",
      "Epoch 1/1\n",
      "15/15 [==============================] - 0s 2ms/step - loss: 0.1593 - acc: 1.0000\n",
      "Epoch 1/1\n",
      "15/15 [==============================] - 0s 4ms/step - loss: 0.1583 - acc: 1.0000\n",
      "Epoch 1/1\n",
      "15/15 [==============================] - 0s 4ms/step - loss: 0.1568 - acc: 1.0000\n",
      "Epoch 1/1\n",
      "15/15 [==============================] - 0s 3ms/step - loss: 0.1557 - acc: 1.0000\n",
      "Epoch 1/1\n",
      "15/15 [==============================] - 0s 3ms/step - loss: 0.1548 - acc: 1.0000\n",
      "Epoch 1/1\n",
      "15/15 [==============================] - 0s 3ms/step - loss: 0.1538 - acc: 1.0000\n",
      "Epoch 1/1\n",
      "15/15 [==============================] - 0s 2ms/step - loss: 0.1528 - acc: 1.0000\n",
      "Epoch 1/1\n",
      "15/15 [==============================] - 0s 3ms/step - loss: 0.1513 - acc: 1.0000\n",
      "Epoch 1/1\n",
      "15/15 [==============================] - 0s 3ms/step - loss: 0.1492 - acc: 1.0000\n",
      "Epoch 1/1\n",
      "15/15 [==============================] - 0s 2ms/step - loss: 0.1477 - acc: 1.0000\n",
      "Epoch 1/1\n",
      "15/15 [==============================] - 0s 2ms/step - loss: 0.1466 - acc: 1.0000\n",
      "Epoch 1/1\n",
      "15/15 [==============================] - 0s 3ms/step - loss: 0.1452 - acc: 1.0000\n",
      "Epoch 1/1\n",
      "15/15 [==============================] - 0s 2ms/step - loss: 0.1440 - acc: 1.0000\n",
      "Epoch 1/1\n",
      "15/15 [==============================] - 0s 2ms/step - loss: 0.1429 - acc: 1.0000\n",
      "Epoch 1/1\n",
      "15/15 [==============================] - 0s 2ms/step - loss: 0.1409 - acc: 1.0000\n",
      "Epoch 1/1\n",
      "15/15 [==============================] - 0s 2ms/step - loss: 0.1388 - acc: 1.0000\n",
      "Epoch 1/1\n",
      "15/15 [==============================] - 0s 2ms/step - loss: 0.1363 - acc: 1.0000\n",
      "Epoch 1/1\n",
      "15/15 [==============================] - 0s 3ms/step - loss: 0.1341 - acc: 1.0000\n",
      "Epoch 1/1\n",
      "15/15 [==============================] - 0s 3ms/step - loss: 0.1333 - acc: 1.0000\n",
      "Epoch 1/1\n",
      "15/15 [==============================] - 0s 3ms/step - loss: 0.1324 - acc: 1.0000\n",
      "Epoch 1/1\n",
      "15/15 [==============================] - 0s 3ms/step - loss: 0.1308 - acc: 1.0000\n",
      "Epoch 1/1\n",
      "15/15 [==============================] - 0s 3ms/step - loss: 0.1291 - acc: 1.0000\n",
      "Epoch 1/1\n",
      "15/15 [==============================] - 0s 2ms/step - loss: 0.1276 - acc: 1.0000\n",
      "Epoch 1/1\n",
      "15/15 [==============================] - 0s 2ms/step - loss: 0.1259 - acc: 1.0000\n",
      "Epoch 1/1\n",
      "15/15 [==============================] - 0s 2ms/step - loss: 0.1244 - acc: 1.0000\n",
      "Epoch 1/1\n",
      "15/15 [==============================] - 0s 3ms/step - loss: 0.1234 - acc: 1.0000\n",
      "Epoch 1/1\n",
      "15/15 [==============================] - 0s 3ms/step - loss: 0.1224 - acc: 1.0000\n",
      "Epoch 1/1\n",
      "15/15 [==============================] - 0s 2ms/step - loss: 0.1215 - acc: 1.0000\n",
      "Epoch 1/1\n",
      "15/15 [==============================] - 0s 2ms/step - loss: 0.1203 - acc: 1.0000\n",
      "Epoch 1/1\n",
      "15/15 [==============================] - 0s 2ms/step - loss: 0.1187 - acc: 1.0000\n",
      "Epoch 1/1\n",
      "15/15 [==============================] - 0s 2ms/step - loss: 0.1171 - acc: 1.0000\n",
      "Epoch 1/1\n",
      "15/15 [==============================] - 0s 3ms/step - loss: 0.1153 - acc: 1.0000\n",
      "Epoch 1/1\n",
      "15/15 [==============================] - 0s 2ms/step - loss: 0.1134 - acc: 1.0000\n",
      "Epoch 1/1\n",
      "15/15 [==============================] - 0s 2ms/step - loss: 0.1126 - acc: 1.0000\n",
      "Epoch 1/1\n",
      "15/15 [==============================] - 0s 2ms/step - loss: 0.1117 - acc: 1.0000\n",
      "Epoch 1/1\n",
      "15/15 [==============================] - 0s 2ms/step - loss: 0.1104 - acc: 1.0000\n",
      "Epoch 1/1\n",
      "15/15 [==============================] - 0s 2ms/step - loss: 0.1094 - acc: 1.0000\n",
      "Epoch 1/1\n",
      "15/15 [==============================] - 0s 3ms/step - loss: 0.1087 - acc: 1.0000\n",
      "Epoch 1/1\n",
      "15/15 [==============================] - 0s 3ms/step - loss: 0.1080 - acc: 1.0000\n",
      "Epoch 1/1\n",
      "15/15 [==============================] - 0s 3ms/step - loss: 0.1071 - acc: 1.0000\n",
      "Epoch 1/1\n",
      "15/15 [==============================] - 0s 4ms/step - loss: 0.1063 - acc: 1.0000\n",
      "Epoch 1/1\n",
      "15/15 [==============================] - 0s 3ms/step - loss: 0.1054 - acc: 1.0000\n",
      "Epoch 1/1\n",
      "15/15 [==============================] - 0s 2ms/step - loss: 0.1037 - acc: 1.0000\n",
      "Epoch 1/1\n",
      "15/15 [==============================] - 0s 2ms/step - loss: 0.1029 - acc: 1.0000\n",
      "Epoch 1/1\n",
      "15/15 [==============================] - 0s 2ms/step - loss: 0.1021 - acc: 1.0000\n",
      "Epoch 1/1\n",
      "15/15 [==============================] - 0s 2ms/step - loss: 0.1009 - acc: 1.0000\n",
      "Epoch 1/1\n",
      "15/15 [==============================] - 0s 3ms/step - loss: 0.0996 - acc: 1.0000\n",
      "Epoch 1/1\n",
      "15/15 [==============================] - 0s 3ms/step - loss: 0.0990 - acc: 1.0000\n",
      "Epoch 1/1\n",
      "15/15 [==============================] - 0s 3ms/step - loss: 0.0987 - acc: 1.0000\n",
      "Epoch 1/1\n",
      "15/15 [==============================] - 0s 3ms/step - loss: 0.0981 - acc: 1.0000\n",
      "Epoch 1/1\n",
      "15/15 [==============================] - 0s 3ms/step - loss: 0.0973 - acc: 1.0000\n",
      "Epoch 1/1\n",
      "15/15 [==============================] - 0s 3ms/step - loss: 0.0967 - acc: 1.0000\n",
      "Epoch 1/1\n",
      "15/15 [==============================] - 0s 3ms/step - loss: 0.0962 - acc: 1.0000\n",
      "Epoch 1/1\n",
      "15/15 [==============================] - 0s 3ms/step - loss: 0.0954 - acc: 1.0000\n",
      "Epoch 1/1\n",
      "15/15 [==============================] - 0s 2ms/step - loss: 0.0945 - acc: 1.0000\n",
      "Epoch 1/1\n",
      "15/15 [==============================] - 0s 2ms/step - loss: 0.0937 - acc: 1.0000\n",
      "Epoch 1/1\n",
      "15/15 [==============================] - 0s 3ms/step - loss: 0.0927 - acc: 1.0000\n",
      "Epoch 1/1\n",
      "15/15 [==============================] - 0s 2ms/step - loss: 0.0923 - acc: 1.0000\n",
      "Epoch 1/1\n",
      "15/15 [==============================] - 0s 2ms/step - loss: 0.0918 - acc: 1.0000\n",
      "Epoch 1/1\n",
      "15/15 [==============================] - 0s 2ms/step - loss: 0.0912 - acc: 1.0000\n",
      "Epoch 1/1\n",
      "15/15 [==============================] - 0s 2ms/step - loss: 0.0902 - acc: 1.0000\n",
      "Epoch 1/1\n",
      "15/15 [==============================] - 0s 2ms/step - loss: 0.0889 - acc: 1.0000\n",
      "Epoch 1/1\n",
      "15/15 [==============================] - 0s 3ms/step - loss: 0.0880 - acc: 1.0000\n",
      "Epoch 1/1\n",
      "15/15 [==============================] - 0s 3ms/step - loss: 0.0871 - acc: 1.0000\n",
      "Epoch 1/1\n",
      "15/15 [==============================] - 0s 3ms/step - loss: 0.0865 - acc: 1.0000\n",
      "Epoch 1/1\n",
      "15/15 [==============================] - 0s 2ms/step - loss: 0.0853 - acc: 1.0000\n",
      "Epoch 1/1\n",
      "15/15 [==============================] - 0s 3ms/step - loss: 0.0839 - acc: 1.0000\n",
      "Epoch 1/1\n",
      "15/15 [==============================] - 0s 2ms/step - loss: 0.0832 - acc: 1.0000\n"
     ]
    }
   ],
   "source": [
    "model_4.compile(optimizer='adam', loss='categorical_crossentropy', metrics=['accuracy'])\n",
    "for i in range(300):\n",
    "    model_4.fit(X, y, epochs=1, batch_size=batch_size, verbose=1, shuffle=False)\n",
    "    model_4.reset_states()"
   ]
  },
  {
   "cell_type": "markdown",
   "metadata": {},
   "source": [
    "### Voy ingresando de a uno la frase original"
   ]
  },
  {
   "cell_type": "code",
   "execution_count": 141,
   "metadata": {},
   "outputs": [
    {
     "name": "stdout",
     "output_type": "stream",
     "text": [
      "M -> A 0.95\n",
      "A -> C 0.86\n",
      "C -> H 0.86\n",
      "H -> I 0.93\n",
      "I -> N 0.97\n",
      "N -> E 0.93\n",
      "E ->   0.9\n",
      "  -> L 0.94\n",
      "L -> E 0.94\n",
      "E -> A 0.91\n",
      "A -> R 0.83\n",
      "R -> N 0.96\n",
      "N -> I 0.92\n",
      "I -> N 0.96\n",
      "N -> G 0.88\n",
      "G -> E 0.54\n"
     ]
    }
   ],
   "source": [
    "# Probar con 0, 3, 4, 7 y 1\n",
    "starting = 0\n",
    "model_4.reset_states()\n",
    "for c in text[starting:]:\n",
    "    to_predict = chars_to_one_hot(c, chars, chars_to_indices, window_size)*1\n",
    "    predicted = model_4.predict(to_predict)\n",
    "    print(c, '->', indices_to_chars[np.argmax(predicted[0])], int(max(predicted[0])*100)/100)"
   ]
  },
  {
   "cell_type": "markdown",
   "metadata": {},
   "source": [
    "Con starting en (text es MACHINE LEARNING):\n",
    "- 0 Predice todo correctamente\n",
    "- 6 Al arrancar en E puede ser tanto la de L**E**AR.. o la de CHIN**E** .. por lo que no tiene demasiada certeza\n",
    "- 4 La I da alta probabilidad para la N"
   ]
  },
  {
   "cell_type": "markdown",
   "metadata": {},
   "source": [
    "### Realimentando salida"
   ]
  },
  {
   "cell_type": "code",
   "execution_count": 142,
   "metadata": {},
   "outputs": [
    {
     "name": "stdout",
     "output_type": "stream",
     "text": [
      "M -> A 0.95\n",
      "A -> C 0.86\n",
      "C -> H 0.86\n",
      "H -> I 0.93\n",
      "I -> N 0.97\n",
      "N -> E 0.93\n",
      "E ->   0.9\n",
      "  -> L 0.94\n",
      "L -> E 0.94\n",
      "E -> A 0.91\n",
      "A -> R 0.83\n",
      "R -> N 0.96\n",
      "N -> I 0.92\n",
      "I -> N 0.96\n",
      "N -> G 0.88\n",
      "G -> E 0.54\n",
      "E ->   0.73\n",
      "  -> L 0.93\n",
      "L -> E 0.95\n",
      "E -> A 0.93\n",
      "A -> R 0.86\n",
      "R -> N 0.96\n",
      "N -> I 0.91\n",
      "I -> N 0.96\n",
      "N -> G 0.89\n"
     ]
    }
   ],
   "source": [
    "starting = 0\n",
    "model_4.reset_states()\n",
    "c = text[starting]\n",
    "for i in range(25):\n",
    "    to_predict = chars_to_one_hot(c, chars, chars_to_indices, window_size)*1\n",
    "    predicted = model_4.predict(to_predict)\n",
    "    pred_char = indices_to_chars[np.argmax(predicted[0])]\n",
    "    print(c, '->', pred_char, int(max(predicted[0])*100)/100)\n",
    "    c = pred_char"
   ]
  },
  {
   "cell_type": "markdown",
   "metadata": {},
   "source": [
    "## Ejemplo 5: Padding\n",
    "\"The model will learn the zero values carry no information so indeed the sequences are not the same length in terms of content, but same length vectors is required to perform the computation in Keras.\" https://machinelearningmastery.com/sequence-classification-lstm-recurrent-neural-networks-python-keras/\n",
    "https://machinelearningmastery.com/understanding-stateful-lstm-recurrent-neural-networks-python-keras/\n",
    "\n",
    "Como entreno no-statefull pero que de resultados similares a la statefull?"
   ]
  },
  {
   "cell_type": "code",
   "execution_count": 143,
   "metadata": {},
   "outputs": [],
   "source": [
    "def window_transform_text_padding_mode(text):\n",
    "    len_out = len(text)\n",
    "    \n",
    "    #output_start[-1] = text[:1]\n",
    "    #output_start[len_out-1:len_out-2] = text[0:1]\n",
    "    text = text\n",
    "    X = []\n",
    "    y = []\n",
    "    for i in range(len_out):\n",
    "        #X.append()\n",
    "        output_start = ['']*(len_out-1)\n",
    "        output_start[len_out-i-1:len_out] = text[0:i]\n",
    "        X.append(output_start)\n",
    "        y.append(text[i])\n",
    "    return X, y"
   ]
  },
  {
   "cell_type": "markdown",
   "metadata": {},
   "source": [
    "### Armo entradas con padding"
   ]
  },
  {
   "cell_type": "code",
   "execution_count": 144,
   "metadata": {},
   "outputs": [],
   "source": [
    "X_5, y_5 = window_transform_text_padding_mode(text)"
   ]
  },
  {
   "cell_type": "code",
   "execution_count": 145,
   "metadata": {},
   "outputs": [
    {
     "data": {
      "text/plain": [
       "[['', '', '', '', '', '', '', '', '', '', '', '', '', '', ''],\n",
       " ['', '', '', '', '', '', '', '', '', '', '', '', '', '', 'M'],\n",
       " ['', '', '', '', '', '', '', '', '', '', '', '', '', 'M', 'A'],\n",
       " ['', '', '', '', '', '', '', '', '', '', '', '', 'M', 'A', 'C'],\n",
       " ['', '', '', '', '', '', '', '', '', '', '', 'M', 'A', 'C', 'H'],\n",
       " ['', '', '', '', '', '', '', '', '', '', 'M', 'A', 'C', 'H', 'I'],\n",
       " ['', '', '', '', '', '', '', '', '', 'M', 'A', 'C', 'H', 'I', 'N'],\n",
       " ['', '', '', '', '', '', '', '', 'M', 'A', 'C', 'H', 'I', 'N', 'E'],\n",
       " ['', '', '', '', '', '', '', 'M', 'A', 'C', 'H', 'I', 'N', 'E', ' '],\n",
       " ['', '', '', '', '', '', 'M', 'A', 'C', 'H', 'I', 'N', 'E', ' ', 'L'],\n",
       " ['', '', '', '', '', 'M', 'A', 'C', 'H', 'I', 'N', 'E', ' ', 'L', 'E'],\n",
       " ['', '', '', '', 'M', 'A', 'C', 'H', 'I', 'N', 'E', ' ', 'L', 'E', 'A'],\n",
       " ['', '', '', 'M', 'A', 'C', 'H', 'I', 'N', 'E', ' ', 'L', 'E', 'A', 'R'],\n",
       " ['', '', 'M', 'A', 'C', 'H', 'I', 'N', 'E', ' ', 'L', 'E', 'A', 'R', 'N'],\n",
       " ['', 'M', 'A', 'C', 'H', 'I', 'N', 'E', ' ', 'L', 'E', 'A', 'R', 'N', 'I'],\n",
       " ['M', 'A', 'C', 'H', 'I', 'N', 'E', ' ', 'L', 'E', 'A', 'R', 'N', 'I', 'N']]"
      ]
     },
     "execution_count": 145,
     "metadata": {},
     "output_type": "execute_result"
    }
   ],
   "source": [
    "X_5"
   ]
  },
  {
   "cell_type": "code",
   "execution_count": 146,
   "metadata": {},
   "outputs": [
    {
     "name": "stdout",
     "output_type": "stream",
     "text": [
      "['M', 'A', 'C', 'H', 'I', 'N', 'E', ' ', 'L', 'E', 'A', 'R', 'N', 'I', 'N', 'G']\n"
     ]
    }
   ],
   "source": [
    "print(y_5)"
   ]
  },
  {
   "cell_type": "code",
   "execution_count": 147,
   "metadata": {},
   "outputs": [],
   "source": [
    "chars = sorted(set(text))\n",
    "chars_to_indices = dict((c, i) for i, c in enumerate(chars))\n",
    "chars_to_indices[''] = -1"
   ]
  },
  {
   "cell_type": "code",
   "execution_count": 148,
   "metadata": {},
   "outputs": [],
   "source": [
    "def code_chars(X, y, chars_to_indices):\n",
    "    X_coded = []\n",
    "    y_coded = []\n",
    "    for i, xi in enumerate(X):\n",
    "        one_h_y = [0]*(len(chars_to_indices) - 1) # Menos 1 por el '' agregado\n",
    "        vect = []\n",
    "        for c in xi:\n",
    "            one_h = [0]*(len(chars_to_indices) - 1)\n",
    "            if c == '':\n",
    "                vect.append(one_h)\n",
    "            else:\n",
    "                one_h[chars_to_indices[c]] = 1\n",
    "                vect.append(one_h)\n",
    "        X_coded.append(vect)\n",
    "        one_h_y[chars_to_indices[y[i]]] = 1\n",
    "        y_coded.append(one_h_y)\n",
    "    return np.array(X_coded), np.array(y_coded)"
   ]
  },
  {
   "cell_type": "code",
   "execution_count": 149,
   "metadata": {},
   "outputs": [],
   "source": [
    "X_coded, y_coded = code_chars(X_5, y_5, chars_to_indices)"
   ]
  },
  {
   "cell_type": "code",
   "execution_count": 150,
   "metadata": {},
   "outputs": [
    {
     "data": {
      "text/plain": [
       "((16, 15, 11), (16, 11))"
      ]
     },
     "execution_count": 150,
     "metadata": {},
     "output_type": "execute_result"
    }
   ],
   "source": [
    "X_coded.shape, y_coded.shape"
   ]
  },
  {
   "cell_type": "code",
   "execution_count": 151,
   "metadata": {},
   "outputs": [
    {
     "data": {
      "text/plain": [
       "array([[0, 0, 0, 0, 0, 0, 0, 0, 0, 0, 0],\n",
       "       [0, 0, 0, 0, 0, 0, 0, 0, 0, 0, 0],\n",
       "       [0, 0, 0, 0, 0, 0, 0, 0, 0, 0, 0],\n",
       "       [0, 0, 0, 0, 0, 0, 0, 0, 0, 0, 0],\n",
       "       [0, 0, 0, 0, 0, 0, 0, 0, 0, 0, 0],\n",
       "       [0, 0, 0, 0, 0, 0, 0, 0, 0, 0, 0],\n",
       "       [0, 0, 0, 0, 0, 0, 0, 0, 0, 0, 0],\n",
       "       [0, 0, 0, 0, 0, 0, 0, 0, 0, 0, 0],\n",
       "       [0, 0, 0, 0, 0, 0, 0, 0, 0, 0, 0],\n",
       "       [0, 0, 0, 0, 0, 0, 0, 0, 0, 0, 0],\n",
       "       [0, 0, 0, 0, 0, 0, 0, 0, 0, 0, 0],\n",
       "       [0, 0, 0, 0, 0, 0, 0, 0, 0, 0, 0],\n",
       "       [0, 0, 0, 0, 0, 0, 0, 0, 0, 0, 0],\n",
       "       [0, 0, 0, 0, 0, 0, 0, 0, 0, 0, 0],\n",
       "       [0, 0, 0, 0, 0, 0, 0, 0, 0, 0, 0]])"
      ]
     },
     "execution_count": 151,
     "metadata": {},
     "output_type": "execute_result"
    }
   ],
   "source": [
    "# Primer entrada todos ceros\n",
    "#[['', '', '', '', '', '', '', '', '', '', '', '', '', '', '']\n",
    "X_coded[0]"
   ]
  },
  {
   "cell_type": "code",
   "execution_count": 152,
   "metadata": {},
   "outputs": [
    {
     "data": {
      "text/plain": [
       "array([[0, 0, 0, 0, 0, 0, 0, 0, 0, 0, 0],\n",
       "       [0, 0, 0, 0, 0, 0, 0, 0, 0, 0, 0],\n",
       "       [0, 0, 0, 0, 0, 0, 0, 0, 0, 0, 0],\n",
       "       [0, 0, 0, 0, 0, 0, 0, 0, 0, 0, 0],\n",
       "       [0, 0, 0, 0, 0, 0, 0, 0, 0, 0, 0],\n",
       "       [0, 0, 0, 0, 0, 0, 0, 0, 0, 0, 0],\n",
       "       [0, 0, 0, 0, 0, 0, 0, 0, 0, 0, 0],\n",
       "       [0, 0, 0, 0, 0, 0, 0, 0, 0, 0, 0],\n",
       "       [0, 0, 0, 0, 0, 0, 0, 0, 0, 0, 0],\n",
       "       [0, 0, 0, 0, 0, 0, 0, 0, 0, 0, 0],\n",
       "       [0, 0, 0, 0, 0, 0, 0, 0, 0, 0, 0],\n",
       "       [0, 0, 0, 0, 0, 0, 0, 0, 0, 0, 0],\n",
       "       [0, 0, 0, 0, 0, 0, 0, 0, 0, 0, 0],\n",
       "       [0, 0, 0, 0, 0, 0, 0, 0, 0, 0, 0],\n",
       "       [0, 0, 0, 0, 0, 0, 0, 0, 1, 0, 0]])"
      ]
     },
     "execution_count": 152,
     "metadata": {},
     "output_type": "execute_result"
    }
   ],
   "source": [
    "# ['', '', '', '', '', '', '', '', '', '', '', '', '', '', 'M'],\n",
    "X_coded[1]"
   ]
  },
  {
   "cell_type": "markdown",
   "metadata": {},
   "source": [
    "### Entreno modelo"
   ]
  },
  {
   "cell_type": "code",
   "execution_count": 153,
   "metadata": {},
   "outputs": [
    {
     "name": "stdout",
     "output_type": "stream",
     "text": [
      "_________________________________________________________________\n",
      "Layer (type)                 Output Shape              Param #   \n",
      "=================================================================\n",
      "simple_rnn_13 (SimpleRNN)    (None, 10)                220       \n",
      "_________________________________________________________________\n",
      "dense_13 (Dense)             (None, 11)                121       \n",
      "=================================================================\n",
      "Total params: 341\n",
      "Trainable params: 341\n",
      "Non-trainable params: 0\n",
      "_________________________________________________________________\n"
     ]
    }
   ],
   "source": [
    "model_5 = Sequential()\n",
    "model_5.add(SimpleRNN(10, input_shape=(X_coded.shape[1],X_coded.shape[2])))\n",
    "model_5.add(Dense(len(chars), activation=\"softmax\"))\n",
    "model_5.summary()"
   ]
  },
  {
   "cell_type": "code",
   "execution_count": 154,
   "metadata": {},
   "outputs": [
    {
     "data": {
      "image/png": "[encoded data removed]",
      "text/plain": [
       "<Figure size 1440x360 with 2 Axes>"
      ]
     },
     "metadata": {},
     "output_type": "display_data"
    },
    {
     "name": "stdout",
     "output_type": "stream",
     "text": [
      "Epoch 492/500\n",
      "16/16 [==============================] - 0s 4ms/step - loss: 0.0076 - acc: 1.0000\n",
      "Epoch 493/500\n",
      "16/16 [==============================] - 0s 5ms/step - loss: 0.0076 - acc: 1.0000\n",
      "Epoch 494/500\n",
      "16/16 [==============================] - 0s 4ms/step - loss: 0.0075 - acc: 1.0000\n",
      "Epoch 495/500\n",
      "16/16 [==============================] - 0s 4ms/step - loss: 0.0074 - acc: 1.0000\n",
      "Epoch 496/500\n",
      "16/16 [==============================] - 0s 5ms/step - loss: 0.0074 - acc: 1.0000\n",
      "Epoch 497/500\n",
      "16/16 [==============================] - 0s 5ms/step - loss: 0.0073 - acc: 1.0000\n",
      "Epoch 498/500\n",
      "16/16 [==============================] - 0s 5ms/step - loss: 0.0073 - acc: 1.0000\n",
      "Epoch 499/500\n",
      "16/16 [==============================] - 0s 5ms/step - loss: 0.0073 - acc: 1.0000\n",
      "Epoch 500/500\n",
      "16/16 [==============================] - 0s 5ms/step - loss: 0.0072 - acc: 1.0000\n"
     ]
    },
    {
     "data": {
      "text/plain": [
       "<keras.callbacks.History at 0xb27170e10>"
      ]
     },
     "execution_count": 154,
     "metadata": {},
     "output_type": "execute_result"
    }
   ],
   "source": [
    "model_5.compile(optimizer='adam', loss='categorical_crossentropy', metrics=['accuracy'])\n",
    "plot_losses = PlotLosses(plot_interval=10, evaluate_interval=None)\n",
    "model_5.fit(X_coded,y_coded, epochs=500, batch_size=1, verbose=1, callbacks=[plot_losses])"
   ]
  },
  {
   "cell_type": "code",
   "execution_count": 201,
   "metadata": {},
   "outputs": [
    {
     "name": "stdout",
     "output_type": "stream",
     "text": [
      "(16, 15, 11)\n",
      "['', '', '', '', '', '', '', '', '', '', '', '', '', '', ''] -> M 0.97\n",
      "['', '', '', '', '', '', '', '', '', '', '', '', '', '', 'M'] -> A 0.98\n",
      "['', '', '', '', '', '', '', '', '', '', '', '', '', 'M', 'A'] -> C 0.98\n",
      "['', '', '', '', '', '', '', '', '', '', '', '', 'M', 'A', 'C'] -> H 0.99\n",
      "['', '', '', '', '', '', '', '', '', '', '', 'M', 'A', 'C', 'H'] -> I 0.99\n",
      "['', '', '', '', '', '', '', '', '', '', 'M', 'A', 'C', 'H', 'I'] -> N 0.99\n",
      "['', '', '', '', '', '', '', '', '', 'M', 'A', 'C', 'H', 'I', 'N'] -> E 0.99\n",
      "['', '', '', '', '', '', '', '', 'M', 'A', 'C', 'H', 'I', 'N', 'E'] ->   0.99\n",
      "['', '', '', '', '', '', '', 'M', 'A', 'C', 'H', 'I', 'N', 'E', ' '] -> L 0.99\n",
      "['', '', '', '', '', '', 'M', 'A', 'C', 'H', 'I', 'N', 'E', ' ', 'L'] -> E 0.99\n",
      "['', '', '', '', '', 'M', 'A', 'C', 'H', 'I', 'N', 'E', ' ', 'L', 'E'] -> A 0.99\n",
      "['', '', '', '', 'M', 'A', 'C', 'H', 'I', 'N', 'E', ' ', 'L', 'E', 'A'] -> R 0.99\n",
      "['', '', '', 'M', 'A', 'C', 'H', 'I', 'N', 'E', ' ', 'L', 'E', 'A', 'R'] -> N 0.99\n",
      "['', '', 'M', 'A', 'C', 'H', 'I', 'N', 'E', ' ', 'L', 'E', 'A', 'R', 'N'] -> I 0.99\n",
      "['', 'M', 'A', 'C', 'H', 'I', 'N', 'E', ' ', 'L', 'E', 'A', 'R', 'N', 'I'] -> N 0.99\n",
      "['M', 'A', 'C', 'H', 'I', 'N', 'E', ' ', 'L', 'E', 'A', 'R', 'N', 'I', 'N'] -> G 0.99\n"
     ]
    }
   ],
   "source": [
    "to_predict = X_coded\n",
    "print(to_predict.shape)\n",
    "predicted = model_5.predict(to_predict)\n",
    "for i, row in enumerate(predicted):\n",
    "    idx = np.argmax(row)\n",
    "    print(X_5[i], '->', indices_to_chars[idx], int(row[idx]*100)/100)"
   ]
  },
  {
   "cell_type": "markdown",
   "metadata": {},
   "source": [
    "### Ahora redefino modelo como stateful y cargo los pesos del anterior"
   ]
  },
  {
   "cell_type": "code",
   "execution_count": 202,
   "metadata": {},
   "outputs": [
    {
     "name": "stdout",
     "output_type": "stream",
     "text": [
      "_________________________________________________________________\n",
      "Layer (type)                 Output Shape              Param #   \n",
      "=================================================================\n",
      "simple_rnn_19 (SimpleRNN)    (1, 10)                   220       \n",
      "_________________________________________________________________\n",
      "dense_19 (Dense)             (1, 11)                   121       \n",
      "=================================================================\n",
      "Total params: 341\n",
      "Trainable params: 341\n",
      "Non-trainable params: 0\n",
      "_________________________________________________________________\n"
     ]
    }
   ],
   "source": [
    "batch_size=1\n",
    "model_5s = Sequential()\n",
    "model_5s.add(SimpleRNN(10, batch_input_shape=(batch_size,1,len(chars)), stateful=True))\n",
    "model_5s.add(Dense(len(chars), activation=\"softmax\"))\n",
    "model_5s.summary()"
   ]
  },
  {
   "cell_type": "code",
   "execution_count": 203,
   "metadata": {},
   "outputs": [],
   "source": [
    "model_5s.set_weights(model_5.get_weights())"
   ]
  },
  {
   "cell_type": "markdown",
   "metadata": {},
   "source": [
    "### Donde esta el maximo si ingreso ceros?"
   ]
  },
  {
   "cell_type": "code",
   "execution_count": 204,
   "metadata": {},
   "outputs": [
    {
     "name": "stdout",
     "output_type": "stream",
     "text": [
      "1 [[[0. 0. 0. 0. 0. 0. 0. 0. 0. 0. 0.]]] -> N 0.17\n",
      "2 [[[0. 0. 0. 0. 0. 0. 0. 0. 0. 0. 0.]]] -> I 0.24\n",
      "3 [[[0. 0. 0. 0. 0. 0. 0. 0. 0. 0. 0.]]] -> N 0.83\n",
      "4 [[[0. 0. 0. 0. 0. 0. 0. 0. 0. 0. 0.]]] -> G 0.59\n",
      "5 [[[0. 0. 0. 0. 0. 0. 0. 0. 0. 0. 0.]]] ->   0.9\n",
      "6 [[[0. 0. 0. 0. 0. 0. 0. 0. 0. 0. 0.]]] -> E 0.4\n",
      "7 [[[0. 0. 0. 0. 0. 0. 0. 0. 0. 0. 0.]]] -> E 0.85\n",
      "8 [[[0. 0. 0. 0. 0. 0. 0. 0. 0. 0. 0.]]] -> E 0.32\n",
      "9 [[[0. 0. 0. 0. 0. 0. 0. 0. 0. 0. 0.]]] -> I 0.35\n",
      "10 [[[0. 0. 0. 0. 0. 0. 0. 0. 0. 0. 0.]]] -> N 0.86\n",
      "11 [[[0. 0. 0. 0. 0. 0. 0. 0. 0. 0. 0.]]] -> E 0.76\n",
      "12 [[[0. 0. 0. 0. 0. 0. 0. 0. 0. 0. 0.]]] -> M 0.6\n",
      "13 [[[0. 0. 0. 0. 0. 0. 0. 0. 0. 0. 0.]]] -> M 0.47\n",
      "14 [[[0. 0. 0. 0. 0. 0. 0. 0. 0. 0. 0.]]] -> M 0.6\n",
      "15 [[[0. 0. 0. 0. 0. 0. 0. 0. 0. 0. 0.]]] -> M 0.97\n",
      "16 [[[0. 0. 0. 0. 0. 0. 0. 0. 0. 0. 0.]]] -> A 0.65\n",
      "17 [[[0. 0. 0. 0. 0. 0. 0. 0. 0. 0. 0.]]] -> C 0.69\n",
      "18 [[[0. 0. 0. 0. 0. 0. 0. 0. 0. 0. 0.]]] -> M 0.72\n",
      "19 [[[0. 0. 0. 0. 0. 0. 0. 0. 0. 0. 0.]]] -> R 0.66\n",
      "20 [[[0. 0. 0. 0. 0. 0. 0. 0. 0. 0. 0.]]] -> N 0.72\n"
     ]
    }
   ],
   "source": [
    "model_5s.reset_states()\n",
    "to_predict = np.zeros((1,1,y_coded.shape[1]))\n",
    "for i in range(20):\n",
    "    predicted = model_5s.predict(to_predict)\n",
    "    idx = np.argmax(predicted[0])\n",
    "    print(i+1, to_predict, '->', indices_to_chars[idx], int(predicted[0][idx]*100)/100)"
   ]
  },
  {
   "cell_type": "markdown",
   "metadata": {},
   "source": [
    "Notar que el máximo esta en la posición 16 y es M (Luego de ingresar con 16 ceros)"
   ]
  },
  {
   "cell_type": "code",
   "execution_count": 229,
   "metadata": {},
   "outputs": [
    {
     "name": "stdout",
     "output_type": "stream",
     "text": [
      "1 [[[0. 0. 0. 0. 0. 0. 0. 0. 0. 0. 0.]]] -> N 0.17\n",
      "2 [[[0. 0. 0. 0. 0. 0. 0. 0. 0. 0. 0.]]] -> I 0.24\n",
      "3 [[[0. 0. 0. 0. 0. 0. 0. 0. 0. 0. 0.]]] -> N 0.83\n",
      "4 [[[0. 0. 0. 0. 0. 0. 0. 0. 0. 0. 0.]]] -> G 0.59\n",
      "5 [[[0. 0. 0. 0. 0. 0. 0. 0. 0. 0. 0.]]] ->   0.9\n",
      "6 [[[0. 0. 0. 0. 0. 0. 0. 0. 0. 0. 0.]]] -> E 0.4\n",
      "7 [[[0. 0. 0. 0. 0. 0. 0. 0. 0. 0. 0.]]] -> E 0.85\n",
      "8 [[[0. 0. 0. 0. 0. 0. 0. 0. 0. 0. 0.]]] -> E 0.32\n",
      "9 [[[0. 0. 0. 0. 0. 0. 0. 0. 0. 0. 0.]]] -> I 0.35\n",
      "10 [[[0. 0. 0. 0. 0. 0. 0. 0. 0. 0. 0.]]] -> N 0.86\n",
      "11 [[[0. 0. 0. 0. 0. 0. 0. 0. 0. 0. 0.]]] -> E 0.76\n",
      "12 [[[0. 0. 0. 0. 0. 0. 0. 0. 0. 0. 0.]]] -> M 0.6\n",
      "13 [[[0. 0. 0. 0. 0. 0. 0. 0. 0. 0. 0.]]] -> M 0.47\n",
      "14 [[[0. 0. 0. 0. 0. 0. 0. 0. 0. 0. 0.]]] -> M 0.6\n",
      "15 [[[0. 0. 0. 0. 0. 0. 0. 0. 0. 0. 0.]]] -> M 0.97\n"
     ]
    }
   ],
   "source": [
    "model_5s.reset_states()\n",
    "to_predict = np.zeros((1,1,y_coded.shape[1]))\n",
    "for i in range(15):\n",
    "    predicted = model_5s.predict(to_predict)\n",
    "    idx = np.argmax(predicted[0])\n",
    "    print(i+1, to_predict, '->', indices_to_chars[idx], int(predicted[0][idx]*100)/100)"
   ]
  },
  {
   "cell_type": "code",
   "execution_count": 230,
   "metadata": {},
   "outputs": [
    {
     "name": "stdout",
     "output_type": "stream",
     "text": [
      "[[[0 0 0 0 0 0 0 0 1 0 0]]] -> A 0.96\n",
      "[[[0 1 0 0 0 0 0 0 0 0 0]]] -> C 0.97\n",
      "[[[0 0 1 0 0 0 0 0 0 0 0]]] -> H 0.97\n",
      "[[[0 0 0 0 0 1 0 0 0 0 0]]] -> I 0.99\n",
      "[[[0 0 0 0 0 0 1 0 0 0 0]]] -> N 0.99\n",
      "[[[0 0 0 0 0 0 0 0 0 1 0]]] -> G 0.95\n",
      "[[[0 0 0 1 0 0 0 0 0 0 0]]] ->   0.99\n",
      "[[[1 0 0 0 0 0 0 0 0 0 0]]] -> L 0.97\n",
      "[[[0 0 0 0 0 0 0 1 0 0 0]]] -> E 0.99\n",
      "[[[0 0 0 1 0 0 0 0 0 0 0]]] -> A 0.99\n",
      "[[[0 1 0 0 0 0 0 0 0 0 0]]] -> R 0.99\n",
      "[[[0 0 0 0 0 0 0 0 0 0 1]]] -> N 0.99\n",
      "[[[0 0 0 0 0 0 0 0 0 1 0]]] -> I 0.99\n",
      "[[[0 0 0 0 0 0 1 0 0 0 0]]] -> N 0.99\n",
      "[[[0 0 0 0 0 0 0 0 0 1 0]]] -> G 0.99\n",
      "[[[0 0 0 0 1 0 0 0 0 0 0]]] ->   0.97\n"
     ]
    }
   ],
   "source": [
    "for i in range(16):\n",
    "    to_predict = y_coded[i:i+1].reshape(1, 1, len(chars))\n",
    "    predicted = model_5s.predict(to_predict)\n",
    "    idx = np.argmax(predicted[0])\n",
    "    print(to_predict, '->', indices_to_chars[idx], int(predicted[0][idx]*100)/100)"
   ]
  },
  {
   "cell_type": "markdown",
   "metadata": {},
   "source": [
    "Notar que esto no funciona del todo bien ya que aprende que despues de 16 ceros viene la M y que despues de 15 ceros mas una M viene una A"
   ]
  },
  {
   "cell_type": "markdown",
   "metadata": {},
   "source": [
    "### Realimento salida\n",
    "Pero no ingreso con one-hot sino con las predicciones"
   ]
  },
  {
   "cell_type": "code",
   "execution_count": 235,
   "metadata": {},
   "outputs": [
    {
     "name": "stdout",
     "output_type": "stream",
     "text": [
      "[[[0.   0.   0.   0.   0.   0.   0.   0.   0.97 0.   0.  ]]] -> A 0.96\n",
      "[[[0.   0.96 0.   0.   0.   0.   0.   0.01 0.   0.   0.01]]] -> C 0.97\n",
      "[[[0.   0.   0.97 0.   0.   0.   0.   0.   0.   0.01 0.  ]]] -> H 0.97\n",
      "[[[0.   0.   0.   0.   0.   0.97 0.   0.   0.   0.   0.  ]]] -> I 0.99\n",
      "[[[0.   0.   0.   0.   0.   0.   0.99 0.   0.   0.   0.  ]]] -> N 0.99\n",
      "[[[0.   0.   0.   0.   0.   0.   0.   0.   0.   0.99 0.  ]]] -> G 0.95\n",
      "[[[0.   0.   0.   0.02 0.95 0.   0.02 0.   0.   0.   0.  ]]] ->   0.97\n",
      "[[[0.97 0.   0.   0.   0.   0.   0.   0.   0.   0.   0.  ]]] -> L 0.93\n",
      "[[[0.   0.01 0.   0.01 0.   0.01 0.   0.93 0.   0.01 0.  ]]] -> E 0.98\n",
      "[[[0.   0.   0.   0.98 0.   0.   0.   0.   0.   0.   0.  ]]] -> A 0.99\n",
      "[[[0.   0.99 0.   0.   0.   0.   0.   0.   0.   0.   0.  ]]] -> R 0.98\n",
      "[[[0.   0.   0.   0.   0.   0.   0.   0.   0.   0.   0.98]]] -> N 0.99\n",
      "[[[0.   0.   0.   0.   0.   0.   0.   0.   0.   0.99 0.  ]]] -> I 0.99\n",
      "[[[0.   0.   0.   0.   0.   0.   0.99 0.   0.   0.   0.  ]]] -> N 0.99\n",
      "[[[0.   0.   0.   0.   0.   0.   0.   0.   0.   0.99 0.  ]]] -> G 0.99\n",
      "[[[0.   0.   0.   0.   0.99 0.   0.   0.   0.   0.   0.  ]]] ->   0.97\n"
     ]
    }
   ],
   "source": [
    "window_size=1\n",
    "model_5s.reset_states()\n",
    "to_predict = np.zeros((1,1,y_coded.shape[1]))\n",
    "for i in range(15):\n",
    "    predicted = model_5s.predict(to_predict)\n",
    "    idx = np.argmax(predicted[0])\n",
    "    #print(i+1, to_predict, '->', indices_to_chars[idx], int(predicted[0][idx]*100)/100)\n",
    "#print(predicted.shape)\n",
    "for i in range(16):\n",
    "    to_predict = predicted.reshape(1, 1, len(chars))\n",
    "    predicted = model_5s.predict(to_predict)\n",
    "    idx = np.argmax(predicted[0])\n",
    "    print((to_predict*100).astype(int)/100, '->', indices_to_chars[idx], int(predicted[0][idx]*100)/100)"
   ]
  },
  {
   "cell_type": "markdown",
   "metadata": {},
   "source": [
    "## Ejemplo 6: Masking"
   ]
  },
  {
   "cell_type": "code",
   "execution_count": 236,
   "metadata": {},
   "outputs": [],
   "source": [
    "from keras.layers import Masking"
   ]
  },
  {
   "cell_type": "markdown",
   "metadata": {},
   "source": [
    "### Armo modelo"
   ]
  },
  {
   "cell_type": "code",
   "execution_count": 237,
   "metadata": {},
   "outputs": [
    {
     "name": "stdout",
     "output_type": "stream",
     "text": [
      "_________________________________________________________________\n",
      "Layer (type)                 Output Shape              Param #   \n",
      "=================================================================\n",
      "masking_2 (Masking)          (None, 15, 11)            0         \n",
      "_________________________________________________________________\n",
      "simple_rnn_20 (SimpleRNN)    (None, 10)                220       \n",
      "_________________________________________________________________\n",
      "dense_20 (Dense)             (None, 11)                121       \n",
      "=================================================================\n",
      "Total params: 341\n",
      "Trainable params: 341\n",
      "Non-trainable params: 0\n",
      "_________________________________________________________________\n"
     ]
    }
   ],
   "source": [
    "model_6 = Sequential()\n",
    "model_6.add(Masking(mask_value=0., input_shape=(X_coded.shape[1],X_coded.shape[2])))\n",
    "model_6.add(SimpleRNN(10))\n",
    "model_6.add(Dense(len(chars), activation=\"softmax\"))\n",
    "model_6.summary()"
   ]
  },
  {
   "cell_type": "markdown",
   "metadata": {},
   "source": [
    "### Lo entreno"
   ]
  },
  {
   "cell_type": "code",
   "execution_count": 240,
   "metadata": {},
   "outputs": [
    {
     "data": {
      "image/png": "[encoded data removed]",
      "text/plain": [
       "<Figure size 1440x360 with 2 Axes>"
      ]
     },
     "metadata": {},
     "output_type": "display_data"
    },
    {
     "name": "stdout",
     "output_type": "stream",
     "text": [
      "Epoch 192/200\n",
      "16/16 [==============================] - 0s 5ms/step - loss: 0.0489 - acc: 1.0000\n",
      "Epoch 193/200\n",
      "16/16 [==============================] - 0s 7ms/step - loss: 0.0486 - acc: 1.0000\n",
      "Epoch 194/200\n",
      "16/16 [==============================] - 0s 7ms/step - loss: 0.0483 - acc: 1.0000\n",
      "Epoch 195/200\n",
      "16/16 [==============================] - 0s 6ms/step - loss: 0.0481 - acc: 1.0000\n",
      "Epoch 196/200\n",
      "16/16 [==============================] - 0s 5ms/step - loss: 0.0479 - acc: 1.0000\n",
      "Epoch 197/200\n",
      "16/16 [==============================] - 0s 6ms/step - loss: 0.0476 - acc: 1.0000\n",
      "Epoch 198/200\n",
      "16/16 [==============================] - 0s 6ms/step - loss: 0.0474 - acc: 1.0000\n",
      "Epoch 199/200\n",
      "16/16 [==============================] - 0s 7ms/step - loss: 0.0471 - acc: 1.0000\n",
      "Epoch 200/200\n",
      "16/16 [==============================] - 0s 6ms/step - loss: 0.0470 - acc: 1.0000\n"
     ]
    },
    {
     "data": {
      "text/plain": [
       "<keras.callbacks.History at 0xb24614d30>"
      ]
     },
     "execution_count": 240,
     "metadata": {},
     "output_type": "execute_result"
    }
   ],
   "source": [
    "model_6.compile(optimizer='adam', loss='categorical_crossentropy', metrics=['accuracy'])\n",
    "plot_losses = PlotLosses(plot_interval=10, evaluate_interval=None)\n",
    "model_6.fit(X_coded,y_coded, epochs=200, batch_size=1, verbose=1, callbacks=[plot_losses])"
   ]
  },
  {
   "cell_type": "markdown",
   "metadata": {},
   "source": [
    "### Resultados"
   ]
  },
  {
   "cell_type": "code",
   "execution_count": 241,
   "metadata": {},
   "outputs": [
    {
     "name": "stdout",
     "output_type": "stream",
     "text": [
      "['', '', '', '', '', '', '', '', '', '', '', '', '', '', ''] -> M 0.48\n",
      "['', '', '', '', '', '', '', '', '', '', '', '', '', '', 'M'] -> A 0.99\n",
      "['', '', '', '', '', '', '', '', '', '', '', '', '', 'M', 'A'] -> C 0.99\n",
      "['', '', '', '', '', '', '', '', '', '', '', '', 'M', 'A', 'C'] -> H 0.99\n",
      "['', '', '', '', '', '', '', '', '', '', '', 'M', 'A', 'C', 'H'] -> I 0.99\n",
      "['', '', '', '', '', '', '', '', '', '', 'M', 'A', 'C', 'H', 'I'] -> N 0.99\n",
      "['', '', '', '', '', '', '', '', '', 'M', 'A', 'C', 'H', 'I', 'N'] -> E 0.99\n",
      "['', '', '', '', '', '', '', '', 'M', 'A', 'C', 'H', 'I', 'N', 'E'] ->   0.99\n",
      "['', '', '', '', '', '', '', 'M', 'A', 'C', 'H', 'I', 'N', 'E', ' '] -> L 0.99\n",
      "['', '', '', '', '', '', 'M', 'A', 'C', 'H', 'I', 'N', 'E', ' ', 'L'] -> E 0.99\n",
      "['', '', '', '', '', 'M', 'A', 'C', 'H', 'I', 'N', 'E', ' ', 'L', 'E'] -> A 0.99\n",
      "['', '', '', '', 'M', 'A', 'C', 'H', 'I', 'N', 'E', ' ', 'L', 'E', 'A'] -> R 0.99\n",
      "['', '', '', 'M', 'A', 'C', 'H', 'I', 'N', 'E', ' ', 'L', 'E', 'A', 'R'] -> N 0.99\n",
      "['', '', 'M', 'A', 'C', 'H', 'I', 'N', 'E', ' ', 'L', 'E', 'A', 'R', 'N'] -> I 0.99\n",
      "['', 'M', 'A', 'C', 'H', 'I', 'N', 'E', ' ', 'L', 'E', 'A', 'R', 'N', 'I'] -> N 0.99\n",
      "['M', 'A', 'C', 'H', 'I', 'N', 'E', ' ', 'L', 'E', 'A', 'R', 'N', 'I', 'N'] -> G 0.99\n"
     ]
    }
   ],
   "source": [
    "to_predict = X_coded\n",
    "predicted = model_6.predict(to_predict)\n",
    "for i, row in enumerate(predicted):\n",
    "    idx = np.argmax(row)\n",
    "    print(X_5[i], '->', indices_to_chars[idx], int(row[idx]*100)/100)"
   ]
  },
  {
   "cell_type": "markdown",
   "metadata": {},
   "source": [
    "### Armo modelo stateful y cargo pesos de modelo anterior entrenado"
   ]
  },
  {
   "cell_type": "code",
   "execution_count": 242,
   "metadata": {},
   "outputs": [
    {
     "name": "stdout",
     "output_type": "stream",
     "text": [
      "_________________________________________________________________\n",
      "Layer (type)                 Output Shape              Param #   \n",
      "=================================================================\n",
      "masking_3 (Masking)          (1, 1, 11)                0         \n",
      "_________________________________________________________________\n",
      "simple_rnn_21 (SimpleRNN)    (1, 10)                   220       \n",
      "_________________________________________________________________\n",
      "dense_21 (Dense)             (1, 11)                   121       \n",
      "=================================================================\n",
      "Total params: 341\n",
      "Trainable params: 341\n",
      "Non-trainable params: 0\n",
      "_________________________________________________________________\n"
     ]
    }
   ],
   "source": [
    "model_6s = Sequential()\n",
    "model_6s.add(Masking(mask_value=0., batch_input_shape=(batch_size,1,len(chars))))\n",
    "model_6s.add(SimpleRNN(10, batch_input_shape=(batch_size,1,len(chars)), stateful=True))\n",
    "model_6s.add(Dense(len(chars), activation=\"softmax\"))\n",
    "model_6s.summary()"
   ]
  },
  {
   "cell_type": "code",
   "execution_count": 243,
   "metadata": {},
   "outputs": [],
   "source": [
    "model_6s.set_weights(model_6.get_weights())"
   ]
  },
  {
   "cell_type": "code",
   "execution_count": 244,
   "metadata": {},
   "outputs": [
    {
     "name": "stdout",
     "output_type": "stream",
     "text": [
      "[[[0 0 0 0 0 0 0 0 1 0 0]]] M -> A 0.99\n",
      "[[[0 1 0 0 0 0 0 0 0 0 0]]] A -> C 0.99\n",
      "[[[0 0 1 0 0 0 0 0 0 0 0]]] C -> H 0.99\n",
      "[[[0 0 0 0 0 1 0 0 0 0 0]]] H -> I 0.99\n",
      "[[[0 0 0 0 0 0 1 0 0 0 0]]] I -> N 0.99\n",
      "[[[0 0 0 0 0 0 0 0 0 1 0]]] N -> E 0.99\n",
      "[[[0 0 0 1 0 0 0 0 0 0 0]]] E ->   0.99\n",
      "[[[1 0 0 0 0 0 0 0 0 0 0]]]   -> L 0.99\n",
      "[[[0 0 0 0 0 0 0 1 0 0 0]]] L -> E 0.99\n",
      "[[[0 0 0 1 0 0 0 0 0 0 0]]] E -> A 0.99\n",
      "[[[0 1 0 0 0 0 0 0 0 0 0]]] A -> R 0.99\n",
      "[[[0 0 0 0 0 0 0 0 0 0 1]]] R -> N 0.99\n",
      "[[[0 0 0 0 0 0 0 0 0 1 0]]] N -> I 0.99\n",
      "[[[0 0 0 0 0 0 1 0 0 0 0]]] I -> N 0.99\n",
      "[[[0 0 0 0 0 0 0 0 0 1 0]]] N -> G 0.99\n",
      "[[[0 0 0 0 1 0 0 0 0 0 0]]] G -> E 0.46\n"
     ]
    }
   ],
   "source": [
    "# Comentar el reset_states y ver que pasa\n",
    "# Entrenar 2 de 500 epochs\n",
    "\n",
    "model_6s.reset_states()\n",
    "\n",
    "for i in range(16):\n",
    "    to_predict = y_coded[i:i+1].reshape(1, 1, len(chars))\n",
    "    predicted = model_6s.predict(to_predict)\n",
    "    idx = np.argmax(predicted[0])\n",
    "    print(str(to_predict)+' '+text[i], '->', indices_to_chars[idx], int(predicted[0][idx]*100)/100)"
   ]
  },
  {
   "cell_type": "markdown",
   "metadata": {},
   "source": [
    "### Arrancando del medio"
   ]
  },
  {
   "cell_type": "code",
   "execution_count": 245,
   "metadata": {},
   "outputs": [
    {
     "name": "stdout",
     "output_type": "stream",
     "text": [
      "[[[0 0 0 0 0 0 0 1 0 0 0]]] L -> E 0.72\n",
      "[[[0 0 0 1 0 0 0 0 0 0 0]]] E -> A 0.99\n",
      "[[[0 1 0 0 0 0 0 0 0 0 0]]] A -> R 0.96\n",
      "[[[0 0 0 0 0 0 0 0 0 0 1]]] R -> N 0.99\n",
      "[[[0 0 0 0 0 0 0 0 0 1 0]]] N -> I 0.99\n"
     ]
    }
   ],
   "source": [
    "model_6s.reset_states()\n",
    "st = 8\n",
    "for i in range(5):\n",
    "    to_predict = y_coded[i+st:i+st+1].reshape(1, 1, len(chars))\n",
    "    predicted = model_6s.predict(to_predict)\n",
    "    idx = np.argmax(predicted[0])\n",
    "    print(str(to_predict)+' '+text[i+st], '->', indices_to_chars[idx], int(predicted[0][idx]*100)/100)"
   ]
  },
  {
   "cell_type": "markdown",
   "metadata": {},
   "source": [
    "\n",
    "### Ventajas/Desventajas entre este método y stateful\n",
    "- Ventajas: Este metodo permite el entrenamiento de a batches de manera mas simple\n",
    "- Desventajas: Si la secuencia es muy larga el unfolding termina siendo demasiado largo y requiere mas memoria y procesamiento\n",
    "\n",
    "Nota: En stateful, dependiendo del problema, se puede entrenar con batch size mayor a uno pero hay que pensar bien el armado de las secuencias de entrenamiento.\n",
    "\n",
    "Un ejemplo podría ser: Tengo que generar frases cortas de longitud variable y quiero que aprenda un modelo de lenguage para generar una frase corta"
   ]
  },
  {
   "cell_type": "markdown",
   "metadata": {},
   "source": [
    "# Many to Many"
   ]
  },
  {
   "cell_type": "code",
   "execution_count": null,
   "metadata": {},
   "outputs": [],
   "source": []
  },
  {
   "cell_type": "markdown",
   "metadata": {},
   "source": [
    "## Ejemplo 7: Return sequence"
   ]
  },
  {
   "cell_type": "code",
   "execution_count": 246,
   "metadata": {},
   "outputs": [
    {
     "name": "stdout",
     "output_type": "stream",
     "text": [
      "Caracteres distintos:\n",
      "[' ', '#', '$', 'A', 'C', 'E', 'G', 'H', 'I', 'L', 'M', 'N', 'R']\n",
      "[[[0 1 0 0 0 0 0 0 0 0 0 0 0]\n",
      "  [0 0 0 0 0 0 0 0 0 0 1 0 0]\n",
      "  [0 0 0 1 0 0 0 0 0 0 0 0 0]\n",
      "  [0 0 0 0 1 0 0 0 0 0 0 0 0]\n",
      "  [0 0 0 0 0 0 0 1 0 0 0 0 0]\n",
      "  [0 0 0 0 0 0 0 0 1 0 0 0 0]\n",
      "  [0 0 0 0 0 0 0 0 0 0 0 1 0]\n",
      "  [0 0 0 0 0 1 0 0 0 0 0 0 0]\n",
      "  [1 0 0 0 0 0 0 0 0 0 0 0 0]\n",
      "  [0 0 0 0 0 0 0 0 0 1 0 0 0]\n",
      "  [0 0 0 0 0 1 0 0 0 0 0 0 0]\n",
      "  [0 0 0 1 0 0 0 0 0 0 0 0 0]\n",
      "  [0 0 0 0 0 0 0 0 0 0 0 0 1]\n",
      "  [0 0 0 0 0 0 0 0 0 0 0 1 0]\n",
      "  [0 0 0 0 0 0 0 0 1 0 0 0 0]\n",
      "  [0 0 0 0 0 0 0 0 0 0 0 1 0]\n",
      "  [0 0 0 0 0 0 1 0 0 0 0 0 0]\n",
      "  [0 0 1 0 0 0 0 0 0 0 0 0 0]]]\n",
      "(1, 18, 13)\n"
     ]
    }
   ],
   "source": [
    "text=\"#MACHINE LEARNING$\"\n",
    "chars = sorted(set(text))\n",
    "print('Caracteres distintos:')\n",
    "print(chars)\n",
    "window_size=1\n",
    "chars_to_indices = dict((c, i) for i, c in enumerate(chars))  # map each unique character to unique integer\n",
    "indices_to_chars = dict((i, c) for i, c in enumerate(chars))\n",
    "one_hot_text = chars_to_one_hot(text, chars, chars_to_indices, window_size)*1\n",
    "print(one_hot_text)\n",
    "print(one_hot_text.shape)"
   ]
  },
  {
   "cell_type": "code",
   "execution_count": 39,
   "metadata": {},
   "outputs": [],
   "source": [
    "X_train = one_hot_text[:, :-1, :]\n",
    "y_train = one_hot_text[:, 1:, :]"
   ]
  },
  {
   "cell_type": "code",
   "execution_count": 40,
   "metadata": {},
   "outputs": [
    {
     "data": {
      "text/plain": [
       "((1, 17, 13), (1, 17, 13))"
      ]
     },
     "execution_count": 40,
     "metadata": {},
     "output_type": "execute_result"
    }
   ],
   "source": [
    "X_train.shape, y_train.shape"
   ]
  },
  {
   "cell_type": "code",
   "execution_count": 56,
   "metadata": {},
   "outputs": [
    {
     "name": "stdout",
     "output_type": "stream",
     "text": [
      "_________________________________________________________________\n",
      "Layer (type)                 Output Shape              Param #   \n",
      "=================================================================\n",
      "simple_rnn_8 (SimpleRNN)     (None, 17, 10)            240       \n",
      "_________________________________________________________________\n",
      "dense_8 (Dense)              (None, 17, 13)            143       \n",
      "=================================================================\n",
      "Total params: 383\n",
      "Trainable params: 383\n",
      "Non-trainable params: 0\n",
      "_________________________________________________________________\n"
     ]
    }
   ],
   "source": [
    "from keras.layers import SimpleRNN, Dense\n",
    "from keras.models import Sequential\n",
    "model_7 = Sequential()\n",
    "model_7.add(LSTM(10, return_sequences=True, input_shape=(X_train.shape[1],len(chars))))\n",
    "model_7.add(Dense(len(chars), activation=\"softmax\"))\n",
    "model_7.summary()"
   ]
  },
  {
   "cell_type": "code",
   "execution_count": 42,
   "metadata": {},
   "outputs": [
    {
     "data": {
      "image/png": "[encoded data removed]",
      "text/plain": [
       "<matplotlib.figure.Figure at 0x11e810908>"
      ]
     },
     "metadata": {},
     "output_type": "display_data"
    },
    {
     "name": "stdout",
     "output_type": "stream",
     "text": [
      "1/1 [==============================] - 0s 349ms/step - loss: 0.2428 - acc: 1.0000\n",
      "Epoch 492/500\n",
      "1/1 [==============================] - 0s 13ms/step - loss: 0.2419 - acc: 1.0000\n",
      "Epoch 493/500\n",
      "1/1 [==============================] - 0s 14ms/step - loss: 0.2410 - acc: 1.0000\n",
      "Epoch 494/500\n",
      "1/1 [==============================] - 0s 12ms/step - loss: 0.2401 - acc: 1.0000\n",
      "Epoch 495/500\n",
      "1/1 [==============================] - 0s 11ms/step - loss: 0.2392 - acc: 1.0000\n",
      "Epoch 496/500\n",
      "1/1 [==============================] - 0s 13ms/step - loss: 0.2383 - acc: 1.0000\n",
      "Epoch 497/500\n",
      "1/1 [==============================] - 0s 11ms/step - loss: 0.2374 - acc: 1.0000\n",
      "Epoch 498/500\n",
      "1/1 [==============================] - 0s 10ms/step - loss: 0.2365 - acc: 1.0000\n",
      "Epoch 499/500\n",
      "1/1 [==============================] - 0s 13ms/step - loss: 0.2356 - acc: 1.0000\n",
      "Epoch 500/500\n",
      "1/1 [==============================] - 0s 12ms/step - loss: 0.2347 - acc: 1.0000\n"
     ]
    },
    {
     "data": {
      "text/plain": [
       "<keras.callbacks.History at 0x11e923240>"
      ]
     },
     "execution_count": 42,
     "metadata": {},
     "output_type": "execute_result"
    }
   ],
   "source": [
    "model_7.compile(optimizer='adam', loss='categorical_crossentropy', metrics=['accuracy'])\n",
    "plot_losses = PlotLosses(plot_interval=10, evaluate_interval=None)\n",
    "model_7.fit(X_train,y_train, epochs=500, batch_size=1, verbose=1, callbacks=[plot_losses])"
   ]
  },
  {
   "cell_type": "code",
   "execution_count": 50,
   "metadata": {},
   "outputs": [
    {
     "data": {
      "text/plain": [
       "(1, 17, 13)"
      ]
     },
     "execution_count": 50,
     "metadata": {},
     "output_type": "execute_result"
    }
   ],
   "source": [
    "X_train.shape"
   ]
  },
  {
   "cell_type": "code",
   "execution_count": 61,
   "metadata": {},
   "outputs": [
    {
     "data": {
      "text/plain": [
       "(1, 17, 13)"
      ]
     },
     "execution_count": 61,
     "metadata": {},
     "output_type": "execute_result"
    }
   ],
   "source": [
    "model_7.predict(X_train).shape"
   ]
  },
  {
   "cell_type": "code",
   "execution_count": 52,
   "metadata": {},
   "outputs": [
    {
     "data": {
      "text/plain": [
       "array([[10,  3,  4,  7,  8, 11,  5,  0,  9,  5,  3, 12, 11,  8, 11,  6,  2]])"
      ]
     },
     "execution_count": 52,
     "metadata": {},
     "output_type": "execute_result"
    }
   ],
   "source": [
    "model_7.predict_classes(X_train)"
   ]
  },
  {
   "cell_type": "code",
   "execution_count": 53,
   "metadata": {},
   "outputs": [
    {
     "data": {
      "text/plain": [
       "{0: ' ',\n",
       " 1: '#',\n",
       " 2: '$',\n",
       " 3: 'A',\n",
       " 4: 'C',\n",
       " 5: 'E',\n",
       " 6: 'G',\n",
       " 7: 'H',\n",
       " 8: 'I',\n",
       " 9: 'L',\n",
       " 10: 'M',\n",
       " 11: 'N',\n",
       " 12: 'R'}"
      ]
     },
     "execution_count": 53,
     "metadata": {},
     "output_type": "execute_result"
    }
   ],
   "source": [
    "indices_to_chars"
   ]
  },
  {
   "cell_type": "markdown",
   "metadata": {},
   "source": [
    "# Encoder decoder\n",
    "https://machinelearningmastery.com/encoder-decoder-long-short-term-memory-networks/"
   ]
  },
  {
   "cell_type": "markdown",
   "metadata": {},
   "source": [
    "# Sentiment analysis con CNN y LSTM\n",
    "https://machinelearningmastery.com/sequence-classification-lstm-recurrent-neural-networks-python-keras/"
   ]
  },
  {
   "cell_type": "markdown",
   "metadata": {},
   "source": [
    "# Word-level language model"
   ]
  },
  {
   "cell_type": "markdown",
   "metadata": {},
   "source": [
    "https://machinelearningmastery.com/how-to-develop-a-word-level-neural-language-model-in-keras/"
   ]
  },
  {
   "cell_type": "markdown",
   "metadata": {},
   "source": [
    "# return_sequence vs return_state\n",
    "https://www.quora.com/What-is-the-difference-between-states-and-outputs-in-LSTM\n",
    "\n",
    "https://machinelearningmastery.com/return-sequences-and-return-states-for-lstms-in-keras/"
   ]
  },
  {
   "cell_type": "markdown",
   "metadata": {},
   "source": [
    "# Truncated BPTT \n",
    "https://machinelearningmastery.com/truncated-backpropagation-through-time-in-keras/"
   ]
  }
 ],
 "metadata": {
  "kernelspec": {
   "display_name": "Python 3",
   "language": "python",
   "name": "python3"
  },
  "language_info": {
   "codemirror_mode": {
    "name": "ipython",
    "version": 3
   },
   "file_extension": ".py",
   "mimetype": "text/x-python",
   "name": "python",
   "nbconvert_exporter": "python",
   "pygments_lexer": "ipython3",
   "version": "3.6.6"
  },
  "toc": {
   "nav_menu": {},
   "number_sections": true,
   "sideBar": true,
   "skip_h1_title": true,
   "toc_cell": false,
   "toc_position": {},
   "toc_section_display": "block",
   "toc_window_display": false
  }
 },
 "nbformat": 4,
 "nbformat_minor": 2
}
