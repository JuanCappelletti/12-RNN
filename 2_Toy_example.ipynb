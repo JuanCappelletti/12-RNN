{
 "cells": [
  {
   "cell_type": "code",
   "execution_count": 1,
   "metadata": {},
   "outputs": [
    {
     "name": "stderr",
     "output_type": "stream",
     "text": [
      "Using TensorFlow backend.\n"
     ]
    }
   ],
   "source": [
    "%load_ext autoreload\n",
    "%autoreload 2\n",
    "import numpy as np\n",
    "import sys \n",
    "# sys.path.append(\"/Users/julianganzabal/facultad/lab-ml/mllab-tools\")\n",
    "from RNN_utils import encode_io_pairs, chars_to_one_hot, sample, window_transform_text\n",
    "from fnn_helper import PlotLosses"
   ]
  },
  {
   "cell_type": "markdown",
   "metadata": {},
   "source": [
    "# Formas diferentes de entrenar una RNN con el mismo dataset"
   ]
  },
  {
   "cell_type": "markdown",
   "metadata": {},
   "source": [
    "## Objetivos:"
   ]
  },
  {
   "cell_type": "markdown",
   "metadata": {},
   "source": [
    "Comprender los siguientes conceptos:\n",
    "- Diferencias entre MLP (con features igual a timesteps) y RNN\n",
    "- Stateful vs stateles en Keras\n",
    "- Mini-Batch traininig vs SGD training\n",
    "- Los pesos se actualizan en el backward mientras que el estado de la RNN cambia con cada timestep en el forward\n",
    "- Padding\n",
    "- Masking"
   ]
  },
  {
   "cell_type": "markdown",
   "metadata": {},
   "source": [
    "## Selección de dataset (frase) y preformateo"
   ]
  },
  {
   "cell_type": "markdown",
   "metadata": {},
   "source": [
    "### Elegimos una frase que tenga una letras repetidas"
   ]
  },
  {
   "cell_type": "code",
   "execution_count": 2,
   "metadata": {
    "collapsed": true
   },
   "outputs": [],
   "source": [
    "text=\"MACHINE LEARNING\""
   ]
  },
  {
   "cell_type": "code",
   "execution_count": 5,
   "metadata": {},
   "outputs": [
    {
     "name": "stdout",
     "output_type": "stream",
     "text": [
      "Caracteres distintos:\n",
      "[' ', 'A', 'C', 'E', 'G', 'H', 'I', 'L', 'M', 'N', 'R']\n"
     ]
    }
   ],
   "source": [
    "chars = sorted(set(text))\n",
    "print('Caracteres distintos:')\n",
    "print(chars)"
   ]
  },
  {
   "cell_type": "code",
   "execution_count": 6,
   "metadata": {},
   "outputs": [],
   "source": [
    "window_size=1\n",
    "chars_to_indices = dict((c, i) for i, c in enumerate(chars))  # map each unique character to unique integer\n",
    "indices_to_chars = dict((i, c) for i, c in enumerate(chars))"
   ]
  },
  {
   "cell_type": "code",
   "execution_count": 8,
   "metadata": {},
   "outputs": [
    {
     "data": {
      "text/plain": [
       "{' ': 0,\n",
       " 'A': 1,\n",
       " 'C': 2,\n",
       " 'E': 3,\n",
       " 'G': 4,\n",
       " 'H': 5,\n",
       " 'I': 6,\n",
       " 'L': 7,\n",
       " 'M': 8,\n",
       " 'N': 9,\n",
       " 'R': 10}"
      ]
     },
     "execution_count": 8,
     "metadata": {},
     "output_type": "execute_result"
    }
   ],
   "source": [
    "chars_to_indices"
   ]
  },
  {
   "cell_type": "code",
   "execution_count": 9,
   "metadata": {},
   "outputs": [
    {
     "data": {
      "text/plain": [
       "{0: ' ',\n",
       " 1: 'A',\n",
       " 2: 'C',\n",
       " 3: 'E',\n",
       " 4: 'G',\n",
       " 5: 'H',\n",
       " 6: 'I',\n",
       " 7: 'L',\n",
       " 8: 'M',\n",
       " 9: 'N',\n",
       " 10: 'R'}"
      ]
     },
     "execution_count": 9,
     "metadata": {},
     "output_type": "execute_result"
    }
   ],
   "source": [
    "indices_to_chars"
   ]
  },
  {
   "cell_type": "markdown",
   "metadata": {},
   "source": [
    "### Texto a One-hot"
   ]
  },
  {
   "cell_type": "code",
   "execution_count": 10,
   "metadata": {},
   "outputs": [
    {
     "name": "stdout",
     "output_type": "stream",
     "text": [
      "[[[0 0 0 0 0 0 0 0 1 0 0]\n",
      "  [0 1 0 0 0 0 0 0 0 0 0]\n",
      "  [0 0 1 0 0 0 0 0 0 0 0]\n",
      "  [0 0 0 0 0 1 0 0 0 0 0]\n",
      "  [0 0 0 0 0 0 1 0 0 0 0]\n",
      "  [0 0 0 0 0 0 0 0 0 1 0]\n",
      "  [0 0 0 1 0 0 0 0 0 0 0]\n",
      "  [1 0 0 0 0 0 0 0 0 0 0]\n",
      "  [0 0 0 0 0 0 0 1 0 0 0]\n",
      "  [0 0 0 1 0 0 0 0 0 0 0]\n",
      "  [0 1 0 0 0 0 0 0 0 0 0]\n",
      "  [0 0 0 0 0 0 0 0 0 0 1]\n",
      "  [0 0 0 0 0 0 0 0 0 1 0]\n",
      "  [0 0 0 0 0 0 1 0 0 0 0]\n",
      "  [0 0 0 0 0 0 0 0 0 1 0]\n",
      "  [0 0 0 0 1 0 0 0 0 0 0]]]\n",
      "(1, 16, 11)\n"
     ]
    }
   ],
   "source": [
    "one_hot_text = chars_to_one_hot(text, chars, chars_to_indices, window_size)*1\n",
    "print(one_hot_text)\n",
    "print(one_hot_text.shape)"
   ]
  },
  {
   "cell_type": "markdown",
   "metadata": {},
   "source": [
    "### One-hot a caracter"
   ]
  },
  {
   "cell_type": "code",
   "execution_count": 11,
   "metadata": {},
   "outputs": [
    {
     "name": "stdout",
     "output_type": "stream",
     "text": [
      "M\n",
      "A\n"
     ]
    }
   ],
   "source": [
    "print(indices_to_chars[np.argmax(one_hot_text[0][0])])\n",
    "print(indices_to_chars[np.argmax(one_hot_text[0][1])])"
   ]
  },
  {
   "cell_type": "markdown",
   "metadata": {},
   "source": [
    "## Ejemplo 1: T = 1\n",
    "En este ejemplo usaremos una RNN pero como una simple vanilla network (MLP)"
   ]
  },
  {
   "cell_type": "markdown",
   "metadata": {},
   "source": [
    "### Preparo entrada/salida:  "
   ]
  },
  {
   "cell_type": "code",
   "execution_count": 12,
   "metadata": {},
   "outputs": [
    {
     "data": {
      "text/plain": [
       "(['M', 'A', 'C', 'H', 'I', 'N', 'E', ' ', 'L', 'E', 'A', 'R', 'N', 'I', 'N'],\n",
       " ['A', 'C', 'H', 'I', 'N', 'E', ' ', 'L', 'E', 'A', 'R', 'N', 'I', 'N', 'G'])"
      ]
     },
     "execution_count": 12,
     "metadata": {},
     "output_type": "execute_result"
    }
   ],
   "source": [
    "window_transform_text(text, 1, 1)"
   ]
  },
  {
   "cell_type": "code",
   "execution_count": 13,
   "metadata": {
    "collapsed": true
   },
   "outputs": [],
   "source": [
    "window_size = 1\n",
    "step_size = 1\n",
    "# encode_io_pairs llama a window_transform_text y despues codifica en one-hot\n",
    "X, y = encode_io_pairs(text, chars, window_size, step_size)"
   ]
  },
  {
   "cell_type": "code",
   "execution_count": 14,
   "metadata": {},
   "outputs": [
    {
     "name": "stdout",
     "output_type": "stream",
     "text": [
      "X: (15, 1, 11) y: (15, 11)\n"
     ]
    }
   ],
   "source": [
    "print('X:', X.shape, 'y:', y.shape)"
   ]
  },
  {
   "cell_type": "code",
   "execution_count": 15,
   "metadata": {},
   "outputs": [
    {
     "name": "stdout",
     "output_type": "stream",
     "text": [
      "N:  15\n",
      "T:  1\n",
      "D:  11\n"
     ]
    }
   ],
   "source": [
    "print('N: ', X.shape[0])\n",
    "print('T: ', X.shape[1])\n",
    "print('D: ', X.shape[2])"
   ]
  },
  {
   "cell_type": "code",
   "execution_count": 16,
   "metadata": {},
   "outputs": [
    {
     "name": "stdout",
     "output_type": "stream",
     "text": [
      "[[0 0 0 0 0 0 0 0 1 0 0]] M\n",
      "[[0 1 0 0 0 0 0 0 0 0 0]] A\n",
      "[[0 0 1 0 0 0 0 0 0 0 0]] C\n",
      "[[0 0 0 0 0 1 0 0 0 0 0]] H\n",
      "[[0 0 0 0 0 0 1 0 0 0 0]] I\n",
      "[[0 0 0 0 0 0 0 0 0 1 0]] N\n",
      "[[0 0 0 1 0 0 0 0 0 0 0]] E\n",
      "[[1 0 0 0 0 0 0 0 0 0 0]]  \n",
      "[[0 0 0 0 0 0 0 1 0 0 0]] L\n",
      "[[0 0 0 1 0 0 0 0 0 0 0]] E\n",
      "[[0 1 0 0 0 0 0 0 0 0 0]] A\n",
      "[[0 0 0 0 0 0 0 0 0 0 1]] R\n",
      "[[0 0 0 0 0 0 0 0 0 1 0]] N\n",
      "[[0 0 0 0 0 0 1 0 0 0 0]] I\n",
      "[[0 0 0 0 0 0 0 0 0 1 0]] N\n"
     ]
    }
   ],
   "source": [
    "for xi in X:\n",
    "    print(xi*1, indices_to_chars[np.argmax(xi)])"
   ]
  },
  {
   "cell_type": "code",
   "execution_count": 17,
   "metadata": {},
   "outputs": [
    {
     "name": "stdout",
     "output_type": "stream",
     "text": [
      "[0 1 0 0 0 0 0 0 0 0 0] A\n",
      "[0 0 1 0 0 0 0 0 0 0 0] C\n",
      "[0 0 0 0 0 1 0 0 0 0 0] H\n",
      "[0 0 0 0 0 0 1 0 0 0 0] I\n",
      "[0 0 0 0 0 0 0 0 0 1 0] N\n",
      "[0 0 0 1 0 0 0 0 0 0 0] E\n",
      "[1 0 0 0 0 0 0 0 0 0 0]  \n",
      "[0 0 0 0 0 0 0 1 0 0 0] L\n",
      "[0 0 0 1 0 0 0 0 0 0 0] E\n",
      "[0 1 0 0 0 0 0 0 0 0 0] A\n",
      "[0 0 0 0 0 0 0 0 0 0 1] R\n",
      "[0 0 0 0 0 0 0 0 0 1 0] N\n",
      "[0 0 0 0 0 0 1 0 0 0 0] I\n",
      "[0 0 0 0 0 0 0 0 0 1 0] N\n",
      "[0 0 0 0 1 0 0 0 0 0 0] G\n"
     ]
    }
   ],
   "source": [
    "for yi in y:\n",
    "    print(yi*1, indices_to_chars[np.argmax(yi)])"
   ]
  },
  {
   "cell_type": "markdown",
   "metadata": {},
   "source": [
    "Notar que la salida es el siguiente caracter al de la entrada\n",
    "\n",
    "Esto es equivalente a un MLP"
   ]
  },
  {
   "cell_type": "markdown",
   "metadata": {},
   "source": [
    "### Armo modelo RNN"
   ]
  },
  {
   "cell_type": "code",
   "execution_count": 18,
   "metadata": {
    "collapsed": true
   },
   "outputs": [],
   "source": [
    "from keras.layers import SimpleRNN, Dense\n",
    "from keras.models import Sequential"
   ]
  },
  {
   "cell_type": "code",
   "execution_count": 19,
   "metadata": {},
   "outputs": [
    {
     "name": "stdout",
     "output_type": "stream",
     "text": [
      "_________________________________________________________________\n",
      "Layer (type)                 Output Shape              Param #   \n",
      "=================================================================\n",
      "simple_rnn_1 (SimpleRNN)     (None, 10)                220       \n",
      "_________________________________________________________________\n",
      "dense_1 (Dense)              (None, 11)                121       \n",
      "=================================================================\n",
      "Total params: 341\n",
      "Trainable params: 341\n",
      "Non-trainable params: 0\n",
      "_________________________________________________________________\n"
     ]
    }
   ],
   "source": [
    "model = Sequential()\n",
    "model.add(SimpleRNN(10, input_shape=(window_size,len(chars))))\n",
    "model.add(Dense(len(chars), activation=\"softmax\"))\n",
    "model.summary()"
   ]
  },
  {
   "cell_type": "markdown",
   "metadata": {},
   "source": [
    "### Entreno el modelo"
   ]
  },
  {
   "cell_type": "code",
   "execution_count": 20,
   "metadata": {},
   "outputs": [
    {
     "data": {
      "image/png": "[encoded data removed]",
      "text/plain": [
       "<matplotlib.figure.Figure at 0x116e14160>"
      ]
     },
     "metadata": {},
     "output_type": "display_data"
    },
    {
     "name": "stdout",
     "output_type": "stream",
     "text": [
      "15/15 [==============================] - 0s 27ms/step - loss: 0.4219 - acc: 0.6667\n",
      "Epoch 492/500\n",
      "15/15 [==============================] - 0s 3ms/step - loss: 0.4216 - acc: 0.7333\n",
      "Epoch 493/500\n",
      "15/15 [==============================] - 0s 4ms/step - loss: 0.4208 - acc: 0.7333\n",
      "Epoch 494/500\n",
      "15/15 [==============================] - 0s 4ms/step - loss: 0.4219 - acc: 0.6667\n",
      "Epoch 495/500\n",
      "15/15 [==============================] - 0s 3ms/step - loss: 0.4205 - acc: 0.7333\n",
      "Epoch 496/500\n",
      "15/15 [==============================] - 0s 4ms/step - loss: 0.4219 - acc: 0.6000\n",
      "Epoch 497/500\n",
      "15/15 [==============================] - 0s 4ms/step - loss: 0.4230 - acc: 0.6000\n",
      "Epoch 498/500\n",
      "15/15 [==============================] - 0s 3ms/step - loss: 0.4226 - acc: 0.6667\n",
      "Epoch 499/500\n",
      "15/15 [==============================] - 0s 4ms/step - loss: 0.4233 - acc: 0.6667\n",
      "Epoch 500/500\n",
      "15/15 [==============================] - 0s 3ms/step - loss: 0.4211 - acc: 0.7333\n"
     ]
    },
    {
     "data": {
      "text/plain": [
       "<keras.callbacks.History at 0x1159b0ef0>"
      ]
     },
     "execution_count": 20,
     "metadata": {},
     "output_type": "execute_result"
    }
   ],
   "source": [
    "model.compile(optimizer='adam', loss='categorical_crossentropy', metrics=['accuracy'])\n",
    "plot_losses = PlotLosses(plot_interval=10, evaluate_interval=None)\n",
    "model.fit(X,y, epochs=500, batch_size=1, verbose=1, callbacks=[plot_losses])"
   ]
  },
  {
   "cell_type": "markdown",
   "metadata": {},
   "source": [
    "Por que no llega al 100%? Que es lo que no puede predecir?"
   ]
  },
  {
   "cell_type": "markdown",
   "metadata": {},
   "source": [
    "### Predicción usando argmax (Greedy Search)"
   ]
  },
  {
   "cell_type": "code",
   "execution_count": 21,
   "metadata": {},
   "outputs": [
    {
     "name": "stdout",
     "output_type": "stream",
     "text": [
      "M = [[[0 0 0 0 0 0 0 0 1 0 0]]]\n",
      "[[  4.86628432e-03   9.89376187e-01   3.38058075e-04   8.24159768e-04\n",
      "    7.82294897e-04   2.32222301e-04   1.08836975e-04   1.38691603e-03\n",
      "    5.09992649e-04   8.72414268e-04   7.02553254e-04]]\n",
      "A 0.989376\n"
     ]
    }
   ],
   "source": [
    "char_to_predict = text[0]\n",
    "to_predict = chars_to_one_hot(char_to_predict, chars, chars_to_indices, window_size)*1\n",
    "print(char_to_predict, '=', to_predict)\n",
    "predicted = model.predict(to_predict)\n",
    "print(predicted)\n",
    "print(indices_to_chars[np.argmax(predicted)], np.max(predicted))"
   ]
  },
  {
   "cell_type": "code",
   "execution_count": 23,
   "metadata": {
    "collapsed": true
   },
   "outputs": [
    {
     "name": "stdout",
     "output_type": "stream",
     "text": [
      "MACHINE LEARNING\n",
      "[[[0 0 0 0 0 0 0 0 1 0 0]\n",
      "  [0 1 0 0 0 0 0 0 0 0 0]\n",
      "  [0 0 1 0 0 0 0 0 0 0 0]\n",
      "  [0 0 0 0 0 1 0 0 0 0 0]\n",
      "  [0 0 0 0 0 0 1 0 0 0 0]\n",
      "  [0 0 0 0 0 0 0 0 0 1 0]\n",
      "  [0 0 0 1 0 0 0 0 0 0 0]\n",
      "  [1 0 0 0 0 0 0 0 0 0 0]\n",
      "  [0 0 0 0 0 0 0 1 0 0 0]\n",
      "  [0 0 0 1 0 0 0 0 0 0 0]\n",
      "  [0 1 0 0 0 0 0 0 0 0 0]\n",
      "  [0 0 0 0 0 0 0 0 0 0 1]\n",
      "  [0 0 0 0 0 0 0 0 0 1 0]\n",
      "  [0 0 0 0 0 0 1 0 0 0 0]\n",
      "  [0 0 0 0 0 0 0 0 0 1 0]\n",
      "  [0 0 0 0 1 0 0 0 0 0 0]]]\n",
      "(1, 16, 11)\n"
     ]
    }
   ],
   "source": [
    "chars_to_predict = text[:]\n",
    "print(chars_to_predict)\n",
    "# Los paso a one hot\n",
    "to_predict = chars_to_one_hot(chars_to_predict, chars, chars_to_indices, window_size)*1\n",
    "print(to_predict)\n",
    "print(to_predict.shape)"
   ]
  },
  {
   "cell_type": "code",
   "execution_count": 24,
   "metadata": {},
   "outputs": [
    {
     "name": "stdout",
     "output_type": "stream",
     "text": [
      "[[[0 0 0 0 0 0 0 0 1 0 0]]\n",
      "\n",
      " [[0 1 0 0 0 0 0 0 0 0 0]]\n",
      "\n",
      " [[0 0 1 0 0 0 0 0 0 0 0]]\n",
      "\n",
      " [[0 0 0 0 0 1 0 0 0 0 0]]\n",
      "\n",
      " [[0 0 0 0 0 0 1 0 0 0 0]]\n",
      "\n",
      " [[0 0 0 0 0 0 0 0 0 1 0]]\n",
      "\n",
      " [[0 0 0 1 0 0 0 0 0 0 0]]\n",
      "\n",
      " [[1 0 0 0 0 0 0 0 0 0 0]]\n",
      "\n",
      " [[0 0 0 0 0 0 0 1 0 0 0]]\n",
      "\n",
      " [[0 0 0 1 0 0 0 0 0 0 0]]\n",
      "\n",
      " [[0 1 0 0 0 0 0 0 0 0 0]]\n",
      "\n",
      " [[0 0 0 0 0 0 0 0 0 0 1]]\n",
      "\n",
      " [[0 0 0 0 0 0 0 0 0 1 0]]\n",
      "\n",
      " [[0 0 0 0 0 0 1 0 0 0 0]]\n",
      "\n",
      " [[0 0 0 0 0 0 0 0 0 1 0]]\n",
      "\n",
      " [[0 0 0 0 1 0 0 0 0 0 0]]]\n",
      "(16, 1, 11)\n"
     ]
    }
   ],
   "source": [
    "# Tengo que hacer reshape para darselo a la red\n",
    "to_predict_reshaped = to_predict.reshape(to_predict.shape[1],to_predict.shape[0],to_predict.shape[2])\n",
    "print(to_predict_reshaped)\n",
    "print(to_predict_reshaped.shape)"
   ]
  },
  {
   "cell_type": "markdown",
   "metadata": {},
   "source": [
    "### Matriz de transición"
   ]
  },
  {
   "cell_type": "code",
   "execution_count": 25,
   "metadata": {
    "collapsed": true
   },
   "outputs": [
    {
     "name": "stdout",
     "output_type": "stream",
     "text": [
      "(16, 11)\n",
      "          A     C     E     G     H     I     L     M     N     R     \n",
      "M [ 0.    0.98  0.    0.    0.    0.    0.    0.    0.    0.    0.  ] A\n",
      "A [ 0.    0.    0.49  0.    0.    0.    0.    0.    0.    0.    0.48] C\n",
      "C [ 0.    0.    0.    0.    0.    0.99  0.    0.    0.    0.    0.  ] H\n",
      "H [ 0.    0.    0.    0.    0.    0.    0.98  0.    0.    0.    0.  ] I\n",
      "I [ 0.    0.    0.    0.    0.    0.    0.    0.    0.    0.99  0.  ] N\n",
      "N [ 0.    0.    0.    0.33  0.32  0.    0.32  0.    0.    0.    0.  ] E\n",
      "E [ 0.48  0.49  0.    0.    0.    0.    0.    0.    0.    0.    0.  ] A\n",
      "  [ 0.    0.    0.    0.    0.    0.    0.    0.99  0.    0.    0.  ] L\n",
      "L [ 0.    0.    0.    0.96  0.01  0.    0.    0.    0.    0.    0.  ] E\n",
      "E [ 0.48  0.49  0.    0.    0.    0.    0.    0.    0.    0.    0.  ] A\n",
      "A [ 0.    0.    0.49  0.    0.    0.    0.    0.    0.    0.    0.48] C\n",
      "R [ 0.    0.    0.    0.    0.    0.    0.    0.    0.    0.99  0.  ] N\n",
      "N [ 0.    0.    0.    0.33  0.32  0.    0.32  0.    0.    0.    0.  ] E\n",
      "I [ 0.    0.    0.    0.    0.    0.    0.    0.    0.    0.99  0.  ] N\n",
      "N [ 0.    0.    0.    0.33  0.32  0.    0.32  0.    0.    0.    0.  ] E\n",
      "G [ 0.15  0.05  0.1   0.08  0.04  0.14  0.05  0.2   0.    0.05  0.09] L\n"
     ]
    }
   ],
   "source": [
    "predicted = model.predict(to_predict_reshaped)\n",
    "print(predicted.shape)\n",
    "print('    ', end='')\n",
    "for c in chars_to_indices.keys():\n",
    "    print(c, end='     ')\n",
    "print()\n",
    "for i, row in enumerate(predicted):\n",
    "    print(indices_to_chars[np.argmax(to_predict[:,i])], (row*100).astype(int)/100, indices_to_chars[np.argmax(row)])"
   ]
  },
  {
   "cell_type": "markdown",
   "metadata": {},
   "source": [
    "Que pasa con la A y la N cuando el texto es MACHINE LEARNING"
   ]
  },
  {
   "cell_type": "markdown",
   "metadata": {},
   "source": [
    "## Ejemplo 2: T = 2"
   ]
  },
  {
   "cell_type": "markdown",
   "metadata": {},
   "source": [
    "### Preparo entrada/salida"
   ]
  },
  {
   "cell_type": "code",
   "execution_count": 26,
   "metadata": {
    "collapsed": true
   },
   "outputs": [
    {
     "name": "stdout",
     "output_type": "stream",
     "text": [
      "MA -> C\n",
      "AC -> H\n",
      "CH -> I\n",
      "HI -> N\n",
      "IN -> E\n",
      "NE ->  \n",
      "E  -> L\n",
      " L -> E\n",
      "LE -> A\n",
      "EA -> R\n",
      "AR -> N\n",
      "RN -> I\n",
      "NI -> N\n",
      "IN -> G\n"
     ]
    }
   ],
   "source": [
    "window_size = 2\n",
    "x_2_t, y_2_t = window_transform_text(text, window_size, step_size)\n",
    "for i, te in enumerate(x_2_t):\n",
    "    print(te, '->' ,y_2_t[i])\n",
    "#print(x_2_t, y_2_t)\n",
    "X_2, y_2 = encode_io_pairs(text, chars, window_size, step_size)"
   ]
  },
  {
   "cell_type": "code",
   "execution_count": 27,
   "metadata": {},
   "outputs": [
    {
     "name": "stdout",
     "output_type": "stream",
     "text": [
      "[[[0 0 0 0 0 0 0 0 1 0 0]\n",
      "  [0 1 0 0 0 0 0 0 0 0 0]]\n",
      "\n",
      " [[0 1 0 0 0 0 0 0 0 0 0]\n",
      "  [0 0 1 0 0 0 0 0 0 0 0]]\n",
      "\n",
      " [[0 0 1 0 0 0 0 0 0 0 0]\n",
      "  [0 0 0 0 0 1 0 0 0 0 0]]\n",
      "\n",
      " [[0 0 0 0 0 1 0 0 0 0 0]\n",
      "  [0 0 0 0 0 0 1 0 0 0 0]]\n",
      "\n",
      " [[0 0 0 0 0 0 1 0 0 0 0]\n",
      "  [0 0 0 0 0 0 0 0 0 1 0]]\n",
      "\n",
      " [[0 0 0 0 0 0 0 0 0 1 0]\n",
      "  [0 0 0 1 0 0 0 0 0 0 0]]\n",
      "\n",
      " [[0 0 0 1 0 0 0 0 0 0 0]\n",
      "  [1 0 0 0 0 0 0 0 0 0 0]]\n",
      "\n",
      " [[1 0 0 0 0 0 0 0 0 0 0]\n",
      "  [0 0 0 0 0 0 0 1 0 0 0]]\n",
      "\n",
      " [[0 0 0 0 0 0 0 1 0 0 0]\n",
      "  [0 0 0 1 0 0 0 0 0 0 0]]\n",
      "\n",
      " [[0 0 0 1 0 0 0 0 0 0 0]\n",
      "  [0 1 0 0 0 0 0 0 0 0 0]]\n",
      "\n",
      " [[0 1 0 0 0 0 0 0 0 0 0]\n",
      "  [0 0 0 0 0 0 0 0 0 0 1]]\n",
      "\n",
      " [[0 0 0 0 0 0 0 0 0 0 1]\n",
      "  [0 0 0 0 0 0 0 0 0 1 0]]\n",
      "\n",
      " [[0 0 0 0 0 0 0 0 0 1 0]\n",
      "  [0 0 0 0 0 0 1 0 0 0 0]]\n",
      "\n",
      " [[0 0 0 0 0 0 1 0 0 0 0]\n",
      "  [0 0 0 0 0 0 0 0 0 1 0]]]\n"
     ]
    }
   ],
   "source": [
    "print(X_2*1)"
   ]
  },
  {
   "cell_type": "code",
   "execution_count": 28,
   "metadata": {},
   "outputs": [
    {
     "name": "stdout",
     "output_type": "stream",
     "text": [
      "[[0 0 1 0 0 0 0 0 0 0 0]\n",
      " [0 0 0 0 0 1 0 0 0 0 0]\n",
      " [0 0 0 0 0 0 1 0 0 0 0]\n",
      " [0 0 0 0 0 0 0 0 0 1 0]\n",
      " [0 0 0 1 0 0 0 0 0 0 0]\n",
      " [1 0 0 0 0 0 0 0 0 0 0]\n",
      " [0 0 0 0 0 0 0 1 0 0 0]\n",
      " [0 0 0 1 0 0 0 0 0 0 0]\n",
      " [0 1 0 0 0 0 0 0 0 0 0]\n",
      " [0 0 0 0 0 0 0 0 0 0 1]\n",
      " [0 0 0 0 0 0 0 0 0 1 0]\n",
      " [0 0 0 0 0 0 1 0 0 0 0]\n",
      " [0 0 0 0 0 0 0 0 0 1 0]\n",
      " [0 0 0 0 1 0 0 0 0 0 0]]\n"
     ]
    }
   ],
   "source": [
    "print(y_2*1)"
   ]
  },
  {
   "cell_type": "markdown",
   "metadata": {},
   "source": [
    "### Armo modelo"
   ]
  },
  {
   "cell_type": "code",
   "execution_count": 29,
   "metadata": {},
   "outputs": [
    {
     "name": "stdout",
     "output_type": "stream",
     "text": [
      "_________________________________________________________________\n",
      "Layer (type)                 Output Shape              Param #   \n",
      "=================================================================\n",
      "simple_rnn_2 (SimpleRNN)     (None, 10)                220       \n",
      "_________________________________________________________________\n",
      "dense_2 (Dense)              (None, 11)                121       \n",
      "=================================================================\n",
      "Total params: 341\n",
      "Trainable params: 341\n",
      "Non-trainable params: 0\n",
      "_________________________________________________________________\n"
     ]
    }
   ],
   "source": [
    "model_2 = Sequential()\n",
    "model_2.add(SimpleRNN(10, input_shape=(window_size,len(chars))))\n",
    "model_2.add(Dense(len(chars), activation=\"softmax\"))\n",
    "model_2.summary()"
   ]
  },
  {
   "cell_type": "markdown",
   "metadata": {},
   "source": [
    "### Entreno modelo"
   ]
  },
  {
   "cell_type": "code",
   "execution_count": 30,
   "metadata": {},
   "outputs": [
    {
     "data": {
      "image/png": "[encoded data removed]",
      "text/plain": [
       "<matplotlib.figure.Figure at 0x115dcdf28>"
      ]
     },
     "metadata": {},
     "output_type": "display_data"
    },
    {
     "name": "stdout",
     "output_type": "stream",
     "text": [
      "14/14 [==============================] - 0s 27ms/step - loss: 0.1102 - acc: 0.9286\n",
      "Epoch 492/500\n",
      "14/14 [==============================] - 0s 4ms/step - loss: 0.1086 - acc: 0.9286\n",
      "Epoch 493/500\n",
      "14/14 [==============================] - 0s 4ms/step - loss: 0.1082 - acc: 0.9286\n",
      "Epoch 494/500\n",
      "14/14 [==============================] - 0s 4ms/step - loss: 0.1111 - acc: 0.8571\n",
      "Epoch 495/500\n",
      "14/14 [==============================] - 0s 4ms/step - loss: 0.1088 - acc: 0.9286\n",
      "Epoch 496/500\n",
      "14/14 [==============================] - 0s 5ms/step - loss: 0.1123 - acc: 0.8571\n",
      "Epoch 497/500\n",
      "14/14 [==============================] - 0s 4ms/step - loss: 0.1089 - acc: 0.9286\n",
      "Epoch 498/500\n",
      "14/14 [==============================] - 0s 4ms/step - loss: 0.1100 - acc: 0.8571\n",
      "Epoch 499/500\n",
      "14/14 [==============================] - 0s 4ms/step - loss: 0.1105 - acc: 0.8571\n",
      "Epoch 500/500\n",
      "14/14 [==============================] - 0s 3ms/step - loss: 0.1114 - acc: 0.8571\n"
     ]
    },
    {
     "data": {
      "text/plain": [
       "<keras.callbacks.History at 0x116d83710>"
      ]
     },
     "execution_count": 30,
     "metadata": {},
     "output_type": "execute_result"
    }
   ],
   "source": [
    "model_2.compile(optimizer='adam', loss='categorical_crossentropy', metrics=['accuracy'])\n",
    "plot_losses = PlotLosses(plot_interval=10, evaluate_interval=None)\n",
    "model_2.fit(X_2,y_2, epochs=500, batch_size=1, verbose=1, callbacks=[plot_losses])"
   ]
  },
  {
   "cell_type": "markdown",
   "metadata": {},
   "source": [
    "### Matriz de transición"
   ]
  },
  {
   "cell_type": "code",
   "execution_count": 31,
   "metadata": {},
   "outputs": [
    {
     "name": "stdout",
     "output_type": "stream",
     "text": [
      "(14, 11)\n",
      "           A     C     E     G     H     I     L     M     N     R     \n",
      "MA [ 0.    0.    0.99  0.    0.    0.    0.    0.    0.    0.    0.  ] C\n",
      "AC [ 0.    0.    0.    0.    0.    0.99  0.    0.    0.    0.    0.  ] H\n",
      "CH [ 0.    0.    0.    0.    0.    0.    0.99  0.    0.    0.    0.  ] I\n",
      "HI [ 0.    0.    0.    0.    0.    0.    0.    0.    0.    0.99  0.  ] N\n",
      "IN [ 0.    0.    0.    0.47  0.5   0.    0.    0.    0.    0.    0.  ] G\n",
      "NE [ 0.99  0.    0.    0.    0.    0.    0.    0.    0.    0.    0.  ]  \n",
      "E  [ 0.    0.    0.    0.    0.    0.    0.    0.99  0.    0.    0.  ] L\n",
      " L [ 0.    0.    0.    0.98  0.    0.    0.    0.    0.    0.    0.  ] E\n",
      "LE [ 0.    0.99  0.    0.    0.    0.    0.    0.    0.    0.    0.  ] A\n",
      "EA [ 0.    0.    0.    0.    0.    0.    0.    0.    0.    0.    0.98] R\n",
      "AR [ 0.    0.    0.    0.    0.    0.    0.    0.    0.    0.99  0.  ] N\n",
      "RN [ 0.    0.    0.    0.    0.    0.    0.99  0.    0.    0.    0.  ] I\n",
      "NI [ 0.    0.    0.    0.    0.    0.    0.    0.    0.    0.99  0.  ] N\n",
      "IN [ 0.    0.    0.    0.47  0.5   0.    0.    0.    0.    0.    0.  ] G\n"
     ]
    }
   ],
   "source": [
    "predicted = model_2.predict(X_2)\n",
    "print(predicted.shape)\n",
    "print('     ', end='')\n",
    "for c in chars_to_indices.keys():\n",
    "    print(c, end='     ')\n",
    "print()\n",
    "for i, row in enumerate(predicted):\n",
    "    print(indices_to_chars[np.argmax(X_2[i, :][0])]+indices_to_chars[np.argmax(X_2[i, :][1])], (row*100).astype(int)/100, indices_to_chars[np.argmax(row)])"
   ]
  },
  {
   "cell_type": "markdown",
   "metadata": {},
   "source": [
    "Notar que NI todavía no se puede predecir debido a la ambiguedad"
   ]
  },
  {
   "cell_type": "markdown",
   "metadata": {},
   "source": [
    "- Como es de esperar la predicción mejora notablemente\n",
    "- La cantidad de parametros de la red no cambia respecto a la anterior\n",
    "- Que pasa si lo implemento con MLP con la cantidad de parámetros?"
   ]
  },
  {
   "cell_type": "markdown",
   "metadata": {},
   "source": [
    "## Ejemplo 3: T = 3"
   ]
  },
  {
   "cell_type": "markdown",
   "metadata": {},
   "source": [
    "### Preparo entrada/salida"
   ]
  },
  {
   "cell_type": "code",
   "execution_count": 32,
   "metadata": {},
   "outputs": [
    {
     "name": "stdout",
     "output_type": "stream",
     "text": [
      "MAC -> H\n",
      "ACH -> I\n",
      "CHI -> N\n",
      "HIN -> E\n",
      "INE ->  \n",
      "NE  -> L\n",
      "E L -> E\n",
      " LE -> A\n",
      "LEA -> R\n",
      "EAR -> N\n",
      "ARN -> I\n",
      "RNI -> N\n",
      "NIN -> G\n"
     ]
    }
   ],
   "source": [
    "window_size = 3\n",
    "x_3_t, y_3_t = window_transform_text(text, window_size, step_size)\n",
    "for i, te in enumerate(x_3_t):\n",
    "    print(te, '->' ,y_3_t[i])\n",
    "#print(x_2_t, y_2_t)\n",
    "X_3, y_3 = encode_io_pairs(text, chars, window_size, step_size)"
   ]
  },
  {
   "cell_type": "markdown",
   "metadata": {},
   "source": [
    "### Armo modelo"
   ]
  },
  {
   "cell_type": "code",
   "execution_count": 33,
   "metadata": {},
   "outputs": [
    {
     "name": "stdout",
     "output_type": "stream",
     "text": [
      "_________________________________________________________________\n",
      "Layer (type)                 Output Shape              Param #   \n",
      "=================================================================\n",
      "simple_rnn_3 (SimpleRNN)     (None, 10)                220       \n",
      "_________________________________________________________________\n",
      "dense_3 (Dense)              (None, 11)                121       \n",
      "=================================================================\n",
      "Total params: 341\n",
      "Trainable params: 341\n",
      "Non-trainable params: 0\n",
      "_________________________________________________________________\n"
     ]
    }
   ],
   "source": [
    "model_3 = Sequential()\n",
    "model_3.add(SimpleRNN(10, input_shape=(window_size,len(chars))))\n",
    "model_3.add(Dense(len(chars), activation=\"softmax\"))\n",
    "model_3.summary()"
   ]
  },
  {
   "cell_type": "markdown",
   "metadata": {},
   "source": [
    "### Entreno modelo"
   ]
  },
  {
   "cell_type": "markdown",
   "metadata": {},
   "source": [
    "Cambiar batch_size y verificar que converge de la misma manera"
   ]
  },
  {
   "cell_type": "code",
   "execution_count": 34,
   "metadata": {},
   "outputs": [
    {
     "data": {
      "image/png": "[encoded data removed]",
      "text/plain": [
       "<matplotlib.figure.Figure at 0x11789b5f8>"
      ]
     },
     "metadata": {},
     "output_type": "display_data"
    },
    {
     "name": "stdout",
     "output_type": "stream",
     "text": [
      "13/13 [==============================] - 0s 31ms/step - loss: 0.0592 - acc: 1.0000\n",
      "Epoch 492/500\n",
      "13/13 [==============================] - 0s 2ms/step - loss: 0.0589 - acc: 1.0000\n",
      "Epoch 493/500\n",
      "13/13 [==============================] - 0s 1ms/step - loss: 0.0586 - acc: 1.0000\n",
      "Epoch 494/500\n",
      "13/13 [==============================] - 0s 1ms/step - loss: 0.0583 - acc: 1.0000\n",
      "Epoch 495/500\n",
      "13/13 [==============================] - 0s 1ms/step - loss: 0.0581 - acc: 1.0000\n",
      "Epoch 496/500\n",
      "13/13 [==============================] - 0s 1ms/step - loss: 0.0578 - acc: 1.0000\n",
      "Epoch 497/500\n",
      "13/13 [==============================] - 0s 1ms/step - loss: 0.0575 - acc: 1.0000\n",
      "Epoch 498/500\n",
      "13/13 [==============================] - 0s 2ms/step - loss: 0.0573 - acc: 1.0000\n",
      "Epoch 499/500\n",
      "13/13 [==============================] - 0s 2ms/step - loss: 0.0570 - acc: 1.0000\n",
      "Epoch 500/500\n",
      "13/13 [==============================] - 0s 1ms/step - loss: 0.0568 - acc: 1.0000\n"
     ]
    },
    {
     "data": {
      "text/plain": [
       "<keras.callbacks.History at 0x1168bae80>"
      ]
     },
     "execution_count": 34,
     "metadata": {},
     "output_type": "execute_result"
    }
   ],
   "source": [
    "model_3.compile(optimizer='adam', loss='categorical_crossentropy', metrics=['accuracy'])\n",
    "plot_losses = PlotLosses(plot_interval=10, evaluate_interval=None)\n",
    "model_3.fit(X_3,y_3, epochs=500, batch_size=4, verbose=1, callbacks=[plot_losses])"
   ]
  },
  {
   "cell_type": "markdown",
   "metadata": {},
   "source": [
    "- Como funciona la RNN con un batch size mayor que 1?\n",
    "- En que momento se resetea el estado?\n",
    "- Que dimensión tendrá el vector de estados durante el entrenamiento?"
   ]
  },
  {
   "cell_type": "markdown",
   "metadata": {},
   "source": [
    "### Matriz de transición"
   ]
  },
  {
   "cell_type": "code",
   "execution_count": 37,
   "metadata": {},
   "outputs": [
    {
     "name": "stdout",
     "output_type": "stream",
     "text": [
      "(13, 11)\n",
      "           A     C     E     G     H     I     L     M     N     R     \n",
      "MAC [ 0.01  0.    0.    0.    0.    0.94  0.    0.02  0.    0.    0.  ] H\n",
      "ACH [ 0.    0.    0.    0.    0.    0.    0.96  0.    0.    0.01  0.  ] I\n",
      "CHI [ 0.    0.    0.    0.    0.    0.    0.    0.    0.    0.97  0.  ] N\n",
      "HIN [ 0.    0.    0.    0.96  0.01  0.    0.    0.    0.    0.    0.01] E\n",
      "INE [ 0.92  0.    0.    0.02  0.    0.02  0.    0.    0.    0.    0.  ]  \n",
      "NE  [ 0.    0.    0.    0.    0.02  0.02  0.01  0.92  0.    0.01  0.  ] L\n",
      "E L [ 0.01  0.    0.    0.93  0.    0.    0.    0.    0.    0.    0.02] E\n",
      " LE [ 0.01  0.93  0.    0.    0.    0.    0.    0.    0.    0.    0.03] A\n",
      "LEA [ 0.    0.02  0.    0.04  0.01  0.    0.    0.    0.    0.    0.88] R\n",
      "EAR [ 0.    0.    0.    0.    0.    0.    0.    0.    0.    0.96  0.  ] N\n",
      "ARN [ 0.    0.    0.    0.    0.    0.    0.95  0.    0.    0.01  0.  ] I\n",
      "RNI [ 0.    0.    0.    0.    0.    0.    0.    0.    0.    0.98  0.  ] N\n",
      "NIN [ 0.    0.    0.    0.01  0.93  0.    0.    0.03  0.    0.    0.  ] G\n"
     ]
    }
   ],
   "source": [
    "predicted = model_3.predict(X_3)\n",
    "print(predicted.shape)\n",
    "print('     ', end='')\n",
    "for c in chars_to_indices.keys():\n",
    "    print(c, end='     ')\n",
    "print()\n",
    "for i, row in enumerate(predicted):\n",
    "    print(indices_to_chars[np.argmax(X_3[i, :][0])]+\n",
    "          indices_to_chars[np.argmax(X_3[i, :][1])]+\n",
    "          indices_to_chars[np.argmax(X_3[i, :][2])], \n",
    "          (row*100).astype(int)/100, indices_to_chars[np.argmax(row)])"
   ]
  },
  {
   "cell_type": "markdown",
   "metadata": {},
   "source": [
    "- Las probabilidades son practicamente 1\n",
    "- La cantidad de parametros de la red no cambia respecto a la anterior\n",
    "- Que pasa si lo implemento con MLP con la cantidad de parámetros?"
   ]
  },
  {
   "cell_type": "markdown",
   "metadata": {},
   "source": [
    "### Redefino Modelo con pesos aprendidos pero statefull"
   ]
  },
  {
   "cell_type": "code",
   "execution_count": 43,
   "metadata": {},
   "outputs": [
    {
     "name": "stdout",
     "output_type": "stream",
     "text": [
      "_________________________________________________________________\n",
      "Layer (type)                 Output Shape              Param #   \n",
      "=================================================================\n",
      "simple_rnn_5 (SimpleRNN)     (1, 10)                   220       \n",
      "_________________________________________________________________\n",
      "dense_5 (Dense)              (1, 11)                   121       \n",
      "=================================================================\n",
      "Total params: 341\n",
      "Trainable params: 341\n",
      "Non-trainable params: 0\n",
      "_________________________________________________________________\n"
     ]
    }
   ],
   "source": [
    "batch_size=1\n",
    "model_3s = Sequential()\n",
    "model_3s.add(SimpleRNN(10, batch_input_shape=(batch_size,1,len(chars)), stateful=True))\n",
    "model_3s.add(Dense(len(chars), activation=\"softmax\"))\n",
    "model_3s.summary()\n",
    "model_3s.set_weights(model_3.get_weights())"
   ]
  },
  {
   "cell_type": "code",
   "execution_count": 44,
   "metadata": {},
   "outputs": [
    {
     "name": "stdout",
     "output_type": "stream",
     "text": [
      "char de entrada: M\n",
      "         A     C     E     G     H     I     L     M     N     R     \n",
      "[[ 0.09  0.14  0.    0.21  0.02  0.02  0.23  0.01  0.01  0.03  0.19]]\n",
      "char predicted: I\n"
     ]
    }
   ],
   "source": [
    "window_size=1\n",
    "model_3s.reset_states()\n",
    "input_char = text[0]\n",
    "print('char de entrada:',input_char)\n",
    "to_predict = chars_to_one_hot(input_char, chars, chars_to_indices, window_size)*1\n",
    "predicted = model_3s.predict(to_predict)\n",
    "print('   ', end='')\n",
    "for c in chars_to_indices.keys():\n",
    "    print(c, end='     ')\n",
    "print()\n",
    "print((predicted*100).astype(int)/100)\n",
    "print('char predicted:', indices_to_chars[np.argmax(predicted[0])])"
   ]
  },
  {
   "cell_type": "markdown",
   "metadata": {},
   "source": [
    "Notar que con un solo caracter ingresado, no tiene suficiente data para predecir (Ningun caracter tiene alta probabilidad)"
   ]
  },
  {
   "cell_type": "code",
   "execution_count": 45,
   "metadata": {},
   "outputs": [
    {
     "name": "stdout",
     "output_type": "stream",
     "text": [
      "char de entrada: A\n",
      "         A     C     E     G     H     I     L     M     N     R     \n",
      "[[ 0.03  0.24  0.04  0.06  0.17  0.02  0.    0.    0.05  0.08  0.26]]\n",
      "char predicted: R\n"
     ]
    }
   ],
   "source": [
    "input_char = text[1]\n",
    "print('char de entrada:',input_char)\n",
    "to_predict = chars_to_one_hot(input_char, chars, chars_to_indices, window_size)*1\n",
    "predicted = model_3s.predict(to_predict)\n",
    "print('   ', end='')\n",
    "for c in chars_to_indices.keys():\n",
    "    print(c, end='     ')\n",
    "print()\n",
    "print((predicted*100).astype(int)/100)\n",
    "print('char predicted:', indices_to_chars[np.argmax(predicted[0])])"
   ]
  },
  {
   "cell_type": "markdown",
   "metadata": {},
   "source": [
    "la predicción no tiene por que ser correcta a esta altura debido a que el modelo nunca fue entrenado con la secuencia ingresada"
   ]
  },
  {
   "cell_type": "code",
   "execution_count": 46,
   "metadata": {},
   "outputs": [
    {
     "name": "stdout",
     "output_type": "stream",
     "text": [
      "char de entrada: C\n",
      "         A     C     E     G     H     I     L     M     N     R     \n",
      "[[ 0.01  0.    0.    0.    0.    0.94  0.    0.02  0.    0.    0.  ]]\n",
      "char predicted: H\n"
     ]
    }
   ],
   "source": [
    "input_char = text[2]\n",
    "print('char de entrada:',input_char)\n",
    "to_predict = chars_to_one_hot(input_char, chars, chars_to_indices, window_size)*1\n",
    "predicted = model_3s.predict(to_predict)\n",
    "print('   ', end='')\n",
    "for c in chars_to_indices.keys():\n",
    "    print(c, end='     ')\n",
    "print()\n",
    "print((predicted*100).astype(int)/100)\n",
    "print('char predicted:', indices_to_chars[np.argmax(predicted[0])])"
   ]
  },
  {
   "cell_type": "markdown",
   "metadata": {},
   "source": [
    "Notar que luego de la tercer predicción el modelo predice casi perfectamente"
   ]
  },
  {
   "cell_type": "code",
   "execution_count": 47,
   "metadata": {},
   "outputs": [
    {
     "name": "stdout",
     "output_type": "stream",
     "text": [
      "char de entrada: H\n",
      "         A     C     E     G     H     I     L     M     N     R     \n",
      "[[ 0.01  0.01  0.    0.    0.    0.07  0.06  0.79  0.    0.01  0.  ]]\n",
      "char predicted: L\n"
     ]
    }
   ],
   "source": [
    "input_char = text[3]\n",
    "print('char de entrada:',input_char)\n",
    "to_predict = chars_to_one_hot(input_char, chars, chars_to_indices, window_size)*1\n",
    "predicted = model_3s.predict(to_predict)\n",
    "print('   ', end='')\n",
    "for c in chars_to_indices.keys():\n",
    "    print(c, end='     ')\n",
    "print()\n",
    "print((predicted*100).astype(int)/100)\n",
    "print('char predicted:', indices_to_chars[np.argmax(predicted[0])])"
   ]
  },
  {
   "cell_type": "markdown",
   "metadata": {},
   "source": [
    "Notar como suele bajar la probabilidad de la predicción debido a que el modelo no tiene por que predecir secuencias mayores a la longitud entrenada (Aunque en ciertas circunstancias podría generalizar)"
   ]
  },
  {
   "cell_type": "code",
   "execution_count": 48,
   "metadata": {},
   "outputs": [
    {
     "name": "stdout",
     "output_type": "stream",
     "text": [
      "char de entrada: I\n",
      "         A     C     E     G     H     I     L     M     N     R     \n",
      "[[ 0.    0.02  0.    0.01  0.    0.    0.7   0.08  0.    0.11  0.03]]\n",
      "char predicted: I\n"
     ]
    }
   ],
   "source": [
    "input_char = text[4]\n",
    "print('char de entrada:',input_char)\n",
    "to_predict = chars_to_one_hot(input_char, chars, chars_to_indices, window_size)*1\n",
    "predicted = model_3s.predict(to_predict)\n",
    "print('   ', end='')\n",
    "for c in chars_to_indices.keys():\n",
    "    print(c, end='     ')\n",
    "print()\n",
    "print((predicted*100).astype(int)/100)\n",
    "print('char predicted:', indices_to_chars[np.argmax(predicted[0])])"
   ]
  },
  {
   "cell_type": "code",
   "execution_count": 49,
   "metadata": {},
   "outputs": [
    {
     "name": "stdout",
     "output_type": "stream",
     "text": [
      "char de entrada: N\n",
      "         A     C     E     G     H     I     L     M     N     R     \n",
      "[[ 0.    0.    0.    0.91  0.01  0.    0.    0.    0.    0.    0.05]]\n",
      "char predicted: E\n"
     ]
    }
   ],
   "source": [
    "input_char = text[5]\n",
    "print('char de entrada:',input_char)\n",
    "to_predict = chars_to_one_hot(input_char, chars, chars_to_indices, window_size)*1\n",
    "predicted = model_3s.predict(to_predict)\n",
    "print('   ', end='')\n",
    "for c in chars_to_indices.keys():\n",
    "    print(c, end='     ')\n",
    "print()\n",
    "print((predicted*100).astype(int)/100)\n",
    "print('char predicted:', indices_to_chars[np.argmax(predicted[0])])"
   ]
  },
  {
   "cell_type": "markdown",
   "metadata": {},
   "source": [
    "Ya a esta altura estoy tratando de predecir algo probablemente demasiado lejano y no lo puede predecir correctamente"
   ]
  },
  {
   "cell_type": "markdown",
   "metadata": {},
   "source": [
    "Por eso, si quiero predecir una nueva secuencia de tres, tengo que resetear el estado y luego  mandar de a un caracter"
   ]
  },
  {
   "cell_type": "code",
   "execution_count": 50,
   "metadata": {},
   "outputs": [
    {
     "name": "stdout",
     "output_type": "stream",
     "text": [
      "char de entrada: H\n",
      "         A     C     E     G     H     I     L     M     N     R     \n",
      "[[ 0.08  0.    0.    0.07  0.    0.01  0.58  0.02  0.    0.13  0.04]]\n",
      "char predicted: I\n"
     ]
    }
   ],
   "source": [
    "model_3s.reset_states()\n",
    "input_char = text[3]\n",
    "print('char de entrada:',input_char)\n",
    "to_predict = chars_to_one_hot(input_char, chars, chars_to_indices, window_size)*1\n",
    "predicted = model_3s.predict(to_predict)\n",
    "print('   ', end='')\n",
    "for c in chars_to_indices.keys():\n",
    "    print(c, end='     ')\n",
    "print()\n",
    "print((predicted*100).astype(int)/100)\n",
    "print('char predicted:', indices_to_chars[np.argmax(predicted[0])])"
   ]
  },
  {
   "cell_type": "code",
   "execution_count": 51,
   "metadata": {},
   "outputs": [
    {
     "name": "stdout",
     "output_type": "stream",
     "text": [
      "char de entrada: I\n",
      "         A     C     E     G     H     I     L     M     N     R     \n",
      "[[ 0.    0.    0.    0.02  0.    0.    0.04  0.    0.    0.89  0.01]]\n",
      "char predicted: N\n"
     ]
    }
   ],
   "source": [
    "input_char = text[4]\n",
    "print('char de entrada:',input_char)\n",
    "to_predict = chars_to_one_hot(input_char, chars, chars_to_indices, window_size)*1\n",
    "predicted = model_3s.predict(to_predict)\n",
    "print('   ', end='')\n",
    "for c in chars_to_indices.keys():\n",
    "    print(c, end='     ')\n",
    "print()\n",
    "print((predicted*100).astype(int)/100)\n",
    "print('char predicted:', indices_to_chars[np.argmax(predicted[0])])"
   ]
  },
  {
   "cell_type": "code",
   "execution_count": 52,
   "metadata": {},
   "outputs": [
    {
     "name": "stdout",
     "output_type": "stream",
     "text": [
      "char de entrada: N\n",
      "         A     C     E     G     H     I     L     M     N     R     \n",
      "[[ 0.    0.    0.    0.96  0.01  0.    0.    0.    0.    0.    0.01]]\n",
      "char predicted: E\n"
     ]
    }
   ],
   "source": [
    "input_char = text[5]\n",
    "print('char de entrada:',input_char)\n",
    "to_predict = chars_to_one_hot(input_char, chars, chars_to_indices, window_size)*1\n",
    "predicted = model_3s.predict(to_predict)\n",
    "print('   ', end='')\n",
    "for c in chars_to_indices.keys():\n",
    "    print(c, end='     ')\n",
    "print()\n",
    "print((predicted*100).astype(int)/100)\n",
    "print('char predicted:', indices_to_chars[np.argmax(predicted[0])])"
   ]
  },
  {
   "cell_type": "markdown",
   "metadata": {},
   "source": [
    "Notar que aca tiene una predicción muy alta debido a que esta secuencia fue vista por el modelo"
   ]
  },
  {
   "cell_type": "markdown",
   "metadata": {},
   "source": [
    "Conclusión importante:  \n",
    "Si puede usar la statefull para predecir, pero hay que alimentar con el largo orignal de la secuencia para que la salida empiece a tener sentido"
   ]
  },
  {
   "cell_type": "markdown",
   "metadata": {},
   "source": [
    "## Ejemplo 4: Stateful RNN\n",
    "Entreno en modo stateful"
   ]
  },
  {
   "cell_type": "code",
   "execution_count": 53,
   "metadata": {},
   "outputs": [
    {
     "data": {
      "text/plain": [
       "(['M', 'A', 'C', 'H', 'I', 'N', 'E', ' ', 'L', 'E', 'A', 'R', 'N', 'I', 'N'],\n",
       " ['A', 'C', 'H', 'I', 'N', 'E', ' ', 'L', 'E', 'A', 'R', 'N', 'I', 'N', 'G'])"
      ]
     },
     "execution_count": 53,
     "metadata": {},
     "output_type": "execute_result"
    }
   ],
   "source": [
    "window_transform_text(text, 1, 1)"
   ]
  },
  {
   "cell_type": "code",
   "execution_count": 54,
   "metadata": {},
   "outputs": [
    {
     "name": "stdout",
     "output_type": "stream",
     "text": [
      "_________________________________________________________________\n",
      "Layer (type)                 Output Shape              Param #   \n",
      "=================================================================\n",
      "simple_rnn_6 (SimpleRNN)     (1, 10)                   220       \n",
      "_________________________________________________________________\n",
      "dense_6 (Dense)              (1, 11)                   121       \n",
      "=================================================================\n",
      "Total params: 341\n",
      "Trainable params: 341\n",
      "Non-trainable params: 0\n",
      "_________________________________________________________________\n"
     ]
    }
   ],
   "source": [
    "batch_size=1\n",
    "model_4 = Sequential()\n",
    "model_4.add(SimpleRNN(10, batch_input_shape=(batch_size,1,len(chars)), stateful=True))\n",
    "model_4.add(Dense(len(chars), activation=\"softmax\"))\n",
    "model_4.summary()"
   ]
  },
  {
   "cell_type": "markdown",
   "metadata": {},
   "source": [
    "- Notar que X e y son los mismos que en el caso T = 1"
   ]
  },
  {
   "cell_type": "code",
   "execution_count": 55,
   "metadata": {},
   "outputs": [
    {
     "data": {
      "text/plain": [
       "((15, 1, 11), (15, 11))"
      ]
     },
     "execution_count": 55,
     "metadata": {},
     "output_type": "execute_result"
    }
   ],
   "source": [
    "X.shape, y.shape"
   ]
  },
  {
   "cell_type": "code",
   "execution_count": 56,
   "metadata": {},
   "outputs": [],
   "source": [
    "batch_size = 1"
   ]
  },
  {
   "cell_type": "markdown",
   "metadata": {},
   "source": [
    "### Observar: shuffle=False y stateful=True\n",
    "- Puedo usar otro batch size en este caso?\n",
    "- Por que suffle tiene que estar en false?"
   ]
  },
  {
   "cell_type": "code",
   "execution_count": 57,
   "metadata": {},
   "outputs": [
    {
     "name": "stdout",
     "output_type": "stream",
     "text": [
      "Epoch 1/1\n",
      "15/15 [==============================] - 0s 19ms/step - loss: 2.6444 - acc: 0.0000e+00\n",
      "Epoch 1/1\n",
      "15/15 [==============================] - 0s 4ms/step - loss: 2.6166 - acc: 0.0000e+00\n",
      "Epoch 1/1\n",
      "15/15 [==============================] - 0s 4ms/step - loss: 2.5924 - acc: 0.0000e+00\n",
      "Epoch 1/1\n",
      "15/15 [==============================] - 0s 4ms/step - loss: 2.5705 - acc: 0.0000e+00\n",
      "Epoch 1/1\n",
      "15/15 [==============================] - 0s 4ms/step - loss: 2.5495 - acc: 0.0667\n",
      "Epoch 1/1\n",
      "15/15 [==============================] - 0s 3ms/step - loss: 2.5290 - acc: 0.0667\n",
      "Epoch 1/1\n",
      "15/15 [==============================] - 0s 4ms/step - loss: 2.5089 - acc: 0.0667\n",
      "Epoch 1/1\n",
      "15/15 [==============================] - 0s 3ms/step - loss: 2.4876 - acc: 0.0667\n",
      "Epoch 1/1\n",
      "15/15 [==============================] - 0s 4ms/step - loss: 2.4678 - acc: 0.1333\n",
      "Epoch 1/1\n",
      "15/15 [==============================] - 0s 3ms/step - loss: 2.4478 - acc: 0.1333\n",
      "Epoch 1/1\n",
      "15/15 [==============================] - 0s 3ms/step - loss: 2.4288 - acc: 0.1333\n",
      "Epoch 1/1\n",
      "15/15 [==============================] - 0s 3ms/step - loss: 2.4100 - acc: 0.1333\n",
      "Epoch 1/1\n",
      "15/15 [==============================] - 0s 3ms/step - loss: 2.3910 - acc: 0.1333\n",
      "Epoch 1/1\n",
      "15/15 [==============================] - 0s 3ms/step - loss: 2.3723 - acc: 0.1333\n",
      "Epoch 1/1\n",
      "15/15 [==============================] - 0s 3ms/step - loss: 2.3537 - acc: 0.1333\n",
      "Epoch 1/1\n",
      "15/15 [==============================] - 0s 3ms/step - loss: 2.3352 - acc: 0.1333\n",
      "Epoch 1/1\n",
      "15/15 [==============================] - 0s 4ms/step - loss: 2.3168 - acc: 0.1333\n",
      "Epoch 1/1\n",
      "15/15 [==============================] - 0s 3ms/step - loss: 2.2984 - acc: 0.1333\n",
      "Epoch 1/1\n",
      "15/15 [==============================] - 0s 3ms/step - loss: 2.2802 - acc: 0.1333\n",
      "Epoch 1/1\n",
      "15/15 [==============================] - 0s 4ms/step - loss: 2.2619 - acc: 0.2000\n",
      "Epoch 1/1\n",
      "15/15 [==============================] - 0s 3ms/step - loss: 2.2438 - acc: 0.2000\n",
      "Epoch 1/1\n",
      "15/15 [==============================] - 0s 4ms/step - loss: 2.2257 - acc: 0.2667\n",
      "Epoch 1/1\n",
      "15/15 [==============================] - 0s 3ms/step - loss: 2.2076 - acc: 0.2667\n",
      "Epoch 1/1\n",
      "15/15 [==============================] - 0s 3ms/step - loss: 2.1896 - acc: 0.2667\n",
      "Epoch 1/1\n",
      "15/15 [==============================] - 0s 3ms/step - loss: 2.1718 - acc: 0.2667\n",
      "Epoch 1/1\n",
      "15/15 [==============================] - 0s 3ms/step - loss: 2.1540 - acc: 0.2667\n",
      "Epoch 1/1\n",
      "15/15 [==============================] - 0s 3ms/step - loss: 2.1363 - acc: 0.3333\n",
      "Epoch 1/1\n",
      "15/15 [==============================] - 0s 3ms/step - loss: 2.1186 - acc: 0.3333\n",
      "Epoch 1/1\n",
      "15/15 [==============================] - 0s 3ms/step - loss: 2.1015 - acc: 0.3333\n",
      "Epoch 1/1\n",
      "15/15 [==============================] - 0s 3ms/step - loss: 2.0843 - acc: 0.3333\n",
      "Epoch 1/1\n",
      "15/15 [==============================] - 0s 3ms/step - loss: 2.0672 - acc: 0.3333\n",
      "Epoch 1/1\n",
      "15/15 [==============================] - 0s 3ms/step - loss: 2.0470 - acc: 0.3333\n",
      "Epoch 1/1\n",
      "15/15 [==============================] - 0s 4ms/step - loss: 2.0292 - acc: 0.3333\n",
      "Epoch 1/1\n",
      "15/15 [==============================] - 0s 3ms/step - loss: 2.0116 - acc: 0.3333\n",
      "Epoch 1/1\n",
      "15/15 [==============================] - 0s 3ms/step - loss: 1.9935 - acc: 0.4000\n",
      "Epoch 1/1\n",
      "15/15 [==============================] - 0s 4ms/step - loss: 1.9776 - acc: 0.4000\n",
      "Epoch 1/1\n",
      "15/15 [==============================] - 0s 3ms/step - loss: 1.9620 - acc: 0.4000\n",
      "Epoch 1/1\n",
      "15/15 [==============================] - 0s 3ms/step - loss: 1.9467 - acc: 0.4667\n",
      "Epoch 1/1\n",
      "15/15 [==============================] - 0s 3ms/step - loss: 1.9315 - acc: 0.4667\n",
      "Epoch 1/1\n",
      "15/15 [==============================] - 0s 3ms/step - loss: 1.9167 - acc: 0.4667\n",
      "Epoch 1/1\n",
      "15/15 [==============================] - 0s 3ms/step - loss: 1.9021 - acc: 0.4667\n",
      "Epoch 1/1\n",
      "15/15 [==============================] - 0s 2ms/step - loss: 1.8879 - acc: 0.4667\n",
      "Epoch 1/1\n",
      "15/15 [==============================] - 0s 3ms/step - loss: 1.8726 - acc: 0.4667\n",
      "Epoch 1/1\n",
      "15/15 [==============================] - 0s 2ms/step - loss: 1.8583 - acc: 0.4667\n",
      "Epoch 1/1\n",
      "15/15 [==============================] - 0s 3ms/step - loss: 1.8448 - acc: 0.4667\n",
      "Epoch 1/1\n",
      "15/15 [==============================] - 0s 3ms/step - loss: 1.8315 - acc: 0.4667\n",
      "Epoch 1/1\n",
      "15/15 [==============================] - 0s 2ms/step - loss: 1.8164 - acc: 0.4667\n",
      "Epoch 1/1\n",
      "15/15 [==============================] - 0s 2ms/step - loss: 1.8031 - acc: 0.4667\n",
      "Epoch 1/1\n",
      "15/15 [==============================] - 0s 2ms/step - loss: 1.7894 - acc: 0.4667\n",
      "Epoch 1/1\n",
      "15/15 [==============================] - 0s 2ms/step - loss: 1.7753 - acc: 0.4667\n",
      "Epoch 1/1\n",
      "15/15 [==============================] - 0s 2ms/step - loss: 1.7624 - acc: 0.4667\n",
      "Epoch 1/1\n",
      "15/15 [==============================] - 0s 2ms/step - loss: 1.7494 - acc: 0.4667\n",
      "Epoch 1/1\n",
      "15/15 [==============================] - 0s 3ms/step - loss: 1.7355 - acc: 0.4667\n",
      "Epoch 1/1\n",
      "15/15 [==============================] - 0s 2ms/step - loss: 1.7238 - acc: 0.4667\n",
      "Epoch 1/1\n",
      "15/15 [==============================] - 0s 3ms/step - loss: 1.7111 - acc: 0.4667\n",
      "Epoch 1/1\n",
      "15/15 [==============================] - 0s 2ms/step - loss: 1.6982 - acc: 0.4667\n",
      "Epoch 1/1\n",
      "15/15 [==============================] - 0s 3ms/step - loss: 1.6860 - acc: 0.4667\n",
      "Epoch 1/1\n",
      "15/15 [==============================] - 0s 3ms/step - loss: 1.6743 - acc: 0.5333\n",
      "Epoch 1/1\n",
      "15/15 [==============================] - 0s 3ms/step - loss: 1.6612 - acc: 0.5333\n",
      "Epoch 1/1\n",
      "15/15 [==============================] - 0s 2ms/step - loss: 1.6493 - acc: 0.6000\n",
      "Epoch 1/1\n",
      "15/15 [==============================] - 0s 3ms/step - loss: 1.6377 - acc: 0.6000\n",
      "Epoch 1/1\n",
      "15/15 [==============================] - 0s 2ms/step - loss: 1.6263 - acc: 0.6000\n",
      "Epoch 1/1\n",
      "15/15 [==============================] - 0s 3ms/step - loss: 1.6130 - acc: 0.6000\n",
      "Epoch 1/1\n",
      "15/15 [==============================] - 0s 2ms/step - loss: 1.5986 - acc: 0.6000\n",
      "Epoch 1/1\n",
      "15/15 [==============================] - 0s 3ms/step - loss: 1.5820 - acc: 0.6000\n",
      "Epoch 1/1\n",
      "15/15 [==============================] - 0s 2ms/step - loss: 1.5699 - acc: 0.6000\n",
      "Epoch 1/1\n",
      "15/15 [==============================] - 0s 3ms/step - loss: 1.5588 - acc: 0.6000\n",
      "Epoch 1/1\n",
      "15/15 [==============================] - 0s 2ms/step - loss: 1.5481 - acc: 0.6000\n",
      "Epoch 1/1\n",
      "15/15 [==============================] - 0s 2ms/step - loss: 1.5376 - acc: 0.6000\n",
      "Epoch 1/1\n",
      "15/15 [==============================] - 0s 2ms/step - loss: 1.5273 - acc: 0.6000\n",
      "Epoch 1/1\n",
      "15/15 [==============================] - 0s 2ms/step - loss: 1.5150 - acc: 0.5333\n",
      "Epoch 1/1\n",
      "15/15 [==============================] - 0s 3ms/step - loss: 1.5043 - acc: 0.5333\n",
      "Epoch 1/1\n",
      "15/15 [==============================] - 0s 3ms/step - loss: 1.4940 - acc: 0.6000\n",
      "Epoch 1/1\n",
      "15/15 [==============================] - 0s 3ms/step - loss: 1.4838 - acc: 0.6000\n",
      "Epoch 1/1\n",
      "15/15 [==============================] - 0s 3ms/step - loss: 1.4739 - acc: 0.6000\n",
      "Epoch 1/1\n",
      "15/15 [==============================] - 0s 3ms/step - loss: 1.4640 - acc: 0.6667\n",
      "Epoch 1/1\n",
      "15/15 [==============================] - 0s 5ms/step - loss: 1.4543 - acc: 0.6667\n",
      "Epoch 1/1\n",
      "15/15 [==============================] - 0s 3ms/step - loss: 1.4448 - acc: 0.6667\n",
      "Epoch 1/1\n",
      "15/15 [==============================] - 0s 3ms/step - loss: 1.4355 - acc: 0.6667\n",
      "Epoch 1/1\n",
      "15/15 [==============================] - 0s 3ms/step - loss: 1.4264 - acc: 0.7333\n",
      "Epoch 1/1\n",
      "15/15 [==============================] - 0s 3ms/step - loss: 1.4174 - acc: 0.7333\n",
      "Epoch 1/1\n",
      "15/15 [==============================] - 0s 3ms/step - loss: 1.4086 - acc: 0.7333\n",
      "Epoch 1/1\n",
      "15/15 [==============================] - 0s 2ms/step - loss: 1.4001 - acc: 0.7333\n",
      "Epoch 1/1\n",
      "15/15 [==============================] - 0s 2ms/step - loss: 1.3918 - acc: 0.7333\n",
      "Epoch 1/1\n",
      "15/15 [==============================] - 0s 3ms/step - loss: 1.3836 - acc: 0.7333\n",
      "Epoch 1/1\n",
      "15/15 [==============================] - 0s 2ms/step - loss: 1.3745 - acc: 0.7333\n",
      "Epoch 1/1\n",
      "15/15 [==============================] - 0s 3ms/step - loss: 1.3629 - acc: 0.7333\n",
      "Epoch 1/1\n",
      "15/15 [==============================] - 0s 2ms/step - loss: 1.3535 - acc: 0.7333\n",
      "Epoch 1/1\n",
      "15/15 [==============================] - 0s 3ms/step - loss: 1.3369 - acc: 0.7333\n",
      "Epoch 1/1\n",
      "15/15 [==============================] - 0s 2ms/step - loss: 1.3248 - acc: 0.7333\n",
      "Epoch 1/1\n",
      "15/15 [==============================] - 0s 3ms/step - loss: 1.3087 - acc: 0.7333\n",
      "Epoch 1/1\n",
      "15/15 [==============================] - 0s 3ms/step - loss: 1.2961 - acc: 0.7333\n",
      "Epoch 1/1\n",
      "15/15 [==============================] - 0s 3ms/step - loss: 1.2877 - acc: 0.8000\n",
      "Epoch 1/1\n",
      "15/15 [==============================] - 0s 3ms/step - loss: 1.2802 - acc: 0.8000\n",
      "Epoch 1/1\n",
      "15/15 [==============================] - 0s 3ms/step - loss: 1.2719 - acc: 0.8000\n",
      "Epoch 1/1\n",
      "15/15 [==============================] - 0s 5ms/step - loss: 1.2614 - acc: 0.8000\n",
      "Epoch 1/1\n",
      "15/15 [==============================] - 0s 3ms/step - loss: 1.2528 - acc: 0.8000\n",
      "Epoch 1/1\n",
      "15/15 [==============================] - 0s 3ms/step - loss: 1.2450 - acc: 0.7333\n",
      "Epoch 1/1\n",
      "15/15 [==============================] - 0s 3ms/step - loss: 1.2381 - acc: 0.7333\n",
      "Epoch 1/1\n",
      "15/15 [==============================] - 0s 3ms/step - loss: 1.2308 - acc: 0.7333\n",
      "Epoch 1/1\n",
      "15/15 [==============================] - 0s 3ms/step - loss: 1.2238 - acc: 0.7333\n",
      "Epoch 1/1\n",
      "15/15 [==============================] - 0s 3ms/step - loss: 1.2164 - acc: 0.7333\n",
      "Epoch 1/1\n",
      "15/15 [==============================] - 0s 2ms/step - loss: 1.2058 - acc: 0.7333\n",
      "Epoch 1/1\n",
      "15/15 [==============================] - 0s 3ms/step - loss: 1.1975 - acc: 0.8000\n",
      "Epoch 1/1\n",
      "15/15 [==============================] - 0s 3ms/step - loss: 1.1895 - acc: 0.8000\n",
      "Epoch 1/1\n",
      "15/15 [==============================] - 0s 3ms/step - loss: 1.1814 - acc: 0.8000\n",
      "Epoch 1/1\n",
      "15/15 [==============================] - 0s 3ms/step - loss: 1.1728 - acc: 0.8000\n",
      "Epoch 1/1\n",
      "15/15 [==============================] - 0s 4ms/step - loss: 1.1640 - acc: 0.8000\n",
      "Epoch 1/1\n",
      "15/15 [==============================] - 0s 3ms/step - loss: 1.1547 - acc: 0.8000\n",
      "Epoch 1/1\n",
      "15/15 [==============================] - 0s 3ms/step - loss: 1.1451 - acc: 0.8000\n",
      "Epoch 1/1\n",
      "15/15 [==============================] - 0s 3ms/step - loss: 1.1352 - acc: 0.8000\n",
      "Epoch 1/1\n",
      "15/15 [==============================] - 0s 3ms/step - loss: 1.1251 - acc: 0.8000\n",
      "Epoch 1/1\n",
      "15/15 [==============================] - 0s 4ms/step - loss: 1.1150 - acc: 0.8667\n",
      "Epoch 1/1\n",
      "15/15 [==============================] - 0s 3ms/step - loss: 1.1047 - acc: 0.8667\n",
      "Epoch 1/1\n",
      "15/15 [==============================] - 0s 3ms/step - loss: 1.0946 - acc: 0.8000\n",
      "Epoch 1/1\n",
      "15/15 [==============================] - 0s 3ms/step - loss: 1.0803 - acc: 0.8000\n",
      "Epoch 1/1\n",
      "15/15 [==============================] - 0s 3ms/step - loss: 1.0693 - acc: 0.8000\n",
      "Epoch 1/1\n",
      "15/15 [==============================] - 0s 4ms/step - loss: 1.0594 - acc: 0.8000\n",
      "Epoch 1/1\n",
      "15/15 [==============================] - 0s 4ms/step - loss: 1.0496 - acc: 0.8000\n",
      "Epoch 1/1\n",
      "15/15 [==============================] - 0s 4ms/step - loss: 1.0397 - acc: 0.8000\n",
      "Epoch 1/1\n",
      "15/15 [==============================] - 0s 5ms/step - loss: 1.0298 - acc: 0.8000\n",
      "Epoch 1/1\n",
      "15/15 [==============================] - 0s 4ms/step - loss: 1.0198 - acc: 0.8000\n",
      "Epoch 1/1\n",
      "15/15 [==============================] - 0s 4ms/step - loss: 1.0097 - acc: 0.8000\n",
      "Epoch 1/1\n",
      "15/15 [==============================] - 0s 4ms/step - loss: 0.9998 - acc: 0.7333\n",
      "Epoch 1/1\n",
      "15/15 [==============================] - 0s 4ms/step - loss: 0.9900 - acc: 0.7333\n",
      "Epoch 1/1\n",
      "15/15 [==============================] - 0s 3ms/step - loss: 0.9806 - acc: 0.7333\n",
      "Epoch 1/1\n",
      "15/15 [==============================] - 0s 2ms/step - loss: 0.9709 - acc: 0.7333\n",
      "Epoch 1/1\n",
      "15/15 [==============================] - 0s 2ms/step - loss: 0.9624 - acc: 0.7333\n",
      "Epoch 1/1\n",
      "15/15 [==============================] - 0s 4ms/step - loss: 0.9536 - acc: 0.7333\n",
      "Epoch 1/1\n",
      "15/15 [==============================] - 0s 3ms/step - loss: 0.9414 - acc: 0.8000\n",
      "Epoch 1/1\n",
      "15/15 [==============================] - 0s 3ms/step - loss: 0.9307 - acc: 0.8000\n",
      "Epoch 1/1\n",
      "15/15 [==============================] - 0s 3ms/step - loss: 0.9217 - acc: 0.8000\n",
      "Epoch 1/1\n",
      "15/15 [==============================] - 0s 3ms/step - loss: 0.9134 - acc: 0.8000\n",
      "Epoch 1/1\n",
      "15/15 [==============================] - 0s 3ms/step - loss: 0.9052 - acc: 0.8000\n",
      "Epoch 1/1\n",
      "15/15 [==============================] - 0s 4ms/step - loss: 0.8972 - acc: 0.8000\n",
      "Epoch 1/1\n",
      "15/15 [==============================] - 0s 3ms/step - loss: 0.8892 - acc: 0.8000\n",
      "Epoch 1/1\n",
      "15/15 [==============================] - 0s 3ms/step - loss: 0.8813 - acc: 0.8000\n",
      "Epoch 1/1\n",
      "15/15 [==============================] - 0s 3ms/step - loss: 0.8735 - acc: 0.8000\n",
      "Epoch 1/1\n",
      "15/15 [==============================] - 0s 4ms/step - loss: 0.8649 - acc: 0.8000\n",
      "Epoch 1/1\n",
      "15/15 [==============================] - 0s 3ms/step - loss: 0.8566 - acc: 0.8000\n",
      "Epoch 1/1\n",
      "15/15 [==============================] - 0s 3ms/step - loss: 0.8489 - acc: 0.8000\n",
      "Epoch 1/1\n",
      "15/15 [==============================] - 0s 3ms/step - loss: 0.8415 - acc: 0.8000\n",
      "Epoch 1/1\n",
      "15/15 [==============================] - 0s 4ms/step - loss: 0.8342 - acc: 0.8667\n",
      "Epoch 1/1\n",
      "15/15 [==============================] - 0s 3ms/step - loss: 0.8271 - acc: 0.8667\n",
      "Epoch 1/1\n",
      "15/15 [==============================] - 0s 4ms/step - loss: 0.8193 - acc: 0.8667\n",
      "Epoch 1/1\n",
      "15/15 [==============================] - 0s 3ms/step - loss: 0.8116 - acc: 0.8667\n",
      "Epoch 1/1\n",
      "15/15 [==============================] - 0s 4ms/step - loss: 0.8042 - acc: 0.8667\n",
      "Epoch 1/1\n",
      "15/15 [==============================] - 0s 2ms/step - loss: 0.7974 - acc: 0.8667\n",
      "Epoch 1/1\n",
      "15/15 [==============================] - 0s 3ms/step - loss: 0.7862 - acc: 0.8667\n",
      "Epoch 1/1\n",
      "15/15 [==============================] - 0s 3ms/step - loss: 0.7790 - acc: 0.8667\n",
      "Epoch 1/1\n",
      "15/15 [==============================] - 0s 3ms/step - loss: 0.7710 - acc: 0.8667\n",
      "Epoch 1/1\n",
      "15/15 [==============================] - 0s 3ms/step - loss: 0.7644 - acc: 0.8667\n",
      "Epoch 1/1\n",
      "15/15 [==============================] - 0s 3ms/step - loss: 0.7569 - acc: 0.8667\n",
      "Epoch 1/1\n",
      "15/15 [==============================] - 0s 3ms/step - loss: 0.7504 - acc: 0.8667\n",
      "Epoch 1/1\n",
      "15/15 [==============================] - 0s 3ms/step - loss: 0.7443 - acc: 0.8667\n",
      "Epoch 1/1\n",
      "15/15 [==============================] - 0s 3ms/step - loss: 0.7381 - acc: 0.8667\n",
      "Epoch 1/1\n",
      "15/15 [==============================] - 0s 3ms/step - loss: 0.7318 - acc: 0.8667\n",
      "Epoch 1/1\n",
      "15/15 [==============================] - 0s 3ms/step - loss: 0.7254 - acc: 0.8667\n",
      "Epoch 1/1\n",
      "15/15 [==============================] - 0s 3ms/step - loss: 0.7190 - acc: 0.8667\n",
      "Epoch 1/1\n",
      "15/15 [==============================] - 0s 4ms/step - loss: 0.7126 - acc: 0.8667\n",
      "Epoch 1/1\n",
      "15/15 [==============================] - 0s 3ms/step - loss: 0.7063 - acc: 0.8667\n",
      "Epoch 1/1\n",
      "15/15 [==============================] - 0s 3ms/step - loss: 0.7000 - acc: 0.8667\n",
      "Epoch 1/1\n",
      "15/15 [==============================] - 0s 3ms/step - loss: 0.6937 - acc: 0.8667\n",
      "Epoch 1/1\n",
      "15/15 [==============================] - 0s 3ms/step - loss: 0.6874 - acc: 0.8667\n",
      "Epoch 1/1\n",
      "15/15 [==============================] - 0s 3ms/step - loss: 0.6811 - acc: 0.8667\n",
      "Epoch 1/1\n",
      "15/15 [==============================] - 0s 3ms/step - loss: 0.6748 - acc: 0.8667\n",
      "Epoch 1/1\n",
      "15/15 [==============================] - 0s 3ms/step - loss: 0.6685 - acc: 0.8667\n",
      "Epoch 1/1\n",
      "15/15 [==============================] - 0s 3ms/step - loss: 0.6622 - acc: 0.8667\n",
      "Epoch 1/1\n",
      "15/15 [==============================] - 0s 3ms/step - loss: 0.6555 - acc: 0.8667\n",
      "Epoch 1/1\n",
      "15/15 [==============================] - 0s 3ms/step - loss: 0.6491 - acc: 0.9333\n",
      "Epoch 1/1\n",
      "15/15 [==============================] - 0s 3ms/step - loss: 0.6429 - acc: 0.9333\n",
      "Epoch 1/1\n",
      "15/15 [==============================] - 0s 3ms/step - loss: 0.6368 - acc: 0.9333\n",
      "Epoch 1/1\n",
      "15/15 [==============================] - 0s 3ms/step - loss: 0.6306 - acc: 0.9333\n",
      "Epoch 1/1\n",
      "15/15 [==============================] - 0s 3ms/step - loss: 0.6213 - acc: 0.9333\n",
      "Epoch 1/1\n",
      "15/15 [==============================] - 0s 3ms/step - loss: 0.6147 - acc: 0.9333\n",
      "Epoch 1/1\n",
      "15/15 [==============================] - 0s 2ms/step - loss: 0.6083 - acc: 0.9333\n",
      "Epoch 1/1\n",
      "15/15 [==============================] - 0s 3ms/step - loss: 0.6003 - acc: 0.9333\n",
      "Epoch 1/1\n",
      "15/15 [==============================] - 0s 3ms/step - loss: 0.5942 - acc: 0.9333\n",
      "Epoch 1/1\n",
      "15/15 [==============================] - 0s 4ms/step - loss: 0.5884 - acc: 0.9333\n",
      "Epoch 1/1\n",
      "15/15 [==============================] - 0s 3ms/step - loss: 0.5828 - acc: 0.9333\n",
      "Epoch 1/1\n",
      "15/15 [==============================] - 0s 3ms/step - loss: 0.5772 - acc: 0.9333\n",
      "Epoch 1/1\n",
      "15/15 [==============================] - 0s 3ms/step - loss: 0.5717 - acc: 0.9333\n",
      "Epoch 1/1\n",
      "15/15 [==============================] - 0s 3ms/step - loss: 0.5662 - acc: 0.9333\n",
      "Epoch 1/1\n",
      "15/15 [==============================] - 0s 4ms/step - loss: 0.5608 - acc: 0.9333\n",
      "Epoch 1/1\n",
      "15/15 [==============================] - 0s 3ms/step - loss: 0.5554 - acc: 0.9333\n",
      "Epoch 1/1\n",
      "15/15 [==============================] - 0s 3ms/step - loss: 0.5501 - acc: 0.9333\n",
      "Epoch 1/1\n",
      "15/15 [==============================] - 0s 3ms/step - loss: 0.5446 - acc: 0.9333\n",
      "Epoch 1/1\n",
      "15/15 [==============================] - 0s 3ms/step - loss: 0.5392 - acc: 0.9333\n",
      "Epoch 1/1\n",
      "15/15 [==============================] - 0s 3ms/step - loss: 0.5333 - acc: 0.9333\n",
      "Epoch 1/1\n",
      "15/15 [==============================] - 0s 3ms/step - loss: 0.5277 - acc: 0.9333\n",
      "Epoch 1/1\n",
      "15/15 [==============================] - 0s 3ms/step - loss: 0.5226 - acc: 0.9333\n",
      "Epoch 1/1\n",
      "15/15 [==============================] - 0s 3ms/step - loss: 0.5175 - acc: 0.9333\n",
      "Epoch 1/1\n",
      "15/15 [==============================] - 0s 4ms/step - loss: 0.5125 - acc: 0.9333\n",
      "Epoch 1/1\n",
      "15/15 [==============================] - 0s 2ms/step - loss: 0.5054 - acc: 0.9333\n",
      "Epoch 1/1\n",
      "15/15 [==============================] - 0s 3ms/step - loss: 0.5002 - acc: 0.9333\n",
      "Epoch 1/1\n",
      "15/15 [==============================] - 0s 3ms/step - loss: 0.4945 - acc: 0.9333\n",
      "Epoch 1/1\n",
      "15/15 [==============================] - 0s 2ms/step - loss: 0.4889 - acc: 0.9333\n",
      "Epoch 1/1\n",
      "15/15 [==============================] - 0s 2ms/step - loss: 0.4847 - acc: 0.9333\n",
      "Epoch 1/1\n",
      "15/15 [==============================] - 0s 4ms/step - loss: 0.4801 - acc: 0.9333\n",
      "Epoch 1/1\n",
      "15/15 [==============================] - 0s 3ms/step - loss: 0.4750 - acc: 0.9333\n",
      "Epoch 1/1\n",
      "15/15 [==============================] - 0s 3ms/step - loss: 0.4704 - acc: 0.9333\n",
      "Epoch 1/1\n",
      "15/15 [==============================] - 0s 2ms/step - loss: 0.4659 - acc: 0.9333\n",
      "Epoch 1/1\n",
      "15/15 [==============================] - 0s 3ms/step - loss: 0.4611 - acc: 0.9333\n",
      "Epoch 1/1\n",
      "15/15 [==============================] - 0s 3ms/step - loss: 0.4567 - acc: 0.9333\n",
      "Epoch 1/1\n",
      "15/15 [==============================] - 0s 2ms/step - loss: 0.4524 - acc: 0.9333\n",
      "Epoch 1/1\n",
      "15/15 [==============================] - 0s 3ms/step - loss: 0.4482 - acc: 0.9333\n",
      "Epoch 1/1\n",
      "15/15 [==============================] - 0s 3ms/step - loss: 0.4438 - acc: 0.9333\n",
      "Epoch 1/1\n",
      "15/15 [==============================] - 0s 3ms/step - loss: 0.4390 - acc: 0.9333\n",
      "Epoch 1/1\n",
      "15/15 [==============================] - 0s 3ms/step - loss: 0.4349 - acc: 0.9333\n",
      "Epoch 1/1\n",
      "15/15 [==============================] - 0s 4ms/step - loss: 0.4309 - acc: 0.9333\n",
      "Epoch 1/1\n",
      "15/15 [==============================] - 0s 3ms/step - loss: 0.4271 - acc: 0.9333\n",
      "Epoch 1/1\n",
      "15/15 [==============================] - 0s 3ms/step - loss: 0.4233 - acc: 0.9333\n",
      "Epoch 1/1\n",
      "15/15 [==============================] - 0s 3ms/step - loss: 0.4196 - acc: 0.9333\n",
      "Epoch 1/1\n",
      "15/15 [==============================] - 0s 3ms/step - loss: 0.4160 - acc: 0.9333\n",
      "Epoch 1/1\n",
      "15/15 [==============================] - 0s 3ms/step - loss: 0.4124 - acc: 0.9333\n",
      "Epoch 1/1\n",
      "15/15 [==============================] - 0s 4ms/step - loss: 0.4089 - acc: 0.9333\n",
      "Epoch 1/1\n",
      "15/15 [==============================] - 0s 3ms/step - loss: 0.4054 - acc: 0.9333\n",
      "Epoch 1/1\n",
      "15/15 [==============================] - 0s 3ms/step - loss: 0.4021 - acc: 0.9333\n",
      "Epoch 1/1\n",
      "15/15 [==============================] - 0s 3ms/step - loss: 0.3988 - acc: 0.9333\n",
      "Epoch 1/1\n",
      "15/15 [==============================] - 0s 3ms/step - loss: 0.3955 - acc: 0.9333\n",
      "Epoch 1/1\n",
      "15/15 [==============================] - 0s 3ms/step - loss: 0.3924 - acc: 0.9333\n",
      "Epoch 1/1\n",
      "15/15 [==============================] - 0s 3ms/step - loss: 0.3892 - acc: 0.9333\n",
      "Epoch 1/1\n",
      "15/15 [==============================] - 0s 3ms/step - loss: 0.3862 - acc: 0.9333\n",
      "Epoch 1/1\n",
      "15/15 [==============================] - 0s 3ms/step - loss: 0.3832 - acc: 0.9333\n",
      "Epoch 1/1\n",
      "15/15 [==============================] - 0s 3ms/step - loss: 0.3802 - acc: 0.9333\n",
      "Epoch 1/1\n",
      "15/15 [==============================] - 0s 3ms/step - loss: 0.3773 - acc: 0.9333\n",
      "Epoch 1/1\n",
      "15/15 [==============================] - 0s 3ms/step - loss: 0.3746 - acc: 0.9333\n",
      "Epoch 1/1\n",
      "15/15 [==============================] - 0s 3ms/step - loss: 0.3716 - acc: 0.9333\n",
      "Epoch 1/1\n",
      "15/15 [==============================] - 0s 4ms/step - loss: 0.3688 - acc: 0.9333\n",
      "Epoch 1/1\n",
      "15/15 [==============================] - 0s 3ms/step - loss: 0.3661 - acc: 0.9333\n",
      "Epoch 1/1\n",
      "15/15 [==============================] - 0s 3ms/step - loss: 0.3634 - acc: 0.9333\n",
      "Epoch 1/1\n",
      "15/15 [==============================] - 0s 3ms/step - loss: 0.3607 - acc: 0.9333\n",
      "Epoch 1/1\n",
      "15/15 [==============================] - 0s 4ms/step - loss: 0.3581 - acc: 0.9333\n",
      "Epoch 1/1\n",
      "15/15 [==============================] - 0s 3ms/step - loss: 0.3556 - acc: 0.9333\n",
      "Epoch 1/1\n",
      "15/15 [==============================] - 0s 4ms/step - loss: 0.3530 - acc: 0.9333\n",
      "Epoch 1/1\n",
      "15/15 [==============================] - 0s 3ms/step - loss: 0.3505 - acc: 0.9333\n",
      "Epoch 1/1\n",
      "15/15 [==============================] - 0s 3ms/step - loss: 0.3480 - acc: 0.9333\n",
      "Epoch 1/1\n",
      "15/15 [==============================] - 0s 3ms/step - loss: 0.3456 - acc: 0.9333\n",
      "Epoch 1/1\n",
      "15/15 [==============================] - 0s 3ms/step - loss: 0.3429 - acc: 0.9333\n",
      "Epoch 1/1\n",
      "15/15 [==============================] - 0s 3ms/step - loss: 0.3397 - acc: 0.9333\n",
      "Epoch 1/1\n",
      "15/15 [==============================] - 0s 4ms/step - loss: 0.3371 - acc: 0.9333\n",
      "Epoch 1/1\n",
      "15/15 [==============================] - 0s 3ms/step - loss: 0.3346 - acc: 0.9333\n",
      "Epoch 1/1\n",
      "15/15 [==============================] - 0s 3ms/step - loss: 0.3323 - acc: 0.9333\n",
      "Epoch 1/1\n",
      "15/15 [==============================] - 0s 2ms/step - loss: 0.3299 - acc: 0.9333\n",
      "Epoch 1/1\n",
      "15/15 [==============================] - 0s 2ms/step - loss: 0.3276 - acc: 0.9333\n",
      "Epoch 1/1\n",
      "15/15 [==============================] - 0s 3ms/step - loss: 0.3253 - acc: 0.9333\n",
      "Epoch 1/1\n",
      "15/15 [==============================] - 0s 3ms/step - loss: 0.3230 - acc: 0.9333\n",
      "Epoch 1/1\n",
      "15/15 [==============================] - 0s 3ms/step - loss: 0.3207 - acc: 0.9333\n",
      "Epoch 1/1\n",
      "15/15 [==============================] - 0s 4ms/step - loss: 0.3185 - acc: 0.9333\n",
      "Epoch 1/1\n",
      "15/15 [==============================] - 0s 3ms/step - loss: 0.3162 - acc: 0.9333\n",
      "Epoch 1/1\n",
      "15/15 [==============================] - 0s 3ms/step - loss: 0.3140 - acc: 0.9333\n",
      "Epoch 1/1\n",
      "15/15 [==============================] - 0s 3ms/step - loss: 0.3119 - acc: 0.9333\n",
      "Epoch 1/1\n",
      "15/15 [==============================] - 0s 3ms/step - loss: 0.3097 - acc: 0.9333\n",
      "Epoch 1/1\n",
      "15/15 [==============================] - 0s 4ms/step - loss: 0.3076 - acc: 0.9333\n",
      "Epoch 1/1\n",
      "15/15 [==============================] - 0s 3ms/step - loss: 0.3055 - acc: 0.9333\n",
      "Epoch 1/1\n",
      "15/15 [==============================] - 0s 3ms/step - loss: 0.3034 - acc: 0.9333\n",
      "Epoch 1/1\n",
      "15/15 [==============================] - 0s 3ms/step - loss: 0.3013 - acc: 0.9333\n",
      "Epoch 1/1\n",
      "15/15 [==============================] - 0s 4ms/step - loss: 0.2995 - acc: 0.9333\n",
      "Epoch 1/1\n",
      "15/15 [==============================] - 0s 3ms/step - loss: 0.2975 - acc: 0.9333\n",
      "Epoch 1/1\n",
      "15/15 [==============================] - 0s 4ms/step - loss: 0.2955 - acc: 0.9333\n",
      "Epoch 1/1\n",
      "15/15 [==============================] - 0s 4ms/step - loss: 0.2935 - acc: 0.9333\n",
      "Epoch 1/1\n",
      "15/15 [==============================] - 0s 3ms/step - loss: 0.2916 - acc: 0.9333\n",
      "Epoch 1/1\n",
      "15/15 [==============================] - 0s 3ms/step - loss: 0.2896 - acc: 0.9333\n",
      "Epoch 1/1\n",
      "15/15 [==============================] - 0s 3ms/step - loss: 0.2877 - acc: 0.9333\n",
      "Epoch 1/1\n",
      "15/15 [==============================] - 0s 4ms/step - loss: 0.2858 - acc: 0.9333\n",
      "Epoch 1/1\n",
      "15/15 [==============================] - 0s 3ms/step - loss: 0.2837 - acc: 0.9333\n",
      "Epoch 1/1\n",
      "15/15 [==============================] - 0s 3ms/step - loss: 0.2805 - acc: 0.9333\n",
      "Epoch 1/1\n",
      "15/15 [==============================] - 0s 2ms/step - loss: 0.2783 - acc: 0.9333\n",
      "Epoch 1/1\n",
      "15/15 [==============================] - 0s 2ms/step - loss: 0.2764 - acc: 0.9333\n",
      "Epoch 1/1\n",
      "15/15 [==============================] - 0s 2ms/step - loss: 0.2746 - acc: 0.9333\n",
      "Epoch 1/1\n",
      "15/15 [==============================] - 0s 4ms/step - loss: 0.2728 - acc: 0.9333\n",
      "Epoch 1/1\n",
      "15/15 [==============================] - 0s 3ms/step - loss: 0.2708 - acc: 0.9333\n",
      "Epoch 1/1\n",
      "15/15 [==============================] - 0s 2ms/step - loss: 0.2685 - acc: 0.9333\n",
      "Epoch 1/1\n",
      "15/15 [==============================] - 0s 2ms/step - loss: 0.2665 - acc: 0.9333\n",
      "Epoch 1/1\n",
      "15/15 [==============================] - 0s 3ms/step - loss: 0.2644 - acc: 0.9333\n",
      "Epoch 1/1\n",
      "15/15 [==============================] - 0s 2ms/step - loss: 0.2619 - acc: 0.9333\n",
      "Epoch 1/1\n",
      "15/15 [==============================] - 0s 3ms/step - loss: 0.2590 - acc: 0.9333\n",
      "Epoch 1/1\n",
      "15/15 [==============================] - 0s 3ms/step - loss: 0.2566 - acc: 0.9333\n",
      "Epoch 1/1\n",
      "15/15 [==============================] - 0s 4ms/step - loss: 0.2548 - acc: 0.9333\n",
      "Epoch 1/1\n",
      "15/15 [==============================] - 0s 3ms/step - loss: 0.2530 - acc: 0.9333\n",
      "Epoch 1/1\n",
      "15/15 [==============================] - 0s 2ms/step - loss: 0.2513 - acc: 0.9333\n",
      "Epoch 1/1\n",
      "15/15 [==============================] - 0s 2ms/step - loss: 0.2496 - acc: 0.9333\n",
      "Epoch 1/1\n",
      "15/15 [==============================] - 0s 3ms/step - loss: 0.2477 - acc: 0.9333\n",
      "Epoch 1/1\n",
      "15/15 [==============================] - 0s 2ms/step - loss: 0.2457 - acc: 1.0000\n",
      "Epoch 1/1\n",
      "15/15 [==============================] - 0s 2ms/step - loss: 0.2440 - acc: 1.0000\n",
      "Epoch 1/1\n",
      "15/15 [==============================] - 0s 3ms/step - loss: 0.2422 - acc: 1.0000\n",
      "Epoch 1/1\n",
      "15/15 [==============================] - 0s 4ms/step - loss: 0.2406 - acc: 1.0000\n",
      "Epoch 1/1\n",
      "15/15 [==============================] - 0s 3ms/step - loss: 0.2389 - acc: 1.0000\n",
      "Epoch 1/1\n",
      "15/15 [==============================] - 0s 3ms/step - loss: 0.2374 - acc: 1.0000\n",
      "Epoch 1/1\n",
      "15/15 [==============================] - 0s 3ms/step - loss: 0.2358 - acc: 1.0000\n",
      "Epoch 1/1\n",
      "15/15 [==============================] - 0s 3ms/step - loss: 0.2342 - acc: 1.0000\n",
      "Epoch 1/1\n",
      "15/15 [==============================] - 0s 4ms/step - loss: 0.2327 - acc: 1.0000\n",
      "Epoch 1/1\n",
      "15/15 [==============================] - 0s 3ms/step - loss: 0.2312 - acc: 1.0000\n",
      "Epoch 1/1\n",
      "15/15 [==============================] - 0s 4ms/step - loss: 0.2297 - acc: 1.0000\n",
      "Epoch 1/1\n",
      "15/15 [==============================] - 0s 3ms/step - loss: 0.2282 - acc: 1.0000\n",
      "Epoch 1/1\n",
      "15/15 [==============================] - 0s 4ms/step - loss: 0.2268 - acc: 1.0000\n",
      "Epoch 1/1\n",
      "15/15 [==============================] - 0s 3ms/step - loss: 0.2255 - acc: 1.0000\n",
      "Epoch 1/1\n",
      "15/15 [==============================] - 0s 4ms/step - loss: 0.2242 - acc: 1.0000\n",
      "Epoch 1/1\n",
      "15/15 [==============================] - 0s 4ms/step - loss: 0.2229 - acc: 1.0000\n",
      "Epoch 1/1\n",
      "15/15 [==============================] - 0s 3ms/step - loss: 0.2217 - acc: 1.0000\n"
     ]
    }
   ],
   "source": [
    "model_4.compile(optimizer='adam', loss='categorical_crossentropy', metrics=['accuracy'])\n",
    "for i in range(300):\n",
    "    model_4.fit(X, y, epochs=1, batch_size=batch_size, verbose=1, shuffle=False)\n",
    "    model_4.reset_states()"
   ]
  },
  {
   "cell_type": "markdown",
   "metadata": {},
   "source": [
    "### Voy ingresando de a uno la frase original"
   ]
  },
  {
   "cell_type": "code",
   "execution_count": 58,
   "metadata": {},
   "outputs": [
    {
     "name": "stdout",
     "output_type": "stream",
     "text": [
      "M -> A 0.95\n",
      "A -> C 0.82\n",
      "C -> H 0.82\n",
      "H -> I 0.9\n",
      "I -> N 0.89\n",
      "N -> E 0.54\n",
      "E ->   0.77\n",
      "  -> L 0.88\n",
      "L -> E 0.87\n",
      "E -> A 0.91\n",
      "A -> R 0.79\n",
      "R -> N 0.77\n",
      "N -> I 0.88\n",
      "I -> N 0.85\n",
      "N -> G 0.49\n",
      "G -> G 0.32\n"
     ]
    }
   ],
   "source": [
    "# Probar con 0, 3, 4, 7 y 1\n",
    "starting = 0\n",
    "model_4.reset_states()\n",
    "for c in text[starting:]:\n",
    "    to_predict = chars_to_one_hot(c, chars, chars_to_indices, window_size)*1\n",
    "    predicted = model_4.predict(to_predict)\n",
    "    print(c, '->', indices_to_chars[np.argmax(predicted[0])], int(max(predicted[0])*100)/100)"
   ]
  },
  {
   "cell_type": "markdown",
   "metadata": {},
   "source": [
    "Con starting en (text es MACHINE LEARNING):\n",
    "- 0 Predice todo correctamente\n",
    "- 6 Al arrancar en E puede ser tanto la de L**E**AR.. o la de CHIN**E** .. por lo que no tiene demasiada certeza\n",
    "- 4 La I da alta probabilidad para la N"
   ]
  },
  {
   "cell_type": "markdown",
   "metadata": {},
   "source": [
    "### Realimentando salida"
   ]
  },
  {
   "cell_type": "code",
   "execution_count": 59,
   "metadata": {},
   "outputs": [
    {
     "name": "stdout",
     "output_type": "stream",
     "text": [
      "M -> A 0.95\n",
      "A -> C 0.82\n",
      "C -> H 0.82\n",
      "H -> I 0.9\n",
      "I -> N 0.89\n",
      "N -> E 0.54\n",
      "E ->   0.77\n",
      "  -> L 0.88\n",
      "L -> E 0.87\n",
      "E -> A 0.91\n",
      "A -> R 0.79\n",
      "R -> N 0.77\n",
      "N -> I 0.88\n",
      "I -> N 0.85\n",
      "N -> G 0.49\n",
      "G -> G 0.32\n",
      "G -> C 0.53\n",
      "C -> H 0.63\n",
      "H -> A 0.6\n",
      "A -> A 0.42\n",
      "A -> C 0.44\n",
      "C -> H 0.88\n",
      "H -> I 0.41\n",
      "I -> A 0.48\n",
      "A ->   0.44\n"
     ]
    }
   ],
   "source": [
    "starting = 0\n",
    "model_4.reset_states()\n",
    "c = text[starting]\n",
    "for i in range(25):\n",
    "    to_predict = chars_to_one_hot(c, chars, chars_to_indices, window_size)*1\n",
    "    predicted = model_4.predict(to_predict)\n",
    "    pred_char = indices_to_chars[np.argmax(predicted[0])]\n",
    "    print(c, '->', pred_char, int(max(predicted[0])*100)/100)\n",
    "    c = pred_char"
   ]
  },
  {
   "cell_type": "markdown",
   "metadata": {},
   "source": [
    "## Ejemplo 5: Padding\n",
    "\"The model will learn the zero values carry no information so indeed the sequences are not the same length in terms of content, but same length vectors is required to perform the computation in Keras.\" https://machinelearningmastery.com/sequence-classification-lstm-recurrent-neural-networks-python-keras/\n",
    "https://machinelearningmastery.com/understanding-stateful-lstm-recurrent-neural-networks-python-keras/\n",
    "\n",
    "Como entreno no-statefull pero que de resultados similares a la statefull?"
   ]
  },
  {
   "cell_type": "code",
   "execution_count": 60,
   "metadata": {},
   "outputs": [],
   "source": [
    "def window_transform_text_padding_mode(text):\n",
    "    len_out = len(text)\n",
    "    \n",
    "    #output_start[-1] = text[:1]\n",
    "    #output_start[len_out-1:len_out-2] = text[0:1]\n",
    "    text = text\n",
    "    X = []\n",
    "    y = []\n",
    "    for i in range(len_out):\n",
    "        #X.append()\n",
    "        output_start = ['']*(len_out-1)\n",
    "        output_start[len_out-i-1:len_out] = text[0:i]\n",
    "        X.append(output_start)\n",
    "        y.append(text[i])\n",
    "    return X, y"
   ]
  },
  {
   "cell_type": "markdown",
   "metadata": {},
   "source": [
    "### Armo entradas con padding"
   ]
  },
  {
   "cell_type": "code",
   "execution_count": 129,
   "metadata": {},
   "outputs": [],
   "source": [
    "X_5, y_5 = window_transform_text_padding_mode(text)"
   ]
  },
  {
   "cell_type": "code",
   "execution_count": 318,
   "metadata": {},
   "outputs": [
    {
     "data": {
      "text/plain": [
       "[['', '', '', '', '', '', '', '', '', '', '', '', '', '', ''],\n",
       " ['', '', '', '', '', '', '', '', '', '', '', '', '', '', 'M'],\n",
       " ['', '', '', '', '', '', '', '', '', '', '', '', '', 'M', 'A'],\n",
       " ['', '', '', '', '', '', '', '', '', '', '', '', 'M', 'A', 'C'],\n",
       " ['', '', '', '', '', '', '', '', '', '', '', 'M', 'A', 'C', 'H'],\n",
       " ['', '', '', '', '', '', '', '', '', '', 'M', 'A', 'C', 'H', 'I'],\n",
       " ['', '', '', '', '', '', '', '', '', 'M', 'A', 'C', 'H', 'I', 'N'],\n",
       " ['', '', '', '', '', '', '', '', 'M', 'A', 'C', 'H', 'I', 'N', 'E'],\n",
       " ['', '', '', '', '', '', '', 'M', 'A', 'C', 'H', 'I', 'N', 'E', ' '],\n",
       " ['', '', '', '', '', '', 'M', 'A', 'C', 'H', 'I', 'N', 'E', ' ', 'L'],\n",
       " ['', '', '', '', '', 'M', 'A', 'C', 'H', 'I', 'N', 'E', ' ', 'L', 'E'],\n",
       " ['', '', '', '', 'M', 'A', 'C', 'H', 'I', 'N', 'E', ' ', 'L', 'E', 'A'],\n",
       " ['', '', '', 'M', 'A', 'C', 'H', 'I', 'N', 'E', ' ', 'L', 'E', 'A', 'R'],\n",
       " ['', '', 'M', 'A', 'C', 'H', 'I', 'N', 'E', ' ', 'L', 'E', 'A', 'R', 'N'],\n",
       " ['', 'M', 'A', 'C', 'H', 'I', 'N', 'E', ' ', 'L', 'E', 'A', 'R', 'N', 'I'],\n",
       " ['M', 'A', 'C', 'H', 'I', 'N', 'E', ' ', 'L', 'E', 'A', 'R', 'N', 'I', 'N']]"
      ]
     },
     "execution_count": 318,
     "metadata": {},
     "output_type": "execute_result"
    }
   ],
   "source": [
    "X_5"
   ]
  },
  {
   "cell_type": "code",
   "execution_count": 131,
   "metadata": {},
   "outputs": [
    {
     "name": "stdout",
     "output_type": "stream",
     "text": [
      "['M', 'A', 'C', 'H', 'I', 'N', 'E', ' ', 'L', 'E', 'A', 'R', 'N', 'I', 'N', 'G']\n"
     ]
    }
   ],
   "source": [
    "print(y_5)"
   ]
  },
  {
   "cell_type": "code",
   "execution_count": 64,
   "metadata": {},
   "outputs": [],
   "source": [
    "chars = sorted(set(text))\n",
    "chars_to_indices = dict((c, i) for i, c in enumerate(chars))\n",
    "chars_to_indices[''] = -1"
   ]
  },
  {
   "cell_type": "code",
   "execution_count": 94,
   "metadata": {},
   "outputs": [],
   "source": [
    "def code_chars(X, y, chars_to_indices):\n",
    "    X_coded = []\n",
    "    y_coded = []\n",
    "    for i, xi in enumerate(X):\n",
    "        one_h_y = [0]*(len(chars_to_indices) - 1) # Menos 1 por el '' agregado\n",
    "        vect = []\n",
    "        for c in xi:\n",
    "            one_h = [0]*(len(chars_to_indices) - 1)\n",
    "            if c == '':\n",
    "                vect.append(one_h)\n",
    "            else:\n",
    "                one_h[chars_to_indices[c]] = 1\n",
    "                vect.append(one_h)\n",
    "        X_coded.append(vect)\n",
    "        one_h_y[chars_to_indices[y[i]]] = 1\n",
    "        y_coded.append(one_h_y)\n",
    "    return np.array(X_coded), np.array(y_coded)"
   ]
  },
  {
   "cell_type": "code",
   "execution_count": 95,
   "metadata": {},
   "outputs": [],
   "source": [
    "X_coded, y_coded = code_chars(X_4, y_4, chars_to_indices)"
   ]
  },
  {
   "cell_type": "code",
   "execution_count": 97,
   "metadata": {},
   "outputs": [
    {
     "data": {
      "text/plain": [
       "((16, 15, 11), (16, 11))"
      ]
     },
     "execution_count": 97,
     "metadata": {},
     "output_type": "execute_result"
    }
   ],
   "source": [
    "X_coded.shape, y_coded.shape"
   ]
  },
  {
   "cell_type": "code",
   "execution_count": 117,
   "metadata": {},
   "outputs": [
    {
     "data": {
      "text/plain": [
       "array([[0, 0, 0, 0, 0, 0, 0, 0, 0, 0, 0],\n",
       "       [0, 0, 0, 0, 0, 0, 0, 0, 0, 0, 0],\n",
       "       [0, 0, 0, 0, 0, 0, 0, 0, 0, 0, 0],\n",
       "       [0, 0, 0, 0, 0, 0, 0, 0, 0, 0, 0],\n",
       "       [0, 0, 0, 0, 0, 0, 0, 0, 0, 0, 0],\n",
       "       [0, 0, 0, 0, 0, 0, 0, 0, 0, 0, 0],\n",
       "       [0, 0, 0, 0, 0, 0, 0, 0, 0, 0, 0],\n",
       "       [0, 0, 0, 0, 0, 0, 0, 0, 0, 0, 0],\n",
       "       [0, 0, 0, 0, 0, 0, 0, 0, 0, 0, 0],\n",
       "       [0, 0, 0, 0, 0, 0, 0, 0, 0, 0, 0],\n",
       "       [0, 0, 0, 0, 0, 0, 0, 0, 0, 0, 0],\n",
       "       [0, 0, 0, 0, 0, 0, 0, 0, 0, 0, 0],\n",
       "       [0, 0, 0, 0, 0, 0, 0, 0, 0, 0, 0],\n",
       "       [0, 0, 0, 0, 0, 0, 0, 0, 0, 0, 0],\n",
       "       [0, 0, 0, 0, 0, 0, 0, 0, 0, 0, 0]])"
      ]
     },
     "execution_count": 117,
     "metadata": {},
     "output_type": "execute_result"
    }
   ],
   "source": [
    "# Primer entrada todos ceros\n",
    "#[['', '', '', '', '', '', '', '', '', '', '', '', '', '', '']\n",
    "X_coded[0]"
   ]
  },
  {
   "cell_type": "code",
   "execution_count": 119,
   "metadata": {},
   "outputs": [
    {
     "data": {
      "text/plain": [
       "array([[0, 0, 0, 0, 0, 0, 0, 0, 0, 0, 0],\n",
       "       [0, 0, 0, 0, 0, 0, 0, 0, 0, 0, 0],\n",
       "       [0, 0, 0, 0, 0, 0, 0, 0, 0, 0, 0],\n",
       "       [0, 0, 0, 0, 0, 0, 0, 0, 0, 0, 0],\n",
       "       [0, 0, 0, 0, 0, 0, 0, 0, 0, 0, 0],\n",
       "       [0, 0, 0, 0, 0, 0, 0, 0, 0, 0, 0],\n",
       "       [0, 0, 0, 0, 0, 0, 0, 0, 0, 0, 0],\n",
       "       [0, 0, 0, 0, 0, 0, 0, 0, 0, 0, 0],\n",
       "       [0, 0, 0, 0, 0, 0, 0, 0, 0, 0, 0],\n",
       "       [0, 0, 0, 0, 0, 0, 0, 0, 0, 0, 0],\n",
       "       [0, 0, 0, 0, 0, 0, 0, 0, 0, 0, 0],\n",
       "       [0, 0, 0, 0, 0, 0, 0, 0, 0, 0, 0],\n",
       "       [0, 0, 0, 0, 0, 0, 0, 0, 0, 0, 0],\n",
       "       [0, 0, 0, 0, 0, 0, 0, 0, 0, 0, 0],\n",
       "       [0, 0, 0, 0, 0, 0, 0, 0, 1, 0, 0]])"
      ]
     },
     "execution_count": 119,
     "metadata": {},
     "output_type": "execute_result"
    }
   ],
   "source": [
    "# ['', '', '', '', '', '', '', '', '', '', '', '', '', '', 'M'],\n",
    "X_coded[1]"
   ]
  },
  {
   "cell_type": "markdown",
   "metadata": {},
   "source": [
    "### Entreno modelo"
   ]
  },
  {
   "cell_type": "code",
   "execution_count": 401,
   "metadata": {},
   "outputs": [
    {
     "name": "stdout",
     "output_type": "stream",
     "text": [
      "_________________________________________________________________\n",
      "Layer (type)                 Output Shape              Param #   \n",
      "=================================================================\n",
      "simple_rnn_34 (SimpleRNN)    (None, 10)                220       \n",
      "_________________________________________________________________\n",
      "dense_32 (Dense)             (None, 11)                121       \n",
      "=================================================================\n",
      "Total params: 341\n",
      "Trainable params: 341\n",
      "Non-trainable params: 0\n",
      "_________________________________________________________________\n"
     ]
    }
   ],
   "source": [
    "model_5 = Sequential()\n",
    "model_5.add(SimpleRNN(10, input_shape=(X_coded.shape[1],X_coded.shape[2])))\n",
    "model_5.add(Dense(len(chars), activation=\"softmax\"))\n",
    "model_5.summary()"
   ]
  },
  {
   "cell_type": "code",
   "execution_count": 417,
   "metadata": {},
   "outputs": [
    {
     "data": {
      "image/png": "[encoded data removed]",
      "text/plain": [
       "<matplotlib.figure.Figure at 0x121d54e80>"
      ]
     },
     "metadata": {},
     "output_type": "display_data"
    },
    {
     "name": "stdout",
     "output_type": "stream",
     "text": [
      "16/16 [==============================] - 1s 33ms/step - loss: 0.0970 - acc: 0.9375\n",
      "Epoch 492/500\n",
      "16/16 [==============================] - 0s 12ms/step - loss: 0.0064 - acc: 1.0000\n",
      "Epoch 493/500\n",
      "16/16 [==============================] - 0s 12ms/step - loss: 2.3344e-04 - acc: 1.0000\n",
      "Epoch 494/500\n",
      "16/16 [==============================] - 0s 13ms/step - loss: 1.6590e-04 - acc: 1.0000\n",
      "Epoch 495/500\n",
      "16/16 [==============================] - 0s 11ms/step - loss: 1.6753e-04 - acc: 1.0000\n",
      "Epoch 496/500\n",
      "16/16 [==============================] - 0s 13ms/step - loss: 1.6310e-04 - acc: 1.0000\n",
      "Epoch 497/500\n",
      "16/16 [==============================] - 0s 11ms/step - loss: 1.5969e-04 - acc: 1.0000\n",
      "Epoch 498/500\n",
      "16/16 [==============================] - 0s 12ms/step - loss: 1.5665e-04 - acc: 1.0000\n",
      "Epoch 499/500\n",
      "16/16 [==============================] - 0s 12ms/step - loss: 1.5472e-04 - acc: 1.0000\n",
      "Epoch 500/500\n",
      "16/16 [==============================] - 0s 12ms/step - loss: 1.5171e-04 - acc: 1.0000\n"
     ]
    },
    {
     "data": {
      "text/plain": [
       "<keras.callbacks.History at 0x11a75ab70>"
      ]
     },
     "execution_count": 417,
     "metadata": {},
     "output_type": "execute_result"
    }
   ],
   "source": [
    "model_5.compile(optimizer='adam', loss='categorical_crossentropy', metrics=['accuracy'])\n",
    "plot_losses = PlotLosses(plot_interval=10, evaluate_interval=None)\n",
    "model_5.fit(X_coded,y_coded, epochs=500, batch_size=1, verbose=1, callbacks=[plot_losses])"
   ]
  },
  {
   "cell_type": "code",
   "execution_count": 418,
   "metadata": {},
   "outputs": [
    {
     "name": "stdout",
     "output_type": "stream",
     "text": [
      "['', '', '', '', '', '', '', '', '', '', '', '', '', '', ''] -> M 0.99\n",
      "['', '', '', '', '', '', '', '', '', '', '', '', '', '', 'M'] -> A 0.99\n",
      "['', '', '', '', '', '', '', '', '', '', '', '', '', 'M', 'A'] -> C 0.99\n",
      "['', '', '', '', '', '', '', '', '', '', '', '', 'M', 'A', 'C'] -> H 0.99\n",
      "['', '', '', '', '', '', '', '', '', '', '', 'M', 'A', 'C', 'H'] -> I 0.99\n",
      "['', '', '', '', '', '', '', '', '', '', 'M', 'A', 'C', 'H', 'I'] -> N 0.99\n",
      "['', '', '', '', '', '', '', '', '', 'M', 'A', 'C', 'H', 'I', 'N'] -> E 0.99\n",
      "['', '', '', '', '', '', '', '', 'M', 'A', 'C', 'H', 'I', 'N', 'E'] ->   0.99\n",
      "['', '', '', '', '', '', '', 'M', 'A', 'C', 'H', 'I', 'N', 'E', ' '] -> L 0.99\n",
      "['', '', '', '', '', '', 'M', 'A', 'C', 'H', 'I', 'N', 'E', ' ', 'L'] -> E 0.99\n",
      "['', '', '', '', '', 'M', 'A', 'C', 'H', 'I', 'N', 'E', ' ', 'L', 'E'] -> A 0.99\n",
      "['', '', '', '', 'M', 'A', 'C', 'H', 'I', 'N', 'E', ' ', 'L', 'E', 'A'] -> R 0.99\n",
      "['', '', '', 'M', 'A', 'C', 'H', 'I', 'N', 'E', ' ', 'L', 'E', 'A', 'R'] -> N 0.99\n",
      "['', '', 'M', 'A', 'C', 'H', 'I', 'N', 'E', ' ', 'L', 'E', 'A', 'R', 'N'] -> I 0.99\n",
      "['', 'M', 'A', 'C', 'H', 'I', 'N', 'E', ' ', 'L', 'E', 'A', 'R', 'N', 'I'] -> N 0.99\n",
      "['M', 'A', 'C', 'H', 'I', 'N', 'E', ' ', 'L', 'E', 'A', 'R', 'N', 'I', 'N'] -> G 0.99\n"
     ]
    }
   ],
   "source": [
    "to_predict = X_coded\n",
    "predicted = model_5.predict(to_predict)\n",
    "for i, row in enumerate(predicted):\n",
    "    idx = np.argmax(row)\n",
    "    print(X_5[i], '->', indices_to_chars[idx], int(row[idx]*100)/100)"
   ]
  },
  {
   "cell_type": "markdown",
   "metadata": {},
   "source": [
    "### Ahora redefino modelo como stateful y cargo los pesos del anterior"
   ]
  },
  {
   "cell_type": "code",
   "execution_count": 419,
   "metadata": {},
   "outputs": [
    {
     "name": "stdout",
     "output_type": "stream",
     "text": [
      "_________________________________________________________________\n",
      "Layer (type)                 Output Shape              Param #   \n",
      "=================================================================\n",
      "simple_rnn_36 (SimpleRNN)    (1, 10)                   220       \n",
      "_________________________________________________________________\n",
      "dense_34 (Dense)             (1, 11)                   121       \n",
      "=================================================================\n",
      "Total params: 341\n",
      "Trainable params: 341\n",
      "Non-trainable params: 0\n",
      "_________________________________________________________________\n"
     ]
    }
   ],
   "source": [
    "batch_size=1\n",
    "model_5s = Sequential()\n",
    "model_5s.add(SimpleRNN(10, batch_input_shape=(batch_size,1,len(chars)), stateful=True))\n",
    "model_5s.add(Dense(len(chars), activation=\"softmax\"))\n",
    "model_5s.summary()"
   ]
  },
  {
   "cell_type": "code",
   "execution_count": 420,
   "metadata": {},
   "outputs": [],
   "source": [
    "model_5s.set_weights(model_5.get_weights())"
   ]
  },
  {
   "cell_type": "markdown",
   "metadata": {},
   "source": [
    "### Donde esta el maximo si ingereso ceros?"
   ]
  },
  {
   "cell_type": "code",
   "execution_count": 421,
   "metadata": {},
   "outputs": [
    {
     "name": "stdout",
     "output_type": "stream",
     "text": [
      "1 [[[ 0.  0.  0.  0.  0.  0.  0.  0.  0.  0.  0.]]] -> N 0.27\n",
      "2 [[[ 0.  0.  0.  0.  0.  0.  0.  0.  0.  0.  0.]]] -> N 0.46\n",
      "3 [[[ 0.  0.  0.  0.  0.  0.  0.  0.  0.  0.  0.]]] -> N 0.9\n",
      "4 [[[ 0.  0.  0.  0.  0.  0.  0.  0.  0.  0.  0.]]] -> G 0.99\n",
      "5 [[[ 0.  0.  0.  0.  0.  0.  0.  0.  0.  0.  0.]]] -> E 0.97\n",
      "6 [[[ 0.  0.  0.  0.  0.  0.  0.  0.  0.  0.  0.]]] -> L 0.98\n",
      "7 [[[ 0.  0.  0.  0.  0.  0.  0.  0.  0.  0.  0.]]] -> H 0.73\n",
      "8 [[[ 0.  0.  0.  0.  0.  0.  0.  0.  0.  0.  0.]]] -> N 0.5\n",
      "9 [[[ 0.  0.  0.  0.  0.  0.  0.  0.  0.  0.  0.]]] -> N 0.94\n",
      "10 [[[ 0.  0.  0.  0.  0.  0.  0.  0.  0.  0.  0.]]] -> G 0.88\n",
      "11 [[[ 0.  0.  0.  0.  0.  0.  0.  0.  0.  0.  0.]]] ->   0.55\n",
      "12 [[[ 0.  0.  0.  0.  0.  0.  0.  0.  0.  0.  0.]]] -> L 0.63\n",
      "13 [[[ 0.  0.  0.  0.  0.  0.  0.  0.  0.  0.  0.]]] -> E 0.96\n",
      "14 [[[ 0.  0.  0.  0.  0.  0.  0.  0.  0.  0.  0.]]] -> A 0.39\n",
      "15 [[[ 0.  0.  0.  0.  0.  0.  0.  0.  0.  0.  0.]]] -> M 0.99\n",
      "16 [[[ 0.  0.  0.  0.  0.  0.  0.  0.  0.  0.  0.]]] -> N 0.99\n",
      "17 [[[ 0.  0.  0.  0.  0.  0.  0.  0.  0.  0.  0.]]] -> N 0.92\n",
      "18 [[[ 0.  0.  0.  0.  0.  0.  0.  0.  0.  0.  0.]]] -> G 0.98\n",
      "19 [[[ 0.  0.  0.  0.  0.  0.  0.  0.  0.  0.  0.]]] -> E 0.75\n",
      "20 [[[ 0.  0.  0.  0.  0.  0.  0.  0.  0.  0.  0.]]] -> L 0.93\n"
     ]
    }
   ],
   "source": [
    "model_5s.reset_states()\n",
    "to_predict = np.zeros((1,1,y_coded.shape[1]))\n",
    "for i in range(20):\n",
    "    predicted = model_5s.predict(to_predict)\n",
    "    idx = np.argmax(predicted[0])\n",
    "    print(i+1, to_predict, '->', indices_to_chars[idx], int(predicted[0][idx]*100)/100)"
   ]
  },
  {
   "cell_type": "code",
   "execution_count": 434,
   "metadata": {},
   "outputs": [],
   "source": [
    "model_5s.reset_states()\n",
    "to_predict = np.zeros((1,1,y_coded.shape[1]))\n",
    "for i in range(0):\n",
    "    predicted = model_5s.predict(to_predict)\n",
    "    idx = np.argmax(predicted[0])\n",
    "    print(i+1, to_predict, '->', indices_to_chars[idx], int(predicted[0][idx]*100)/100)"
   ]
  },
  {
   "cell_type": "code",
   "execution_count": 435,
   "metadata": {},
   "outputs": [
    {
     "name": "stdout",
     "output_type": "stream",
     "text": [
      "[[[0 0 0 0 0 0 0 0 1 0 0]]] -> A 0.99\n",
      "[[[0 1 0 0 0 0 0 0 0 0 0]]] -> C 0.98\n",
      "[[[0 0 1 0 0 0 0 0 0 0 0]]] -> H 0.99\n",
      "[[[0 0 0 0 0 1 0 0 0 0 0]]] -> I 0.99\n",
      "[[[0 0 0 0 0 0 1 0 0 0 0]]] -> N 0.99\n",
      "[[[0 0 0 0 0 0 0 0 0 1 0]]] -> I 0.45\n",
      "[[[0 0 0 1 0 0 0 0 0 0 0]]] ->   0.99\n",
      "[[[1 0 0 0 0 0 0 0 0 0 0]]] -> L 0.67\n",
      "[[[0 0 0 0 0 0 0 1 0 0 0]]] -> E 0.99\n",
      "[[[0 0 0 1 0 0 0 0 0 0 0]]] -> A 0.99\n",
      "[[[0 1 0 0 0 0 0 0 0 0 0]]] -> R 0.99\n",
      "[[[0 0 0 0 0 0 0 0 0 0 1]]] -> N 0.91\n",
      "[[[0 0 0 0 0 0 0 0 0 1 0]]] -> I 0.99\n",
      "[[[0 0 0 0 0 0 1 0 0 0 0]]] -> N 0.99\n",
      "[[[0 0 0 0 0 0 0 0 0 1 0]]] -> G 0.99\n",
      "[[[0 0 0 0 1 0 0 0 0 0 0]]] -> E 0.88\n"
     ]
    }
   ],
   "source": [
    "for i in range(16):\n",
    "    to_predict = y_coded[i:i+1].reshape(1, 1, len(chars))\n",
    "    predicted = model_5s.predict(to_predict)\n",
    "    idx = np.argmax(predicted[0])\n",
    "    print(to_predict, '->', indices_to_chars[idx], int(predicted[0][idx]*100)/100)"
   ]
  },
  {
   "cell_type": "markdown",
   "metadata": {},
   "source": [
    "### Realimento salida\n",
    "Pero no ingreso con one-hot sino con las predicciones"
   ]
  },
  {
   "cell_type": "code",
   "execution_count": 438,
   "metadata": {},
   "outputs": [
    {
     "name": "stdout",
     "output_type": "stream",
     "text": [
      "1 [[[ 0.  0.  0.  0.  0.  0.  0.  0.  0.  0.  0.]]] -> N 0.27\n",
      "2 [[[ 0.  0.  0.  0.  0.  0.  0.  0.  0.  0.  0.]]] -> N 0.46\n",
      "[[[ 0.    0.01  0.    0.    0.06  0.    0.4   0.    0.02  0.46  0.  ]]] -> N 0.92\n",
      "[[[ 0.    0.    0.    0.    0.06  0.    0.    0.    0.    0.92  0.  ]]] -> G 0.99\n",
      "[[[ 0.    0.    0.    0.    0.99  0.    0.    0.    0.    0.    0.  ]]] -> E 0.94\n",
      "[[[ 0.03  0.    0.    0.94  0.    0.    0.    0.    0.    0.    0.01]]] -> L 0.46\n",
      "[[[ 0.05  0.41  0.    0.    0.    0.    0.    0.46  0.    0.    0.05]]] -> I 0.43\n",
      "[[[ 0.    0.    0.13  0.36  0.    0.    0.43  0.03  0.01  0.    0.  ]]] -> N 0.98\n",
      "[[[ 0.    0.    0.    0.    0.    0.    0.    0.    0.    0.98  0.  ]]] -> M 0.74\n",
      "[[[ 0.05  0.    0.    0.01  0.16  0.    0.01  0.    0.74  0.    0.  ]]] -> A 0.93\n",
      "[[[ 0.    0.93  0.    0.    0.05  0.    0.    0.    0.    0.    0.  ]]] -> R 0.87\n",
      "[[[ 0.    0.    0.12  0.    0.    0.    0.    0.    0.    0.    0.87]]] -> N 0.86\n",
      "[[[ 0.    0.    0.    0.    0.    0.12  0.    0.    0.    0.86  0.  ]]] -> I 0.99\n",
      "[[[ 0.    0.    0.    0.    0.    0.    0.99  0.    0.    0.    0.  ]]] -> N 0.99\n",
      "[[[ 0.    0.    0.    0.    0.    0.    0.    0.    0.    0.99  0.  ]]] -> G 0.99\n",
      "[[[ 0.    0.    0.    0.    0.99  0.    0.    0.    0.    0.    0.  ]]] -> E 0.77\n",
      "[[[ 0.22  0.    0.    0.77  0.    0.    0.    0.    0.    0.    0.  ]]] -> L 0.92\n",
      "[[[ 0.    0.06  0.    0.    0.    0.    0.    0.92  0.    0.    0.  ]]] -> E 0.98\n"
     ]
    }
   ],
   "source": [
    "window_size=1\n",
    "model_5s.reset_states()\n",
    "to_predict = np.zeros((1,1,y_coded.shape[1]))\n",
    "for i in range(2):\n",
    "    predicted = model_5s.predict(to_predict)\n",
    "    idx = np.argmax(predicted[0])\n",
    "    print(i+1, to_predict, '->', indices_to_chars[idx], int(predicted[0][idx]*100)/100)\n",
    "#print(predicted.shape)\n",
    "for i in range(16):\n",
    "    to_predict = predicted.reshape(1, 1, len(chars))\n",
    "    predicted = model_5s.predict(to_predict)\n",
    "    idx = np.argmax(predicted[0])\n",
    "    print((to_predict*100).astype(int)/100, '->', indices_to_chars[idx], int(predicted[0][idx]*100)/100)"
   ]
  },
  {
   "cell_type": "markdown",
   "metadata": {},
   "source": [
    "## Ejemplo 6: Masking"
   ]
  },
  {
   "cell_type": "code",
   "execution_count": 439,
   "metadata": {},
   "outputs": [],
   "source": [
    "from keras.layers import Masking"
   ]
  },
  {
   "cell_type": "markdown",
   "metadata": {},
   "source": [
    "### Armo modelo"
   ]
  },
  {
   "cell_type": "code",
   "execution_count": 440,
   "metadata": {},
   "outputs": [
    {
     "name": "stdout",
     "output_type": "stream",
     "text": [
      "_________________________________________________________________\n",
      "Layer (type)                 Output Shape              Param #   \n",
      "=================================================================\n",
      "masking_8 (Masking)          (None, 15, 11)            0         \n",
      "_________________________________________________________________\n",
      "simple_rnn_37 (SimpleRNN)    (None, 10)                220       \n",
      "_________________________________________________________________\n",
      "dense_35 (Dense)             (None, 11)                121       \n",
      "=================================================================\n",
      "Total params: 341\n",
      "Trainable params: 341\n",
      "Non-trainable params: 0\n",
      "_________________________________________________________________\n"
     ]
    }
   ],
   "source": [
    "model_6 = Sequential()\n",
    "model_6.add(Masking(mask_value=0., input_shape=(X_coded.shape[1],X_coded.shape[2])))\n",
    "model_6.add(SimpleRNN(10))\n",
    "model_6.add(Dense(len(chars), activation=\"softmax\"))\n",
    "model_6.summary()"
   ]
  },
  {
   "cell_type": "markdown",
   "metadata": {},
   "source": [
    "### Lo entreno"
   ]
  },
  {
   "cell_type": "code",
   "execution_count": 441,
   "metadata": {},
   "outputs": [
    {
     "data": {
      "image/png": "[encoded data removed]",
      "text/plain": [
       "<matplotlib.figure.Figure at 0x124965940>"
      ]
     },
     "metadata": {},
     "output_type": "display_data"
    },
    {
     "name": "stdout",
     "output_type": "stream",
     "text": [
      "16/16 [==============================] - 1s 36ms/step - loss: 0.0056 - acc: 1.0000\n",
      "Epoch 992/1000\n",
      "16/16 [==============================] - 0s 14ms/step - loss: 0.0055 - acc: 1.0000\n",
      "Epoch 993/1000\n",
      "16/16 [==============================] - 0s 14ms/step - loss: 0.0055 - acc: 1.0000\n",
      "Epoch 994/1000\n",
      "16/16 [==============================] - 0s 13ms/step - loss: 0.0055 - acc: 1.0000\n",
      "Epoch 995/1000\n",
      "16/16 [==============================] - 0s 10ms/step - loss: 0.0055 - acc: 1.0000\n",
      "Epoch 996/1000\n",
      "16/16 [==============================] - 0s 11ms/step - loss: 0.0054 - acc: 1.0000\n",
      "Epoch 997/1000\n",
      "16/16 [==============================] - 0s 9ms/step - loss: 0.0054 - acc: 1.0000\n",
      "Epoch 998/1000\n",
      "16/16 [==============================] - 0s 9ms/step - loss: 0.0054 - acc: 1.0000\n",
      "Epoch 999/1000\n",
      "16/16 [==============================] - 0s 11ms/step - loss: 0.0053 - acc: 1.0000\n",
      "Epoch 1000/1000\n",
      "16/16 [==============================] - 0s 9ms/step - loss: 0.0053 - acc: 1.0000\n"
     ]
    },
    {
     "data": {
      "text/plain": [
       "<keras.callbacks.History at 0x11d285f98>"
      ]
     },
     "execution_count": 441,
     "metadata": {},
     "output_type": "execute_result"
    }
   ],
   "source": [
    "model_6.compile(optimizer='adam', loss='categorical_crossentropy', metrics=['accuracy'])\n",
    "plot_losses = PlotLosses(plot_interval=10, evaluate_interval=None)\n",
    "model_6.fit(X_coded,y_coded, epochs=1000, batch_size=1, verbose=1, callbacks=[plot_losses])"
   ]
  },
  {
   "cell_type": "markdown",
   "metadata": {},
   "source": [
    "### Resultados"
   ]
  },
  {
   "cell_type": "code",
   "execution_count": 442,
   "metadata": {},
   "outputs": [
    {
     "name": "stdout",
     "output_type": "stream",
     "text": [
      "['', '', '', '', '', '', '', '', '', '', '', '', '', '', ''] -> M 0.92\n",
      "['', '', '', '', '', '', '', '', '', '', '', '', '', '', 'M'] -> A 0.99\n",
      "['', '', '', '', '', '', '', '', '', '', '', '', '', 'M', 'A'] -> C 0.99\n",
      "['', '', '', '', '', '', '', '', '', '', '', '', 'M', 'A', 'C'] -> H 0.99\n",
      "['', '', '', '', '', '', '', '', '', '', '', 'M', 'A', 'C', 'H'] -> I 0.99\n",
      "['', '', '', '', '', '', '', '', '', '', 'M', 'A', 'C', 'H', 'I'] -> N 0.99\n",
      "['', '', '', '', '', '', '', '', '', 'M', 'A', 'C', 'H', 'I', 'N'] -> E 0.99\n",
      "['', '', '', '', '', '', '', '', 'M', 'A', 'C', 'H', 'I', 'N', 'E'] ->   0.99\n",
      "['', '', '', '', '', '', '', 'M', 'A', 'C', 'H', 'I', 'N', 'E', ' '] -> L 0.99\n",
      "['', '', '', '', '', '', 'M', 'A', 'C', 'H', 'I', 'N', 'E', ' ', 'L'] -> E 0.99\n",
      "['', '', '', '', '', 'M', 'A', 'C', 'H', 'I', 'N', 'E', ' ', 'L', 'E'] -> A 0.99\n",
      "['', '', '', '', 'M', 'A', 'C', 'H', 'I', 'N', 'E', ' ', 'L', 'E', 'A'] -> R 0.99\n",
      "['', '', '', 'M', 'A', 'C', 'H', 'I', 'N', 'E', ' ', 'L', 'E', 'A', 'R'] -> N 0.99\n",
      "['', '', 'M', 'A', 'C', 'H', 'I', 'N', 'E', ' ', 'L', 'E', 'A', 'R', 'N'] -> I 0.99\n",
      "['', 'M', 'A', 'C', 'H', 'I', 'N', 'E', ' ', 'L', 'E', 'A', 'R', 'N', 'I'] -> N 0.99\n",
      "['M', 'A', 'C', 'H', 'I', 'N', 'E', ' ', 'L', 'E', 'A', 'R', 'N', 'I', 'N'] -> G 0.99\n"
     ]
    }
   ],
   "source": [
    "to_predict = X_coded\n",
    "predicted = model_6.predict(to_predict)\n",
    "for i, row in enumerate(predicted):\n",
    "    idx = np.argmax(row)\n",
    "    print(X_5[i], '->', indices_to_chars[idx], int(row[idx]*100)/100)"
   ]
  },
  {
   "cell_type": "markdown",
   "metadata": {},
   "source": [
    "### Armo modelo stateful y cargo pesos de modelo anterior entrenado"
   ]
  },
  {
   "cell_type": "code",
   "execution_count": 443,
   "metadata": {},
   "outputs": [
    {
     "name": "stdout",
     "output_type": "stream",
     "text": [
      "_________________________________________________________________\n",
      "Layer (type)                 Output Shape              Param #   \n",
      "=================================================================\n",
      "masking_9 (Masking)          (1, 1, 11)                0         \n",
      "_________________________________________________________________\n",
      "simple_rnn_38 (SimpleRNN)    (1, 10)                   220       \n",
      "_________________________________________________________________\n",
      "dense_36 (Dense)             (1, 11)                   121       \n",
      "=================================================================\n",
      "Total params: 341\n",
      "Trainable params: 341\n",
      "Non-trainable params: 0\n",
      "_________________________________________________________________\n"
     ]
    }
   ],
   "source": [
    "model_6s = Sequential()\n",
    "model_6s.add(Masking(mask_value=0., batch_input_shape=(batch_size,1,len(chars))))\n",
    "model_6s.add(SimpleRNN(10, batch_input_shape=(batch_size,1,len(chars)), stateful=True))\n",
    "model_6s.add(Dense(len(chars), activation=\"softmax\"))\n",
    "model_6s.summary()"
   ]
  },
  {
   "cell_type": "code",
   "execution_count": 444,
   "metadata": {},
   "outputs": [],
   "source": [
    "model_6s.set_weights(model_6.get_weights())"
   ]
  },
  {
   "cell_type": "code",
   "execution_count": 445,
   "metadata": {},
   "outputs": [
    {
     "name": "stdout",
     "output_type": "stream",
     "text": [
      "[[[0 0 0 0 0 0 0 0 1 0 0]]] M -> A 0.99\n",
      "[[[0 1 0 0 0 0 0 0 0 0 0]]] A -> C 0.99\n",
      "[[[0 0 1 0 0 0 0 0 0 0 0]]] C -> H 0.99\n",
      "[[[0 0 0 0 0 1 0 0 0 0 0]]] H -> I 0.99\n",
      "[[[0 0 0 0 0 0 1 0 0 0 0]]] I -> N 0.99\n",
      "[[[0 0 0 0 0 0 0 0 0 1 0]]] N -> E 0.99\n",
      "[[[0 0 0 1 0 0 0 0 0 0 0]]] E ->   0.99\n",
      "[[[1 0 0 0 0 0 0 0 0 0 0]]]   -> L 0.99\n",
      "[[[0 0 0 0 0 0 0 1 0 0 0]]] L -> E 0.99\n",
      "[[[0 0 0 1 0 0 0 0 0 0 0]]] E -> A 0.99\n",
      "[[[0 1 0 0 0 0 0 0 0 0 0]]] A -> R 0.99\n",
      "[[[0 0 0 0 0 0 0 0 0 0 1]]] R -> N 0.99\n",
      "[[[0 0 0 0 0 0 0 0 0 1 0]]] N -> I 0.99\n",
      "[[[0 0 0 0 0 0 1 0 0 0 0]]] I -> N 0.99\n",
      "[[[0 0 0 0 0 0 0 0 0 1 0]]] N -> G 0.99\n",
      "[[[0 0 0 0 1 0 0 0 0 0 0]]] G ->   0.99\n"
     ]
    }
   ],
   "source": [
    "# Comentar el reset_states y ver que pasa\n",
    "# Entrenar 2 de 500 epochs\n",
    "\n",
    "model_6s.reset_states()\n",
    "\n",
    "for i in range(16):\n",
    "    to_predict = y_coded[i:i+1].reshape(1, 1, len(chars))\n",
    "    predicted = model_6s.predict(to_predict)\n",
    "    idx = np.argmax(predicted[0])\n",
    "    print(str(to_predict)+' '+text[i], '->', indices_to_chars[idx], int(predicted[0][idx]*100)/100)"
   ]
  },
  {
   "cell_type": "markdown",
   "metadata": {},
   "source": [
    "### Arrancando del medio"
   ]
  },
  {
   "cell_type": "code",
   "execution_count": 449,
   "metadata": {},
   "outputs": [
    {
     "name": "stdout",
     "output_type": "stream",
     "text": [
      "[[[0 0 0 0 0 0 0 1 0 0 0]]] L -> E 0.67\n",
      "[[[0 0 0 1 0 0 0 0 0 0 0]]] E -> A 0.97\n",
      "[[[0 1 0 0 0 0 0 0 0 0 0]]] A -> R 0.93\n",
      "[[[0 0 0 0 0 0 0 0 0 0 1]]] R -> N 0.99\n",
      "[[[0 0 0 0 0 0 0 0 0 1 0]]] N -> I 0.99\n"
     ]
    }
   ],
   "source": [
    "model_6s.reset_states()\n",
    "st = 8\n",
    "for i in range(5):\n",
    "    to_predict = y_coded[i+st:i+st+1].reshape(1, 1, len(chars))\n",
    "    predicted = model_6s.predict(to_predict)\n",
    "    idx = np.argmax(predicted[0])\n",
    "    print(str(to_predict)+' '+text[i+st], '->', indices_to_chars[idx], int(predicted[0][idx]*100)/100)"
   ]
  },
  {
   "cell_type": "markdown",
   "metadata": {},
   "source": [
    "\n",
    "### Ventajas/Desventajas entre este método y stateful\n",
    "- Ventajas: Este metodo permite el entrenamiento de a batches de manera mas simple\n",
    "- Desventajas: Se la secuencia es muy larga el unfolding termina siendo demasiado largo y requiere mas memoria y procesamiento\n",
    "\n",
    "Nota: En stateful, dependiendo del problema, se puede entrenar con batch size mayor a uno pero hay que pensar bien el armado de las secuencias de entrenamiento.\n",
    "\n",
    "Un ejemplo podría ser: Tengo que generar frases cortas de longitud variable y quiero que aprenda un modelo de lenguage para generar una frase corta"
   ]
  },
  {
   "cell_type": "markdown",
   "metadata": {},
   "source": [
    "# Encoder decoder\n",
    "https://machinelearningmastery.com/encoder-decoder-long-short-term-memory-networks/"
   ]
  },
  {
   "cell_type": "markdown",
   "metadata": {},
   "source": [
    "# Sentiment analysis con CNN y LSTM\n",
    "https://machinelearningmastery.com/sequence-classification-lstm-recurrent-neural-networks-python-keras/"
   ]
  },
  {
   "cell_type": "markdown",
   "metadata": {},
   "source": [
    "# Word-level language model"
   ]
  },
  {
   "cell_type": "markdown",
   "metadata": {},
   "source": [
    "https://machinelearningmastery.com/how-to-develop-a-word-level-neural-language-model-in-keras/"
   ]
  },
  {
   "cell_type": "markdown",
   "metadata": {},
   "source": [
    "# return_sequence vs return_state\n",
    "https://www.quora.com/What-is-the-difference-between-states-and-outputs-in-LSTM\n",
    "\n",
    "https://machinelearningmastery.com/return-sequences-and-return-states-for-lstms-in-keras/"
   ]
  },
  {
   "cell_type": "markdown",
   "metadata": {},
   "source": [
    "# Truncated BPTT \n",
    "https://machinelearningmastery.com/truncated-backpropagation-through-time-in-keras/"
   ]
  }
 ],
 "metadata": {
  "kernelspec": {
   "display_name": "Python 3",
   "language": "python",
   "name": "python3"
  },
  "language_info": {
   "codemirror_mode": {
    "name": "ipython",
    "version": 3
   },
   "file_extension": ".py",
   "mimetype": "text/x-python",
   "name": "python",
   "nbconvert_exporter": "python",
   "pygments_lexer": "ipython3",
   "version": "3.6.2"
  },
  "toc": {
   "nav_menu": {},
   "number_sections": true,
   "sideBar": true,
   "skip_h1_title": true,
   "toc_cell": false,
   "toc_position": {},
   "toc_section_display": "block",
   "toc_window_display": false
  }
 },
 "nbformat": 4,
 "nbformat_minor": 2
}
