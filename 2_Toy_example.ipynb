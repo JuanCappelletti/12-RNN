{
 "cells": [
  {
   "cell_type": "code",
   "execution_count": 18,
   "metadata": {},
   "outputs": [
    {
     "name": "stdout",
     "output_type": "stream",
     "text": [
      "The autoreload extension is already loaded. To reload it, use:\n",
      "  %reload_ext autoreload\n"
     ]
    }
   ],
   "source": [
    "%load_ext autoreload\n",
    "%autoreload 2\n",
    "import numpy as np\n",
    "import sys \n",
    "# sys.path.append(\"/Users/julianganzabal/facultad/lab-ml/mllab-tools\")\n",
    "from RNN_utils import encode_io_pairs, chars_to_one_hot, sample, window_transform_text\n",
    "from fnn_helper import PlotLosses"
   ]
  },
  {
   "cell_type": "markdown",
   "metadata": {},
   "source": [
    "# Formas diferentes de entrenar una RNN con el mismo dataset"
   ]
  },
  {
   "cell_type": "markdown",
   "metadata": {},
   "source": [
    "## Objetivos:"
   ]
  },
  {
   "cell_type": "markdown",
   "metadata": {},
   "source": [
    "Comprender los siguientes conceptos:\n",
    "- Diferencias entre MLP (con features igual a timesteps) y RNN\n",
    "- Stateful vs stateles en Keras\n",
    "- Mini-Batch traininig vs SGD training\n",
    "- Los pesos se actualizan en el backward mientras que el estado de la RNN cambia con cada timestep en el forward\n",
    "- Padding\n",
    "- Masking"
   ]
  },
  {
   "cell_type": "markdown",
   "metadata": {},
   "source": [
    "## Selección de dataset (frase) y preformateo"
   ]
  },
  {
   "cell_type": "markdown",
   "metadata": {},
   "source": [
    "### Elegimos una frase que tenga una letras repetidas"
   ]
  },
  {
   "cell_type": "code",
   "execution_count": 19,
   "metadata": {
    "collapsed": true
   },
   "outputs": [],
   "source": [
    "text=\"MACHINE LEARNING\""
   ]
  },
  {
   "cell_type": "code",
   "execution_count": 20,
   "metadata": {},
   "outputs": [
    {
     "name": "stdout",
     "output_type": "stream",
     "text": [
      "Caracteres distintos:\n",
      "[' ', 'A', 'C', 'E', 'G', 'H', 'I', 'L', 'M', 'N', 'R']\n"
     ]
    }
   ],
   "source": [
    "chars = sorted(set(text))\n",
    "print('Caracteres distintos:')\n",
    "print(chars)"
   ]
  },
  {
   "cell_type": "code",
   "execution_count": 21,
   "metadata": {},
   "outputs": [],
   "source": [
    "window_size=1\n",
    "chars_to_indices = dict((c, i) for i, c in enumerate(chars))  # map each unique character to unique integer\n",
    "indices_to_chars = dict((i, c) for i, c in enumerate(chars))"
   ]
  },
  {
   "cell_type": "code",
   "execution_count": 22,
   "metadata": {},
   "outputs": [
    {
     "data": {
      "text/plain": [
       "{' ': 0,\n",
       " 'A': 1,\n",
       " 'C': 2,\n",
       " 'E': 3,\n",
       " 'G': 4,\n",
       " 'H': 5,\n",
       " 'I': 6,\n",
       " 'L': 7,\n",
       " 'M': 8,\n",
       " 'N': 9,\n",
       " 'R': 10}"
      ]
     },
     "execution_count": 22,
     "metadata": {},
     "output_type": "execute_result"
    }
   ],
   "source": [
    "chars_to_indices"
   ]
  },
  {
   "cell_type": "code",
   "execution_count": 23,
   "metadata": {},
   "outputs": [
    {
     "data": {
      "text/plain": [
       "{0: ' ',\n",
       " 1: 'A',\n",
       " 2: 'C',\n",
       " 3: 'E',\n",
       " 4: 'G',\n",
       " 5: 'H',\n",
       " 6: 'I',\n",
       " 7: 'L',\n",
       " 8: 'M',\n",
       " 9: 'N',\n",
       " 10: 'R'}"
      ]
     },
     "execution_count": 23,
     "metadata": {},
     "output_type": "execute_result"
    }
   ],
   "source": [
    "indices_to_chars"
   ]
  },
  {
   "cell_type": "markdown",
   "metadata": {},
   "source": [
    "### Texto a One-hot"
   ]
  },
  {
   "cell_type": "code",
   "execution_count": 24,
   "metadata": {},
   "outputs": [
    {
     "name": "stdout",
     "output_type": "stream",
     "text": [
      "[[[0 0 0 0 0 0 0 0 1 0 0]\n",
      "  [0 1 0 0 0 0 0 0 0 0 0]\n",
      "  [0 0 1 0 0 0 0 0 0 0 0]\n",
      "  [0 0 0 0 0 1 0 0 0 0 0]\n",
      "  [0 0 0 0 0 0 1 0 0 0 0]\n",
      "  [0 0 0 0 0 0 0 0 0 1 0]\n",
      "  [0 0 0 1 0 0 0 0 0 0 0]\n",
      "  [1 0 0 0 0 0 0 0 0 0 0]\n",
      "  [0 0 0 0 0 0 0 1 0 0 0]\n",
      "  [0 0 0 1 0 0 0 0 0 0 0]\n",
      "  [0 1 0 0 0 0 0 0 0 0 0]\n",
      "  [0 0 0 0 0 0 0 0 0 0 1]\n",
      "  [0 0 0 0 0 0 0 0 0 1 0]\n",
      "  [0 0 0 0 0 0 1 0 0 0 0]\n",
      "  [0 0 0 0 0 0 0 0 0 1 0]\n",
      "  [0 0 0 0 1 0 0 0 0 0 0]]]\n",
      "(1, 16, 11)\n"
     ]
    }
   ],
   "source": [
    "one_hot_text = chars_to_one_hot(text, chars, chars_to_indices, window_size)*1\n",
    "print(one_hot_text)\n",
    "print(one_hot_text.shape)"
   ]
  },
  {
   "cell_type": "markdown",
   "metadata": {},
   "source": [
    "### One-hot a caracter"
   ]
  },
  {
   "cell_type": "code",
   "execution_count": null,
   "metadata": {},
   "outputs": [],
   "source": [
    "print(indices_to_chars[np.argmax(one_hot_text[0][0])])\n",
    "print(indices_to_chars[np.argmax(one_hot_text[0][1])])"
   ]
  },
  {
   "cell_type": "markdown",
   "metadata": {},
   "source": [
    "## Ejemplo 1: T = 1\n",
    "En este ejemplo usaremos una RNN pero como una simple vanilla network (MLP)"
   ]
  },
  {
   "cell_type": "markdown",
   "metadata": {},
   "source": [
    "### Preparo entrada/salida:  "
   ]
  },
  {
   "cell_type": "code",
   "execution_count": null,
   "metadata": {},
   "outputs": [],
   "source": [
    "window_transform_text(text, 1, 1)"
   ]
  },
  {
   "cell_type": "code",
   "execution_count": null,
   "metadata": {
    "collapsed": true
   },
   "outputs": [],
   "source": [
    "window_size = 1\n",
    "step_size = 1\n",
    "# encode_io_pairs llama a window_transform_text y despues codifica en one-hot\n",
    "X, y = encode_io_pairs(text, chars, window_size, step_size)"
   ]
  },
  {
   "cell_type": "code",
   "execution_count": null,
   "metadata": {},
   "outputs": [],
   "source": [
    "print('X:', X.shape, 'y:', y.shape)"
   ]
  },
  {
   "cell_type": "code",
   "execution_count": null,
   "metadata": {},
   "outputs": [],
   "source": [
    "print('N: ', X.shape[0])\n",
    "print('T: ', X.shape[1])\n",
    "print('D: ', X.shape[2])"
   ]
  },
  {
   "cell_type": "code",
   "execution_count": null,
   "metadata": {},
   "outputs": [],
   "source": [
    "for xi in X:\n",
    "    print(xi*1, indices_to_chars[np.argmax(xi)])"
   ]
  },
  {
   "cell_type": "code",
   "execution_count": null,
   "metadata": {},
   "outputs": [],
   "source": [
    "for yi in y:\n",
    "    print(yi*1, indices_to_chars[np.argmax(yi)])"
   ]
  },
  {
   "cell_type": "markdown",
   "metadata": {},
   "source": [
    "Notar que la salida es el siguiente caracter al de la entrada\n",
    "\n",
    "Esto es equivalente a un MLP"
   ]
  },
  {
   "cell_type": "markdown",
   "metadata": {},
   "source": [
    "### Armo modelo RNN"
   ]
  },
  {
   "cell_type": "code",
   "execution_count": null,
   "metadata": {
    "collapsed": true
   },
   "outputs": [],
   "source": [
    "from keras.layers import SimpleRNN, Dense\n",
    "from keras.models import Sequential"
   ]
  },
  {
   "cell_type": "code",
   "execution_count": null,
   "metadata": {},
   "outputs": [],
   "source": [
    "model = Sequential()\n",
    "model.add(SimpleRNN(10, input_shape=(window_size,len(chars))))\n",
    "model.add(Dense(len(chars), activation=\"softmax\"))\n",
    "model.summary()"
   ]
  },
  {
   "cell_type": "markdown",
   "metadata": {},
   "source": [
    "### Entreno el modelo"
   ]
  },
  {
   "cell_type": "code",
   "execution_count": null,
   "metadata": {},
   "outputs": [],
   "source": [
    "model.compile(optimizer='adam', loss='categorical_crossentropy', metrics=['accuracy'])\n",
    "plot_losses = PlotLosses(plot_interval=10, evaluate_interval=None)\n",
    "model.fit(X,y, epochs=500, batch_size=1, verbose=1, callbacks=[plot_losses])"
   ]
  },
  {
   "cell_type": "markdown",
   "metadata": {},
   "source": [
    "Por que no llega al 100%? Que es lo que no puede predecir?"
   ]
  },
  {
   "cell_type": "markdown",
   "metadata": {},
   "source": [
    "### Predicción usando argmax (Greedy Search)"
   ]
  },
  {
   "cell_type": "code",
   "execution_count": null,
   "metadata": {},
   "outputs": [],
   "source": [
    "char_to_predict = text[0]\n",
    "to_predict = chars_to_one_hot(char_to_predict, chars, chars_to_indices, window_size)*1\n",
    "print(char_to_predict, '=', to_predict)\n",
    "predicted = model.predict(to_predict)\n",
    "print(predicted)\n",
    "print(indices_to_chars[np.argmax(predicted)], np.max(predicted))"
   ]
  },
  {
   "cell_type": "code",
   "execution_count": null,
   "metadata": {
    "collapsed": true
   },
   "outputs": [],
   "source": [
    "chars_to_predict = text[:]\n",
    "print(chars_to_predict)\n",
    "# Los paso a one hot\n",
    "to_predict = chars_to_one_hot(chars_to_predict, chars, chars_to_indices, window_size)*1\n",
    "print(to_predict)\n",
    "print(to_predict.shape)"
   ]
  },
  {
   "cell_type": "code",
   "execution_count": null,
   "metadata": {},
   "outputs": [],
   "source": [
    "# Tengo que hacer reshape para darselo a la red\n",
    "to_predict_reshaped = to_predict.reshape(to_predict.shape[1],to_predict.shape[0],to_predict.shape[2])\n",
    "print(to_predict_reshaped)\n",
    "print(to_predict_reshaped.shape)"
   ]
  },
  {
   "cell_type": "markdown",
   "metadata": {},
   "source": [
    "### Matriz de transición"
   ]
  },
  {
   "cell_type": "code",
   "execution_count": null,
   "metadata": {
    "collapsed": true
   },
   "outputs": [],
   "source": [
    "predicted = model.predict(to_predict_reshaped)\n",
    "print(predicted.shape)\n",
    "print('    ', end='')\n",
    "for c in chars_to_indices.keys():\n",
    "    print(c, end='     ')\n",
    "print()\n",
    "for i, row in enumerate(predicted):\n",
    "    print(indices_to_chars[np.argmax(to_predict[:,i])], (row*100).astype(int)/100, indices_to_chars[np.argmax(row)])"
   ]
  },
  {
   "cell_type": "markdown",
   "metadata": {},
   "source": [
    "Que pasa con la A y la N cuando el texto es MACHINE LEARNING"
   ]
  },
  {
   "cell_type": "markdown",
   "metadata": {},
   "source": [
    "## Ejemplo 2: T = 2"
   ]
  },
  {
   "cell_type": "markdown",
   "metadata": {},
   "source": [
    "### Preparo entrada/salida"
   ]
  },
  {
   "cell_type": "code",
   "execution_count": null,
   "metadata": {
    "collapsed": true
   },
   "outputs": [],
   "source": [
    "window_size = 2\n",
    "x_2_t, y_2_t = window_transform_text(text, window_size, step_size)\n",
    "for i, te in enumerate(x_2_t):\n",
    "    print(te, '->' ,y_2_t[i])\n",
    "#print(x_2_t, y_2_t)\n",
    "X_2, y_2 = encode_io_pairs(text, chars, window_size, step_size)"
   ]
  },
  {
   "cell_type": "code",
   "execution_count": null,
   "metadata": {},
   "outputs": [],
   "source": [
    "print(X_2.shape, X_2*1)"
   ]
  },
  {
   "cell_type": "code",
   "execution_count": null,
   "metadata": {},
   "outputs": [],
   "source": [
    "print(y_2*1)"
   ]
  },
  {
   "cell_type": "markdown",
   "metadata": {},
   "source": [
    "### Armo modelo"
   ]
  },
  {
   "cell_type": "code",
   "execution_count": null,
   "metadata": {},
   "outputs": [],
   "source": [
    "model_2 = Sequential()\n",
    "model_2.add(SimpleRNN(10, input_shape=(window_size,len(chars))))\n",
    "model_2.add(Dense(len(chars), activation=\"softmax\"))\n",
    "model_2.summary()"
   ]
  },
  {
   "cell_type": "markdown",
   "metadata": {},
   "source": [
    "### Entreno modelo"
   ]
  },
  {
   "cell_type": "code",
   "execution_count": null,
   "metadata": {},
   "outputs": [],
   "source": [
    "model_2.compile(optimizer='adam', loss='categorical_crossentropy', metrics=['accuracy'])\n",
    "plot_losses = PlotLosses(plot_interval=10, evaluate_interval=None)\n",
    "model_2.fit(X_2,y_2, epochs=500, batch_size=1, verbose=1, callbacks=[plot_losses])"
   ]
  },
  {
   "cell_type": "markdown",
   "metadata": {},
   "source": [
    "### Matriz de transición"
   ]
  },
  {
   "cell_type": "code",
   "execution_count": null,
   "metadata": {},
   "outputs": [],
   "source": [
    "predicted = model_2.predict(X_2)\n",
    "print(predicted.shape)\n",
    "print('     ', end='')\n",
    "for c in chars_to_indices.keys():\n",
    "    print(c, end='     ')\n",
    "print()\n",
    "for i, row in enumerate(predicted):\n",
    "    print(indices_to_chars[np.argmax(X_2[i, :][0])]+indices_to_chars[np.argmax(X_2[i, :][1])], (row*100).astype(int)/100, indices_to_chars[np.argmax(row)])"
   ]
  },
  {
   "cell_type": "markdown",
   "metadata": {},
   "source": [
    "Notar que NI todavía no se puede predecir debido a la ambiguedad"
   ]
  },
  {
   "cell_type": "markdown",
   "metadata": {},
   "source": [
    "- Como es de esperar la predicción mejora notablemente\n",
    "- La cantidad de parametros de la red no cambia respecto a la anterior\n",
    "- Que pasa si lo implemento con MLP con la cantidad de parámetros?"
   ]
  },
  {
   "cell_type": "markdown",
   "metadata": {},
   "source": [
    "## Ejemplo 3: T = 3"
   ]
  },
  {
   "cell_type": "markdown",
   "metadata": {},
   "source": [
    "### Preparo entrada/salida"
   ]
  },
  {
   "cell_type": "code",
   "execution_count": null,
   "metadata": {},
   "outputs": [],
   "source": [
    "window_size = 3\n",
    "x_3_t, y_3_t = window_transform_text(text, window_size, step_size)\n",
    "for i, te in enumerate(x_3_t):\n",
    "    print(te, '->' ,y_3_t[i])\n",
    "#print(x_2_t, y_2_t)\n",
    "X_3, y_3 = encode_io_pairs(text, chars, window_size, step_size)"
   ]
  },
  {
   "cell_type": "markdown",
   "metadata": {},
   "source": [
    "### Armo modelo"
   ]
  },
  {
   "cell_type": "code",
   "execution_count": null,
   "metadata": {},
   "outputs": [],
   "source": [
    "model_3 = Sequential()\n",
    "model_3.add(SimpleRNN(10, input_shape=(window_size,len(chars))))\n",
    "model_3.add(Dense(len(chars), activation=\"softmax\"))\n",
    "model_3.summary()"
   ]
  },
  {
   "cell_type": "markdown",
   "metadata": {},
   "source": [
    "### Entreno modelo"
   ]
  },
  {
   "cell_type": "markdown",
   "metadata": {},
   "source": [
    "Cambiar batch_size y verificar que converge de la misma manera"
   ]
  },
  {
   "cell_type": "code",
   "execution_count": null,
   "metadata": {},
   "outputs": [],
   "source": [
    "model_3.compile(optimizer='adam', loss='categorical_crossentropy', metrics=['accuracy'])\n",
    "plot_losses = PlotLosses(plot_interval=10, evaluate_interval=None)\n",
    "model_3.fit(X_3,y_3, epochs=500, batch_size=4, verbose=1, callbacks=[plot_losses])"
   ]
  },
  {
   "cell_type": "markdown",
   "metadata": {},
   "source": [
    "- Como funciona la RNN con un batch size mayor que 1?\n",
    "- En que momento se resetea el estado?\n",
    "- Que dimensión tendrá el vector de estados durante el entrenamiento?"
   ]
  },
  {
   "cell_type": "markdown",
   "metadata": {},
   "source": [
    "### Matriz de transición"
   ]
  },
  {
   "cell_type": "code",
   "execution_count": null,
   "metadata": {},
   "outputs": [],
   "source": [
    "predicted = model_3.predict(X_3)\n",
    "print(predicted.shape)\n",
    "print('     ', end='')\n",
    "for c in chars_to_indices.keys():\n",
    "    print(c, end='     ')\n",
    "print()\n",
    "for i, row in enumerate(predicted):\n",
    "    print(indices_to_chars[np.argmax(X_3[i, :][0])]+\n",
    "          indices_to_chars[np.argmax(X_3[i, :][1])]+\n",
    "          indices_to_chars[np.argmax(X_3[i, :][2])], \n",
    "          (row*100).astype(int)/100, indices_to_chars[np.argmax(row)])"
   ]
  },
  {
   "cell_type": "markdown",
   "metadata": {},
   "source": [
    "- Las probabilidades son practicamente 1\n",
    "- La cantidad de parametros de la red no cambia respecto a la anterior\n",
    "- Que pasa si lo implemento con MLP con la cantidad de parámetros?"
   ]
  },
  {
   "cell_type": "markdown",
   "metadata": {},
   "source": [
    "### Redefino Modelo con pesos aprendidos pero statefull"
   ]
  },
  {
   "cell_type": "code",
   "execution_count": null,
   "metadata": {},
   "outputs": [],
   "source": [
    "batch_size=1\n",
    "model_3s = Sequential()\n",
    "model_3s.add(SimpleRNN(10, batch_input_shape=(batch_size,1,len(chars)), stateful=True))\n",
    "model_3s.add(Dense(len(chars), activation=\"softmax\"))\n",
    "model_3s.summary()\n",
    "model_3s.set_weights(model_3.get_weights())"
   ]
  },
  {
   "cell_type": "code",
   "execution_count": null,
   "metadata": {},
   "outputs": [],
   "source": [
    "window_size=1\n",
    "model_3s.reset_states()\n",
    "input_char = text[0]\n",
    "print('char de entrada:',input_char)\n",
    "to_predict = chars_to_one_hot(input_char, chars, chars_to_indices, window_size)*1\n",
    "predicted = model_3s.predict(to_predict)\n",
    "print('   ', end='')\n",
    "for c in chars_to_indices.keys():\n",
    "    print(c, end='     ')\n",
    "print()\n",
    "print((predicted*100).astype(int)/100)\n",
    "print('char predicted:', indices_to_chars[np.argmax(predicted[0])])"
   ]
  },
  {
   "cell_type": "markdown",
   "metadata": {},
   "source": [
    "Notar que con un solo caracter ingresado, no tiene suficiente data para predecir (Ningun caracter tiene alta probabilidad)"
   ]
  },
  {
   "cell_type": "code",
   "execution_count": null,
   "metadata": {},
   "outputs": [],
   "source": [
    "input_char = text[1]\n",
    "print('char de entrada:',input_char)\n",
    "to_predict = chars_to_one_hot(input_char, chars, chars_to_indices, window_size)*1\n",
    "predicted = model_3s.predict(to_predict)\n",
    "print('   ', end='')\n",
    "for c in chars_to_indices.keys():\n",
    "    print(c, end='     ')\n",
    "print()\n",
    "print((predicted*100).astype(int)/100)\n",
    "print('char predicted:', indices_to_chars[np.argmax(predicted[0])])"
   ]
  },
  {
   "cell_type": "markdown",
   "metadata": {},
   "source": [
    "la predicción no tiene por que ser correcta a esta altura debido a que el modelo nunca fue entrenado con la secuencia ingresada"
   ]
  },
  {
   "cell_type": "code",
   "execution_count": null,
   "metadata": {},
   "outputs": [],
   "source": [
    "input_char = text[2]\n",
    "print('char de entrada:',input_char)\n",
    "to_predict = chars_to_one_hot(input_char, chars, chars_to_indices, window_size)*1\n",
    "predicted = model_3s.predict(to_predict)\n",
    "print('   ', end='')\n",
    "for c in chars_to_indices.keys():\n",
    "    print(c, end='     ')\n",
    "print()\n",
    "print((predicted*100).astype(int)/100)\n",
    "print('char predicted:', indices_to_chars[np.argmax(predicted[0])])"
   ]
  },
  {
   "cell_type": "markdown",
   "metadata": {},
   "source": [
    "Notar que luego de la tercer predicción el modelo predice casi perfectamente"
   ]
  },
  {
   "cell_type": "code",
   "execution_count": null,
   "metadata": {},
   "outputs": [],
   "source": [
    "input_char = text[3]\n",
    "print('char de entrada:',input_char)\n",
    "to_predict = chars_to_one_hot(input_char, chars, chars_to_indices, window_size)*1\n",
    "predicted = model_3s.predict(to_predict)\n",
    "print('   ', end='')\n",
    "for c in chars_to_indices.keys():\n",
    "    print(c, end='     ')\n",
    "print()\n",
    "print((predicted*100).astype(int)/100)\n",
    "print('char predicted:', indices_to_chars[np.argmax(predicted[0])])"
   ]
  },
  {
   "cell_type": "markdown",
   "metadata": {},
   "source": [
    "Notar como suele bajar la probabilidad de la predicción debido a que el modelo no tiene por que predecir secuencias mayores a la longitud entrenada (Aunque en ciertas circunstancias podría generalizar)"
   ]
  },
  {
   "cell_type": "code",
   "execution_count": null,
   "metadata": {},
   "outputs": [],
   "source": [
    "input_char = text[4]\n",
    "print('char de entrada:',input_char)\n",
    "to_predict = chars_to_one_hot(input_char, chars, chars_to_indices, window_size)*1\n",
    "predicted = model_3s.predict(to_predict)\n",
    "print('   ', end='')\n",
    "for c in chars_to_indices.keys():\n",
    "    print(c, end='     ')\n",
    "print()\n",
    "print((predicted*100).astype(int)/100)\n",
    "print('char predicted:', indices_to_chars[np.argmax(predicted[0])])"
   ]
  },
  {
   "cell_type": "code",
   "execution_count": null,
   "metadata": {},
   "outputs": [],
   "source": [
    "input_char = text[5]\n",
    "print('char de entrada:',input_char)\n",
    "to_predict = chars_to_one_hot(input_char, chars, chars_to_indices, window_size)*1\n",
    "predicted = model_3s.predict(to_predict)\n",
    "print('   ', end='')\n",
    "for c in chars_to_indices.keys():\n",
    "    print(c, end='     ')\n",
    "print()\n",
    "print((predicted*100).astype(int)/100)\n",
    "print('char predicted:', indices_to_chars[np.argmax(predicted[0])])"
   ]
  },
  {
   "cell_type": "markdown",
   "metadata": {},
   "source": [
    "Ya a esta altura estoy tratando de predecir algo probablemente demasiado lejano y no lo puede predecir correctamente"
   ]
  },
  {
   "cell_type": "markdown",
   "metadata": {},
   "source": [
    "Por eso, si quiero predecir una nueva secuencia de tres, tengo que resetear el estado y luego  mandar de a un caracter"
   ]
  },
  {
   "cell_type": "code",
   "execution_count": null,
   "metadata": {},
   "outputs": [],
   "source": [
    "model_3s.reset_states()\n",
    "input_char = text[3]\n",
    "print('char de entrada:',input_char)\n",
    "to_predict = chars_to_one_hot(input_char, chars, chars_to_indices, window_size)*1\n",
    "predicted = model_3s.predict(to_predict)\n",
    "print('   ', end='')\n",
    "for c in chars_to_indices.keys():\n",
    "    print(c, end='     ')\n",
    "print()\n",
    "print((predicted*100).astype(int)/100)\n",
    "print('char predicted:', indices_to_chars[np.argmax(predicted[0])])"
   ]
  },
  {
   "cell_type": "code",
   "execution_count": null,
   "metadata": {},
   "outputs": [],
   "source": [
    "input_char = text[4]\n",
    "print('char de entrada:',input_char)\n",
    "to_predict = chars_to_one_hot(input_char, chars, chars_to_indices, window_size)*1\n",
    "predicted = model_3s.predict(to_predict)\n",
    "print('   ', end='')\n",
    "for c in chars_to_indices.keys():\n",
    "    print(c, end='     ')\n",
    "print()\n",
    "print((predicted*100).astype(int)/100)\n",
    "print('char predicted:', indices_to_chars[np.argmax(predicted[0])])"
   ]
  },
  {
   "cell_type": "code",
   "execution_count": null,
   "metadata": {},
   "outputs": [],
   "source": [
    "input_char = text[5]\n",
    "print('char de entrada:',input_char)\n",
    "to_predict = chars_to_one_hot(input_char, chars, chars_to_indices, window_size)*1\n",
    "predicted = model_3s.predict(to_predict)\n",
    "print('   ', end='')\n",
    "for c in chars_to_indices.keys():\n",
    "    print(c, end='     ')\n",
    "print()\n",
    "print((predicted*100).astype(int)/100)\n",
    "print('char predicted:', indices_to_chars[np.argmax(predicted[0])])"
   ]
  },
  {
   "cell_type": "markdown",
   "metadata": {},
   "source": [
    "Notar que aca tiene una predicción muy alta debido a que esta secuencia fue vista por el modelo"
   ]
  },
  {
   "cell_type": "markdown",
   "metadata": {},
   "source": [
    "Conclusión importante:  \n",
    "Si puede usar la statefull para predecir, pero hay que alimentar con el largo orignal de la secuencia para que la salida empiece a tener sentido"
   ]
  },
  {
   "cell_type": "markdown",
   "metadata": {},
   "source": [
    "## Ejemplo 4: Stateful RNN\n",
    "Entreno en modo stateful"
   ]
  },
  {
   "cell_type": "code",
   "execution_count": null,
   "metadata": {},
   "outputs": [],
   "source": [
    "window_transform_text(text, 1, 1)"
   ]
  },
  {
   "cell_type": "code",
   "execution_count": null,
   "metadata": {},
   "outputs": [],
   "source": [
    "batch_size=1\n",
    "model_4 = Sequential()\n",
    "model_4.add(SimpleRNN(10, batch_input_shape=(batch_size,1,len(chars)), stateful=True))\n",
    "model_4.add(Dense(len(chars), activation=\"softmax\"))\n",
    "model_4.summary()"
   ]
  },
  {
   "cell_type": "markdown",
   "metadata": {},
   "source": [
    "- Notar que X e y son los mismos que en el caso T = 1"
   ]
  },
  {
   "cell_type": "code",
   "execution_count": null,
   "metadata": {},
   "outputs": [],
   "source": [
    "X.shape, y.shape"
   ]
  },
  {
   "cell_type": "code",
   "execution_count": null,
   "metadata": {},
   "outputs": [],
   "source": [
    "batch_size = 1"
   ]
  },
  {
   "cell_type": "markdown",
   "metadata": {},
   "source": [
    "### Observar: shuffle=False y stateful=True\n",
    "- Puedo usar otro batch size en este caso?\n",
    "- Por que suffle tiene que estar en false?"
   ]
  },
  {
   "cell_type": "code",
   "execution_count": null,
   "metadata": {},
   "outputs": [],
   "source": [
    "model_4.compile(optimizer='adam', loss='categorical_crossentropy', metrics=['accuracy'])\n",
    "for i in range(300):\n",
    "    model_4.fit(X, y, epochs=1, batch_size=batch_size, verbose=1, shuffle=False)\n",
    "    model_4.reset_states()"
   ]
  },
  {
   "cell_type": "markdown",
   "metadata": {},
   "source": [
    "### Voy ingresando de a uno la frase original"
   ]
  },
  {
   "cell_type": "code",
   "execution_count": null,
   "metadata": {},
   "outputs": [],
   "source": [
    "# Probar con 0, 3, 4, 7 y 1\n",
    "starting = 1\n",
    "model_4.reset_states()\n",
    "for c in text[starting:]:\n",
    "    to_predict = chars_to_one_hot(c, chars, chars_to_indices, window_size)*1\n",
    "    predicted = model_4.predict(to_predict)\n",
    "    print(c, '->', indices_to_chars[np.argmax(predicted[0])], int(max(predicted[0])*100)/100)"
   ]
  },
  {
   "cell_type": "markdown",
   "metadata": {},
   "source": [
    "Con starting en (text es MACHINE LEARNING):\n",
    "- 0 Predice todo correctamente\n",
    "- 6 Al arrancar en E puede ser tanto la de L**E**AR.. o la de CHIN**E** .. por lo que no tiene demasiada certeza\n",
    "- 4 La I da alta probabilidad para la N"
   ]
  },
  {
   "cell_type": "markdown",
   "metadata": {},
   "source": [
    "### Realimentando salida"
   ]
  },
  {
   "cell_type": "code",
   "execution_count": null,
   "metadata": {},
   "outputs": [],
   "source": [
    "starting = 0\n",
    "model_4.reset_states()\n",
    "c = text[starting]\n",
    "for i in range(25):\n",
    "    to_predict = chars_to_one_hot(c, chars, chars_to_indices, window_size)*1\n",
    "    predicted = model_4.predict(to_predict)\n",
    "    pred_char = indices_to_chars[np.argmax(predicted[0])]\n",
    "    print(c, '->', pred_char, int(max(predicted[0])*100)/100)\n",
    "    c = pred_char"
   ]
  },
  {
   "cell_type": "markdown",
   "metadata": {},
   "source": [
    "## Ejemplo 5: Padding\n",
    "\"The model will learn the zero values carry no information so indeed the sequences are not the same length in terms of content, but same length vectors is required to perform the computation in Keras.\" https://machinelearningmastery.com/sequence-classification-lstm-recurrent-neural-networks-python-keras/\n",
    "https://machinelearningmastery.com/understanding-stateful-lstm-recurrent-neural-networks-python-keras/\n",
    "\n",
    "Como entreno no-statefull pero que de resultados similares a la statefull?"
   ]
  },
  {
   "cell_type": "code",
   "execution_count": null,
   "metadata": {},
   "outputs": [],
   "source": [
    "def window_transform_text_padding_mode(text):\n",
    "    len_out = len(text)\n",
    "    \n",
    "    #output_start[-1] = text[:1]\n",
    "    #output_start[len_out-1:len_out-2] = text[0:1]\n",
    "    text = text\n",
    "    X = []\n",
    "    y = []\n",
    "    for i in range(len_out):\n",
    "        #X.append()\n",
    "        output_start = ['']*(len_out-1)\n",
    "        output_start[len_out-i-1:len_out] = text[0:i]\n",
    "        X.append(output_start)\n",
    "        y.append(text[i])\n",
    "    return X, y"
   ]
  },
  {
   "cell_type": "markdown",
   "metadata": {},
   "source": [
    "### Armo entradas con padding"
   ]
  },
  {
   "cell_type": "code",
   "execution_count": null,
   "metadata": {},
   "outputs": [],
   "source": [
    "X_5, y_5 = window_transform_text_padding_mode(text)"
   ]
  },
  {
   "cell_type": "code",
   "execution_count": null,
   "metadata": {},
   "outputs": [],
   "source": [
    "X_5"
   ]
  },
  {
   "cell_type": "code",
   "execution_count": null,
   "metadata": {},
   "outputs": [],
   "source": [
    "print(y_5)"
   ]
  },
  {
   "cell_type": "code",
   "execution_count": null,
   "metadata": {},
   "outputs": [],
   "source": [
    "chars = sorted(set(text))\n",
    "chars_to_indices = dict((c, i) for i, c in enumerate(chars))\n",
    "chars_to_indices[''] = -1"
   ]
  },
  {
   "cell_type": "code",
   "execution_count": null,
   "metadata": {},
   "outputs": [],
   "source": [
    "def code_chars(X, y, chars_to_indices):\n",
    "    X_coded = []\n",
    "    y_coded = []\n",
    "    for i, xi in enumerate(X):\n",
    "        one_h_y = [0]*(len(chars_to_indices) - 1) # Menos 1 por el '' agregado\n",
    "        vect = []\n",
    "        for c in xi:\n",
    "            one_h = [0]*(len(chars_to_indices) - 1)\n",
    "            if c == '':\n",
    "                vect.append(one_h)\n",
    "            else:\n",
    "                one_h[chars_to_indices[c]] = 1\n",
    "                vect.append(one_h)\n",
    "        X_coded.append(vect)\n",
    "        one_h_y[chars_to_indices[y[i]]] = 1\n",
    "        y_coded.append(one_h_y)\n",
    "    return np.array(X_coded), np.array(y_coded)"
   ]
  },
  {
   "cell_type": "code",
   "execution_count": null,
   "metadata": {},
   "outputs": [],
   "source": [
    "X_coded, y_coded = code_chars(X_5, y_5, chars_to_indices)"
   ]
  },
  {
   "cell_type": "code",
   "execution_count": null,
   "metadata": {},
   "outputs": [],
   "source": [
    "X_coded.shape, y_coded.shape"
   ]
  },
  {
   "cell_type": "code",
   "execution_count": null,
   "metadata": {},
   "outputs": [],
   "source": [
    "# Primer entrada todos ceros\n",
    "#[['', '', '', '', '', '', '', '', '', '', '', '', '', '', '']\n",
    "X_coded[0]"
   ]
  },
  {
   "cell_type": "code",
   "execution_count": null,
   "metadata": {},
   "outputs": [],
   "source": [
    "# ['', '', '', '', '', '', '', '', '', '', '', '', '', '', 'M'],\n",
    "X_coded[1]"
   ]
  },
  {
   "cell_type": "markdown",
   "metadata": {},
   "source": [
    "### Entreno modelo"
   ]
  },
  {
   "cell_type": "code",
   "execution_count": null,
   "metadata": {},
   "outputs": [],
   "source": [
    "model_5 = Sequential()\n",
    "model_5.add(SimpleRNN(10, input_shape=(X_coded.shape[1],X_coded.shape[2])))\n",
    "model_5.add(Dense(len(chars), activation=\"softmax\"))\n",
    "model_5.summary()"
   ]
  },
  {
   "cell_type": "code",
   "execution_count": null,
   "metadata": {},
   "outputs": [],
   "source": [
    "model_5.compile(optimizer='adam', loss='categorical_crossentropy', metrics=['accuracy'])\n",
    "plot_losses = PlotLosses(plot_interval=10, evaluate_interval=None)\n",
    "model_5.fit(X_coded,y_coded, epochs=500, batch_size=1, verbose=1, callbacks=[plot_losses])"
   ]
  },
  {
   "cell_type": "code",
   "execution_count": null,
   "metadata": {},
   "outputs": [],
   "source": [
    "to_predict = X_coded\n",
    "predicted = model_5.predict(to_predict)\n",
    "for i, row in enumerate(predicted):\n",
    "    idx = np.argmax(row)\n",
    "    print(X_5[i], '->', indices_to_chars[idx], int(row[idx]*100)/100)"
   ]
  },
  {
   "cell_type": "markdown",
   "metadata": {},
   "source": [
    "### Ahora redefino modelo como stateful y cargo los pesos del anterior"
   ]
  },
  {
   "cell_type": "code",
   "execution_count": null,
   "metadata": {},
   "outputs": [],
   "source": [
    "batch_size=1\n",
    "model_5s = Sequential()\n",
    "model_5s.add(SimpleRNN(10, batch_input_shape=(batch_size,1,len(chars)), stateful=True))\n",
    "model_5s.add(Dense(len(chars), activation=\"softmax\"))\n",
    "model_5s.summary()"
   ]
  },
  {
   "cell_type": "code",
   "execution_count": null,
   "metadata": {},
   "outputs": [],
   "source": [
    "model_5s.set_weights(model_5.get_weights())"
   ]
  },
  {
   "cell_type": "markdown",
   "metadata": {},
   "source": [
    "### Donde esta el maximo si ingereso ceros?"
   ]
  },
  {
   "cell_type": "code",
   "execution_count": null,
   "metadata": {},
   "outputs": [],
   "source": [
    "model_5s.reset_states()\n",
    "to_predict = np.zeros((1,1,y_coded.shape[1]))\n",
    "for i in range(20):\n",
    "    predicted = model_5s.predict(to_predict)\n",
    "    idx = np.argmax(predicted[0])\n",
    "    print(i+1, to_predict, '->', indices_to_chars[idx], int(predicted[0][idx]*100)/100)"
   ]
  },
  {
   "cell_type": "code",
   "execution_count": null,
   "metadata": {},
   "outputs": [],
   "source": [
    "model_5s.reset_states()\n",
    "to_predict = np.zeros((1,1,y_coded.shape[1]))\n",
    "for i in range(0):\n",
    "    predicted = model_5s.predict(to_predict)\n",
    "    idx = np.argmax(predicted[0])\n",
    "    print(i+1, to_predict, '->', indices_to_chars[idx], int(predicted[0][idx]*100)/100)"
   ]
  },
  {
   "cell_type": "code",
   "execution_count": null,
   "metadata": {},
   "outputs": [],
   "source": [
    "for i in range(16):\n",
    "    to_predict = y_coded[i:i+1].reshape(1, 1, len(chars))\n",
    "    predicted = model_5s.predict(to_predict)\n",
    "    idx = np.argmax(predicted[0])\n",
    "    print(to_predict, '->', indices_to_chars[idx], int(predicted[0][idx]*100)/100)"
   ]
  },
  {
   "cell_type": "markdown",
   "metadata": {},
   "source": [
    "### Realimento salida\n",
    "Pero no ingreso con one-hot sino con las predicciones"
   ]
  },
  {
   "cell_type": "code",
   "execution_count": null,
   "metadata": {},
   "outputs": [],
   "source": [
    "window_size=1\n",
    "model_5s.reset_states()\n",
    "to_predict = np.zeros((1,1,y_coded.shape[1]))\n",
    "for i in range(2):\n",
    "    predicted = model_5s.predict(to_predict)\n",
    "    idx = np.argmax(predicted[0])\n",
    "    print(i+1, to_predict, '->', indices_to_chars[idx], int(predicted[0][idx]*100)/100)\n",
    "#print(predicted.shape)\n",
    "for i in range(16):\n",
    "    to_predict = predicted.reshape(1, 1, len(chars))\n",
    "    predicted = model_5s.predict(to_predict)\n",
    "    idx = np.argmax(predicted[0])\n",
    "    print((to_predict*100).astype(int)/100, '->', indices_to_chars[idx], int(predicted[0][idx]*100)/100)"
   ]
  },
  {
   "cell_type": "markdown",
   "metadata": {},
   "source": [
    "## Ejemplo 6: Masking"
   ]
  },
  {
   "cell_type": "code",
   "execution_count": null,
   "metadata": {},
   "outputs": [],
   "source": [
    "from keras.layers import Masking"
   ]
  },
  {
   "cell_type": "markdown",
   "metadata": {},
   "source": [
    "### Armo modelo"
   ]
  },
  {
   "cell_type": "code",
   "execution_count": null,
   "metadata": {},
   "outputs": [],
   "source": [
    "model_6 = Sequential()\n",
    "model_6.add(Masking(mask_value=0., input_shape=(X_coded.shape[1],X_coded.shape[2])))\n",
    "model_6.add(SimpleRNN(10))\n",
    "model_6.add(Dense(len(chars), activation=\"softmax\"))\n",
    "model_6.summary()"
   ]
  },
  {
   "cell_type": "markdown",
   "metadata": {},
   "source": [
    "### Lo entreno"
   ]
  },
  {
   "cell_type": "code",
   "execution_count": null,
   "metadata": {},
   "outputs": [],
   "source": [
    "model_6.compile(optimizer='adam', loss='categorical_crossentropy', metrics=['accuracy'])\n",
    "plot_losses = PlotLosses(plot_interval=10, evaluate_interval=None)\n",
    "model_6.fit(X_coded,y_coded, epochs=1000, batch_size=1, verbose=1, callbacks=[plot_losses])"
   ]
  },
  {
   "cell_type": "markdown",
   "metadata": {},
   "source": [
    "### Resultados"
   ]
  },
  {
   "cell_type": "code",
   "execution_count": null,
   "metadata": {},
   "outputs": [],
   "source": [
    "to_predict = X_coded\n",
    "predicted = model_6.predict(to_predict)\n",
    "for i, row in enumerate(predicted):\n",
    "    idx = np.argmax(row)\n",
    "    print(X_5[i], '->', indices_to_chars[idx], int(row[idx]*100)/100)"
   ]
  },
  {
   "cell_type": "markdown",
   "metadata": {},
   "source": [
    "### Armo modelo stateful y cargo pesos de modelo anterior entrenado"
   ]
  },
  {
   "cell_type": "code",
   "execution_count": null,
   "metadata": {},
   "outputs": [],
   "source": [
    "model_6s = Sequential()\n",
    "model_6s.add(Masking(mask_value=0., batch_input_shape=(batch_size,1,len(chars))))\n",
    "model_6s.add(SimpleRNN(10, batch_input_shape=(batch_size,1,len(chars)), stateful=True))\n",
    "model_6s.add(Dense(len(chars), activation=\"softmax\"))\n",
    "model_6s.summary()"
   ]
  },
  {
   "cell_type": "code",
   "execution_count": null,
   "metadata": {},
   "outputs": [],
   "source": [
    "model_6s.set_weights(model_6.get_weights())"
   ]
  },
  {
   "cell_type": "code",
   "execution_count": null,
   "metadata": {},
   "outputs": [],
   "source": [
    "# Comentar el reset_states y ver que pasa\n",
    "# Entrenar 2 de 500 epochs\n",
    "\n",
    "model_6s.reset_states()\n",
    "\n",
    "for i in range(16):\n",
    "    to_predict = y_coded[i:i+1].reshape(1, 1, len(chars))\n",
    "    predicted = model_6s.predict(to_predict)\n",
    "    idx = np.argmax(predicted[0])\n",
    "    print(str(to_predict)+' '+text[i], '->', indices_to_chars[idx], int(predicted[0][idx]*100)/100)"
   ]
  },
  {
   "cell_type": "markdown",
   "metadata": {},
   "source": [
    "### Arrancando del medio"
   ]
  },
  {
   "cell_type": "code",
   "execution_count": null,
   "metadata": {},
   "outputs": [],
   "source": [
    "model_6s.reset_states()\n",
    "st = 8\n",
    "for i in range(5):\n",
    "    to_predict = y_coded[i+st:i+st+1].reshape(1, 1, len(chars))\n",
    "    predicted = model_6s.predict(to_predict)\n",
    "    idx = np.argmax(predicted[0])\n",
    "    print(str(to_predict)+' '+text[i+st], '->', indices_to_chars[idx], int(predicted[0][idx]*100)/100)"
   ]
  },
  {
   "cell_type": "markdown",
   "metadata": {},
   "source": [
    "\n",
    "### Ventajas/Desventajas entre este método y stateful\n",
    "- Ventajas: Este metodo permite el entrenamiento de a batches de manera mas simple\n",
    "- Desventajas: Se la secuencia es muy larga el unfolding termina siendo demasiado largo y requiere mas memoria y procesamiento\n",
    "\n",
    "Nota: En stateful, dependiendo del problema, se puede entrenar con batch size mayor a uno pero hay que pensar bien el armado de las secuencias de entrenamiento.\n",
    "\n",
    "Un ejemplo podría ser: Tengo que generar frases cortas de longitud variable y quiero que aprenda un modelo de lenguage para generar una frase corta"
   ]
  },
  {
   "cell_type": "markdown",
   "metadata": {},
   "source": [
    "## Ejemplo 7: Return sequence"
   ]
  },
  {
   "cell_type": "code",
   "execution_count": 25,
   "metadata": {},
   "outputs": [
    {
     "name": "stdout",
     "output_type": "stream",
     "text": [
      "Caracteres distintos:\n",
      "[' ', '#', '$', 'A', 'C', 'E', 'G', 'H', 'I', 'L', 'M', 'N', 'R']\n",
      "[[[0 1 0 0 0 0 0 0 0 0 0 0 0]\n",
      "  [0 0 0 0 0 0 0 0 0 0 1 0 0]\n",
      "  [0 0 0 1 0 0 0 0 0 0 0 0 0]\n",
      "  [0 0 0 0 1 0 0 0 0 0 0 0 0]\n",
      "  [0 0 0 0 0 0 0 1 0 0 0 0 0]\n",
      "  [0 0 0 0 0 0 0 0 1 0 0 0 0]\n",
      "  [0 0 0 0 0 0 0 0 0 0 0 1 0]\n",
      "  [0 0 0 0 0 1 0 0 0 0 0 0 0]\n",
      "  [1 0 0 0 0 0 0 0 0 0 0 0 0]\n",
      "  [0 0 0 0 0 0 0 0 0 1 0 0 0]\n",
      "  [0 0 0 0 0 1 0 0 0 0 0 0 0]\n",
      "  [0 0 0 1 0 0 0 0 0 0 0 0 0]\n",
      "  [0 0 0 0 0 0 0 0 0 0 0 0 1]\n",
      "  [0 0 0 0 0 0 0 0 0 0 0 1 0]\n",
      "  [0 0 0 0 0 0 0 0 1 0 0 0 0]\n",
      "  [0 0 0 0 0 0 0 0 0 0 0 1 0]\n",
      "  [0 0 0 0 0 0 1 0 0 0 0 0 0]\n",
      "  [0 0 1 0 0 0 0 0 0 0 0 0 0]]]\n",
      "(1, 18, 13)\n"
     ]
    }
   ],
   "source": [
    "text=\"#MACHINE LEARNING$\"\n",
    "chars = sorted(set(text))\n",
    "print('Caracteres distintos:')\n",
    "print(chars)\n",
    "window_size=1\n",
    "chars_to_indices = dict((c, i) for i, c in enumerate(chars))  # map each unique character to unique integer\n",
    "indices_to_chars = dict((i, c) for i, c in enumerate(chars))\n",
    "one_hot_text = chars_to_one_hot(text, chars, chars_to_indices, window_size)*1\n",
    "print(one_hot_text)\n",
    "print(one_hot_text.shape)"
   ]
  },
  {
   "cell_type": "code",
   "execution_count": 39,
   "metadata": {},
   "outputs": [],
   "source": [
    "X_train = one_hot_text[:, :-1, :]\n",
    "y_train = one_hot_text[:, 1:, :]"
   ]
  },
  {
   "cell_type": "code",
   "execution_count": 40,
   "metadata": {},
   "outputs": [
    {
     "data": {
      "text/plain": [
       "((1, 17, 13), (1, 17, 13))"
      ]
     },
     "execution_count": 40,
     "metadata": {},
     "output_type": "execute_result"
    }
   ],
   "source": [
    "X_train.shape, y_train.shape"
   ]
  },
  {
   "cell_type": "code",
   "execution_count": 56,
   "metadata": {},
   "outputs": [
    {
     "name": "stdout",
     "output_type": "stream",
     "text": [
      "_________________________________________________________________\n",
      "Layer (type)                 Output Shape              Param #   \n",
      "=================================================================\n",
      "simple_rnn_8 (SimpleRNN)     (None, 17, 10)            240       \n",
      "_________________________________________________________________\n",
      "dense_8 (Dense)              (None, 17, 13)            143       \n",
      "=================================================================\n",
      "Total params: 383\n",
      "Trainable params: 383\n",
      "Non-trainable params: 0\n",
      "_________________________________________________________________\n"
     ]
    }
   ],
   "source": [
    "from keras.layers import SimpleRNN, Dense\n",
    "from keras.models import Sequential\n",
    "model_7 = Sequential()\n",
    "model_7.add(LSTM(10, return_sequences=True, input_shape=(X_train.shape[1],len(chars))))\n",
    "model_7.add(Dense(len(chars), activation=\"softmax\"))\n",
    "model_7.summary()"
   ]
  },
  {
   "cell_type": "code",
   "execution_count": 42,
   "metadata": {},
   "outputs": [
    {
     "data": {
      "image/png": "[encoded data removed]",
      "text/plain": [
       "<matplotlib.figure.Figure at 0x11e810908>"
      ]
     },
     "metadata": {},
     "output_type": "display_data"
    },
    {
     "name": "stdout",
     "output_type": "stream",
     "text": [
      "1/1 [==============================] - 0s 349ms/step - loss: 0.2428 - acc: 1.0000\n",
      "Epoch 492/500\n",
      "1/1 [==============================] - 0s 13ms/step - loss: 0.2419 - acc: 1.0000\n",
      "Epoch 493/500\n",
      "1/1 [==============================] - 0s 14ms/step - loss: 0.2410 - acc: 1.0000\n",
      "Epoch 494/500\n",
      "1/1 [==============================] - 0s 12ms/step - loss: 0.2401 - acc: 1.0000\n",
      "Epoch 495/500\n",
      "1/1 [==============================] - 0s 11ms/step - loss: 0.2392 - acc: 1.0000\n",
      "Epoch 496/500\n",
      "1/1 [==============================] - 0s 13ms/step - loss: 0.2383 - acc: 1.0000\n",
      "Epoch 497/500\n",
      "1/1 [==============================] - 0s 11ms/step - loss: 0.2374 - acc: 1.0000\n",
      "Epoch 498/500\n",
      "1/1 [==============================] - 0s 10ms/step - loss: 0.2365 - acc: 1.0000\n",
      "Epoch 499/500\n",
      "1/1 [==============================] - 0s 13ms/step - loss: 0.2356 - acc: 1.0000\n",
      "Epoch 500/500\n",
      "1/1 [==============================] - 0s 12ms/step - loss: 0.2347 - acc: 1.0000\n"
     ]
    },
    {
     "data": {
      "text/plain": [
       "<keras.callbacks.History at 0x11e923240>"
      ]
     },
     "execution_count": 42,
     "metadata": {},
     "output_type": "execute_result"
    }
   ],
   "source": [
    "model_7.compile(optimizer='adam', loss='categorical_crossentropy', metrics=['accuracy'])\n",
    "plot_losses = PlotLosses(plot_interval=10, evaluate_interval=None)\n",
    "model_7.fit(X_train,y_train, epochs=500, batch_size=1, verbose=1, callbacks=[plot_losses])"
   ]
  },
  {
   "cell_type": "code",
   "execution_count": 50,
   "metadata": {},
   "outputs": [
    {
     "data": {
      "text/plain": [
       "(1, 17, 13)"
      ]
     },
     "execution_count": 50,
     "metadata": {},
     "output_type": "execute_result"
    }
   ],
   "source": [
    "X_train.shape"
   ]
  },
  {
   "cell_type": "code",
   "execution_count": 61,
   "metadata": {},
   "outputs": [
    {
     "data": {
      "text/plain": [
       "(1, 17, 13)"
      ]
     },
     "execution_count": 61,
     "metadata": {},
     "output_type": "execute_result"
    }
   ],
   "source": [
    "model_7.predict(X_train).shape"
   ]
  },
  {
   "cell_type": "code",
   "execution_count": 52,
   "metadata": {},
   "outputs": [
    {
     "data": {
      "text/plain": [
       "array([[10,  3,  4,  7,  8, 11,  5,  0,  9,  5,  3, 12, 11,  8, 11,  6,  2]])"
      ]
     },
     "execution_count": 52,
     "metadata": {},
     "output_type": "execute_result"
    }
   ],
   "source": [
    "model_7.predict_classes(X_train)"
   ]
  },
  {
   "cell_type": "code",
   "execution_count": 53,
   "metadata": {},
   "outputs": [
    {
     "data": {
      "text/plain": [
       "{0: ' ',\n",
       " 1: '#',\n",
       " 2: '$',\n",
       " 3: 'A',\n",
       " 4: 'C',\n",
       " 5: 'E',\n",
       " 6: 'G',\n",
       " 7: 'H',\n",
       " 8: 'I',\n",
       " 9: 'L',\n",
       " 10: 'M',\n",
       " 11: 'N',\n",
       " 12: 'R'}"
      ]
     },
     "execution_count": 53,
     "metadata": {},
     "output_type": "execute_result"
    }
   ],
   "source": [
    "indices_to_chars"
   ]
  },
  {
   "cell_type": "markdown",
   "metadata": {},
   "source": [
    "# Encoder decoder\n",
    "https://machinelearningmastery.com/encoder-decoder-long-short-term-memory-networks/"
   ]
  },
  {
   "cell_type": "markdown",
   "metadata": {},
   "source": [
    "# Sentiment analysis con CNN y LSTM\n",
    "https://machinelearningmastery.com/sequence-classification-lstm-recurrent-neural-networks-python-keras/"
   ]
  },
  {
   "cell_type": "markdown",
   "metadata": {},
   "source": [
    "# Word-level language model"
   ]
  },
  {
   "cell_type": "markdown",
   "metadata": {},
   "source": [
    "https://machinelearningmastery.com/how-to-develop-a-word-level-neural-language-model-in-keras/"
   ]
  },
  {
   "cell_type": "markdown",
   "metadata": {},
   "source": [
    "# return_sequence vs return_state\n",
    "https://www.quora.com/What-is-the-difference-between-states-and-outputs-in-LSTM\n",
    "\n",
    "https://machinelearningmastery.com/return-sequences-and-return-states-for-lstms-in-keras/"
   ]
  },
  {
   "cell_type": "markdown",
   "metadata": {},
   "source": [
    "# Truncated BPTT \n",
    "https://machinelearningmastery.com/truncated-backpropagation-through-time-in-keras/"
   ]
  }
 ],
 "metadata": {
  "kernelspec": {
   "display_name": "Python 3",
   "language": "python",
   "name": "python3"
  },
  "language_info": {
   "codemirror_mode": {
    "name": "ipython",
    "version": 3
   },
   "file_extension": ".py",
   "mimetype": "text/x-python",
   "name": "python",
   "nbconvert_exporter": "python",
   "pygments_lexer": "ipython3",
   "version": "3.6.2"
  },
  "toc": {
   "nav_menu": {},
   "number_sections": true,
   "sideBar": true,
   "skip_h1_title": true,
   "toc_cell": false,
   "toc_position": {},
   "toc_section_display": "block",
   "toc_window_display": false
  }
 },
 "nbformat": 4,
 "nbformat_minor": 2
}
