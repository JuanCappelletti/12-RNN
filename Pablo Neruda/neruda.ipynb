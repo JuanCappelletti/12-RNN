{
 "cells": [
  {
   "cell_type": "code",
   "execution_count": 1,
   "metadata": {},
   "outputs": [],
   "source": [
    "%load_ext autoreload\n",
    "%autoreload 2"
   ]
  },
  {
   "cell_type": "code",
   "execution_count": 2,
   "metadata": {},
   "outputs": [],
   "source": [
    "import numpy as np"
   ]
  },
  {
   "cell_type": "code",
   "execution_count": 3,
   "metadata": {},
   "outputs": [],
   "source": [
    "raw_text = open('cien sonetos de amor.txt').readlines()"
   ]
  },
  {
   "cell_type": "code",
   "execution_count": 4,
   "metadata": {},
   "outputs": [
    {
     "data": {
      "text/plain": [
       "['Soneto I \\n',\n",
       " '\\n',\n",
       " 'Matilde, nombre de planta o piedra o vino, \\n',\n",
       " 'de lo que nace de la tierra y dura, \\n',\n",
       " 'palabra en cuyo crecimiento amanece, \\n',\n",
       " 'en cuyo estío estalla la luz de los limones. \\n',\n",
       " 'En ese nombre corren navíos de madera \\n',\n",
       " 'rodeados por enjambres de fuego azul marino, \\n',\n",
       " 'y esas letras son el agua de un río \\n',\n",
       " 'que desemboca en mi corazón calcinado. \\n',\n",
       " 'Oh nombre descubierto bajo una enredadera \\n',\n",
       " 'como la puerta de un túnel desconocido \\n',\n",
       " 'que comunica con la fragancia del mundo! \\n',\n",
       " 'Oh invádeme con tu boca abrasadora, \\n',\n",
       " 'indágame, si quieres, con tus ojos nocturnos, \\n',\n",
       " 'pero en tu nombre déjame navegar y dormir.\\n',\n",
       " '\\n',\n",
       " ' \\n',\n",
       " '\\n',\n",
       " 'Soneto II \\n']"
      ]
     },
     "execution_count": 4,
     "metadata": {},
     "output_type": "execute_result"
    }
   ],
   "source": [
    "raw_text[:20]"
   ]
  },
  {
   "cell_type": "code",
   "execution_count": 5,
   "metadata": {},
   "outputs": [],
   "source": [
    "raw_text_no_cr = []\n",
    "for i, line in enumerate(raw_text):\n",
    "    if line != '\\n' and line!=' \\n':\n",
    "        if line[:7] == 'Soneto ':\n",
    "            if i>0: raw_text_no_cr.append(' END_SONETO ')\n",
    "            raw_text_no_cr.append(' START_SONETO ')\n",
    "        else:\n",
    "            raw_text_no_cr.append(line.replace(' \\n', '\\n')\n",
    "                                  .replace('«', '\"')\n",
    "                                  .replace('»', '\"')\n",
    "                                  .replace('-', 'char_guion_medio')\n",
    "                                  .replace('(', 'char_open_parent')\n",
    "                                  .replace(')', 'char_close_parent')\n",
    "                                  .replace('\\n', ' char_new_line ')\n",
    "                                  .replace('.', ' char_dot ')\n",
    "                                  .replace(',', ' char_comma ')\n",
    "                                  .replace('¡', ' char_exclamation_open ')\n",
    "                                  .replace('!', ' char_exclamation_close ')\n",
    "                                  .replace('¿', ' char_question_open ')\n",
    "                                  .replace('?', ' char_question_close ')\n",
    "                                  .replace(':', ' char_dos_puntos ')\n",
    "                                  .replace('\"', ' char_comillas ')\n",
    "                                 )"
   ]
  },
  {
   "cell_type": "code",
   "execution_count": 6,
   "metadata": {},
   "outputs": [
    {
     "data": {
      "text/plain": [
       "[' START_SONETO ',\n",
       " 'Matilde char_comma  nombre de planta o piedra o vino char_comma  char_new_line ',\n",
       " 'de lo que nace de la tierra y dura char_comma  char_new_line ',\n",
       " 'palabra en cuyo crecimiento amanece char_comma  char_new_line ',\n",
       " 'en cuyo estío estalla la luz de los limones char_dot  char_new_line ',\n",
       " 'En ese nombre corren navíos de madera char_new_line ',\n",
       " 'rodeados por enjambres de fuego azul marino char_comma  char_new_line ',\n",
       " 'y esas letras son el agua de un río char_new_line ',\n",
       " 'que desemboca en mi corazón calcinado char_dot  char_new_line ',\n",
       " 'Oh nombre descubierto bajo una enredadera char_new_line ',\n",
       " 'como la puerta de un túnel desconocido char_new_line ',\n",
       " 'que comunica con la fragancia del mundo char_exclamation_close  char_new_line ',\n",
       " 'Oh invádeme con tu boca abrasadora char_comma  char_new_line ',\n",
       " 'indágame char_comma  si quieres char_comma  con tus ojos nocturnos char_comma  char_new_line ',\n",
       " 'pero en tu nombre déjame navegar y dormir char_dot  char_new_line ',\n",
       " ' END_SONETO ',\n",
       " ' START_SONETO ',\n",
       " 'Amor char_comma  cuántos caminos hasta llegar a un beso char_comma  char_new_line ',\n",
       " 'qué soledad errante hasta tu compañía char_exclamation_close  char_new_line ',\n",
       " 'Siguen los trenes solos rodando con la lluvia char_dot  char_new_line ',\n",
       " 'En Taltal no amanece aún la primavera char_dot  char_new_line ',\n",
       " 'Pero tú y yo char_comma  amor mío char_comma  estamos juntos char_comma  char_new_line ',\n",
       " 'juntos desde la ropa a las raíces char_comma  char_new_line ',\n",
       " 'juntos de otoño char_comma  de agua char_comma  de caderas char_comma  char_new_line ',\n",
       " 'hasta ser sólo tú char_comma  sólo yo juntos char_dot  char_new_line ',\n",
       " 'Pensar que costó tantas piedras que lleva el río char_comma  char_new_line ',\n",
       " 'la desembocadura del agua de Boroa char_comma  char_new_line ',\n",
       " 'pensar que separados por trenes y naciones char_new_line ',\n",
       " 'tú y yo teníamos que simplemente amarnos char_comma  char_new_line ',\n",
       " 'con todos confundidos char_comma  con hombres y mujeres char_comma  char_new_line ',\n",
       " 'con la tierra que implanta y educa los claveles char_dot  char_new_line ',\n",
       " ' END_SONETO ',\n",
       " ' START_SONETO ',\n",
       " 'Aspero amor char_comma  violeta coronada de espinas char_comma  char_new_line ',\n",
       " 'matorral entre tantas pasiones erizado char_comma  char_new_line ',\n",
       " 'lanza de los dolores char_comma  corola de la cólera char_comma  char_new_line ',\n",
       " 'por qué caminos y cómo te dirigiste a mi alma char_question_close  char_new_line ',\n",
       " 'Por qué precipitaste tu fuego doloroso char_comma  char_new_line ',\n",
       " 'de pronto char_comma  entre las hojas frías de mi camino char_question_close  char_new_line ',\n",
       " 'Quién te enseñó los pasos que hasta mí te llevaron char_question_close  char_new_line ',\n",
       " 'Qué flor char_comma  qué piedra char_comma  qué humo mostraron mi morada char_question_close  char_new_line ',\n",
       " 'Lo cierto es que tembló la noche pavorosa char_comma  char_new_line ',\n",
       " 'el alba llenó todas las copas con su vino char_new_line ',\n",
       " 'y el sol estableció su presencia celeste char_comma  char_new_line ',\n",
       " 'mientras que el cruel amor me cercaba sin tregua char_new_line ',\n",
       " 'hasta que lacerándome con espadas y espinas char_new_line ',\n",
       " 'abrió en mi corazón un camino quemante char_dot  char_new_line ',\n",
       " ' END_SONETO ',\n",
       " ' START_SONETO ',\n",
       " 'Recordarás aquella quebrada caprichosa char_new_line ']"
      ]
     },
     "execution_count": 6,
     "metadata": {},
     "output_type": "execute_result"
    }
   ],
   "source": [
    "raw_text_no_cr[:50]"
   ]
  },
  {
   "cell_type": "code",
   "execution_count": 7,
   "metadata": {},
   "outputs": [
    {
     "name": "stdout",
     "output_type": "stream",
     "text": [
      " START_SONETO Matilde char_comma  nombre de planta o piedra o vino char_comma  char_new_line de lo que nace de la tierra y dura char_comma  char_new_line palabra en cuyo crecimiento amanece char_comma\n"
     ]
    }
   ],
   "source": [
    "all_text = ''.join(raw_text_no_cr)\n",
    "print(all_text[:200])"
   ]
  },
  {
   "cell_type": "code",
   "execution_count": 8,
   "metadata": {},
   "outputs": [],
   "source": [
    "from sklearn.feature_extraction.text import CountVectorizer"
   ]
  },
  {
   "cell_type": "code",
   "execution_count": 9,
   "metadata": {},
   "outputs": [],
   "source": [
    "vectorizer = CountVectorizer(stop_words=None, token_pattern='(?u)\\\\b\\\\w+\\\\b')"
   ]
  },
  {
   "cell_type": "code",
   "execution_count": 10,
   "metadata": {},
   "outputs": [],
   "source": [
    "matrix = vectorizer.fit_transform([all_text])"
   ]
  },
  {
   "cell_type": "code",
   "execution_count": 11,
   "metadata": {},
   "outputs": [
    {
     "data": {
      "text/plain": [
       "2568"
      ]
     },
     "execution_count": 11,
     "metadata": {},
     "output_type": "execute_result"
    }
   ],
   "source": [
    "len(vectorizer.vocabulary_)"
   ]
  },
  {
   "cell_type": "code",
   "execution_count": 12,
   "metadata": {},
   "outputs": [],
   "source": [
    "import re"
   ]
  },
  {
   "cell_type": "code",
   "execution_count": 13,
   "metadata": {},
   "outputs": [],
   "source": [
    "separators = re.compile('(?u)\\\\b\\\\w+\\\\b').split(all_text)"
   ]
  },
  {
   "cell_type": "code",
   "execution_count": 14,
   "metadata": {},
   "outputs": [],
   "source": [
    "for s in separators:\n",
    "    if s!=' ' and s!='  ':\n",
    "        print(s)"
   ]
  },
  {
   "cell_type": "code",
   "execution_count": 15,
   "metadata": {},
   "outputs": [],
   "source": [
    "words = re.findall('(?u)\\\\b\\\\w+\\\\b', all_text)"
   ]
  },
  {
   "cell_type": "code",
   "execution_count": 16,
   "metadata": {},
   "outputs": [
    {
     "data": {
      "text/plain": [
       "['START_SONETO', 'Matilde', 'char_comma', 'nombre', 'de']"
      ]
     },
     "execution_count": 16,
     "metadata": {},
     "output_type": "execute_result"
    }
   ],
   "source": [
    "words[:5]"
   ]
  },
  {
   "cell_type": "code",
   "execution_count": 17,
   "metadata": {},
   "outputs": [],
   "source": [
    "coded_words = [vectorizer.vocabulary_[word.lower()] for word in words]"
   ]
  },
  {
   "cell_type": "code",
   "execution_count": 18,
   "metadata": {},
   "outputs": [
    {
     "data": {
      "text/plain": [
       "[2201, 1458, 425, 1608, 660, 1789, 1627, 1769, 1627, 2502]"
      ]
     },
     "execution_count": 18,
     "metadata": {},
     "output_type": "execute_result"
    }
   ],
   "source": [
    "coded_words[:10]"
   ]
  },
  {
   "cell_type": "code",
   "execution_count": 19,
   "metadata": {},
   "outputs": [
    {
     "data": {
      "text/plain": [
       "2568"
      ]
     },
     "execution_count": 19,
     "metadata": {},
     "output_type": "execute_result"
    }
   ],
   "source": [
    "len(set(coded_words))"
   ]
  },
  {
   "cell_type": "code",
   "execution_count": 20,
   "metadata": {},
   "outputs": [
    {
     "name": "stderr",
     "output_type": "stream",
     "text": [
      "Using TensorFlow backend.\n"
     ]
    }
   ],
   "source": [
    "from keras.utils import to_categorical"
   ]
  },
  {
   "cell_type": "code",
   "execution_count": 21,
   "metadata": {},
   "outputs": [
    {
     "data": {
      "text/plain": [
       "(13990, 2568)"
      ]
     },
     "execution_count": 21,
     "metadata": {},
     "output_type": "execute_result"
    }
   ],
   "source": [
    "to_categorical(coded_words).shape"
   ]
  },
  {
   "cell_type": "code",
   "execution_count": 64,
   "metadata": {},
   "outputs": [],
   "source": [
    "window = 10\n",
    "step = 1\n",
    "sentences = []\n",
    "next_chars = []\n",
    "for i in range(0, len(coded_words) - window, step):\n",
    "    sentences.append(coded_words[i: i + window])\n",
    "    next_chars.append(coded_words[i + window])"
   ]
  },
  {
   "cell_type": "code",
   "execution_count": 65,
   "metadata": {},
   "outputs": [],
   "source": [
    "x_train = np.array(sentences)\n",
    "y_train = to_categorical(np.array(next_chars))"
   ]
  },
  {
   "cell_type": "code",
   "execution_count": 66,
   "metadata": {},
   "outputs": [],
   "source": [
    "from keras.models import Sequential\n",
    "from keras.layers import Embedding, LSTM, Dense"
   ]
  },
  {
   "cell_type": "code",
   "execution_count": 67,
   "metadata": {},
   "outputs": [
    {
     "data": {
      "text/plain": [
       "(13980, 10)"
      ]
     },
     "execution_count": 67,
     "metadata": {},
     "output_type": "execute_result"
    }
   ],
   "source": [
    "x_train.shape"
   ]
  },
  {
   "cell_type": "code",
   "execution_count": 68,
   "metadata": {},
   "outputs": [
    {
     "data": {
      "text/plain": [
       "(13980, 2568)"
      ]
     },
     "execution_count": 68,
     "metadata": {},
     "output_type": "execute_result"
    }
   ],
   "source": [
    "y_train.shape"
   ]
  },
  {
   "cell_type": "code",
   "execution_count": 69,
   "metadata": {},
   "outputs": [
    {
     "data": {
      "text/plain": [
       "2568"
      ]
     },
     "execution_count": 69,
     "metadata": {},
     "output_type": "execute_result"
    }
   ],
   "source": [
    "len(set(coded_words))"
   ]
  },
  {
   "cell_type": "code",
   "execution_count": null,
   "metadata": {},
   "outputs": [],
   "source": []
  },
  {
   "cell_type": "code",
   "execution_count": 131,
   "metadata": {},
   "outputs": [
    {
     "data": {
      "text/plain": [
       "'única'"
      ]
     },
     "execution_count": 131,
     "metadata": {},
     "output_type": "execute_result"
    }
   ],
   "source": [
    "vectorizer.get_feature_names()[max(coded_words)]"
   ]
  },
  {
   "cell_type": "code",
   "execution_count": 70,
   "metadata": {},
   "outputs": [],
   "source": [
    "from models import get_model_1"
   ]
  },
  {
   "cell_type": "code",
   "execution_count": 71,
   "metadata": {},
   "outputs": [
    {
     "name": "stdout",
     "output_type": "stream",
     "text": [
      "_________________________________________________________________\n",
      "Layer (type)                 Output Shape              Param #   \n",
      "=================================================================\n",
      "embedding_4 (Embedding)      (None, None, 64)          164352    \n",
      "_________________________________________________________________\n",
      "lstm_4 (LSTM)                (None, 100)               66000     \n",
      "_________________________________________________________________\n",
      "dense_4 (Dense)              (None, 2568)              259368    \n",
      "=================================================================\n",
      "Total params: 489,720\n",
      "Trainable params: 489,720\n",
      "Non-trainable params: 0\n",
      "_________________________________________________________________\n"
     ]
    }
   ],
   "source": [
    "model1 = get_model_1(len(set(coded_words)))\n",
    "model1.summary()"
   ]
  },
  {
   "cell_type": "code",
   "execution_count": 72,
   "metadata": {},
   "outputs": [],
   "source": [
    "model1.compile(loss='categorical_crossentropy', optimizer='rmsprop')"
   ]
  },
  {
   "cell_type": "code",
   "execution_count": 95,
   "metadata": {},
   "outputs": [],
   "source": [
    "model1.fit(x_train, y_train, batch_size=256, epochs=400, verbose = 1)"
   ]
  },
  {
   "cell_type": "code",
   "execution_count": 74,
   "metadata": {},
   "outputs": [],
   "source": [
    "initial_phrase = ['start_soneto', 'la', 'tarde', 'brilla' ,'en']\n",
    "#initial_phrase = ['start_soneto', 'el', 'amor', 'es' ,'el']"
   ]
  },
  {
   "cell_type": "code",
   "execution_count": 75,
   "metadata": {},
   "outputs": [],
   "source": [
    "predicted_words = [vectorizer.vocabulary_[word] for word in initial_phrase]\n",
    "for i in range(200):\n",
    "    pred_word = model1.predict_classes(np.array(predicted_words)[-5:].reshape(1,5))[0]\n",
    "    if (vectorizer.vocabulary_['end_soneto'] == pred_word):\n",
    "        break\n",
    "    predicted_words.append(pred_word)"
   ]
  },
  {
   "cell_type": "code",
   "execution_count": 76,
   "metadata": {},
   "outputs": [
    {
     "name": "stdout",
     "output_type": "stream",
     "text": [
      " la tarde brilla en la noche en el agua de la piedra \n",
      " nos plena vez con la sombra, \n",
      " tu boca con la tierra, \n",
      " sin vez con un cielo, \n",
      " tu boca con la tierra, \n",
      " sin vez con un cielo, \n",
      " tu boca con la tierra, \n",
      " sin vez con un cielo, \n",
      " tu boca con la tierra, \n",
      " sin vez con un cielo, \n",
      " tu boca con la tierra, \n",
      " sin vez con un cielo, \n",
      " tu boca con la tierra, \n",
      " sin vez con un cielo, \n",
      " tu boca con la tierra, \n",
      " sin vez con un cielo, \n",
      " tu boca con la tierra, \n",
      " sin vez con un cielo, \n",
      " tu boca con la tierra, \n",
      " sin vez con un cielo, \n",
      " tu boca con la tierra, \n",
      " sin vez con un cielo, \n",
      " tu boca con la tierra, \n",
      " sin vez con un cielo, \n",
      " tu boca con la tierra, \n",
      " sin vez con un cielo, \n",
      " tu boca con la tierra, \n",
      " sin vez con un cielo, \n",
      " tu "
     ]
    }
   ],
   "source": [
    "print(' ', end='')\n",
    "for word_idx in predicted_words:\n",
    "    decoded_word = vectorizer.get_feature_names()[word_idx]\n",
    "    if decoded_word!='start_soneto':\n",
    "        print(decoded_word.replace('char_comma', '\\b,').\n",
    "              replace('char_dot', '\\b.').\n",
    "              replace('char_dos_puntos', '\\b:').\n",
    "              replace('char_new_line', '\\n')\n",
    "              +\n",
    "              ' ', end='')"
   ]
  },
  {
   "cell_type": "raw",
   "metadata": {},
   "source": [
    "50 epochs\n",
    "la tarde brilla en la arena, \n",
    " la corazón del mar de las olas, \n",
    " la boca del mar de los pétalos, \n",
    " que amor de amor, \n",
    " tienen los bosques de la boca, a la luz del cielo \n",
    " que se derramen de la vida, \n",
    " la signo del mar de los pétalos, \n",
    " que amor de amor, \n",
    " tienen los bosques de la boca, a la luz del cielo \n",
    " que se derramen de la vida, \n",
    " la signo del mar de los pétalos, \n",
    " que amor de amor, \n",
    " tienen los bosques de la boca, a la luz del cielo \n",
    " que se derramen de la vida, \n",
    " la signo del mar de los pétalos, \n",
    " que amor de amor, \n",
    " tienen los bosques de la boca, a la luz del cielo \n",
    " que se derramen de la vida, \n",
    " la signo del mar de los pétalos, \n",
    " que amor de amor, \n",
    " tienen los bosques de la boca, a la luz del cielo \n",
    " que se derramen de la vida, \n",
    " la signo del mar de los pétalos "
   ]
  },
  {
   "cell_type": "raw",
   "metadata": {},
   "source": [
    "100 epochs\n",
    "1)\n",
    "la tarde brilla en tus manos, \n",
    " de la transmigración del sueño a la ensalada, \n",
    " del reptil enrollado en la manguera. \n",
    " no te costó subir de las raíces \n",
    " cantando con tu sílaba de savia. \n",
    " y aquí estarás primero en flor fragante, \n",
    " el mar tiene sus bosques, \n",
    ", amor, no quiero, amor, te rama quiero sin tus manos \n",
    " como el sol de una copa, \n",
    " curva, sutil, rosada hasta que nace el día \n",
    " y te metes en una sola ola de junio, \n",
    " hasta las estío y que se consuman los sueño. \n",
    " la ola, el amor, ni otra ola.\n",
    " \n",
    "2)\n",
    " el amor es el tiempo que llevas, \n",
    " pido, la noche, el día, \n",
    " hacia la luz del hombre a las piedras. "
   ]
  },
  {
   "cell_type": "raw",
   "metadata": {},
   "source": [
    "150 epochs\n",
    "1)\n",
    "la tarde brilla en la noche y el trigo, \n",
    " a un flor, con una sola harina, \n",
    " cayó el dolor sobre otro dulce rostro \n",
    " y así en la tierra que la virtud de tus patria, \n",
    " se moriré desde tu sueño de amaranto. \n",
    " y aquí estarás primero en flor fragante, \n",
    " en la estatua de un beso convertida, \n",
    " hasta que sol y tierra, sangre y cielo, \n",
    " te otorguen la delicia y la dulzura. \n",
    " en la rama veré tu cabellera, \n",
    " tu signo madurando en el follaje, \n",
    " acercando las hojas a mi sed, \n",
    " y llenará mi boca tu substancia, \n",
    " el beso que subió desde la tierra \n",
    " con tu sangre de fruta enamorada. \n",
    " \n",
    "2) \n",
    "el amor es el ramo que tu que en con la luna \n",
    " que a ti tu voz se jabón, \n",
    " y de la noche entregamos el cielo \n",
    " llevándote y toqué a mis brazos los pétalos, \n",
    " de este amor, amor, no ha terminado, \n",
    " y así como todo el ayer de guitarra sin rumbo o fuego. \n",
    " la luz del hombre toca con una sentidos y. \n",
    " amor, amor, es mío, el mar y adiós, \n",
    " y del amor, mientras de donde dolores, \n",
    " yo desde las esquinas en las calles \n",
    " hasta que comprendí que había encontrado, \n",
    " amor, mi territorio de besos y volcanes.\n"
   ]
  },
  {
   "cell_type": "code",
   "execution_count": 77,
   "metadata": {},
   "outputs": [],
   "source": [
    "model1.save_weights('model_1-window-10.hdf5')"
   ]
  },
  {
   "cell_type": "code",
   "execution_count": 376,
   "metadata": {},
   "outputs": [],
   "source": [
    "from models import get_model_1"
   ]
  },
  {
   "cell_type": "code",
   "execution_count": 378,
   "metadata": {},
   "outputs": [
    {
     "name": "stdout",
     "output_type": "stream",
     "text": [
      "_________________________________________________________________\n",
      "Layer (type)                 Output Shape              Param #   \n",
      "=================================================================\n",
      "embedding_11 (Embedding)     (None, None, 64)          164352    \n",
      "_________________________________________________________________\n",
      "lstm_9 (LSTM)                (None, 100)               66000     \n",
      "_________________________________________________________________\n",
      "dense_8 (Dense)              (None, 2568)              259368    \n",
      "=================================================================\n",
      "Total params: 489,720\n",
      "Trainable params: 489,720\n",
      "Non-trainable params: 0\n",
      "_________________________________________________________________\n"
     ]
    }
   ],
   "source": [
    "model_1 = get_model_1(len(set(coded_words)))"
   ]
  },
  {
   "cell_type": "code",
   "execution_count": 380,
   "metadata": {},
   "outputs": [
    {
     "name": "stdout",
     "output_type": "stream",
     "text": [
      "_________________________________________________________________\n",
      "Layer (type)                 Output Shape              Param #   \n",
      "=================================================================\n",
      "embedding_10 (Embedding)     (None, None, 10)          25680     \n",
      "_________________________________________________________________\n",
      "lstm_8 (LSTM)                (None, 100)               44400     \n",
      "_________________________________________________________________\n",
      "dense_7 (Dense)              (None, 2568)              259368    \n",
      "=================================================================\n",
      "Total params: 329,448\n",
      "Trainable params: 329,448\n",
      "Non-trainable params: 0\n",
      "_________________________________________________________________\n"
     ]
    }
   ],
   "source": [
    "model.summary()"
   ]
  },
  {
   "cell_type": "code",
   "execution_count": 88,
   "metadata": {},
   "outputs": [],
   "source": [
    "words_by_soneto = []\n",
    "accum = []\n",
    "for word in words:\n",
    "    if word != 'END_SONETO':\n",
    "        accum.append(word)\n",
    "    else:\n",
    "        words_by_soneto.append(accum)\n",
    "        accum = []"
   ]
  },
  {
   "cell_type": "code",
   "execution_count": 90,
   "metadata": {},
   "outputs": [],
   "source": [
    "sonetos_word_frec = []\n",
    "for soneto in words_by_soneto:\n",
    "    sonetos_word_frec.append(len(soneto))"
   ]
  },
  {
   "cell_type": "code",
   "execution_count": 94,
   "metadata": {},
   "outputs": [
    {
     "data": {
      "text/plain": [
       "(170, 110)"
      ]
     },
     "execution_count": 94,
     "metadata": {},
     "output_type": "execute_result"
    }
   ],
   "source": [
    "max(sonetos_word_frec), min(sonetos_word_frec)"
   ]
  },
  {
   "cell_type": "code",
   "execution_count": 101,
   "metadata": {},
   "outputs": [],
   "source": [
    "coded_sonetos = []\n",
    "for soneto in words_by_soneto:\n",
    "    coded_sonetos.append([vectorizer.vocabulary_[word.lower()] for word in soneto])"
   ]
  },
  {
   "cell_type": "code",
   "execution_count": 119,
   "metadata": {},
   "outputs": [],
   "source": [
    "def window_transform_codes_padding_mode(codes):\n",
    "    len_out = len(codes)\n",
    "    \n",
    "    #output_start[-1] = text[:1]\n",
    "    #output_start[len_out-1:len_out-2] = text[0:1]\n",
    "    X = []\n",
    "    y = []\n",
    "    for i in range(len_out):\n",
    "        #X.append()\n",
    "        output_start = [-1]*(len_out-1)\n",
    "        output_start[len_out-i-1:len_out] = codes[0:i]\n",
    "        X.append(output_start)\n",
    "        y.append(codes[i])\n",
    "    return X, y"
   ]
  },
  {
   "cell_type": "code",
   "execution_count": 121,
   "metadata": {},
   "outputs": [],
   "source": [
    "X_train, y_train = window_transform_codes_padding_mode(coded_sonetos[0])"
   ]
  },
  {
   "cell_type": "code",
   "execution_count": null,
   "metadata": {},
   "outputs": [],
   "source": []
  }
 ],
 "metadata": {
  "kernelspec": {
   "display_name": "Python 3",
   "language": "python",
   "name": "python3"
  },
  "language_info": {
   "codemirror_mode": {
    "name": "ipython",
    "version": 3
   },
   "file_extension": ".py",
   "mimetype": "text/x-python",
   "name": "python",
   "nbconvert_exporter": "python",
   "pygments_lexer": "ipython3",
   "version": "3.6.2"
  }
 },
 "nbformat": 4,
 "nbformat_minor": 2
}
