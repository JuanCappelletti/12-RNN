{
 "cells": [
  {
   "cell_type": "code",
   "execution_count": 1,
   "metadata": {},
   "outputs": [],
   "source": [
    "import numpy as np"
   ]
  },
  {
   "cell_type": "code",
   "execution_count": 8,
   "metadata": {},
   "outputs": [],
   "source": [
    "raw_text = open('cien sonetos de amor.txt').readlines()"
   ]
  },
  {
   "cell_type": "code",
   "execution_count": 22,
   "metadata": {},
   "outputs": [
    {
     "data": {
      "text/plain": [
       "['Soneto I \\n',\n",
       " '\\n',\n",
       " 'Matilde, nombre de planta o piedra o vino, \\n',\n",
       " 'de lo que nace de la tierra y dura, \\n',\n",
       " 'palabra en cuyo crecimiento amanece, \\n',\n",
       " 'en cuyo estío estalla la luz de los limones. \\n',\n",
       " 'En ese nombre corren navíos de madera \\n',\n",
       " 'rodeados por enjambres de fuego azul marino, \\n',\n",
       " 'y esas letras son el agua de un río \\n',\n",
       " 'que desemboca en mi corazón calcinado. \\n',\n",
       " 'Oh nombre descubierto bajo una enredadera \\n',\n",
       " 'como la puerta de un túnel desconocido \\n',\n",
       " 'que comunica con la fragancia del mundo! \\n',\n",
       " 'Oh invádeme con tu boca abrasadora, \\n',\n",
       " 'indágame, si quieres, con tus ojos nocturnos, \\n',\n",
       " 'pero en tu nombre déjame navegar y dormir.\\n',\n",
       " '\\n',\n",
       " ' \\n',\n",
       " '\\n',\n",
       " 'Soneto II \\n']"
      ]
     },
     "execution_count": 22,
     "metadata": {},
     "output_type": "execute_result"
    }
   ],
   "source": [
    "raw_text[:20]"
   ]
  },
  {
   "cell_type": "code",
   "execution_count": 155,
   "metadata": {},
   "outputs": [],
   "source": [
    "raw_text_no_cr = []\n",
    "for i, line in enumerate(raw_text):\n",
    "    if line != '\\n' and line!=' \\n':\n",
    "        if line[:7] == 'Soneto ':\n",
    "            if i>0: raw_text_no_cr.append(' END_SONETO ')\n",
    "            raw_text_no_cr.append(' START_SONETO ')\n",
    "        else:\n",
    "            raw_text_no_cr.append(line.replace(' \\n', '\\n')\n",
    "                                  .replace('«', '\"')\n",
    "                                  .replace('»', '\"')\n",
    "                                  .replace('-', 'char_guion_medio')\n",
    "                                  .replace('(', 'char_open_parent')\n",
    "                                  .replace(')', 'char_close_parent')\n",
    "                                  .replace('\\n', ' char_new_line ')\n",
    "                                  .replace('.', ' char_dot ')\n",
    "                                  .replace(',', ' char_comma ')\n",
    "                                  .replace('¡', ' char_exclamation_open ')\n",
    "                                  .replace('!', ' char_exclamation_close ')\n",
    "                                  .replace('¿', ' char_question_open ')\n",
    "                                  .replace('?', ' char_question_close ')\n",
    "                                  .replace(':', ' char_dos_puntos ')\n",
    "                                  .replace('\"', ' char_comillas ')\n",
    "                                 )"
   ]
  },
  {
   "cell_type": "code",
   "execution_count": 156,
   "metadata": {},
   "outputs": [
    {
     "data": {
      "text/plain": [
       "[' START_SONETO ',\n",
       " 'Matilde char_comma  nombre de planta o piedra o vino char_comma  char_new_line ',\n",
       " 'de lo que nace de la tierra y dura char_comma  char_new_line ',\n",
       " 'palabra en cuyo crecimiento amanece char_comma  char_new_line ',\n",
       " 'en cuyo estío estalla la luz de los limones char_dot  char_new_line ',\n",
       " 'En ese nombre corren navíos de madera char_new_line ',\n",
       " 'rodeados por enjambres de fuego azul marino char_comma  char_new_line ',\n",
       " 'y esas letras son el agua de un río char_new_line ',\n",
       " 'que desemboca en mi corazón calcinado char_dot  char_new_line ',\n",
       " 'Oh nombre descubierto bajo una enredadera char_new_line ',\n",
       " 'como la puerta de un túnel desconocido char_new_line ',\n",
       " 'que comunica con la fragancia del mundo char_exclamation_close  char_new_line ',\n",
       " 'Oh invádeme con tu boca abrasadora char_comma  char_new_line ',\n",
       " 'indágame char_comma  si quieres char_comma  con tus ojos nocturnos char_comma  char_new_line ',\n",
       " 'pero en tu nombre déjame navegar y dormir char_dot  char_new_line ',\n",
       " ' END_SONETO ',\n",
       " ' START_SONETO ',\n",
       " 'Amor char_comma  cuántos caminos hasta llegar a un beso char_comma  char_new_line ',\n",
       " 'qué soledad errante hasta tu compañía char_exclamation_close  char_new_line ',\n",
       " 'Siguen los trenes solos rodando con la lluvia char_dot  char_new_line ',\n",
       " 'En Taltal no amanece aún la primavera char_dot  char_new_line ',\n",
       " 'Pero tú y yo char_comma  amor mío char_comma  estamos juntos char_comma  char_new_line ',\n",
       " 'juntos desde la ropa a las raíces char_comma  char_new_line ',\n",
       " 'juntos de otoño char_comma  de agua char_comma  de caderas char_comma  char_new_line ',\n",
       " 'hasta ser sólo tú char_comma  sólo yo juntos char_dot  char_new_line ',\n",
       " 'Pensar que costó tantas piedras que lleva el río char_comma  char_new_line ',\n",
       " 'la desembocadura del agua de Boroa char_comma  char_new_line ',\n",
       " 'pensar que separados por trenes y naciones char_new_line ',\n",
       " 'tú y yo teníamos que simplemente amarnos char_comma  char_new_line ',\n",
       " 'con todos confundidos char_comma  con hombres y mujeres char_comma  char_new_line ',\n",
       " 'con la tierra que implanta y educa los claveles char_dot  char_new_line ',\n",
       " ' END_SONETO ',\n",
       " ' START_SONETO ',\n",
       " 'Aspero amor char_comma  violeta coronada de espinas char_comma  char_new_line ',\n",
       " 'matorral entre tantas pasiones erizado char_comma  char_new_line ',\n",
       " 'lanza de los dolores char_comma  corola de la cólera char_comma  char_new_line ',\n",
       " 'por qué caminos y cómo te dirigiste a mi alma char_question_close  char_new_line ',\n",
       " 'Por qué precipitaste tu fuego doloroso char_comma  char_new_line ',\n",
       " 'de pronto char_comma  entre las hojas frías de mi camino char_question_close  char_new_line ',\n",
       " 'Quién te enseñó los pasos que hasta mí te llevaron char_question_close  char_new_line ',\n",
       " 'Qué flor char_comma  qué piedra char_comma  qué humo mostraron mi morada char_question_close  char_new_line ',\n",
       " 'Lo cierto es que tembló la noche pavorosa char_comma  char_new_line ',\n",
       " 'el alba llenó todas las copas con su vino char_new_line ',\n",
       " 'y el sol estableció su presencia celeste char_comma  char_new_line ',\n",
       " 'mientras que el cruel amor me cercaba sin tregua char_new_line ',\n",
       " 'hasta que lacerándome con espadas y espinas char_new_line ',\n",
       " 'abrió en mi corazón un camino quemante char_dot  char_new_line ',\n",
       " ' END_SONETO ',\n",
       " ' START_SONETO ',\n",
       " 'Recordarás aquella quebrada caprichosa char_new_line ']"
      ]
     },
     "execution_count": 156,
     "metadata": {},
     "output_type": "execute_result"
    }
   ],
   "source": [
    "raw_text_no_cr[:50]"
   ]
  },
  {
   "cell_type": "code",
   "execution_count": 157,
   "metadata": {},
   "outputs": [
    {
     "name": "stdout",
     "output_type": "stream",
     "text": [
      " START_SONETO Matilde char_comma  nombre de planta o piedra o vino char_comma  char_new_line de lo que nace de la tierra y dura char_comma  char_new_line palabra en cuyo crecimiento amanece char_comma\n"
     ]
    }
   ],
   "source": [
    "all_text = ''.join(raw_text_no_cr)\n",
    "print(all_text[:200])"
   ]
  },
  {
   "cell_type": "code",
   "execution_count": 158,
   "metadata": {},
   "outputs": [],
   "source": [
    "from sklearn.feature_extraction.text import CountVectorizer"
   ]
  },
  {
   "cell_type": "code",
   "execution_count": 159,
   "metadata": {},
   "outputs": [],
   "source": [
    "vectorizer = CountVectorizer(stop_words=None, token_pattern='(?u)\\\\b\\\\w+\\\\b')"
   ]
  },
  {
   "cell_type": "code",
   "execution_count": 160,
   "metadata": {},
   "outputs": [],
   "source": [
    "matrix = vectorizer.fit_transform([all_text])"
   ]
  },
  {
   "cell_type": "code",
   "execution_count": 161,
   "metadata": {},
   "outputs": [
    {
     "data": {
      "text/plain": [
       "2568"
      ]
     },
     "execution_count": 161,
     "metadata": {},
     "output_type": "execute_result"
    }
   ],
   "source": [
    "len(vectorizer.vocabulary_)"
   ]
  },
  {
   "cell_type": "code",
   "execution_count": 162,
   "metadata": {},
   "outputs": [],
   "source": [
    "import re"
   ]
  },
  {
   "cell_type": "code",
   "execution_count": 163,
   "metadata": {},
   "outputs": [],
   "source": [
    "separators = re.compile('(?u)\\\\b\\\\w+\\\\b').split(all_text)"
   ]
  },
  {
   "cell_type": "code",
   "execution_count": 164,
   "metadata": {},
   "outputs": [],
   "source": [
    "for s in separators:\n",
    "    if s!=' ' and s!='  ':\n",
    "        print(s)"
   ]
  },
  {
   "cell_type": "code",
   "execution_count": 190,
   "metadata": {},
   "outputs": [],
   "source": [
    "words = re.findall('(?u)\\\\b\\\\w+\\\\b', all_text)"
   ]
  },
  {
   "cell_type": "code",
   "execution_count": 195,
   "metadata": {},
   "outputs": [
    {
     "data": {
      "text/plain": [
       "['START_SONETO', 'Matilde', 'char_comma', 'nombre', 'de']"
      ]
     },
     "execution_count": 195,
     "metadata": {},
     "output_type": "execute_result"
    }
   ],
   "source": [
    "words[:5]"
   ]
  },
  {
   "cell_type": "code",
   "execution_count": 200,
   "metadata": {},
   "outputs": [],
   "source": [
    "coded_words = [vectorizer.vocabulary_[word.lower()] for word in words]"
   ]
  },
  {
   "cell_type": "code",
   "execution_count": 202,
   "metadata": {},
   "outputs": [
    {
     "data": {
      "text/plain": [
       "[2201, 1458, 425, 1608, 660, 1789, 1627, 1769, 1627, 2502]"
      ]
     },
     "execution_count": 202,
     "metadata": {},
     "output_type": "execute_result"
    }
   ],
   "source": [
    "coded_words[:10]"
   ]
  },
  {
   "cell_type": "code",
   "execution_count": 212,
   "metadata": {},
   "outputs": [
    {
     "data": {
      "text/plain": [
       "2568"
      ]
     },
     "execution_count": 212,
     "metadata": {},
     "output_type": "execute_result"
    }
   ],
   "source": [
    "len(set(coded_words))"
   ]
  },
  {
   "cell_type": "code",
   "execution_count": 208,
   "metadata": {},
   "outputs": [],
   "source": [
    "from keras.utils import to_categorical"
   ]
  },
  {
   "cell_type": "code",
   "execution_count": 210,
   "metadata": {},
   "outputs": [
    {
     "data": {
      "text/plain": [
       "(13990, 2568)"
      ]
     },
     "execution_count": 210,
     "metadata": {},
     "output_type": "execute_result"
    }
   ],
   "source": [
    "to_categorical(coded_words).shape"
   ]
  },
  {
   "cell_type": "code",
   "execution_count": 219,
   "metadata": {},
   "outputs": [],
   "source": [
    "from keras.models import Sequential\n",
    "from keras.layers import Embedding, LSTM, Dense"
   ]
  },
  {
   "cell_type": "code",
   "execution_count": 222,
   "metadata": {},
   "outputs": [
    {
     "name": "stdout",
     "output_type": "stream",
     "text": [
      "_________________________________________________________________\n",
      "Layer (type)                 Output Shape              Param #   \n",
      "=================================================================\n",
      "embedding_6 (Embedding)      (None, None, 64)          164352    \n",
      "_________________________________________________________________\n",
      "lstm_4 (LSTM)                (None, 100)               66000     \n",
      "_________________________________________________________________\n",
      "dense_3 (Dense)              (None, 2568)              259368    \n",
      "=================================================================\n",
      "Total params: 489,720\n",
      "Trainable params: 489,720\n",
      "Non-trainable params: 0\n",
      "_________________________________________________________________\n"
     ]
    }
   ],
   "source": [
    "model = Sequential()\n",
    "model.add(Embedding(len(set(coded_words)), 64))\n",
    "model.add(LSTM(100))\n",
    "model.add(Dense(len(set(coded_words)), activation=\"softmax\"))\n",
    "model.summary()"
   ]
  },
  {
   "cell_type": "code",
   "execution_count": null,
   "metadata": {},
   "outputs": [],
   "source": []
  }
 ],
 "metadata": {
  "kernelspec": {
   "display_name": "Python 3",
   "language": "python",
   "name": "python3"
  },
  "language_info": {
   "codemirror_mode": {
    "name": "ipython",
    "version": 3
   },
   "file_extension": ".py",
   "mimetype": "text/x-python",
   "name": "python",
   "nbconvert_exporter": "python",
   "pygments_lexer": "ipython3",
   "version": "3.6.2"
  }
 },
 "nbformat": 4,
 "nbformat_minor": 2
}
